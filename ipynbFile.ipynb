{
 "cells": [
  {
   "cell_type": "markdown",
   "metadata": {},
   "source": [
    "If statement"
   ]
  },
  {
   "cell_type": "code",
   "execution_count": null,
   "metadata": {},
   "outputs": [
    {
     "ename": "",
     "evalue": "",
     "output_type": "error",
     "traceback": [
      "\u001b[1;31mFailed to start the Kernel. \n",
      "\u001b[1;31mThe kernel died. Error: ... View Jupyter <a href='command:jupyter.viewOutput'>log</a> for further details."
     ]
    }
   ],
   "source": [
    "car = 'BMW'\n",
    "if car == 'BMW' :\n",
    "    print ('Yes It is')"
   ]
  },
  {
   "cell_type": "code",
   "execution_count": null,
   "metadata": {},
   "outputs": [],
   "source": [
    "car = 'BMW'\n",
    "if True:\n",
    "    print ('Yes')"
   ]
  },
  {
   "cell_type": "code",
   "execution_count": null,
   "metadata": {},
   "outputs": [],
   "source": [
    "Car = 'BMW'\n",
    "if car:\n",
    "    print ('yes')"
   ]
  },
  {
   "cell_type": "code",
   "execution_count": null,
   "metadata": {},
   "outputs": [],
   "source": [
    "age = int(input('How old are you?'))\n",
    "if 60 >= float(age) > 30:\n",
    "    print ('You still Young mann')\n",
    "elif age < 30:\n",
    "    print ('You are so young')\n",
    "else:\n",
    "    print ('Sorry, you are a bit old')"
   ]
  },
  {
   "cell_type": "code",
   "execution_count": null,
   "metadata": {},
   "outputs": [],
   "source": [
    "age = int(input('How old are you?'))\n",
    "if 60 >= age >= 25:\n",
    "    print ('You are still young mann!!')\n",
    "elif age < 25:\n",
    "    print ('You are a bit younger than we need')\n",
    "else:\n",
    "    print ('A bit older than we need, sorry!!')        "
   ]
  },
  {
   "cell_type": "code",
   "execution_count": null,
   "metadata": {},
   "outputs": [],
   "source": [
    "Mobile_price = int(input('What is the price you need'))\n",
    "if 10000 >= Mobile_price >= 5000:\n",
    "    print ('Samsong, HTCS, Huawi, Xaumi, Sony')\n",
    "elif Mobile_price < 5000:\n",
    "    print ('Nokia')\n",
    "else:\n",
    "    print ('iPhone')        "
   ]
  },
  {
   "cell_type": "code",
   "execution_count": null,
   "metadata": {},
   "outputs": [],
   "source": [
    "price = int(input(' What is the price you need?'))\n",
    "if 15000 >= price >= 7500:\n",
    "    print ('Samsung, Xaumi, Huawi, HTCS, Relmea, Sony')\n",
    "elif 7500 > price > 5000:\n",
    "    print ('Sony')\n",
    "elif price < 5000:\n",
    "    print ('Nokia') \n",
    "else:\n",
    "    print ('iPhone')            "
   ]
  },
  {
   "cell_type": "code",
   "execution_count": null,
   "metadata": {},
   "outputs": [],
   "source": [
    "price = int(input('What is the price do you want?'))\n",
    "if 20000>= price >= 12500:\n",
    "    print  ('Xaomi, HTCS, Infinx, Huawi, Sony')\n",
    "elif 12500 > price >= 7500:\n",
    "    print ('Xaomi, HTCS, Infinx, Huawi, Relmea, Oppo, Redmei')\n",
    "elif price < 7500:\n",
    "    print ('Nokia')\n",
    "else:\n",
    "    print ('iPhone')            "
   ]
  },
  {
   "cell_type": "markdown",
   "metadata": {},
   "source": [
    "Variable Scope"
   ]
  },
  {
   "cell_type": "code",
   "execution_count": null,
   "metadata": {},
   "outputs": [],
   "source": [
    "def greet ():\n",
    "    name = 'Omaran'\n",
    "    print (f\"Hello, {name}\")\n",
    "greet()    "
   ]
  },
  {
   "cell_type": "markdown",
   "metadata": {},
   "source": [
    "Anonymous Functions (Lambda)"
   ]
  },
  {
   "cell_type": "code",
   "execution_count": null,
   "metadata": {},
   "outputs": [],
   "source": [
    "add = lambda a, b : a +b\n",
    "print(add(5,16))"
   ]
  },
  {
   "cell_type": "markdown",
   "metadata": {},
   "source": [
    "Higher-Order Functions"
   ]
  },
  {
   "cell_type": "code",
   "execution_count": null,
   "metadata": {},
   "outputs": [],
   "source": [
    "numbers = [1, 3, 4, 6, 8, 9]\n",
    "squared = list(map(lambda x: x**2, numbers))\n",
    "print (squared)"
   ]
  },
  {
   "cell_type": "code",
   "execution_count": null,
   "metadata": {},
   "outputs": [],
   "source": [
    "numbers = [1, 3, 4, 6, 7, 9]\n",
    "even_numbers = list(filter(lambda x: x % 2 == 0, numbers))\n",
    "print (even_numbers)"
   ]
  },
  {
   "cell_type": "code",
   "execution_count": null,
   "metadata": {},
   "outputs": [],
   "source": [
    "numbers = [1, 5, 7, 8, 10, 11, 15]\n",
    "odd_numbers = list(filter(lambda x: x % 1 == 0, numbers))\n",
    "print(odd_numbers)"
   ]
  },
  {
   "cell_type": "code",
   "execution_count": null,
   "metadata": {},
   "outputs": [],
   "source": [
    "Iterators"
   ]
  },
  {
   "cell_type": "code",
   "execution_count": null,
   "metadata": {},
   "outputs": [],
   "source": [
    "numbers = [1, 3, 4, 6, 7]\n",
    "it = iter(numbers)\n",
    "\n",
    "print (next(it))\n",
    "print (next(it))"
   ]
  },
  {
   "cell_type": "markdown",
   "metadata": {},
   "source": [
    "Generators"
   ]
  },
  {
   "cell_type": "code",
   "execution_count": null,
   "metadata": {},
   "outputs": [],
   "source": [
    "def countdoun (n):\n",
    "    while n > 0:\n",
    "        yield n\n",
    "        n -= 1\n",
    "for number in countdoun(5):\n",
    "    print(number)        \n"
   ]
  },
  {
   "cell_type": "code",
   "execution_count": null,
   "metadata": {},
   "outputs": [],
   "source": [
    "def countdoun (R):\n",
    "    while R > 3:\n",
    "        yield R\n",
    "        R -= 2\n",
    "\n",
    "for number in countdoun(12):\n",
    "    print (number)\n"
   ]
  },
  {
   "cell_type": "code",
   "execution_count": 4,
   "metadata": {},
   "outputs": [
    {
     "name": "stdout",
     "output_type": "stream",
     "text": [
      "21\n",
      "14\n",
      "7\n"
     ]
    }
   ],
   "source": [
    "def countdoun(a):\n",
    "    while 4 <= a <= 100:\n",
    "        yield a\n",
    "        a -= 7\n",
    "for number in countdoun (21):\n",
    "    print(number)         "
   ]
  },
  {
   "cell_type": "code",
   "execution_count": null,
   "metadata": {},
   "outputs": [],
   "source": [
    "try:\n",
    "    result = 10 / 2\n",
    "    print (result)\n",
    "except ZeroDivisionError:\n",
    "    print(\"You can't divide by zero!\")"
   ]
  },
  {
   "cell_type": "code",
   "execution_count": null,
   "metadata": {},
   "outputs": [],
   "source": [
    "try:\n",
    "    result = 10 / 0\n",
    "except ZeroDivisionError:\n",
    "    print(\"You can't divide by zero!\")"
   ]
  },
  {
   "cell_type": "code",
   "execution_count": 2,
   "metadata": {},
   "outputs": [
    {
     "name": "stdout",
     "output_type": "stream",
     "text": [
      "2.0\n",
      "It will always run\n"
     ]
    }
   ],
   "source": [
    "try:\n",
    "    result = 10 / 5\n",
    "except ZeroDivisionError:\n",
    "    print (\"You can not dive by zero\")\n",
    "else:\n",
    "    print (result)\n",
    "finally:\n",
    "    print ('It will always run')"
   ]
  },
  {
   "cell_type": "code",
   "execution_count": 1,
   "metadata": {},
   "outputs": [
    {
     "data": {
      "text/plain": [
       "True"
      ]
     },
     "execution_count": 1,
     "metadata": {},
     "output_type": "execute_result"
    }
   ],
   "source": [
    "def check_age(age):\n",
    "    if age <= 18:\n",
    "        raise ValueError ('age must be 18 at least')\n",
    "    return True\n",
    "check_age(22)"
   ]
  },
  {
   "cell_type": "markdown",
   "metadata": {},
   "source": [
    "List Comprehensions"
   ]
  },
  {
   "cell_type": "code",
   "execution_count": 5,
   "metadata": {},
   "outputs": [
    {
     "name": "stdout",
     "output_type": "stream",
     "text": [
      "[0, 1, 4, 9, 16]\n"
     ]
    }
   ],
   "source": [
    "squares = [x**2 for x in range (5)]\n",
    "print (squares)"
   ]
  },
  {
   "cell_type": "code",
   "execution_count": 7,
   "metadata": {},
   "outputs": [
    {
     "name": "stdout",
     "output_type": "stream",
     "text": [
      "{0: 0, 1: 1, 2: 4, 3: 9, 4: 16}\n"
     ]
    }
   ],
   "source": [
    "squares_dict = {x: x**2 for x in range (5)}\n",
    "print (squares_dict)"
   ]
  },
  {
   "cell_type": "markdown",
   "metadata": {},
   "source": [
    "Lambda Functions"
   ]
  },
  {
   "cell_type": "code",
   "execution_count": 1,
   "metadata": {},
   "outputs": [
    {
     "name": "stdout",
     "output_type": "stream",
     "text": [
      "6\n"
     ]
    }
   ],
   "source": [
    "add = (lambda a, b : a + b)\n",
    "print (add(1, 5))"
   ]
  },
  {
   "cell_type": "code",
   "execution_count": 2,
   "metadata": {},
   "outputs": [
    {
     "name": "stdout",
     "output_type": "stream",
     "text": [
      "14\n"
     ]
    }
   ],
   "source": [
    "add = (lambda x, y : x * y)\n",
    "print (add(2,7))"
   ]
  },
  {
   "cell_type": "markdown",
   "metadata": {},
   "source": [
    "Sorting Data"
   ]
  },
  {
   "cell_type": "code",
   "execution_count": 10,
   "metadata": {},
   "outputs": [
    {
     "name": "stdout",
     "output_type": "stream",
     "text": [
      "   ProductID  SalesAmount Region\n",
      "1        102          150  South\n",
      "0        101          200  North\n",
      "3        104          300   East\n",
      "2        103          400   West\n"
     ]
    }
   ],
   "source": [
    "import pandas as pd\n",
    "\n",
    "data = {\n",
    "    \"ProductID\": [101, 102, 103, 104],\n",
    "    \"SalesAmount\": [200, 150, 400, 300],\n",
    "    \"Region\": [\"North\", \"South\", \"West\", \"East\"]\n",
    "}\n",
    "\n",
    "df = pd.DataFrame(data)\n",
    "sorted_df = df.sort_values(by ='SalesAmount')\n",
    "print(sorted_df)"
   ]
  },
  {
   "cell_type": "markdown",
   "metadata": {},
   "source": [
    "Filtering Data"
   ]
  },
  {
   "cell_type": "markdown",
   "metadata": {},
   "source": [
    "Boolean Indexing (>, <, ==, etc.)"
   ]
  },
  {
   "cell_type": "code",
   "execution_count": 7,
   "metadata": {},
   "outputs": [
    {
     "name": "stdout",
     "output_type": "stream",
     "text": [
      "   ProductID  SalesAmount Region\n",
      "0        101          200  North\n",
      "2        103          400   West\n",
      "3        104          300   East\n"
     ]
    }
   ],
   "source": [
    "filtered_df = df[df['SalesAmount'] >= 200]\n",
    "print(filtered_df)"
   ]
  },
  {
   "cell_type": "code",
   "execution_count": 8,
   "metadata": {},
   "outputs": [
    {
     "name": "stdout",
     "output_type": "stream",
     "text": [
      "   ProductID  SalesAmount Region\n",
      "2        103          400   West\n"
     ]
    }
   ],
   "source": [
    "filtered_dt = df[(df['SalesAmount'] > 200) & (df['Region'] == 'West')]\n",
    "print(filtered_dt)"
   ]
  },
  {
   "cell_type": "markdown",
   "metadata": {},
   "source": [
    "Filtering Using isin()"
   ]
  },
  {
   "cell_type": "code",
   "execution_count": 9,
   "metadata": {},
   "outputs": [
    {
     "name": "stdout",
     "output_type": "stream",
     "text": [
      "   ProductID  SalesAmount Region\n",
      "0        101          200  North\n",
      "2        103          400   West\n"
     ]
    }
   ],
   "source": [
    "data_filtered = df[df['Region'].isin(['West', 'North'])]\n",
    "print (data_filtered)"
   ]
  },
  {
   "cell_type": "markdown",
   "metadata": {},
   "source": [
    "Filtering with query()"
   ]
  },
  {
   "cell_type": "code",
   "execution_count": 10,
   "metadata": {},
   "outputs": [
    {
     "name": "stdout",
     "output_type": "stream",
     "text": [
      "   ProductID  SalesAmount Region\n",
      "2        103          400   West\n"
     ]
    }
   ],
   "source": [
    "dataframe_filtered = df.query('SalesAmount > 200 and Region == \"West\"')\n",
    "print (dataframe_filtered)"
   ]
  },
  {
   "cell_type": "markdown",
   "metadata": {},
   "source": [
    "Applying Functions to Data"
   ]
  },
  {
   "cell_type": "code",
   "execution_count": 17,
   "metadata": {},
   "outputs": [
    {
     "name": "stdout",
     "output_type": "stream",
     "text": [
      "   ProductID  SalesAmount Region  SalesWithTax   Sale  Black_Friday_sale\n",
      "0        101          200  North         220.0  220.0              150.0\n",
      "1        102          150  South         165.0  165.0              112.5\n",
      "2        103          400   West         440.0  440.0              300.0\n",
      "3        104          300   East         330.0  330.0              225.0\n"
     ]
    }
   ],
   "source": [
    "def add_sale(sales):\n",
    "    return sales * .75\n",
    "\n",
    "df['Black_Friday_sale'] = df['SalesAmount'].apply(add_sale)\n",
    "print(df)"
   ]
  },
  {
   "cell_type": "markdown",
   "metadata": {},
   "source": [
    "Aggregation with groupby()"
   ]
  },
  {
   "cell_type": "code",
   "execution_count": 20,
   "metadata": {},
   "outputs": [
    {
     "name": "stdout",
     "output_type": "stream",
     "text": [
      "Region\n",
      "East     300\n",
      "North    200\n",
      "South    150\n",
      "West     400\n",
      "Name: SalesAmount, dtype: int64\n"
     ]
    }
   ],
   "source": [
    "data_grouped = df.groupby('Region')['SalesAmount'].sum()\n",
    "print(data_grouped)"
   ]
  },
  {
   "cell_type": "markdown",
   "metadata": {},
   "source": [
    "Handling Duplicates"
   ]
  },
  {
   "cell_type": "code",
   "execution_count": 24,
   "metadata": {},
   "outputs": [
    {
     "name": "stdout",
     "output_type": "stream",
     "text": [
      "0    False\n",
      "1    False\n",
      "2    False\n",
      "3    False\n",
      "dtype: bool\n"
     ]
    }
   ],
   "source": [
    "duplicates = df.duplicated()\n",
    "print(duplicates)"
   ]
  },
  {
   "cell_type": "code",
   "execution_count": 25,
   "metadata": {},
   "outputs": [
    {
     "name": "stdout",
     "output_type": "stream",
     "text": [
      "   ProductID  SalesAmount Region  SalesWithTax   Sale  Black_Friday_sale\n",
      "0        101          200  North         220.0  220.0              150.0\n",
      "1        102          150  South         165.0  165.0              112.5\n",
      "2        103          400   West         440.0  440.0              300.0\n",
      "3        104          300   East         330.0  330.0              225.0\n"
     ]
    }
   ],
   "source": [
    "no_df_duplicates = df.drop_duplicates('Region')\n",
    "print(no_df_duplicates)"
   ]
  },
  {
   "cell_type": "markdown",
   "metadata": {},
   "source": [
    "Basic Statistical Operations"
   ]
  },
  {
   "cell_type": "code",
   "execution_count": 27,
   "metadata": {},
   "outputs": [
    {
     "name": "stdout",
     "output_type": "stream",
     "text": [
      "262.5\n"
     ]
    }
   ],
   "source": [
    "df_mean = df['SalesAmount'].mean()\n",
    "print(df_mean)"
   ]
  },
  {
   "cell_type": "code",
   "execution_count": null,
   "metadata": {},
   "outputs": [
    {
     "name": "stdout",
     "output_type": "stream",
     "text": [
      "        ProductID  SalesAmount  SalesWithTax        Sale  Black_Friday_sale\n",
      "count    4.000000     4.000000      4.000000    4.000000           4.000000\n",
      "mean   102.500000   262.500000    288.750000  288.750000         196.875000\n",
      "std      1.290994   110.867789    121.954568  121.954568          83.150842\n",
      "min    101.000000   150.000000    165.000000  165.000000         112.500000\n",
      "25%    101.750000   187.500000    206.250000  206.250000         140.625000\n",
      "50%    102.500000   250.000000    275.000000  275.000000         187.500000\n",
      "75%    103.250000   325.000000    357.500000  357.500000         243.750000\n",
      "max    104.000000   400.000000    440.000000  440.000000         300.000000\n"
     ]
    }
   ],
   "source": [
    "print (df.describe())"
   ]
  },
  {
   "cell_type": "code",
   "execution_count": 31,
   "metadata": {},
   "outputs": [
    {
     "name": "stdout",
     "output_type": "stream",
     "text": [
      "1050\n"
     ]
    }
   ],
   "source": [
    "total_sales = df['SalesAmount'].sum()\n",
    "print(total_sales)"
   ]
  },
  {
   "cell_type": "markdown",
   "metadata": {},
   "source": [
    "Identifying Missing Data"
   ]
  },
  {
   "cell_type": "code",
   "execution_count": 2,
   "metadata": {},
   "outputs": [
    {
     "name": "stdout",
     "output_type": "stream",
     "text": [
      "   ProductID  SalesAmount  Region\n",
      "0      False        False   False\n",
      "1      False        False   False\n",
      "2      False        False   False\n",
      "3      False        False   False\n"
     ]
    }
   ],
   "source": [
    "print (df.isnull())"
   ]
  },
  {
   "cell_type": "code",
   "execution_count": 6,
   "metadata": {},
   "outputs": [
    {
     "name": "stdout",
     "output_type": "stream",
     "text": [
      "ProductID      0\n",
      "SalesAmount    0\n",
      "Region         0\n",
      "dtype: int64\n"
     ]
    }
   ],
   "source": [
    "print (df.isnull().sum())"
   ]
  },
  {
   "cell_type": "code",
   "execution_count": 8,
   "metadata": {},
   "outputs": [
    {
     "name": "stdout",
     "output_type": "stream",
     "text": [
      "   ProductID  SalesAmount Region\n",
      "0        101        200.0  North\n",
      "1        102          NaN  South\n",
      "2        103        400.0   None\n",
      "3        104        300.0   East\n"
     ]
    }
   ],
   "source": [
    "data1 = {\n",
    "    \"ProductID\": [101, 102, 103, 104],\n",
    "    \"SalesAmount\": [200, None, 400, 300],\n",
    "    \"Region\": [\"North\", \"South\", None, \"East\"]\n",
    "}\n",
    "\n",
    "dt = pd.DataFrame(data1)\n",
    "print (dt)"
   ]
  },
  {
   "cell_type": "code",
   "execution_count": 9,
   "metadata": {},
   "outputs": [
    {
     "name": "stdout",
     "output_type": "stream",
     "text": [
      "   ProductID  SalesAmount  Region\n",
      "0      False        False   False\n",
      "1      False         True   False\n",
      "2      False        False    True\n",
      "3      False        False   False\n"
     ]
    }
   ],
   "source": [
    "print (dt.isnull())"
   ]
  },
  {
   "cell_type": "markdown",
   "metadata": {},
   "source": [
    "Removing Missing Data"
   ]
  },
  {
   "cell_type": "code",
   "execution_count": 11,
   "metadata": {},
   "outputs": [
    {
     "name": "stdout",
     "output_type": "stream",
     "text": [
      "   ProductID  SalesAmount Region\n",
      "0        101        200.0  North\n",
      "3        104        300.0   East\n"
     ]
    }
   ],
   "source": [
    "dt_cleaned = dt.dropna()\n",
    "print (dt_cleaned)"
   ]
  },
  {
   "cell_type": "code",
   "execution_count": 12,
   "metadata": {},
   "outputs": [
    {
     "name": "stdout",
     "output_type": "stream",
     "text": [
      "   ProductID\n",
      "0        101\n",
      "1        102\n",
      "2        103\n",
      "3        104\n"
     ]
    }
   ],
   "source": [
    "dt_column = dt.dropna(axis = 1)\n",
    "print (dt_column)"
   ]
  },
  {
   "cell_type": "markdown",
   "metadata": {},
   "source": [
    "Controlling the Threshold with thresh"
   ]
  },
  {
   "cell_type": "code",
   "execution_count": 14,
   "metadata": {},
   "outputs": [
    {
     "name": "stdout",
     "output_type": "stream",
     "text": [
      "   ProductID  SalesAmount Region\n",
      "0        101          200  North\n",
      "1        102          150  South\n",
      "2        103          400   West\n",
      "3        104          300   East\n"
     ]
    }
   ],
   "source": [
    "df_thresh = df.dropna(thresh = 2)\n",
    "print (df_thresh)"
   ]
  },
  {
   "cell_type": "markdown",
   "metadata": {},
   "source": [
    "Imputing Missing Data"
   ]
  },
  {
   "cell_type": "code",
   "execution_count": 16,
   "metadata": {},
   "outputs": [
    {
     "name": "stdout",
     "output_type": "stream",
     "text": [
      "0    200\n",
      "1    150\n",
      "2    400\n",
      "3    300\n",
      "Name: SalesAmount, dtype: int64\n"
     ]
    }
   ],
   "source": [
    "mean_df = df['SalesAmount'].mean()\n",
    "filled_df = df['SalesAmount'].fillna(mean_df)\n",
    "print(filled_df)"
   ]
  },
  {
   "cell_type": "code",
   "execution_count": 18,
   "metadata": {},
   "outputs": [
    {
     "name": "stdout",
     "output_type": "stream",
     "text": [
      "   ProductID  SalesAmount Region\n",
      "0        101          200  North\n",
      "1        102          150  South\n",
      "2        103          400   West\n",
      "3        104          300   East\n"
     ]
    }
   ],
   "source": [
    "df_filled_backward = df.fillna(method='bfill')\n",
    "print (df_filled_backward)"
   ]
  },
  {
   "cell_type": "markdown",
   "metadata": {},
   "source": [
    "Advanced Imputation Techniques: Interpolation"
   ]
  },
  {
   "cell_type": "code",
   "execution_count": 20,
   "metadata": {},
   "outputs": [
    {
     "name": "stdout",
     "output_type": "stream",
     "text": [
      "0    200\n",
      "1    150\n",
      "2    400\n",
      "3    300\n",
      "Name: SalesAmount, dtype: int64\n"
     ]
    }
   ],
   "source": [
    "df_interpolation = df['SalesAmount'].interpolate()\n",
    "print (df_interpolation)"
   ]
  },
  {
   "cell_type": "markdown",
   "metadata": {},
   "source": [
    "jupyter notebook --port=8890"
   ]
  },
  {
   "cell_type": "code",
   "execution_count": 1,
   "metadata": {},
   "outputs": [],
   "source": [
    "import pandas as pd\n",
    "\n",
    "df1 = pd.DataFrame({\n",
    "    'ProductID': [101, 102, 103],\n",
    "    'SalesAmount': [200, 150, 400]\n",
    "})\n",
    "\n",
    "df2 = pd.DataFrame({\n",
    "    'ProductID': [102, 103, 104],\n",
    "    'Region': ['North', 'South', 'East']\n",
    "})"
   ]
  },
  {
   "cell_type": "markdown",
   "metadata": {},
   "source": [
    "Merging DataFrames"
   ]
  },
  {
   "cell_type": "code",
   "execution_count": 2,
   "metadata": {},
   "outputs": [
    {
     "name": "stdout",
     "output_type": "stream",
     "text": [
      "   ProductID  SalesAmount Region\n",
      "0        102          150  North\n",
      "1        103          400  South\n"
     ]
    }
   ],
   "source": [
    "merged_df = pd.merge(df1, df2, on='ProductID', how='inner')\n",
    "print(merged_df)"
   ]
  },
  {
   "cell_type": "code",
   "execution_count": 4,
   "metadata": {},
   "outputs": [
    {
     "name": "stdout",
     "output_type": "stream",
     "text": [
      "   ProductID  SalesAmount Region\n",
      "0        102          150  North\n",
      "1        103          400  South\n"
     ]
    }
   ],
   "source": [
    "import pandas as pd\n",
    "merged_df_inner = pd.merge(df1, df2, on = 'ProductID', how= 'inner')\n",
    "print(merged_df_inner)"
   ]
  },
  {
   "cell_type": "code",
   "execution_count": 5,
   "metadata": {},
   "outputs": [
    {
     "name": "stdout",
     "output_type": "stream",
     "text": [
      "   ProductID  SalesAmount Region\n",
      "0        101          200    NaN\n",
      "1        102          150  North\n",
      "2        103          400  South\n"
     ]
    }
   ],
   "source": [
    "import pandas as pd\n",
    "merged_df_left = pd.merge(df1, df2, on = 'ProductID', how= 'left')\n",
    "print(merged_df_left)"
   ]
  },
  {
   "cell_type": "code",
   "execution_count": 6,
   "metadata": {},
   "outputs": [
    {
     "name": "stdout",
     "output_type": "stream",
     "text": [
      "   ProductID  SalesAmount Region\n",
      "0        102        150.0  North\n",
      "1        103        400.0  South\n",
      "2        104          NaN   East\n"
     ]
    }
   ],
   "source": [
    "import pandas as pd\n",
    "merged_df_right = pd.merge(df1, df2, on = 'ProductID', how= 'right')\n",
    "print(merged_df_right)"
   ]
  },
  {
   "cell_type": "markdown",
   "metadata": {},
   "source": [
    "Concatenating DataFrames"
   ]
  },
  {
   "cell_type": "code",
   "execution_count": 7,
   "metadata": {},
   "outputs": [],
   "source": [
    "df3 = pd.DataFrame ({\n",
    "    'ProductID': [105, 106],\n",
    "    'SalesAmount': [250, 350]\n",
    "})"
   ]
  },
  {
   "cell_type": "code",
   "execution_count": 8,
   "metadata": {},
   "outputs": [
    {
     "name": "stdout",
     "output_type": "stream",
     "text": [
      "   ProductID  SalesAmount\n",
      "0        101          200\n",
      "1        102          150\n",
      "2        103          400\n",
      "3        105          250\n",
      "4        106          350\n"
     ]
    }
   ],
   "source": [
    "concatenated_df = pd.concat([df1, df3], ignore_index = True)\n",
    "print(concatenated_df)"
   ]
  },
  {
   "cell_type": "markdown",
   "metadata": {},
   "source": [
    "joining DataFrame"
   ]
  },
  {
   "cell_type": "code",
   "execution_count": 2,
   "metadata": {},
   "outputs": [
    {
     "name": "stdout",
     "output_type": "stream",
     "text": [
      "           SalesAmount Region\n",
      "ProductID                    \n",
      "102                150  North\n",
      "103                400  South\n"
     ]
    }
   ],
   "source": [
    "df1.set_index('ProductID', inplace =True)\n",
    "df2.set_index('ProductID', inplace = True)\n",
    "\n",
    "df_joined = df1.join(df2, how= 'inner')\n",
    "print(df_joined)"
   ]
  },
  {
   "cell_type": "markdown",
   "metadata": {},
   "source": [
    "Reshaping DataFrames"
   ]
  },
  {
   "cell_type": "code",
   "execution_count": 3,
   "metadata": {},
   "outputs": [],
   "source": [
    "data = {\n",
    "    \"Date\": [\"2024-01-01\", \"2024-01-01\", \"2024-01-02\", \"2024-01-02\"],\n",
    "    \"Product\": [\"A\", \"B\", \"A\", \"B\"],\n",
    "    \"SalesAmount\": [100, 200, 150, 250]\n",
    "}"
   ]
  },
  {
   "cell_type": "code",
   "execution_count": 4,
   "metadata": {},
   "outputs": [],
   "source": [
    "dt = pd.DataFrame(data)"
   ]
  },
  {
   "cell_type": "code",
   "execution_count": 6,
   "metadata": {},
   "outputs": [
    {
     "name": "stdout",
     "output_type": "stream",
     "text": [
      "Product       A    B\n",
      "Date                \n",
      "2024-01-01  100  200\n",
      "2024-01-02  150  250\n"
     ]
    }
   ],
   "source": [
    "dt_pivot = dt.pivot(index = 'Date', columns = 'Product', values = 'SalesAmount')\n",
    "print (dt_pivot)"
   ]
  },
  {
   "cell_type": "markdown",
   "metadata": {},
   "source": [
    "Stacking and Unstacking"
   ]
  },
  {
   "cell_type": "code",
   "execution_count": 7,
   "metadata": {},
   "outputs": [],
   "source": [
    "df_multi = pd.DataFrame({\n",
    "    ('Region', 'North'): [200, 300],\n",
    "    ('Region', 'South'): [150, 400]\n",
    "}, index=['Product1', 'Product2'])"
   ]
  },
  {
   "cell_type": "code",
   "execution_count": 8,
   "metadata": {},
   "outputs": [
    {
     "name": "stdout",
     "output_type": "stream",
     "text": [
      "         Region      \n",
      "          North South\n",
      "Product1    200   150\n",
      "Product2    300   400\n"
     ]
    }
   ],
   "source": [
    "df_stack = df_multi.stack()\n",
    "print(df_multi)"
   ]
  },
  {
   "cell_type": "markdown",
   "metadata": {},
   "source": [
    "Pivoting and Melting Data"
   ]
  },
  {
   "cell_type": "code",
   "execution_count": 12,
   "metadata": {},
   "outputs": [
    {
     "name": "stdout",
     "output_type": "stream",
     "text": [
      "Region      East  North  South   West\n",
      "ProductID                            \n",
      "101          NaN  200.0    NaN    NaN\n",
      "102          NaN    NaN  150.0    NaN\n",
      "103          NaN    NaN    NaN  400.0\n",
      "104        300.0    NaN    NaN    NaN\n"
     ]
    }
   ],
   "source": [
    "df_pivot_table = pd.pivot_table(df, values='SalesAmount', index='ProductID', columns='Region', aggfunc='sum')\n",
    "print(df_pivot_table)"
   ]
  },
  {
   "cell_type": "markdown",
   "metadata": {},
   "source": [
    "What is a NumPy Array?"
   ]
  },
  {
   "cell_type": "code",
   "execution_count": 1,
   "metadata": {},
   "outputs": [],
   "source": [
    "import numpy as np"
   ]
  },
  {
   "cell_type": "code",
   "execution_count": 2,
   "metadata": {},
   "outputs": [
    {
     "name": "stdout",
     "output_type": "stream",
     "text": [
      "[1 2 3 4 5]\n",
      "[[1 2 3]\n",
      " [4 5 6]]\n"
     ]
    }
   ],
   "source": [
    "# Create a 1D array\n",
    "arr_1d = np.array([1, 2, 3, 4, 5])\n",
    "\n",
    "# Create a 2D array\n",
    "arr_2d = np.array([[1, 2, 3], [4, 5, 6]])\n",
    "\n",
    "print(arr_1d)\n",
    "print(arr_2d)"
   ]
  },
  {
   "cell_type": "markdown",
   "metadata": {},
   "source": [
    "Arithmetic Operations"
   ]
  },
  {
   "cell_type": "code",
   "execution_count": 3,
   "metadata": {},
   "outputs": [
    {
     "name": "stdout",
     "output_type": "stream",
     "text": [
      "[ 6  7  8 11]\n"
     ]
    }
   ],
   "source": [
    "arr = np.array([1, 2, 3, 6])\n",
    "arr_add = arr + 5\n",
    "print (arr_add)"
   ]
  },
  {
   "cell_type": "code",
   "execution_count": 4,
   "metadata": {},
   "outputs": [
    {
     "name": "stdout",
     "output_type": "stream",
     "text": [
      "1\n"
     ]
    }
   ],
   "source": [
    "# Access specific elements\n",
    "print (arr[0])"
   ]
  },
  {
   "cell_type": "code",
   "execution_count": 5,
   "metadata": {},
   "outputs": [
    {
     "name": "stdout",
     "output_type": "stream",
     "text": [
      "[3 6]\n"
     ]
    }
   ],
   "source": [
    "# for the 2d array\n",
    "print (arr_2d[:, 2])"
   ]
  },
  {
   "cell_type": "code",
   "execution_count": 6,
   "metadata": {},
   "outputs": [
    {
     "name": "stdout",
     "output_type": "stream",
     "text": [
      "[1 2 3]\n"
     ]
    }
   ],
   "source": [
    "print (arr_2d[0, :])"
   ]
  },
  {
   "cell_type": "markdown",
   "metadata": {},
   "source": [
    "Broadcasting"
   ]
  },
  {
   "cell_type": "code",
   "execution_count": 9,
   "metadata": {},
   "outputs": [
    {
     "name": "stdout",
     "output_type": "stream",
     "text": [
      "[[11 12 13]\n",
      " [21 22 23]\n",
      " [31 32 33]]\n"
     ]
    }
   ],
   "source": [
    "arr_1 = np.array([1, 2, 3])\n",
    "arr_2 = np.array([[10], [20], [30]])\n",
    "\n",
    "result = arr_1 + arr_2\n",
    "print (result)"
   ]
  },
  {
   "cell_type": "code",
   "execution_count": 13,
   "metadata": {},
   "outputs": [
    {
     "name": "stdout",
     "output_type": "stream",
     "text": [
      "[[10 20 30]\n",
      " [20 40 60]\n",
      " [30 60 90]]\n"
     ]
    }
   ],
   "source": [
    "result2 = arr_1 * arr_2\n",
    "print (result2)"
   ]
  },
  {
   "cell_type": "markdown",
   "metadata": {},
   "source": [
    "Common Functions and Methods"
   ]
  },
  {
   "cell_type": "code",
   "execution_count": 15,
   "metadata": {},
   "outputs": [
    {
     "name": "stdout",
     "output_type": "stream",
     "text": [
      "3.0\n",
      "12\n"
     ]
    }
   ],
   "source": [
    "mean_val = np.mean(arr)\n",
    "sum_val = np.sum(arr)\n",
    "print (mean_val)\n",
    "print (sum_val)"
   ]
  },
  {
   "cell_type": "markdown",
   "metadata": {},
   "source": [
    "Reshaping Arrays"
   ]
  },
  {
   "cell_type": "code",
   "execution_count": 20,
   "metadata": {},
   "outputs": [],
   "source": [
    "arr = np.array([1, 2, 3, 4, 5, 6])"
   ]
  },
  {
   "cell_type": "code",
   "execution_count": 21,
   "metadata": {},
   "outputs": [
    {
     "name": "stdout",
     "output_type": "stream",
     "text": [
      "[[1 2 3]\n",
      " [4 5 6]]\n"
     ]
    }
   ],
   "source": [
    "arr_reshaped = arr.reshape(2, 3)\n",
    "print (arr_reshaped)"
   ]
  },
  {
   "cell_type": "markdown",
   "metadata": {},
   "source": [
    "Generating Random Numbers"
   ]
  },
  {
   "cell_type": "code",
   "execution_count": 22,
   "metadata": {},
   "outputs": [
    {
     "name": "stdout",
     "output_type": "stream",
     "text": [
      "[[0.77752637 0.52811159 0.10450507]\n",
      " [0.15894264 0.27180292 0.31291016]\n",
      " [0.19665938 0.59609144 0.34129462]]\n",
      "[[3 4 5]\n",
      " [6 8 2]]\n"
     ]
    }
   ],
   "source": [
    "# Generate an array of random numbers between 0 and 1\n",
    "random_arr = np.random.rand(3, 3)\n",
    "print(random_arr)\n",
    "\n",
    "# Generate random integers\n",
    "random_ints = np.random.randint(1, 10, size=(2, 3))\n",
    "print(random_ints)"
   ]
  },
  {
   "cell_type": "markdown",
   "metadata": {},
   "source": [
    "Summary Statistics Using Pandas"
   ]
  },
  {
   "cell_type": "code",
   "execution_count": 23,
   "metadata": {},
   "outputs": [
    {
     "name": "stdout",
     "output_type": "stream",
     "text": [
      "        ProductID  SalesAmount\n",
      "count    4.000000     4.000000\n",
      "mean   102.500000   262.500000\n",
      "std      1.290994   110.867789\n",
      "min    101.000000   150.000000\n",
      "25%    101.750000   187.500000\n",
      "50%    102.500000   250.000000\n",
      "75%    103.250000   325.000000\n",
      "max    104.000000   400.000000\n"
     ]
    }
   ],
   "source": [
    "import pandas as pd\n",
    "\n",
    "# Sample DataFrame\n",
    "data = {\n",
    "    \"ProductID\": [101, 102, 103, 104],\n",
    "    \"SalesAmount\": [200, 150, 400, 300],\n",
    "    \"Region\": [\"North\", \"South\", \"West\", \"East\"]\n",
    "}\n",
    "\n",
    "df = pd.DataFrame(data)\n",
    "\n",
    "summery = df.describe()\n",
    "print(summery)"
   ]
  },
  {
   "cell_type": "markdown",
   "metadata": {},
   "source": [
    "Visualizing Data Distributions"
   ]
  },
  {
   "cell_type": "markdown",
   "metadata": {},
   "source": [
    "Histograms"
   ]
  },
  {
   "cell_type": "code",
   "execution_count": 3,
   "metadata": {},
   "outputs": [],
   "source": [
    "import matplotlib.pyplot as plt"
   ]
  },
  {
   "cell_type": "code",
   "execution_count": 2,
   "metadata": {},
   "outputs": [
    {
     "name": "stdout",
     "output_type": "stream",
     "text": [
      "   SalesAmount\n",
      "0          100\n",
      "1          200\n",
      "2          205\n",
      "3          245\n",
      "4          298\n",
      "5          305\n",
      "6          356\n",
      "7          410\n"
     ]
    }
   ],
   "source": [
    "import pandas as pd\n",
    "data = {'SalesAmount': [100, 200, 205, 245, 298, 305, 356, 410]}\n",
    "df = pd.DataFrame(data)\n",
    "print(df)"
   ]
  },
  {
   "cell_type": "code",
   "execution_count": 9,
   "metadata": {},
   "outputs": [
    {
     "data": {
      "image/png": "[encoded data removed]",
      "text/plain": [
       "<Figure size 640x480 with 1 Axes>"
      ]
     },
     "metadata": {},
     "output_type": "display_data"
    }
   ],
   "source": [
    "# Plotting a histogram of SalesAmount\n",
    "plt.hist (df['SalesAmount'], bins = 10, color = 'blue', edgecolor = 'black')\n",
    "plt.title ('Sales Amount Distribution')\n",
    "plt.xlabel ('Sales Amount')\n",
    "plt.ylabel ('Frequency')\n",
    "plt.show()"
   ]
  },
  {
   "cell_type": "markdown",
   "metadata": {},
   "source": [
    "Box Plots"
   ]
  },
  {
   "cell_type": "code",
   "execution_count": 7,
   "metadata": {},
   "outputs": [
    {
     "data": {
      "image/png": "[encoded data removed]",
      "text/plain": [
       "<Figure size 640x480 with 1 Axes>"
      ]
     },
     "metadata": {},
     "output_type": "display_data"
    }
   ],
   "source": [
    "import seaborn as sns\n",
    "sns.boxplot(x = df['SalesAmount'])\n",
    "plt.title('Box plot of Sales Amount')\n",
    "plt.show()"
   ]
  },
  {
   "cell_type": "markdown",
   "metadata": {},
   "source": [
    "Scatter Plots"
   ]
  },
  {
   "cell_type": "code",
   "execution_count": 4,
   "metadata": {},
   "outputs": [],
   "source": [
    "import pandas as pd\n",
    "data = {'SalesAmount': [200, 150, 400, 300, 250, 350, 450, 500]}\n",
    "df = pd.DataFrame(data)"
   ]
  },
  {
   "cell_type": "code",
   "execution_count": 5,
   "metadata": {},
   "outputs": [],
   "source": [
    "df['ProductID'] = [101, 102, 103, 104, 105, 106, 107, 108]"
   ]
  },
  {
   "cell_type": "code",
   "execution_count": 4,
   "metadata": {},
   "outputs": [],
   "source": [
    "import matplotlib.pyplot as plt"
   ]
  },
  {
   "cell_type": "code",
   "execution_count": 9,
   "metadata": {},
   "outputs": [
    {
     "data": {
      "image/png": "[encoded data removed]",
      "text/plain": [
       "<Figure size 640x480 with 1 Axes>"
      ]
     },
     "metadata": {},
     "output_type": "display_data"
    }
   ],
   "source": [
    "plt.scatter(df['ProductID'], df['SalesAmount'])\n",
    "plt.title('ProductID vs Sales Amount')\n",
    "plt.xlabel('ProductID')\n",
    "plt.ylabel('Sales Amount')\n",
    "plt.show()"
   ]
  },
  {
   "cell_type": "markdown",
   "metadata": {},
   "source": [
    "Pair Plots"
   ]
  },
  {
   "cell_type": "code",
   "execution_count": 6,
   "metadata": {},
   "outputs": [],
   "source": [
    "import seaborn as sns"
   ]
  },
  {
   "cell_type": "code",
   "execution_count": 7,
   "metadata": {},
   "outputs": [
    {
     "data": {
      "image/png": "[encoded data removed]",
      "text/plain": [
       "<Figure size 500x500 with 6 Axes>"
      ]
     },
     "metadata": {},
     "output_type": "display_data"
    }
   ],
   "source": [
    "sns.pairplot(df)\n",
    "plt.show()"
   ]
  },
  {
   "cell_type": "markdown",
   "metadata": {},
   "source": [
    "Heatmaps for Correlation"
   ]
  },
  {
   "cell_type": "code",
   "execution_count": 10,
   "metadata": {},
   "outputs": [
    {
     "data": {
      "image/png": "[encoded data removed]",
      "text/plain": [
       "<Figure size 640x480 with 2 Axes>"
      ]
     },
     "metadata": {},
     "output_type": "display_data"
    }
   ],
   "source": [
    "corr_matrix = df.corr()\n",
    "sns.heatmap(corr_matrix, annot = True, cmap = 'coolwarm')\n",
    "plt.title('Heatmap Of The Matrix correlation')\n",
    "plt.show()"
   ]
  },
  {
   "cell_type": "markdown",
   "metadata": {},
   "source": [
    "Handling Outliers"
   ]
  },
  {
   "cell_type": "code",
   "execution_count": 10,
   "metadata": {},
   "outputs": [
    {
     "name": "stdout",
     "output_type": "stream",
     "text": [
      "   SalesAmount\n",
      "0          200\n",
      "1          150\n",
      "2          400\n",
      "3          300\n",
      "4          250\n",
      "5          350\n",
      "6          450\n",
      "7          500\n",
      "8        20000\n",
      "9       251000\n"
     ]
    }
   ],
   "source": [
    "data = {'SalesAmount': [200, 150, 400, 300, 250, 350, 450, 500, 20000, 251000]}\n",
    "df1 = pd.DataFrame(data)\n",
    "print(df1)"
   ]
  },
  {
   "cell_type": "markdown",
   "metadata": {},
   "source": [
    "1st by box plot in Seaborn"
   ]
  },
  {
   "cell_type": "code",
   "execution_count": 13,
   "metadata": {},
   "outputs": [
    {
     "data": {
      "text/plain": [
       "<Axes: xlabel='SalesAmount'>"
      ]
     },
     "execution_count": 13,
     "metadata": {},
     "output_type": "execute_result"
    },
    {
     "data": {
      "image/png": "[encoded data removed]",
      "text/plain": [
       "<Figure size 640x480 with 1 Axes>"
      ]
     },
     "metadata": {},
     "output_type": "display_data"
    }
   ],
   "source": [
    "sns.boxplot(x=df['SalesAmount'])"
   ]
  },
  {
   "cell_type": "markdown",
   "metadata": {},
   "source": [
    "2nd by calculation Z_Scores"
   ]
  },
  {
   "cell_type": "code",
   "execution_count": 8,
   "metadata": {},
   "outputs": [],
   "source": [
    "from scipy import stats"
   ]
  },
  {
   "cell_type": "code",
   "execution_count": 9,
   "metadata": {},
   "outputs": [],
   "source": [
    "import pandas as pd\n",
    "import matplotlib.pyplot as plt\n",
    "import seaborn as sns"
   ]
  },
  {
   "cell_type": "code",
   "execution_count": 11,
   "metadata": {},
   "outputs": [
    {
     "name": "stdout",
     "output_type": "stream",
     "text": [
      "Empty DataFrame\n",
      "Columns: [SalesAmount, z_scores]\n",
      "Index: []\n"
     ]
    }
   ],
   "source": [
    "df1['z_scores'] = stats.zscore(df1['SalesAmount'])\n",
    "df1_outliers = df1[(df1['z_scores'] > 3) | (df1['z_scores'] < -3)]\n",
    "print(df1_outliers)"
   ]
  },
  {
   "cell_type": "code",
   "execution_count": 7,
   "metadata": {},
   "outputs": [],
   "source": [
    "threshold = df['SalesAmount'].quantile(0.99)\n",
    "df['SalesAmount'] = df['SalesAmount'].apply(lambda x: min(x, threshold))"
   ]
  },
  {
   "cell_type": "code",
   "execution_count": 12,
   "metadata": {},
   "outputs": [
    {
     "name": "stdout",
     "output_type": "stream",
     "text": [
      "   SalesAmount\n",
      "0          200\n",
      "1          150\n",
      "2          400\n",
      "3          300\n",
      "4          250\n",
      "5          350\n",
      "6          450\n",
      "7          500\n",
      "8        20000\n",
      "9       257000\n"
     ]
    }
   ],
   "source": [
    "data2 = {'SalesAmount': [200, 150, 400, 300, 250, 350, 450, 500, 20000, 257000]}\n",
    "df2 = pd.DataFrame(data2)\n",
    "print(df2)"
   ]
  },
  {
   "cell_type": "code",
   "execution_count": 15,
   "metadata": {},
   "outputs": [
    {
     "name": "stdout",
     "output_type": "stream",
     "text": [
      "   SalesAmount  z_scores\n",
      "9       257000  2.991181\n"
     ]
    }
   ],
   "source": [
    "df2['z_scores'] = stats.zscore(df2['SalesAmount'])\n",
    "df2_outliers = df2[(df2['z_scores'] > 2) | (df2['z_scores'] < -3)]\n",
    "print(df2_outliers)"
   ]
  },
  {
   "cell_type": "code",
   "execution_count": 18,
   "metadata": {},
   "outputs": [
    {
     "name": "stdout",
     "output_type": "stream",
     "text": [
      "   SalesAmount  z_scores\n",
      "0          200 -0.362536\n",
      "1          150 -0.363189\n",
      "2          400 -0.359924\n",
      "3          300 -0.361230\n",
      "4          250 -0.361883\n",
      "5          350 -0.360577\n",
      "6          450 -0.359271\n",
      "7          500 -0.358618\n",
      "8        20000 -0.103955\n"
     ]
    }
   ],
   "source": [
    "# Remove outliers from the dataset\n",
    "df_cleaned = df2[(df2['z_scores'] <= 2) & (df2['z_scores'] >= -3)]\n",
    "print(df_cleaned)"
   ]
  },
  {
   "cell_type": "code",
   "execution_count": 20,
   "metadata": {},
   "outputs": [
    {
     "name": "stdout",
     "output_type": "stream",
     "text": [
      "   SalesAmount  z_scores\n",
      "0          200 -0.362536\n",
      "1          150 -0.363189\n",
      "2          400 -0.359924\n",
      "3          300 -0.361230\n",
      "4          250 -0.361883\n",
      "5          350 -0.360577\n",
      "6          450 -0.359271\n",
      "7          500 -0.358618\n",
      "8        20000 -0.103955\n"
     ]
    }
   ],
   "source": [
    "df2_outlier = df2[(df2['z_scores'] < 2) & (df2['z_scores'] > -3)]\n",
    "print(df2_outlier)"
   ]
  },
  {
   "cell_type": "markdown",
   "metadata": {},
   "source": [
    "Removing Duplicates"
   ]
  },
  {
   "cell_type": "code",
   "execution_count": 21,
   "metadata": {},
   "outputs": [
    {
     "name": "stdout",
     "output_type": "stream",
     "text": [
      "0    False\n",
      "1    False\n",
      "2    False\n",
      "3     True\n",
      "4    False\n",
      "5     True\n",
      "dtype: bool\n"
     ]
    }
   ],
   "source": [
    "data = {'ProductID': [101, 102, 103, 101, 104, 102],\n",
    "        'SalesAmount': [200, 150, 400, 200, 300, 150]}\n",
    "df = pd.DataFrame(data)\n",
    "\n",
    "# Detect duplicates\n",
    "duplicates = df.duplicated()\n",
    "print(duplicates)"
   ]
  },
  {
   "cell_type": "markdown",
   "metadata": {},
   "source": [
    "Handling Inconsistent and Incorrect Data"
   ]
  },
  {
   "cell_type": "code",
   "execution_count": 1,
   "metadata": {},
   "outputs": [],
   "source": [
    "import pandas as pd"
   ]
  },
  {
   "cell_type": "code",
   "execution_count": 2,
   "metadata": {},
   "outputs": [],
   "source": [
    "data = {'ProductID': ['101', '102', '103'], 'Date': ['2024-01-01', '2024-02-01', '2024-03-01']}\n",
    "df = pd.DataFrame(data)"
   ]
  },
  {
   "cell_type": "code",
   "execution_count": 3,
   "metadata": {},
   "outputs": [],
   "source": [
    "df['ProductID'] = df['ProductID'].astype(int)"
   ]
  },
  {
   "cell_type": "code",
   "execution_count": 5,
   "metadata": {},
   "outputs": [],
   "source": [
    "df['Date'] = pd.to_datetime(df['Date'])"
   ]
  },
  {
   "cell_type": "code",
   "execution_count": 6,
   "metadata": {},
   "outputs": [],
   "source": [
    "data1 = {'Region': ['North', 'north', 'SOUTH', 'South']}\n",
    "df1 = pd.DataFrame(data1)"
   ]
  },
  {
   "cell_type": "code",
   "execution_count": 10,
   "metadata": {},
   "outputs": [
    {
     "name": "stdout",
     "output_type": "stream",
     "text": [
      "  Region\n",
      "0  NORTH\n",
      "1  NORTH\n",
      "2  SOUTH\n",
      "3  SOUTH\n"
     ]
    }
   ],
   "source": [
    "df1['Region'] = df1['Region'].str.upper()\n",
    "print(df1)"
   ]
  },
  {
   "cell_type": "markdown",
   "metadata": {},
   "source": [
    "jupyter notebook --port=8890"
   ]
  },
  {
   "cell_type": "markdown",
   "metadata": {},
   "source": [
    "Working with Text Data"
   ]
  },
  {
   "cell_type": "markdown",
   "metadata": {},
   "source": [
    "Removing Unwanted Characters"
   ]
  },
  {
   "cell_type": "code",
   "execution_count": 2,
   "metadata": {},
   "outputs": [],
   "source": [
    "data = {'Product': [' Product-A  ', ' Product-B ', 'Product-C']}\n",
    "df = pd.DataFrame(data)"
   ]
  },
  {
   "cell_type": "markdown",
   "metadata": {},
   "source": [
    "Removing Spaces"
   ]
  },
  {
   "cell_type": "code",
   "execution_count": 3,
   "metadata": {},
   "outputs": [],
   "source": [
    "df['product'] = df['Product'].str.strip()"
   ]
  },
  {
   "cell_type": "code",
   "execution_count": 4,
   "metadata": {},
   "outputs": [
    {
     "name": "stdout",
     "output_type": "stream",
     "text": [
      "        Product    product\n",
      "0   Product-A    Product-A\n",
      "1    Product-B   Product-B\n",
      "2     Product-C  Product-C\n"
     ]
    }
   ],
   "source": [
    "print(df)"
   ]
  },
  {
   "cell_type": "markdown",
   "metadata": {},
   "source": [
    "Replace '-' with space"
   ]
  },
  {
   "cell_type": "code",
   "execution_count": 5,
   "metadata": {},
   "outputs": [
    {
     "name": "stdout",
     "output_type": "stream",
     "text": [
      "        Product    product\n",
      "0   Product A    Product-A\n",
      "1    Product B   Product-B\n",
      "2     Product C  Product-C\n"
     ]
    }
   ],
   "source": [
    "df['Product'] = df['Product'].str.replace('-', ' ')\n",
    "print(df)"
   ]
  },
  {
   "cell_type": "markdown",
   "metadata": {},
   "source": [
    "Normalizing and Transforming Data"
   ]
  },
  {
   "cell_type": "code",
   "execution_count": 6,
   "metadata": {},
   "outputs": [
    {
     "name": "stdout",
     "output_type": "stream",
     "text": [
      "   ProductID  SalesAmount\n",
      "0        101          200\n",
      "1        102          150\n",
      "2        103          400\n",
      "3        101          200\n",
      "4        104          300\n",
      "5        102          150\n"
     ]
    }
   ],
   "source": [
    "data1 = {'ProductID': [101, 102, 103, 101, 104, 102],\n",
    "        'SalesAmount': [200, 150, 400, 200, 300, 150]}\n",
    "df1 = pd.DataFrame(data1)\n",
    "print(df1)"
   ]
  },
  {
   "cell_type": "code",
   "execution_count": 12,
   "metadata": {},
   "outputs": [
    {
     "name": "stdout",
     "output_type": "stream",
     "text": [
      "Collecting scikit-learn\n",
      "  Downloading scikit_learn-1.6.1-cp312-cp312-win_amd64.whl.metadata (15 kB)\n",
      "Collecting numpy>=1.19.5 (from scikit-learn)\n",
      "  Downloading numpy-2.2.4-cp312-cp312-win_amd64.whl.metadata (60 kB)\n",
      "     ---------------------------------------- 0.0/60.8 kB ? eta -:--:--\n",
      "     ------ --------------------------------- 10.2/60.8 kB ? eta -:--:--\n",
      "     ------------------------- ------------ 41.0/60.8 kB 393.8 kB/s eta 0:00:01\n",
      "     ------------------------------- ------ 51.2/60.8 kB 435.7 kB/s eta 0:00:01\n",
      "     -------------------------------------- 60.8/60.8 kB 358.9 kB/s eta 0:00:00\n",
      "Collecting scipy>=1.6.0 (from scikit-learn)\n",
      "  Downloading scipy-1.15.2-cp312-cp312-win_amd64.whl.metadata (60 kB)\n",
      "     ---------------------------------------- 0.0/60.8 kB ? eta -:--:--\n",
      "     -------------------- ------------------- 30.7/60.8 kB 1.3 MB/s eta 0:00:01\n",
      "     -------------------------------- ----- 51.2/60.8 kB 518.5 kB/s eta 0:00:01\n",
      "     -------------------------------- ----- 51.2/60.8 kB 518.5 kB/s eta 0:00:01\n",
      "     -------------------------------- ----- 51.2/60.8 kB 518.5 kB/s eta 0:00:01\n",
      "     -------------------------------- ----- 51.2/60.8 kB 518.5 kB/s eta 0:00:01\n",
      "     -------------------------------- ----- 51.2/60.8 kB 518.5 kB/s eta 0:00:01\n",
      "     -------------------------------------- 60.8/60.8 kB 161.4 kB/s eta 0:00:00\n",
      "Collecting joblib>=1.2.0 (from scikit-learn)\n",
      "  Downloading joblib-1.4.2-py3-none-any.whl.metadata (5.4 kB)\n",
      "Collecting threadpoolctl>=3.1.0 (from scikit-learn)\n",
      "  Downloading threadpoolctl-3.6.0-py3-none-any.whl.metadata (13 kB)\n",
      "Downloading scikit_learn-1.6.1-cp312-cp312-win_amd64.whl (11.1 MB)\n",
      "   ---------------------------------------- 0.0/11.1 MB ? eta -:--:--\n",
      "   ---------------------------------------- 0.0/11.1 MB ? eta -:--:--\n",
      "   ---------------------------------------- 0.0/11.1 MB 1.3 MB/s eta 0:00:09\n",
      "   ---------------------------------------- 0.1/11.1 MB 469.7 kB/s eta 0:00:24\n",
      "   ---------------------------------------- 0.1/11.1 MB 525.1 kB/s eta 0:00:21\n",
      "   ---------------------------------------- 0.1/11.1 MB 657.1 kB/s eta 0:00:17\n",
      "    --------------------------------------- 0.2/11.1 MB 701.4 kB/s eta 0:00:16\n",
      "    --------------------------------------- 0.2/11.1 MB 583.1 kB/s eta 0:00:19\n",
      "    --------------------------------------- 0.2/11.1 MB 535.8 kB/s eta 0:00:21\n",
      "    --------------------------------------- 0.2/11.1 MB 535.8 kB/s eta 0:00:21\n",
      "    --------------------------------------- 0.2/11.1 MB 492.1 kB/s eta 0:00:23\n",
      "    --------------------------------------- 0.3/11.1 MB 528.9 kB/s eta 0:00:21\n",
      "   - -------------------------------------- 0.3/11.1 MB 575.5 kB/s eta 0:00:19\n",
      "   - -------------------------------------- 0.3/11.1 MB 578.5 kB/s eta 0:00:19\n",
      "   - -------------------------------------- 0.3/11.1 MB 521.2 kB/s eta 0:00:21\n",
      "   - -------------------------------------- 0.5/11.1 MB 603.1 kB/s eta 0:00:18\n",
      "   - -------------------------------------- 0.5/11.1 MB 605.3 kB/s eta 0:00:18\n",
      "   - -------------------------------------- 0.5/11.1 MB 618.4 kB/s eta 0:00:18\n",
      "   - -------------------------------------- 0.5/11.1 MB 618.4 kB/s eta 0:00:18\n",
      "   - -------------------------------------- 0.5/11.1 MB 618.4 kB/s eta 0:00:18\n",
      "   - -------------------------------------- 0.5/11.1 MB 618.4 kB/s eta 0:00:18\n",
      "   - -------------------------------------- 0.5/11.1 MB 618.4 kB/s eta 0:00:18\n",
      "   - -------------------------------------- 0.5/11.1 MB 618.4 kB/s eta 0:00:18\n",
      "   -- ------------------------------------- 0.6/11.1 MB 496.1 kB/s eta 0:00:22\n",
      "   -- ------------------------------------- 0.6/11.1 MB 496.1 kB/s eta 0:00:22\n",
      "   -- ------------------------------------- 0.6/11.1 MB 496.1 kB/s eta 0:00:22\n",
      "   -- ------------------------------------- 0.6/11.1 MB 495.6 kB/s eta 0:00:22\n",
      "   -- ------------------------------------- 0.7/11.1 MB 491.7 kB/s eta 0:00:22\n",
      "   -- ------------------------------------- 0.7/11.1 MB 491.7 kB/s eta 0:00:22\n",
      "   -- ------------------------------------- 0.7/11.1 MB 491.7 kB/s eta 0:00:22\n",
      "   -- ------------------------------------- 0.7/11.1 MB 453.1 kB/s eta 0:00:24\n",
      "   -- ------------------------------------- 0.7/11.1 MB 453.1 kB/s eta 0:00:24\n",
      "   -- ------------------------------------- 0.7/11.1 MB 453.1 kB/s eta 0:00:24\n",
      "   -- ------------------------------------- 0.7/11.1 MB 449.7 kB/s eta 0:00:24\n",
      "   -- ------------------------------------- 0.7/11.1 MB 449.7 kB/s eta 0:00:24\n",
      "   -- ------------------------------------- 0.7/11.1 MB 441.0 kB/s eta 0:00:24\n",
      "   -- ------------------------------------- 0.8/11.1 MB 440.8 kB/s eta 0:00:24\n",
      "   -- ------------------------------------- 0.8/11.1 MB 427.4 kB/s eta 0:00:25\n",
      "   -- ------------------------------------- 0.8/11.1 MB 427.6 kB/s eta 0:00:25\n",
      "   -- ------------------------------------- 0.8/11.1 MB 427.6 kB/s eta 0:00:25\n",
      "   -- ------------------------------------- 0.8/11.1 MB 427.6 kB/s eta 0:00:25\n",
      "   -- ------------------------------------- 0.8/11.1 MB 405.6 kB/s eta 0:00:26\n",
      "   --- ------------------------------------ 0.8/11.1 MB 416.5 kB/s eta 0:00:25\n",
      "   --- ------------------------------------ 0.8/11.1 MB 416.5 kB/s eta 0:00:25\n",
      "   --- ------------------------------------ 0.9/11.1 MB 430.3 kB/s eta 0:00:24\n",
      "   --- ------------------------------------ 1.0/11.1 MB 446.5 kB/s eta 0:00:23\n",
      "   --- ------------------------------------ 1.0/11.1 MB 441.6 kB/s eta 0:00:23\n",
      "   --- ------------------------------------ 1.0/11.1 MB 436.9 kB/s eta 0:00:24\n",
      "   --- ------------------------------------ 1.0/11.1 MB 436.9 kB/s eta 0:00:24\n",
      "   --- ------------------------------------ 1.0/11.1 MB 436.9 kB/s eta 0:00:24\n",
      "   --- ------------------------------------ 1.0/11.1 MB 436.9 kB/s eta 0:00:24\n",
      "   --- ------------------------------------ 1.0/11.1 MB 436.9 kB/s eta 0:00:24\n",
      "   --- ------------------------------------ 1.0/11.1 MB 436.9 kB/s eta 0:00:24\n",
      "   --- ------------------------------------ 1.0/11.1 MB 436.9 kB/s eta 0:00:24\n",
      "   --- ------------------------------------ 1.0/11.1 MB 436.9 kB/s eta 0:00:24\n",
      "   --- ------------------------------------ 1.0/11.1 MB 436.9 kB/s eta 0:00:24\n",
      "   --- ------------------------------------ 1.0/11.1 MB 436.9 kB/s eta 0:00:24\n",
      "   --- ------------------------------------ 1.0/11.1 MB 436.9 kB/s eta 0:00:24\n",
      "   --- ------------------------------------ 1.0/11.1 MB 436.9 kB/s eta 0:00:24\n",
      "   --- ------------------------------------ 1.0/11.1 MB 436.9 kB/s eta 0:00:24\n",
      "   --- ------------------------------------ 1.0/11.1 MB 436.9 kB/s eta 0:00:24\n",
      "   --- ------------------------------------ 1.0/11.1 MB 436.9 kB/s eta 0:00:24\n",
      "   --- ------------------------------------ 1.0/11.1 MB 436.9 kB/s eta 0:00:24\n",
      "   --- ------------------------------------ 1.0/11.1 MB 436.9 kB/s eta 0:00:24\n",
      "   --- ------------------------------------ 1.0/11.1 MB 436.9 kB/s eta 0:00:24\n",
      "   --- ------------------------------------ 1.0/11.1 MB 436.9 kB/s eta 0:00:24\n",
      "   --- ------------------------------------ 1.0/11.1 MB 314.7 kB/s eta 0:00:33\n",
      "   --- ------------------------------------ 1.0/11.1 MB 314.7 kB/s eta 0:00:33\n",
      "   --- ------------------------------------ 1.0/11.1 MB 314.7 kB/s eta 0:00:33\n",
      "   --- ------------------------------------ 1.0/11.1 MB 314.7 kB/s eta 0:00:33\n",
      "   --- ------------------------------------ 1.0/11.1 MB 314.7 kB/s eta 0:00:33\n",
      "   --- ------------------------------------ 1.0/11.1 MB 314.7 kB/s eta 0:00:33\n",
      "   --- ------------------------------------ 1.0/11.1 MB 314.7 kB/s eta 0:00:33\n",
      "   --- ------------------------------------ 1.0/11.1 MB 314.7 kB/s eta 0:00:33\n",
      "   ---- ----------------------------------- 1.2/11.1 MB 330.6 kB/s eta 0:00:31\n",
      "   ---- ----------------------------------- 1.2/11.1 MB 330.6 kB/s eta 0:00:31\n",
      "   ------- -------------------------------- 2.1/11.1 MB 576.0 kB/s eta 0:00:16\n",
      "   ------- -------------------------------- 2.1/11.1 MB 579.8 kB/s eta 0:00:16\n",
      "   ------- -------------------------------- 2.1/11.1 MB 577.7 kB/s eta 0:00:16\n",
      "   ------- -------------------------------- 2.2/11.1 MB 575.9 kB/s eta 0:00:16\n",
      "   ------- -------------------------------- 2.2/11.1 MB 574.4 kB/s eta 0:00:16\n",
      "   ------- -------------------------------- 2.2/11.1 MB 577.5 kB/s eta 0:00:16\n",
      "   ------- -------------------------------- 2.2/11.1 MB 577.5 kB/s eta 0:00:16\n",
      "   ------- -------------------------------- 2.2/11.1 MB 577.5 kB/s eta 0:00:16\n",
      "   ------- -------------------------------- 2.2/11.1 MB 553.0 kB/s eta 0:00:17\n",
      "   -------- ------------------------------- 2.3/11.1 MB 561.4 kB/s eta 0:00:16\n",
      "   -------- ------------------------------- 2.3/11.1 MB 561.7 kB/s eta 0:00:16\n",
      "   -------- ------------------------------- 2.3/11.1 MB 556.1 kB/s eta 0:00:16\n",
      "   -------- ------------------------------- 2.3/11.1 MB 556.4 kB/s eta 0:00:16\n",
      "   -------- ------------------------------- 2.3/11.1 MB 556.4 kB/s eta 0:00:16\n",
      "   -------- ------------------------------- 2.3/11.1 MB 556.4 kB/s eta 0:00:16\n",
      "   -------- ------------------------------- 2.3/11.1 MB 556.4 kB/s eta 0:00:16\n",
      "   -------- ------------------------------- 2.3/11.1 MB 556.4 kB/s eta 0:00:16\n",
      "   -------- ------------------------------- 2.3/11.1 MB 525.7 kB/s eta 0:00:17\n",
      "   -------- ------------------------------- 2.3/11.1 MB 525.7 kB/s eta 0:00:17\n",
      "   -------- ------------------------------- 2.3/11.1 MB 525.7 kB/s eta 0:00:17\n",
      "   -------- ------------------------------- 2.3/11.1 MB 525.7 kB/s eta 0:00:17\n",
      "   -------- ------------------------------- 2.3/11.1 MB 525.7 kB/s eta 0:00:17\n",
      "   -------- ------------------------------- 2.3/11.1 MB 525.7 kB/s eta 0:00:17\n",
      "   -------- ------------------------------- 2.3/11.1 MB 525.7 kB/s eta 0:00:17\n",
      "   -------- ------------------------------- 2.3/11.1 MB 525.7 kB/s eta 0:00:17\n",
      "   -------- ------------------------------- 2.3/11.1 MB 525.7 kB/s eta 0:00:17\n",
      "   -------- ------------------------------- 2.3/11.1 MB 525.7 kB/s eta 0:00:17\n",
      "   -------- ------------------------------- 2.3/11.1 MB 525.7 kB/s eta 0:00:17\n",
      "   -------- ------------------------------- 2.4/11.1 MB 476.4 kB/s eta 0:00:19\n",
      "   -------- ------------------------------- 2.4/11.1 MB 478.1 kB/s eta 0:00:19\n",
      "   -------- ------------------------------- 2.4/11.1 MB 482.4 kB/s eta 0:00:18\n",
      "   -------- ------------------------------- 2.4/11.1 MB 481.5 kB/s eta 0:00:18\n",
      "   -------- ------------------------------- 2.5/11.1 MB 481.5 kB/s eta 0:00:18\n",
      "   --------- ------------------------------ 2.5/11.1 MB 485.1 kB/s eta 0:00:18\n",
      "   --------- ------------------------------ 2.5/11.1 MB 488.1 kB/s eta 0:00:18\n",
      "   --------- ------------------------------ 2.5/11.1 MB 488.1 kB/s eta 0:00:18\n",
      "   --------- ------------------------------ 2.5/11.1 MB 488.1 kB/s eta 0:00:18\n",
      "   --------- ------------------------------ 2.5/11.1 MB 488.1 kB/s eta 0:00:18\n",
      "   --------- ------------------------------ 2.5/11.1 MB 488.1 kB/s eta 0:00:18\n",
      "   --------- ------------------------------ 2.6/11.1 MB 471.3 kB/s eta 0:00:19\n",
      "   --------- ------------------------------ 2.6/11.1 MB 475.2 kB/s eta 0:00:18\n",
      "   --------- ------------------------------ 2.6/11.1 MB 477.1 kB/s eta 0:00:18\n",
      "   --------- ------------------------------ 2.7/11.1 MB 483.3 kB/s eta 0:00:18\n",
      "   --------- ------------------------------ 2.8/11.1 MB 488.3 kB/s eta 0:00:18\n",
      "   ---------- ----------------------------- 2.8/11.1 MB 489.8 kB/s eta 0:00:17\n",
      "   ---------- ----------------------------- 2.8/11.1 MB 494.7 kB/s eta 0:00:17\n",
      "   ---------- ----------------------------- 2.9/11.1 MB 495.1 kB/s eta 0:00:17\n",
      "   ---------- ----------------------------- 2.9/11.1 MB 495.1 kB/s eta 0:00:17\n",
      "   ---------- ----------------------------- 2.9/11.1 MB 495.1 kB/s eta 0:00:17\n",
      "   ---------- ----------------------------- 2.9/11.1 MB 485.5 kB/s eta 0:00:17\n",
      "   ---------- ----------------------------- 2.9/11.1 MB 487.7 kB/s eta 0:00:17\n",
      "   ---------- ----------------------------- 2.9/11.1 MB 488.1 kB/s eta 0:00:17\n",
      "   ---------- ----------------------------- 3.0/11.1 MB 488.2 kB/s eta 0:00:17\n",
      "   ---------- ----------------------------- 3.0/11.1 MB 492.8 kB/s eta 0:00:17\n",
      "   ---------- ----------------------------- 3.1/11.1 MB 494.0 kB/s eta 0:00:17\n",
      "   ----------- ---------------------------- 3.1/11.1 MB 496.9 kB/s eta 0:00:17\n",
      "   ----------- ---------------------------- 3.1/11.1 MB 498.1 kB/s eta 0:00:17\n",
      "   ----------- ---------------------------- 3.1/11.1 MB 498.9 kB/s eta 0:00:16\n",
      "   ----------- ---------------------------- 3.2/11.1 MB 503.6 kB/s eta 0:00:16\n",
      "   ----------- ---------------------------- 3.2/11.1 MB 504.7 kB/s eta 0:00:16\n",
      "   ----------- ---------------------------- 3.3/11.1 MB 509.1 kB/s eta 0:00:16\n",
      "   ----------- ---------------------------- 3.3/11.1 MB 510.1 kB/s eta 0:00:16\n",
      "   ------------ --------------------------- 3.4/11.1 MB 514.3 kB/s eta 0:00:16\n",
      "   ------------ --------------------------- 3.4/11.1 MB 518.4 kB/s eta 0:00:15\n",
      "   ------------ --------------------------- 3.5/11.1 MB 520.9 kB/s eta 0:00:15\n",
      "   ------------ --------------------------- 3.5/11.1 MB 521.2 kB/s eta 0:00:15\n",
      "   ------------ --------------------------- 3.5/11.1 MB 522.7 kB/s eta 0:00:15\n",
      "   ------------ --------------------------- 3.6/11.1 MB 526.4 kB/s eta 0:00:15\n",
      "   ------------- -------------------------- 3.6/11.1 MB 529.1 kB/s eta 0:00:15\n",
      "   ------------- -------------------------- 3.6/11.1 MB 528.2 kB/s eta 0:00:15\n",
      "   ------------- -------------------------- 3.7/11.1 MB 529.3 kB/s eta 0:00:15\n",
      "   ------------- -------------------------- 3.7/11.1 MB 530.2 kB/s eta 0:00:14\n",
      "   ------------- -------------------------- 3.7/11.1 MB 528.1 kB/s eta 0:00:15\n",
      "   ------------- -------------------------- 3.7/11.1 MB 530.4 kB/s eta 0:00:14\n",
      "   ------------- -------------------------- 3.8/11.1 MB 529.5 kB/s eta 0:00:14\n",
      "   ------------- -------------------------- 3.8/11.1 MB 530.1 kB/s eta 0:00:14\n",
      "   ------------- -------------------------- 3.8/11.1 MB 529.7 kB/s eta 0:00:14\n",
      "   ------------- -------------------------- 3.8/11.1 MB 530.5 kB/s eta 0:00:14\n",
      "   ------------- -------------------------- 3.9/11.1 MB 530.2 kB/s eta 0:00:14\n",
      "   -------------- ------------------------- 3.9/11.1 MB 529.6 kB/s eta 0:00:14\n",
      "   -------------- ------------------------- 3.9/11.1 MB 529.6 kB/s eta 0:00:14\n",
      "   -------------- ------------------------- 3.9/11.1 MB 525.7 kB/s eta 0:00:14\n",
      "   -------------- ------------------------- 3.9/11.1 MB 524.8 kB/s eta 0:00:14\n",
      "   -------------- ------------------------- 3.9/11.1 MB 525.4 kB/s eta 0:00:14\n",
      "   -------------- ------------------------- 4.0/11.1 MB 523.5 kB/s eta 0:00:14\n",
      "   -------------- ------------------------- 4.0/11.1 MB 523.5 kB/s eta 0:00:14\n",
      "   -------------- ------------------------- 4.0/11.1 MB 523.5 kB/s eta 0:00:14\n",
      "   -------------- ------------------------- 4.0/11.1 MB 523.5 kB/s eta 0:00:14\n",
      "   -------------- ------------------------- 4.0/11.1 MB 523.5 kB/s eta 0:00:14\n",
      "   -------------- ------------------------- 4.0/11.1 MB 523.5 kB/s eta 0:00:14\n",
      "   -------------- ------------------------- 4.0/11.1 MB 523.5 kB/s eta 0:00:14\n",
      "   -------------- ------------------------- 4.0/11.1 MB 523.5 kB/s eta 0:00:14\n",
      "   -------------- ------------------------- 4.0/11.1 MB 523.5 kB/s eta 0:00:14\n",
      "   -------------- ------------------------- 4.0/11.1 MB 523.5 kB/s eta 0:00:14\n",
      "   -------------- ------------------------- 4.0/11.1 MB 523.5 kB/s eta 0:00:14\n",
      "   -------------- ------------------------- 4.0/11.1 MB 523.5 kB/s eta 0:00:14\n",
      "   -------------- ------------------------- 4.0/11.1 MB 523.5 kB/s eta 0:00:14\n",
      "   -------------- ------------------------- 4.0/11.1 MB 523.5 kB/s eta 0:00:14\n",
      "   -------------- ------------------------- 4.0/11.1 MB 523.5 kB/s eta 0:00:14\n",
      "   -------------- ------------------------- 4.0/11.1 MB 523.5 kB/s eta 0:00:14\n",
      "   -------------- ------------------------- 4.0/11.1 MB 523.5 kB/s eta 0:00:14\n",
      "   -------------- ------------------------- 4.0/11.1 MB 523.5 kB/s eta 0:00:14\n",
      "   -------------- ------------------------- 4.0/11.1 MB 523.5 kB/s eta 0:00:14\n",
      "   -------------- ------------------------- 4.0/11.1 MB 523.5 kB/s eta 0:00:14\n",
      "   -------------- ------------------------- 4.0/11.1 MB 523.5 kB/s eta 0:00:14\n",
      "   -------------- ------------------------- 4.0/11.1 MB 523.5 kB/s eta 0:00:14\n",
      "   -------------- ------------------------- 4.0/11.1 MB 523.5 kB/s eta 0:00:14\n",
      "   -------------- ------------------------- 4.0/11.1 MB 523.5 kB/s eta 0:00:14\n",
      "   -------------- ------------------------- 4.0/11.1 MB 523.5 kB/s eta 0:00:14\n",
      "   -------------- ------------------------- 4.0/11.1 MB 523.5 kB/s eta 0:00:14\n",
      "   -------------- ------------------------- 4.0/11.1 MB 523.5 kB/s eta 0:00:14\n",
      "   -------------- ------------------------- 4.0/11.1 MB 523.5 kB/s eta 0:00:14\n",
      "   -------------- ------------------------- 4.0/11.1 MB 523.5 kB/s eta 0:00:14\n",
      "   -------------- ------------------------- 4.0/11.1 MB 523.5 kB/s eta 0:00:14\n",
      "   -------------- ------------------------- 4.0/11.1 MB 523.5 kB/s eta 0:00:14\n",
      "   -------------- ------------------------- 4.0/11.1 MB 523.5 kB/s eta 0:00:14\n",
      "   -------------- ------------------------- 4.0/11.1 MB 523.5 kB/s eta 0:00:14\n",
      "   -------------- ------------------------- 4.0/11.1 MB 523.5 kB/s eta 0:00:14\n",
      "   -------------- ------------------------- 4.0/11.1 MB 523.5 kB/s eta 0:00:14\n",
      "   -------------- ------------------------- 4.0/11.1 MB 523.5 kB/s eta 0:00:14\n",
      "   -------------- ------------------------- 4.0/11.1 MB 523.5 kB/s eta 0:00:14\n",
      "   -------------- ------------------------- 4.0/11.1 MB 523.5 kB/s eta 0:00:14\n",
      "   -------------- ------------------------- 4.0/11.1 MB 523.5 kB/s eta 0:00:14\n",
      "   -------------- ------------------------- 4.0/11.1 MB 523.5 kB/s eta 0:00:14\n",
      "   -------------- ------------------------- 4.0/11.1 MB 523.5 kB/s eta 0:00:14\n",
      "   -------------- ------------------------- 4.0/11.1 MB 523.5 kB/s eta 0:00:14\n",
      "   -------------- ------------------------- 4.0/11.1 MB 523.5 kB/s eta 0:00:14\n",
      "   -------------- ------------------------- 4.0/11.1 MB 523.5 kB/s eta 0:00:14\n",
      "   -------------- ------------------------- 4.0/11.1 MB 523.5 kB/s eta 0:00:14\n",
      "   -------------- ------------------------- 4.0/11.1 MB 407.7 kB/s eta 0:00:18\n",
      "   -------------- ------------------------- 4.0/11.1 MB 409.6 kB/s eta 0:00:18\n",
      "   -------------- ------------------------- 4.0/11.1 MB 410.8 kB/s eta 0:00:18\n",
      "   -------------- ------------------------- 4.1/11.1 MB 413.0 kB/s eta 0:00:18\n",
      "   -------------- ------------------------- 4.1/11.1 MB 413.0 kB/s eta 0:00:18\n",
      "   -------------- ------------------------- 4.1/11.1 MB 412.8 kB/s eta 0:00:17\n",
      "   -------------- ------------------------- 4.1/11.1 MB 413.7 kB/s eta 0:00:17\n",
      "   --------------- ------------------------ 4.2/11.1 MB 415.1 kB/s eta 0:00:17\n",
      "   --------------- ------------------------ 4.2/11.1 MB 416.9 kB/s eta 0:00:17\n",
      "   --------------- ------------------------ 4.2/11.1 MB 418.4 kB/s eta 0:00:17\n",
      "   --------------- ------------------------ 4.2/11.1 MB 418.0 kB/s eta 0:00:17\n",
      "   --------------- ------------------------ 4.3/11.1 MB 417.2 kB/s eta 0:00:17\n",
      "   --------------- ------------------------ 4.3/11.1 MB 416.2 kB/s eta 0:00:17\n",
      "   --------------- ------------------------ 4.3/11.1 MB 415.3 kB/s eta 0:00:17\n",
      "   --------------- ------------------------ 4.3/11.1 MB 415.3 kB/s eta 0:00:17\n",
      "   --------------- ------------------------ 4.3/11.1 MB 412.3 kB/s eta 0:00:17\n",
      "   --------------- ------------------------ 4.3/11.1 MB 413.4 kB/s eta 0:00:17\n",
      "   --------------- ------------------------ 4.4/11.1 MB 415.1 kB/s eta 0:00:17\n",
      "   --------------- ------------------------ 4.4/11.1 MB 416.5 kB/s eta 0:00:17\n",
      "   --------------- ------------------------ 4.4/11.1 MB 417.6 kB/s eta 0:00:16\n",
      "   ---------------- ----------------------- 4.5/11.1 MB 418.6 kB/s eta 0:00:16\n",
      "   ---------------- ----------------------- 4.5/11.1 MB 419.7 kB/s eta 0:00:16\n",
      "   ---------------- ----------------------- 4.5/11.1 MB 421.3 kB/s eta 0:00:16\n",
      "   ---------------- ----------------------- 4.6/11.1 MB 423.3 kB/s eta 0:00:16\n",
      "   ---------------- ----------------------- 4.6/11.1 MB 423.0 kB/s eta 0:00:16\n",
      "   ---------------- ----------------------- 4.6/11.1 MB 424.7 kB/s eta 0:00:16\n",
      "   ---------------- ----------------------- 4.7/11.1 MB 425.6 kB/s eta 0:00:16\n",
      "   ---------------- ----------------------- 4.7/11.1 MB 427.2 kB/s eta 0:00:16\n",
      "   ----------------- ---------------------- 4.7/11.1 MB 429.1 kB/s eta 0:00:15\n",
      "   ----------------- ---------------------- 4.8/11.1 MB 429.8 kB/s eta 0:00:15\n",
      "   ----------------- ---------------------- 4.8/11.1 MB 431.1 kB/s eta 0:00:15\n",
      "   ----------------- ---------------------- 4.8/11.1 MB 431.1 kB/s eta 0:00:15\n",
      "   ----------------- ---------------------- 4.8/11.1 MB 431.4 kB/s eta 0:00:15\n",
      "   ----------------- ---------------------- 4.9/11.1 MB 430.5 kB/s eta 0:00:15\n",
      "   ----------------- ---------------------- 4.9/11.1 MB 432.7 kB/s eta 0:00:15\n",
      "   ----------------- ---------------------- 4.9/11.1 MB 432.7 kB/s eta 0:00:15\n",
      "   ----------------- ---------------------- 4.9/11.1 MB 432.1 kB/s eta 0:00:15\n",
      "   ----------------- ---------------------- 4.9/11.1 MB 432.1 kB/s eta 0:00:15\n",
      "   ----------------- ---------------------- 4.9/11.1 MB 432.1 kB/s eta 0:00:15\n",
      "   ----------------- ---------------------- 4.9/11.1 MB 432.1 kB/s eta 0:00:15\n",
      "   ----------------- ---------------------- 4.9/11.1 MB 425.4 kB/s eta 0:00:15\n",
      "   ----------------- ---------------------- 5.0/11.1 MB 427.2 kB/s eta 0:00:15\n",
      "   ------------------ --------------------- 5.0/11.1 MB 429.0 kB/s eta 0:00:15\n",
      "   ------------------ --------------------- 5.1/11.1 MB 431.7 kB/s eta 0:00:14\n",
      "   ------------------ --------------------- 5.1/11.1 MB 432.3 kB/s eta 0:00:14\n",
      "   ------------------ --------------------- 5.1/11.1 MB 432.3 kB/s eta 0:00:14\n",
      "   ------------------ --------------------- 5.1/11.1 MB 432.3 kB/s eta 0:00:14\n",
      "   ------------------ --------------------- 5.1/11.1 MB 432.3 kB/s eta 0:00:14\n",
      "   ------------------ --------------------- 5.1/11.1 MB 432.3 kB/s eta 0:00:14\n",
      "   ------------------ --------------------- 5.1/11.1 MB 432.3 kB/s eta 0:00:14\n",
      "   ------------------ --------------------- 5.1/11.1 MB 432.3 kB/s eta 0:00:14\n",
      "   ------------------ --------------------- 5.1/11.1 MB 432.3 kB/s eta 0:00:14\n",
      "   ------------------ --------------------- 5.1/11.1 MB 432.3 kB/s eta 0:00:14\n",
      "   ------------------ --------------------- 5.1/11.1 MB 432.3 kB/s eta 0:00:14\n",
      "   ------------------ --------------------- 5.1/11.1 MB 416.0 kB/s eta 0:00:15\n",
      "   ------------------ --------------------- 5.1/11.1 MB 417.7 kB/s eta 0:00:15\n",
      "   ------------------ --------------------- 5.2/11.1 MB 417.0 kB/s eta 0:00:15\n",
      "   ------------------ --------------------- 5.2/11.1 MB 417.0 kB/s eta 0:00:15\n",
      "   ------------------ --------------------- 5.2/11.1 MB 417.0 kB/s eta 0:00:15\n",
      "   ------------------ --------------------- 5.2/11.1 MB 414.4 kB/s eta 0:00:15\n",
      "   ------------------ --------------------- 5.2/11.1 MB 414.4 kB/s eta 0:00:15\n",
      "   ------------------ --------------------- 5.2/11.1 MB 414.4 kB/s eta 0:00:15\n",
      "   ------------------ --------------------- 5.2/11.1 MB 414.4 kB/s eta 0:00:15\n",
      "   ------------------ --------------------- 5.2/11.1 MB 414.4 kB/s eta 0:00:15\n",
      "   ------------------ --------------------- 5.2/11.1 MB 414.4 kB/s eta 0:00:15\n",
      "   ------------------ --------------------- 5.2/11.1 MB 414.4 kB/s eta 0:00:15\n",
      "   ------------------ --------------------- 5.2/11.1 MB 414.4 kB/s eta 0:00:15\n",
      "   ------------------ --------------------- 5.2/11.1 MB 414.4 kB/s eta 0:00:15\n",
      "   ------------------ --------------------- 5.2/11.1 MB 414.4 kB/s eta 0:00:15\n",
      "   ------------------ --------------------- 5.2/11.1 MB 399.2 kB/s eta 0:00:15\n",
      "   ------------------ --------------------- 5.2/11.1 MB 402.5 kB/s eta 0:00:15\n",
      "   ------------------ --------------------- 5.2/11.1 MB 402.5 kB/s eta 0:00:15\n",
      "   ------------------ --------------------- 5.2/11.1 MB 402.5 kB/s eta 0:00:15\n",
      "   ------------------ --------------------- 5.2/11.1 MB 402.5 kB/s eta 0:00:15\n",
      "   ------------------ --------------------- 5.2/11.1 MB 402.5 kB/s eta 0:00:15\n",
      "   ------------------ --------------------- 5.2/11.1 MB 402.5 kB/s eta 0:00:15\n",
      "   ------------------ --------------------- 5.2/11.1 MB 402.5 kB/s eta 0:00:15\n",
      "   ------------------ --------------------- 5.2/11.1 MB 402.5 kB/s eta 0:00:15\n",
      "   ------------------ --------------------- 5.2/11.1 MB 402.5 kB/s eta 0:00:15\n",
      "   ------------------ --------------------- 5.3/11.1 MB 390.6 kB/s eta 0:00:15\n",
      "   ------------------ --------------------- 5.3/11.1 MB 390.6 kB/s eta 0:00:15\n",
      "   ------------------ --------------------- 5.3/11.1 MB 390.6 kB/s eta 0:00:15\n",
      "   ------------------ --------------------- 5.3/11.1 MB 390.6 kB/s eta 0:00:15\n",
      "   ------------------- -------------------- 5.3/11.1 MB 388.6 kB/s eta 0:00:15\n",
      "   ------------------- -------------------- 5.3/11.1 MB 389.2 kB/s eta 0:00:15\n",
      "   ------------------- -------------------- 5.3/11.1 MB 389.5 kB/s eta 0:00:15\n",
      "   ------------------- -------------------- 5.4/11.1 MB 389.2 kB/s eta 0:00:15\n",
      "   ------------------- -------------------- 5.4/11.1 MB 390.1 kB/s eta 0:00:15\n",
      "   ------------------- -------------------- 5.4/11.1 MB 389.1 kB/s eta 0:00:15\n",
      "   ------------------- -------------------- 5.4/11.1 MB 391.0 kB/s eta 0:00:15\n",
      "   ------------------- -------------------- 5.5/11.1 MB 392.3 kB/s eta 0:00:15\n",
      "   ------------------- -------------------- 5.5/11.1 MB 394.2 kB/s eta 0:00:15\n",
      "   -------------------- ------------------- 5.6/11.1 MB 395.6 kB/s eta 0:00:15\n",
      "   -------------------- ------------------- 5.6/11.1 MB 397.4 kB/s eta 0:00:14\n",
      "   -------------------- ------------------- 5.7/11.1 MB 399.7 kB/s eta 0:00:14\n",
      "   -------------------- ------------------- 5.7/11.1 MB 400.6 kB/s eta 0:00:14\n",
      "   -------------------- ------------------- 5.8/11.1 MB 404.3 kB/s eta 0:00:14\n",
      "   -------------------- ------------------- 5.8/11.1 MB 405.1 kB/s eta 0:00:14\n",
      "   -------------------- ------------------- 5.8/11.1 MB 405.2 kB/s eta 0:00:14\n",
      "   -------------------- ------------------- 5.8/11.1 MB 405.9 kB/s eta 0:00:14\n",
      "   --------------------- ------------------ 5.9/11.1 MB 406.8 kB/s eta 0:00:13\n",
      "   --------------------- ------------------ 5.9/11.1 MB 407.6 kB/s eta 0:00:13\n",
      "   --------------------- ------------------ 6.0/11.1 MB 409.9 kB/s eta 0:00:13\n",
      "   --------------------- ------------------ 6.0/11.1 MB 410.7 kB/s eta 0:00:13\n",
      "   --------------------- ------------------ 6.0/11.1 MB 411.9 kB/s eta 0:00:13\n",
      "   --------------------- ------------------ 6.1/11.1 MB 413.1 kB/s eta 0:00:13\n",
      "   --------------------- ------------------ 6.1/11.1 MB 413.1 kB/s eta 0:00:13\n",
      "   --------------------- ------------------ 6.1/11.1 MB 413.1 kB/s eta 0:00:13\n",
      "   --------------------- ------------------ 6.1/11.1 MB 413.1 kB/s eta 0:00:13\n",
      "   --------------------- ------------------ 6.1/11.1 MB 413.1 kB/s eta 0:00:13\n",
      "   --------------------- ------------------ 6.1/11.1 MB 413.1 kB/s eta 0:00:13\n",
      "   --------------------- ------------------ 6.1/11.1 MB 406.3 kB/s eta 0:00:13\n",
      "   --------------------- ------------------ 6.1/11.1 MB 406.3 kB/s eta 0:00:13\n",
      "   --------------------- ------------------ 6.1/11.1 MB 406.3 kB/s eta 0:00:13\n",
      "   --------------------- ------------------ 6.1/11.1 MB 406.3 kB/s eta 0:00:13\n",
      "   --------------------- ------------------ 6.1/11.1 MB 406.3 kB/s eta 0:00:13\n",
      "   --------------------- ------------------ 6.1/11.1 MB 406.3 kB/s eta 0:00:13\n",
      "   --------------------- ------------------ 6.1/11.1 MB 406.3 kB/s eta 0:00:13\n",
      "   --------------------- ------------------ 6.1/11.1 MB 406.3 kB/s eta 0:00:13\n",
      "   --------------------- ------------------ 6.1/11.1 MB 406.3 kB/s eta 0:00:13\n",
      "   --------------------- ------------------ 6.1/11.1 MB 406.3 kB/s eta 0:00:13\n",
      "   --------------------- ------------------ 6.1/11.1 MB 395.9 kB/s eta 0:00:13\n",
      "   --------------------- ------------------ 6.1/11.1 MB 395.9 kB/s eta 0:00:13\n",
      "   ---------------------- ----------------- 6.2/11.1 MB 396.8 kB/s eta 0:00:13\n",
      "   ---------------------- ----------------- 6.2/11.1 MB 397.2 kB/s eta 0:00:13\n",
      "   ---------------------- ----------------- 6.2/11.1 MB 397.9 kB/s eta 0:00:13\n",
      "   ---------------------- ----------------- 6.2/11.1 MB 398.1 kB/s eta 0:00:13\n",
      "   ---------------------- ----------------- 6.3/11.1 MB 398.2 kB/s eta 0:00:13\n",
      "   ---------------------- ----------------- 6.3/11.1 MB 399.3 kB/s eta 0:00:13\n",
      "   ---------------------- ----------------- 6.3/11.1 MB 398.0 kB/s eta 0:00:13\n",
      "   ---------------------- ----------------- 6.3/11.1 MB 398.0 kB/s eta 0:00:13\n",
      "   ---------------------- ----------------- 6.3/11.1 MB 396.9 kB/s eta 0:00:13\n",
      "   ---------------------- ----------------- 6.3/11.1 MB 397.5 kB/s eta 0:00:13\n",
      "   ---------------------- ----------------- 6.3/11.1 MB 397.3 kB/s eta 0:00:12\n",
      "   ---------------------- ----------------- 6.3/11.1 MB 397.3 kB/s eta 0:00:12\n",
      "   ---------------------- ----------------- 6.3/11.1 MB 397.3 kB/s eta 0:00:12\n",
      "   ---------------------- ----------------- 6.3/11.1 MB 397.3 kB/s eta 0:00:12\n",
      "   ---------------------- ----------------- 6.4/11.1 MB 393.8 kB/s eta 0:00:13\n",
      "   ----------------------- ---------------- 6.4/11.1 MB 395.6 kB/s eta 0:00:12\n",
      "   ----------------------- ---------------- 6.5/11.1 MB 396.4 kB/s eta 0:00:12\n",
      "   ----------------------- ---------------- 6.5/11.1 MB 396.4 kB/s eta 0:00:12\n",
      "   ----------------------- ---------------- 6.5/11.1 MB 396.4 kB/s eta 0:00:12\n",
      "   ----------------------- ---------------- 6.5/11.1 MB 396.4 kB/s eta 0:00:12\n",
      "   ----------------------- ---------------- 6.5/11.1 MB 392.1 kB/s eta 0:00:12\n",
      "   ----------------------- ---------------- 6.5/11.1 MB 393.5 kB/s eta 0:00:12\n",
      "   ----------------------- ---------------- 6.5/11.1 MB 394.6 kB/s eta 0:00:12\n",
      "   ----------------------- ---------------- 6.6/11.1 MB 395.3 kB/s eta 0:00:12\n",
      "   ----------------------- ---------------- 6.6/11.1 MB 396.0 kB/s eta 0:00:12\n",
      "   ----------------------- ---------------- 6.6/11.1 MB 397.6 kB/s eta 0:00:12\n",
      "   ----------------------- ---------------- 6.7/11.1 MB 398.5 kB/s eta 0:00:12\n",
      "   ------------------------ --------------- 6.7/11.1 MB 399.4 kB/s eta 0:00:12\n",
      "   ------------------------ --------------- 6.7/11.1 MB 401.1 kB/s eta 0:00:11\n",
      "   ------------------------ --------------- 6.8/11.1 MB 401.5 kB/s eta 0:00:11\n",
      "   ------------------------ --------------- 6.8/11.1 MB 401.7 kB/s eta 0:00:11\n",
      "   ------------------------ --------------- 6.8/11.1 MB 402.3 kB/s eta 0:00:11\n",
      "   ------------------------ --------------- 6.9/11.1 MB 403.0 kB/s eta 0:00:11\n",
      "   ------------------------ --------------- 6.9/11.1 MB 404.5 kB/s eta 0:00:11\n",
      "   ------------------------ --------------- 6.9/11.1 MB 405.6 kB/s eta 0:00:11\n",
      "   ------------------------- -------------- 7.0/11.1 MB 407.1 kB/s eta 0:00:11\n",
      "   ------------------------- -------------- 7.0/11.1 MB 407.3 kB/s eta 0:00:11\n",
      "   ------------------------- -------------- 7.0/11.1 MB 407.0 kB/s eta 0:00:11\n",
      "   ------------------------- -------------- 7.1/11.1 MB 408.9 kB/s eta 0:00:10\n",
      "   ------------------------- -------------- 7.1/11.1 MB 409.5 kB/s eta 0:00:10\n",
      "   ------------------------- -------------- 7.2/11.1 MB 411.6 kB/s eta 0:00:10\n",
      "   ------------------------- -------------- 7.2/11.1 MB 412.6 kB/s eta 0:00:10\n",
      "   -------------------------- ------------- 7.2/11.1 MB 414.4 kB/s eta 0:00:10\n",
      "   -------------------------- ------------- 7.3/11.1 MB 416.2 kB/s eta 0:00:10\n",
      "   -------------------------- ------------- 7.3/11.1 MB 416.3 kB/s eta 0:00:10\n",
      "   -------------------------- ------------- 7.4/11.1 MB 417.3 kB/s eta 0:00:10\n",
      "   -------------------------- ------------- 7.4/11.1 MB 419.1 kB/s eta 0:00:09\n",
      "   -------------------------- ------------- 7.4/11.1 MB 419.9 kB/s eta 0:00:09\n",
      "   -------------------------- ------------- 7.5/11.1 MB 421.7 kB/s eta 0:00:09\n",
      "   --------------------------- ------------ 7.5/11.1 MB 423.5 kB/s eta 0:00:09\n",
      "   --------------------------- ------------ 7.6/11.1 MB 424.5 kB/s eta 0:00:09\n",
      "   --------------------------- ------------ 7.6/11.1 MB 425.8 kB/s eta 0:00:09\n",
      "   --------------------------- ------------ 7.7/11.1 MB 427.6 kB/s eta 0:00:09\n",
      "   --------------------------- ------------ 7.7/11.1 MB 428.8 kB/s eta 0:00:08\n",
      "   --------------------------- ------------ 7.8/11.1 MB 430.5 kB/s eta 0:00:08\n",
      "   ---------------------------- ----------- 7.8/11.1 MB 431.1 kB/s eta 0:00:08\n",
      "   ---------------------------- ----------- 7.8/11.1 MB 432.6 kB/s eta 0:00:08\n",
      "   ---------------------------- ----------- 7.9/11.1 MB 432.4 kB/s eta 0:00:08\n",
      "   ---------------------------- ----------- 7.9/11.1 MB 432.0 kB/s eta 0:00:08\n",
      "   ---------------------------- ----------- 7.9/11.1 MB 432.0 kB/s eta 0:00:08\n",
      "   ---------------------------- ----------- 7.9/11.1 MB 431.1 kB/s eta 0:00:08\n",
      "   ---------------------------- ----------- 8.0/11.1 MB 432.8 kB/s eta 0:00:08\n",
      "   ---------------------------- ----------- 8.0/11.1 MB 434.5 kB/s eta 0:00:08\n",
      "   ---------------------------- ----------- 8.0/11.1 MB 435.2 kB/s eta 0:00:08\n",
      "   ----------------------------- ---------- 8.1/11.1 MB 436.0 kB/s eta 0:00:07\n",
      "   ----------------------------- ---------- 8.1/11.1 MB 437.8 kB/s eta 0:00:07\n",
      "   ----------------------------- ---------- 8.2/11.1 MB 439.5 kB/s eta 0:00:07\n",
      "   ----------------------------- ---------- 8.2/11.1 MB 440.8 kB/s eta 0:00:07\n",
      "   ----------------------------- ---------- 8.3/11.1 MB 441.7 kB/s eta 0:00:07\n",
      "   ----------------------------- ---------- 8.3/11.1 MB 442.9 kB/s eta 0:00:07\n",
      "   ----------------------------- ---------- 8.3/11.1 MB 443.5 kB/s eta 0:00:07\n",
      "   ----------------------------- ---------- 8.3/11.1 MB 443.5 kB/s eta 0:00:07\n",
      "   ----------------------------- ---------- 8.3/11.1 MB 443.5 kB/s eta 0:00:07\n",
      "   ----------------------------- ---------- 8.3/11.1 MB 443.5 kB/s eta 0:00:07\n",
      "   ----------------------------- ---------- 8.3/11.1 MB 443.5 kB/s eta 0:00:07\n",
      "   ----------------------------- ---------- 8.3/11.1 MB 443.5 kB/s eta 0:00:07\n",
      "   ----------------------------- ---------- 8.3/11.1 MB 443.5 kB/s eta 0:00:07\n",
      "   ----------------------------- ---------- 8.3/11.1 MB 443.5 kB/s eta 0:00:07\n",
      "   ----------------------------- ---------- 8.3/11.1 MB 443.5 kB/s eta 0:00:07\n",
      "   ----------------------------- ---------- 8.3/11.1 MB 443.5 kB/s eta 0:00:07\n",
      "   ----------------------------- ---------- 8.3/11.1 MB 443.5 kB/s eta 0:00:07\n",
      "   ----------------------------- ---------- 8.3/11.1 MB 443.5 kB/s eta 0:00:07\n",
      "   ----------------------------- ---------- 8.3/11.1 MB 443.5 kB/s eta 0:00:07\n",
      "   ----------------------------- ---------- 8.3/11.1 MB 443.5 kB/s eta 0:00:07\n",
      "   ----------------------------- ---------- 8.3/11.1 MB 443.5 kB/s eta 0:00:07\n",
      "   ----------------------------- ---------- 8.3/11.1 MB 443.5 kB/s eta 0:00:07\n",
      "   ----------------------------- ---------- 8.3/11.1 MB 443.5 kB/s eta 0:00:07\n",
      "   ----------------------------- ---------- 8.3/11.1 MB 443.5 kB/s eta 0:00:07\n",
      "   ----------------------------- ---------- 8.3/11.1 MB 443.5 kB/s eta 0:00:07\n",
      "   ----------------------------- ---------- 8.3/11.1 MB 443.5 kB/s eta 0:00:07\n",
      "   ----------------------------- ---------- 8.3/11.1 MB 443.5 kB/s eta 0:00:07\n",
      "   ----------------------------- ---------- 8.3/11.1 MB 443.5 kB/s eta 0:00:07\n",
      "   ----------------------------- ---------- 8.3/11.1 MB 443.5 kB/s eta 0:00:07\n",
      "   ----------------------------- ---------- 8.3/11.1 MB 443.5 kB/s eta 0:00:07\n",
      "   ----------------------------- ---------- 8.3/11.1 MB 443.5 kB/s eta 0:00:07\n",
      "   ----------------------------- ---------- 8.3/11.1 MB 443.5 kB/s eta 0:00:07\n",
      "   ----------------------------- ---------- 8.3/11.1 MB 443.5 kB/s eta 0:00:07\n",
      "   ----------------------------- ---------- 8.3/11.1 MB 443.5 kB/s eta 0:00:07\n",
      "   ----------------------------- ---------- 8.3/11.1 MB 443.5 kB/s eta 0:00:07\n",
      "   ----------------------------- ---------- 8.3/11.1 MB 443.5 kB/s eta 0:00:07\n",
      "   ----------------------------- ---------- 8.3/11.1 MB 443.5 kB/s eta 0:00:07\n",
      "   ----------------------------- ---------- 8.3/11.1 MB 443.5 kB/s eta 0:00:07\n",
      "   ----------------------------- ---------- 8.3/11.1 MB 443.5 kB/s eta 0:00:07\n",
      "   ----------------------------- ---------- 8.3/11.1 MB 443.5 kB/s eta 0:00:07\n",
      "   ----------------------------- ---------- 8.3/11.1 MB 443.5 kB/s eta 0:00:07\n",
      "   ----------------------------- ---------- 8.3/11.1 MB 443.5 kB/s eta 0:00:07\n",
      "   ----------------------------- ---------- 8.3/11.1 MB 443.5 kB/s eta 0:00:07\n",
      "   ----------------------------- ---------- 8.3/11.1 MB 443.5 kB/s eta 0:00:07\n",
      "   ----------------------------- ---------- 8.3/11.1 MB 443.5 kB/s eta 0:00:07\n",
      "   ----------------------------- ---------- 8.3/11.1 MB 443.5 kB/s eta 0:00:07\n",
      "   ----------------------------- ---------- 8.3/11.1 MB 443.5 kB/s eta 0:00:07\n",
      "   ----------------------------- ---------- 8.3/11.1 MB 443.5 kB/s eta 0:00:07\n",
      "   ----------------------------- ---------- 8.3/11.1 MB 443.5 kB/s eta 0:00:07\n",
      "   ----------------------------- ---------- 8.3/11.1 MB 443.5 kB/s eta 0:00:07\n",
      "   ----------------------------- ---------- 8.3/11.1 MB 443.5 kB/s eta 0:00:07\n",
      "   ----------------------------- ---------- 8.3/11.1 MB 443.5 kB/s eta 0:00:07\n",
      "   ----------------------------- ---------- 8.3/11.1 MB 443.5 kB/s eta 0:00:07\n",
      "   ----------------------------- ---------- 8.3/11.1 MB 443.5 kB/s eta 0:00:07\n",
      "   ----------------------------- ---------- 8.3/11.1 MB 443.5 kB/s eta 0:00:07\n",
      "   ----------------------------- ---------- 8.3/11.1 MB 443.5 kB/s eta 0:00:07\n",
      "   ----------------------------- ---------- 8.3/11.1 MB 443.5 kB/s eta 0:00:07\n",
      "   ----------------------------- ---------- 8.3/11.1 MB 443.5 kB/s eta 0:00:07\n",
      "   ----------------------------- ---------- 8.3/11.1 MB 443.5 kB/s eta 0:00:07\n",
      "   ------------------------------ --------- 8.5/11.1 MB 400.1 kB/s eta 0:00:07\n",
      "   ------------------------------ --------- 8.5/11.1 MB 400.1 kB/s eta 0:00:07\n",
      "   ------------------------------ --------- 8.5/11.1 MB 400.1 kB/s eta 0:00:07\n",
      "   ------------------------------- -------- 8.7/11.1 MB 406.6 kB/s eta 0:00:06\n",
      "   ------------------------------- -------- 8.7/11.1 MB 406.6 kB/s eta 0:00:06\n",
      "   ------------------------------- -------- 8.7/11.1 MB 406.6 kB/s eta 0:00:06\n",
      "   ------------------------------- -------- 8.7/11.1 MB 406.6 kB/s eta 0:00:06\n",
      "   --------------------------------- ------ 9.2/11.1 MB 424.1 kB/s eta 0:00:05\n",
      "   --------------------------------- ------ 9.4/11.1 MB 432.8 kB/s eta 0:00:05\n",
      "   --------------------------------- ------ 9.4/11.1 MB 432.8 kB/s eta 0:00:05\n",
      "   --------------------------------- ------ 9.4/11.1 MB 432.8 kB/s eta 0:00:05\n",
      "   ---------------------------------- ----- 9.6/11.1 MB 439.3 kB/s eta 0:00:04\n",
      "   ---------------------------------- ----- 9.6/11.1 MB 439.1 kB/s eta 0:00:04\n",
      "   ---------------------------------- ----- 9.6/11.1 MB 440.2 kB/s eta 0:00:04\n",
      "   ---------------------------------- ----- 9.7/11.1 MB 441.0 kB/s eta 0:00:04\n",
      "   ---------------------------------- ----- 9.7/11.1 MB 441.4 kB/s eta 0:00:04\n",
      "   ---------------------------------- ----- 9.7/11.1 MB 441.4 kB/s eta 0:00:04\n",
      "   ---------------------------------- ----- 9.7/11.1 MB 441.4 kB/s eta 0:00:04\n",
      "   ---------------------------------- ----- 9.7/11.1 MB 441.4 kB/s eta 0:00:04\n",
      "   ---------------------------------- ----- 9.7/11.1 MB 441.4 kB/s eta 0:00:04\n",
      "   ---------------------------------- ----- 9.7/11.1 MB 441.4 kB/s eta 0:00:04\n",
      "   ---------------------------------- ----- 9.7/11.1 MB 441.4 kB/s eta 0:00:04\n",
      "   ---------------------------------- ----- 9.7/11.1 MB 441.4 kB/s eta 0:00:04\n",
      "   ---------------------------------- ----- 9.7/11.1 MB 441.4 kB/s eta 0:00:04\n",
      "   ---------------------------------- ----- 9.7/11.1 MB 441.4 kB/s eta 0:00:04\n",
      "   ----------------------------------- ---- 9.8/11.1 MB 436.1 kB/s eta 0:00:03\n",
      "   ----------------------------------- ---- 10.0/11.1 MB 443.0 kB/s eta 0:00:03\n",
      "   ------------------------------------ --- 10.2/11.1 MB 450.1 kB/s eta 0:00:03\n",
      "   ------------------------------------ --- 10.2/11.1 MB 450.1 kB/s eta 0:00:03\n",
      "   ------------------------------------ --- 10.2/11.1 MB 450.1 kB/s eta 0:00:03\n",
      "   ------------------------------------ --- 10.2/11.1 MB 450.1 kB/s eta 0:00:03\n",
      "   ------------------------------------ --- 10.2/11.1 MB 450.1 kB/s eta 0:00:03\n",
      "   ------------------------------------- -- 10.4/11.1 MB 453.1 kB/s eta 0:00:02\n",
      "   ------------------------------------- -- 10.4/11.1 MB 453.1 kB/s eta 0:00:02\n",
      "   ------------------------------------- -- 10.4/11.1 MB 453.1 kB/s eta 0:00:02\n",
      "   ------------------------------------- -- 10.5/11.1 MB 456.2 kB/s eta 0:00:02\n",
      "   ------------------------------------- -- 10.5/11.1 MB 456.3 kB/s eta 0:00:02\n",
      "   ------------------------------------- -- 10.5/11.1 MB 456.3 kB/s eta 0:00:02\n",
      "   -------------------------------------- - 10.6/11.1 MB 458.5 kB/s eta 0:00:02\n",
      "   -------------------------------------- - 10.6/11.1 MB 458.2 kB/s eta 0:00:02\n",
      "   -------------------------------------- - 10.7/11.1 MB 457.2 kB/s eta 0:00:01\n",
      "   -------------------------------------- - 10.7/11.1 MB 456.9 kB/s eta 0:00:01\n",
      "   -------------------------------------- - 10.7/11.1 MB 456.9 kB/s eta 0:00:01\n",
      "   -------------------------------------- - 10.8/11.1 MB 462.0 kB/s eta 0:00:01\n",
      "   -------------------------------------- - 10.8/11.1 MB 462.0 kB/s eta 0:00:01\n",
      "   ---------------------------------------  10.8/11.1 MB 462.7 kB/s eta 0:00:01\n",
      "   ---------------------------------------  10.9/11.1 MB 462.4 kB/s eta 0:00:01\n",
      "   ---------------------------------------  10.9/11.1 MB 462.4 kB/s eta 0:00:01\n",
      "   ---------------------------------------  10.9/11.1 MB 462.4 kB/s eta 0:00:01\n",
      "   ---------------------------------------  10.9/11.1 MB 459.8 kB/s eta 0:00:01\n",
      "   ---------------------------------------  10.9/11.1 MB 464.0 kB/s eta 0:00:01\n",
      "   ---------------------------------------  11.0/11.1 MB 464.0 kB/s eta 0:00:01\n",
      "   ---------------------------------------  11.0/11.1 MB 465.0 kB/s eta 0:00:01\n",
      "   ---------------------------------------  11.0/11.1 MB 464.0 kB/s eta 0:00:01\n",
      "   ---------------------------------------  11.0/11.1 MB 465.3 kB/s eta 0:00:01\n",
      "   ---------------------------------------  11.1/11.1 MB 470.0 kB/s eta 0:00:01\n",
      "   ---------------------------------------  11.1/11.1 MB 470.0 kB/s eta 0:00:01\n",
      "   ---------------------------------------  11.1/11.1 MB 470.0 kB/s eta 0:00:01\n",
      "   ---------------------------------------  11.1/11.1 MB 470.0 kB/s eta 0:00:01\n",
      "   ---------------------------------------  11.1/11.1 MB 470.0 kB/s eta 0:00:01\n",
      "   ---------------------------------------  11.1/11.1 MB 470.0 kB/s eta 0:00:01\n",
      "   ---------------------------------------  11.1/11.1 MB 470.0 kB/s eta 0:00:01\n",
      "   ---------------------------------------  11.1/11.1 MB 470.0 kB/s eta 0:00:01\n",
      "   ---------------------------------------  11.1/11.1 MB 470.0 kB/s eta 0:00:01\n",
      "   ---------------------------------------  11.1/11.1 MB 470.0 kB/s eta 0:00:01\n",
      "   ---------------------------------------  11.1/11.1 MB 470.0 kB/s eta 0:00:01\n",
      "   ---------------------------------------  11.1/11.1 MB 470.0 kB/s eta 0:00:01\n",
      "   ---------------------------------------  11.1/11.1 MB 470.0 kB/s eta 0:00:01\n",
      "   ---------------------------------------  11.1/11.1 MB 470.0 kB/s eta 0:00:01\n",
      "   ---------------------------------------  11.1/11.1 MB 470.0 kB/s eta 0:00:01\n",
      "   ---------------------------------------  11.1/11.1 MB 470.0 kB/s eta 0:00:01\n",
      "   ---------------------------------------  11.1/11.1 MB 470.0 kB/s eta 0:00:01\n",
      "   ---------------------------------------  11.1/11.1 MB 470.0 kB/s eta 0:00:01\n",
      "   ---------------------------------------  11.1/11.1 MB 470.0 kB/s eta 0:00:01\n",
      "   ---------------------------------------  11.1/11.1 MB 470.0 kB/s eta 0:00:01\n",
      "   ---------------------------------------  11.1/11.1 MB 470.0 kB/s eta 0:00:01\n",
      "   ---------------------------------------  11.1/11.1 MB 470.0 kB/s eta 0:00:01\n",
      "   ---------------------------------------  11.1/11.1 MB 470.0 kB/s eta 0:00:01\n",
      "   ---------------------------------------  11.1/11.1 MB 470.0 kB/s eta 0:00:01\n",
      "   ---------------------------------------  11.1/11.1 MB 470.0 kB/s eta 0:00:01\n",
      "   ---------------------------------------  11.1/11.1 MB 470.0 kB/s eta 0:00:01\n",
      "   ---------------------------------------  11.1/11.1 MB 470.0 kB/s eta 0:00:01\n",
      "   ---------------------------------------  11.1/11.1 MB 470.0 kB/s eta 0:00:01\n",
      "   ---------------------------------------  11.1/11.1 MB 470.0 kB/s eta 0:00:01\n",
      "   ---------------------------------------  11.1/11.1 MB 470.0 kB/s eta 0:00:01\n",
      "   ---------------------------------------  11.1/11.1 MB 470.0 kB/s eta 0:00:01\n",
      "   ---------------------------------------  11.1/11.1 MB 470.0 kB/s eta 0:00:01\n",
      "   ---------------------------------------  11.1/11.1 MB 470.0 kB/s eta 0:00:01\n",
      "   ---------------------------------------  11.1/11.1 MB 470.0 kB/s eta 0:00:01\n",
      "   ---------------------------------------  11.1/11.1 MB 470.0 kB/s eta 0:00:01\n",
      "   ---------------------------------------  11.1/11.1 MB 470.0 kB/s eta 0:00:01\n",
      "   ---------------------------------------  11.1/11.1 MB 470.0 kB/s eta 0:00:01\n",
      "   ---------------------------------------  11.1/11.1 MB 470.0 kB/s eta 0:00:01\n",
      "   ---------------------------------------  11.1/11.1 MB 470.0 kB/s eta 0:00:01\n",
      "   ---------------------------------------  11.1/11.1 MB 470.0 kB/s eta 0:00:01\n",
      "   ---------------------------------------  11.1/11.1 MB 470.0 kB/s eta 0:00:01\n",
      "   ---------------------------------------  11.1/11.1 MB 470.0 kB/s eta 0:00:01\n",
      "   ---------------------------------------  11.1/11.1 MB 470.0 kB/s eta 0:00:01\n",
      "   ---------------------------------------  11.1/11.1 MB 470.0 kB/s eta 0:00:01\n",
      "   ---------------------------------------  11.1/11.1 MB 470.0 kB/s eta 0:00:01\n",
      "   ---------------------------------------  11.1/11.1 MB 470.0 kB/s eta 0:00:01\n",
      "   ---------------------------------------  11.1/11.1 MB 470.0 kB/s eta 0:00:01\n",
      "   ---------------------------------------  11.1/11.1 MB 470.0 kB/s eta 0:00:01\n",
      "   ---------------------------------------  11.1/11.1 MB 470.0 kB/s eta 0:00:01\n",
      "   ---------------------------------------  11.1/11.1 MB 470.0 kB/s eta 0:00:01\n",
      "   ---------------------------------------  11.1/11.1 MB 470.0 kB/s eta 0:00:01\n",
      "   ---------------------------------------  11.1/11.1 MB 470.0 kB/s eta 0:00:01\n",
      "   ---------------------------------------  11.1/11.1 MB 470.0 kB/s eta 0:00:01\n",
      "   ---------------------------------------  11.1/11.1 MB 470.0 kB/s eta 0:00:01\n",
      "   ---------------------------------------  11.1/11.1 MB 470.0 kB/s eta 0:00:01\n",
      "   ---------------------------------------  11.1/11.1 MB 470.0 kB/s eta 0:00:01\n",
      "   ---------------------------------------  11.1/11.1 MB 470.0 kB/s eta 0:00:01\n",
      "   ---------------------------------------  11.1/11.1 MB 470.0 kB/s eta 0:00:01\n",
      "   ---------------------------------------  11.1/11.1 MB 470.0 kB/s eta 0:00:01\n",
      "   ---------------------------------------  11.1/11.1 MB 470.0 kB/s eta 0:00:01\n",
      "   ---------------------------------------  11.1/11.1 MB 470.0 kB/s eta 0:00:01\n",
      "   ---------------------------------------  11.1/11.1 MB 470.0 kB/s eta 0:00:01\n",
      "   ---------------------------------------  11.1/11.1 MB 470.0 kB/s eta 0:00:01\n",
      "   ---------------------------------------  11.1/11.1 MB 470.0 kB/s eta 0:00:01\n",
      "   ---------------------------------------  11.1/11.1 MB 470.0 kB/s eta 0:00:01\n",
      "   ---------------------------------------  11.1/11.1 MB 470.0 kB/s eta 0:00:01\n",
      "   ---------------------------------------  11.1/11.1 MB 470.0 kB/s eta 0:00:01\n",
      "   ---------------------------------------  11.1/11.1 MB 470.0 kB/s eta 0:00:01\n",
      "   ---------------------------------------  11.1/11.1 MB 470.0 kB/s eta 0:00:01\n",
      "   ---------------------------------------  11.1/11.1 MB 470.0 kB/s eta 0:00:01\n",
      "   ---------------------------------------  11.1/11.1 MB 470.0 kB/s eta 0:00:01\n",
      "   ---------------------------------------  11.1/11.1 MB 470.0 kB/s eta 0:00:01\n",
      "   ---------------------------------------  11.1/11.1 MB 470.0 kB/s eta 0:00:01\n",
      "   ---------------------------------------- 11.1/11.1 MB 405.8 kB/s eta 0:00:00\n",
      "Downloading joblib-1.4.2-py3-none-any.whl (301 kB)\n",
      "   ---------------------------------------- 0.0/301.8 kB ? eta -:--:--\n",
      "   ----- ---------------------------------- 41.0/301.8 kB ? eta -:--:--\n",
      "   ---------- ----------------------------- 81.9/301.8 kB 1.1 MB/s eta 0:00:01\n",
      "   ----------------- ---------------------- 133.1/301.8 kB 1.1 MB/s eta 0:00:01\n",
      "   ------------------------ --------------- 184.3/301.8 kB 1.1 MB/s eta 0:00:01\n",
      "   ------------------------------- -------- 235.5/301.8 kB 1.1 MB/s eta 0:00:01\n",
      "   -------------------------------- ------- 245.8/301.8 kB 1.0 MB/s eta 0:00:01\n",
      "   --------------------------------- ---- 266.2/301.8 kB 911.0 kB/s eta 0:00:01\n",
      "   -------------------------------------  297.0/301.8 kB 916.0 kB/s eta 0:00:01\n",
      "   -------------------------------------  297.0/301.8 kB 916.0 kB/s eta 0:00:01\n",
      "   -------------------------------------  297.0/301.8 kB 916.0 kB/s eta 0:00:01\n",
      "   -------------------------------------  297.0/301.8 kB 916.0 kB/s eta 0:00:01\n",
      "   -------------------------------------  297.0/301.8 kB 916.0 kB/s eta 0:00:01\n",
      "   -------------------------------------- 301.8/301.8 kB 504.5 kB/s eta 0:00:00\n",
      "Downloading numpy-2.2.4-cp312-cp312-win_amd64.whl (12.6 MB)\n",
      "   ---------------------------------------- 0.0/12.6 MB ? eta -:--:--\n",
      "   ---------------------------------------- 0.0/12.6 MB ? eta -:--:--\n",
      "   ---------------------------------------- 0.1/12.6 MB 812.7 kB/s eta 0:00:16\n",
      "   ---------------------------------------- 0.1/12.6 MB 930.9 kB/s eta 0:00:14\n",
      "   ---------------------------------------- 0.2/12.6 MB 833.5 kB/s eta 0:00:15\n",
      "    --------------------------------------- 0.2/12.6 MB 958.4 kB/s eta 0:00:13\n",
      "    --------------------------------------- 0.3/12.6 MB 1.0 MB/s eta 0:00:13\n",
      "    --------------------------------------- 0.3/12.6 MB 999.9 kB/s eta 0:00:13\n",
      "   - -------------------------------------- 0.4/12.6 MB 1.0 MB/s eta 0:00:13\n",
      "   - -------------------------------------- 0.4/12.6 MB 995.2 kB/s eta 0:00:13\n",
      "   - -------------------------------------- 0.5/12.6 MB 1.0 MB/s eta 0:00:13\n",
      "   - -------------------------------------- 0.5/12.6 MB 983.0 kB/s eta 0:00:13\n",
      "   - -------------------------------------- 0.6/12.6 MB 1.0 MB/s eta 0:00:12\n",
      "   - -------------------------------------- 0.6/12.6 MB 1.0 MB/s eta 0:00:12\n",
      "   -- ------------------------------------- 0.6/12.6 MB 990.5 kB/s eta 0:00:13\n",
      "   -- ------------------------------------- 0.7/12.6 MB 999.0 kB/s eta 0:00:12\n",
      "   -- ------------------------------------- 0.7/12.6 MB 954.2 kB/s eta 0:00:13\n",
      "   -- ------------------------------------- 0.7/12.6 MB 944.0 kB/s eta 0:00:13\n",
      "   -- ------------------------------------- 0.8/12.6 MB 944.6 kB/s eta 0:00:13\n",
      "   -- ------------------------------------- 0.8/12.6 MB 901.1 kB/s eta 0:00:14\n",
      "   -- ------------------------------------- 0.9/12.6 MB 953.9 kB/s eta 0:00:13\n",
      "   -- ------------------------------------- 0.9/12.6 MB 967.1 kB/s eta 0:00:13\n",
      "   --- ------------------------------------ 1.0/12.6 MB 947.4 kB/s eta 0:00:13\n",
      "   --- ------------------------------------ 1.0/12.6 MB 958.5 kB/s eta 0:00:13\n",
      "   --- ------------------------------------ 1.1/12.6 MB 959.4 kB/s eta 0:00:13\n",
      "   --- ------------------------------------ 1.1/12.6 MB 969.3 kB/s eta 0:00:12\n",
      "   --- ------------------------------------ 1.1/12.6 MB 965.5 kB/s eta 0:00:12\n",
      "   --- ------------------------------------ 1.1/12.6 MB 965.5 kB/s eta 0:00:12\n",
      "   --- ------------------------------------ 1.2/12.6 MB 967.2 kB/s eta 0:00:12\n",
      "   ---- ----------------------------------- 1.3/12.6 MB 963.9 kB/s eta 0:00:12\n",
      "   ---- ----------------------------------- 1.3/12.6 MB 949.6 kB/s eta 0:00:12\n",
      "   ---- ----------------------------------- 1.4/12.6 MB 957.7 kB/s eta 0:00:12\n",
      "   ---- ----------------------------------- 1.4/12.6 MB 957.7 kB/s eta 0:00:12\n",
      "   ---- ----------------------------------- 1.5/12.6 MB 943.1 kB/s eta 0:00:12\n",
      "   ---- ----------------------------------- 1.5/12.6 MB 943.4 kB/s eta 0:00:12\n",
      "   ---- ----------------------------------- 1.5/12.6 MB 947.7 kB/s eta 0:00:12\n",
      "   ---- ----------------------------------- 1.6/12.6 MB 946.1 kB/s eta 0:00:12\n",
      "   ----- ---------------------------------- 1.6/12.6 MB 947.2 kB/s eta 0:00:12\n",
      "   ----- ---------------------------------- 1.7/12.6 MB 959.6 kB/s eta 0:00:12\n",
      "   ----- ---------------------------------- 1.7/12.6 MB 960.2 kB/s eta 0:00:12\n",
      "   ----- ---------------------------------- 1.7/12.6 MB 960.2 kB/s eta 0:00:12\n",
      "   ----- ---------------------------------- 1.8/12.6 MB 968.9 kB/s eta 0:00:12\n",
      "   ----- ---------------------------------- 1.9/12.6 MB 959.0 kB/s eta 0:00:12\n",
      "   ----- ---------------------------------- 1.9/12.6 MB 959.0 kB/s eta 0:00:12\n",
      "   ------ --------------------------------- 1.9/12.6 MB 930.5 kB/s eta 0:00:12\n",
      "   ------ --------------------------------- 1.9/12.6 MB 931.4 kB/s eta 0:00:12\n",
      "   ------ --------------------------------- 1.9/12.6 MB 931.4 kB/s eta 0:00:12\n",
      "   ------ --------------------------------- 1.9/12.6 MB 931.4 kB/s eta 0:00:12\n",
      "   ------ --------------------------------- 1.9/12.6 MB 931.4 kB/s eta 0:00:12\n",
      "   ------ --------------------------------- 1.9/12.6 MB 931.4 kB/s eta 0:00:12\n",
      "   ------ --------------------------------- 1.9/12.6 MB 931.4 kB/s eta 0:00:12\n",
      "   ------ --------------------------------- 2.0/12.6 MB 823.5 kB/s eta 0:00:13\n",
      "   ------ --------------------------------- 2.0/12.6 MB 823.5 kB/s eta 0:00:13\n",
      "   ------ --------------------------------- 2.0/12.6 MB 812.9 kB/s eta 0:00:14\n",
      "   ------ --------------------------------- 2.0/12.6 MB 805.1 kB/s eta 0:00:14\n",
      "   ------ --------------------------------- 2.1/12.6 MB 809.2 kB/s eta 0:00:14\n",
      "   ------ --------------------------------- 2.1/12.6 MB 797.4 kB/s eta 0:00:14\n",
      "   ------ --------------------------------- 2.1/12.6 MB 790.4 kB/s eta 0:00:14\n",
      "   ------ --------------------------------- 2.1/12.6 MB 788.6 kB/s eta 0:00:14\n",
      "   ------ --------------------------------- 2.1/12.6 MB 774.5 kB/s eta 0:00:14\n",
      "   ------ --------------------------------- 2.1/12.6 MB 774.5 kB/s eta 0:00:14\n",
      "   ------ --------------------------------- 2.1/12.6 MB 774.5 kB/s eta 0:00:14\n",
      "   ------ --------------------------------- 2.2/12.6 MB 748.0 kB/s eta 0:00:15\n",
      "   ------ --------------------------------- 2.2/12.6 MB 739.4 kB/s eta 0:00:15\n",
      "   ------ --------------------------------- 2.2/12.6 MB 739.4 kB/s eta 0:00:15\n",
      "   ------ --------------------------------- 2.2/12.6 MB 722.5 kB/s eta 0:00:15\n",
      "   ------- -------------------------------- 2.2/12.6 MB 718.6 kB/s eta 0:00:15\n",
      "   ------- -------------------------------- 2.3/12.6 MB 714.0 kB/s eta 0:00:15\n",
      "   ------- -------------------------------- 2.3/12.6 MB 713.4 kB/s eta 0:00:15\n",
      "   ------- -------------------------------- 2.3/12.6 MB 713.4 kB/s eta 0:00:15\n",
      "   ------- -------------------------------- 2.3/12.6 MB 705.9 kB/s eta 0:00:15\n",
      "   ------- -------------------------------- 2.3/12.6 MB 695.7 kB/s eta 0:00:15\n",
      "   ------- -------------------------------- 2.3/12.6 MB 688.8 kB/s eta 0:00:15\n",
      "   ------- -------------------------------- 2.3/12.6 MB 682.5 kB/s eta 0:00:16\n",
      "   ------- -------------------------------- 2.4/12.6 MB 676.0 kB/s eta 0:00:16\n",
      "   ------- -------------------------------- 2.4/12.6 MB 678.8 kB/s eta 0:00:16\n",
      "   ------- -------------------------------- 2.4/12.6 MB 678.4 kB/s eta 0:00:16\n",
      "   ------- -------------------------------- 2.4/12.6 MB 681.1 kB/s eta 0:00:15\n",
      "   ------- -------------------------------- 2.5/12.6 MB 675.0 kB/s eta 0:00:16\n",
      "   ------- -------------------------------- 2.5/12.6 MB 671.9 kB/s eta 0:00:16\n",
      "   ------- -------------------------------- 2.5/12.6 MB 666.2 kB/s eta 0:00:16\n",
      "   -------- ------------------------------- 2.5/12.6 MB 668.9 kB/s eta 0:00:16\n",
      "   -------- ------------------------------- 2.6/12.6 MB 668.8 kB/s eta 0:00:16\n",
      "   -------- ------------------------------- 2.6/12.6 MB 668.8 kB/s eta 0:00:16\n",
      "   -------- ------------------------------- 2.6/12.6 MB 663.1 kB/s eta 0:00:16\n",
      "   -------- ------------------------------- 2.7/12.6 MB 665.6 kB/s eta 0:00:16\n",
      "   -------- ------------------------------- 2.7/12.6 MB 668.2 kB/s eta 0:00:15\n",
      "   -------- ------------------------------- 2.7/12.6 MB 662.8 kB/s eta 0:00:15\n",
      "   -------- ------------------------------- 2.7/12.6 MB 662.9 kB/s eta 0:00:15\n",
      "   -------- ------------------------------- 2.7/12.6 MB 660.3 kB/s eta 0:00:16\n",
      "   -------- ------------------------------- 2.8/12.6 MB 660.3 kB/s eta 0:00:15\n",
      "   -------- ------------------------------- 2.8/12.6 MB 662.5 kB/s eta 0:00:15\n",
      "   --------- ------------------------------ 2.9/12.6 MB 664.9 kB/s eta 0:00:15\n",
      "   --------- ------------------------------ 2.9/12.6 MB 669.5 kB/s eta 0:00:15\n",
      "   --------- ------------------------------ 3.0/12.6 MB 674.0 kB/s eta 0:00:15\n",
      "   --------- ------------------------------ 3.0/12.6 MB 678.4 kB/s eta 0:00:15\n",
      "   --------- ------------------------------ 3.1/12.6 MB 680.5 kB/s eta 0:00:15\n",
      "   --------- ------------------------------ 3.1/12.6 MB 675.6 kB/s eta 0:00:15\n",
      "   --------- ------------------------------ 3.1/12.6 MB 677.7 kB/s eta 0:00:15\n",
      "   ---------- ----------------------------- 3.2/12.6 MB 683.8 kB/s eta 0:00:14\n",
      "   ---------- ----------------------------- 3.2/12.6 MB 683.7 kB/s eta 0:00:14\n",
      "   ---------- ----------------------------- 3.2/12.6 MB 676.8 kB/s eta 0:00:14\n",
      "   ---------- ----------------------------- 3.3/12.6 MB 674.4 kB/s eta 0:00:14\n",
      "   ---------- ----------------------------- 3.3/12.6 MB 668.0 kB/s eta 0:00:15\n",
      "   ---------- ----------------------------- 3.3/12.6 MB 665.7 kB/s eta 0:00:15\n",
      "   ---------- ----------------------------- 3.3/12.6 MB 665.7 kB/s eta 0:00:15\n",
      "   ---------- ----------------------------- 3.3/12.6 MB 659.4 kB/s eta 0:00:15\n",
      "   ---------- ----------------------------- 3.4/12.6 MB 661.4 kB/s eta 0:00:15\n",
      "   ---------- ----------------------------- 3.4/12.6 MB 661.3 kB/s eta 0:00:14\n",
      "   ---------- ----------------------------- 3.4/12.6 MB 657.4 kB/s eta 0:00:15\n",
      "   ---------- ----------------------------- 3.4/12.6 MB 657.3 kB/s eta 0:00:15\n",
      "   ---------- ----------------------------- 3.4/12.6 MB 653.3 kB/s eta 0:00:15\n",
      "   ---------- ----------------------------- 3.5/12.6 MB 647.6 kB/s eta 0:00:15\n",
      "   ---------- ----------------------------- 3.5/12.6 MB 647.6 kB/s eta 0:00:15\n",
      "   ----------- ---------------------------- 3.5/12.6 MB 642.1 kB/s eta 0:00:15\n",
      "   ----------- ---------------------------- 3.5/12.6 MB 640.4 kB/s eta 0:00:15\n",
      "   ----------- ---------------------------- 3.5/12.6 MB 640.4 kB/s eta 0:00:15\n",
      "   ----------- ---------------------------- 3.5/12.6 MB 634.9 kB/s eta 0:00:15\n",
      "   ----------- ---------------------------- 3.5/12.6 MB 633.2 kB/s eta 0:00:15\n",
      "   ----------- ---------------------------- 3.5/12.6 MB 633.2 kB/s eta 0:00:15\n",
      "   ----------- ---------------------------- 3.6/12.6 MB 624.7 kB/s eta 0:00:15\n",
      "   ----------- ---------------------------- 3.6/12.6 MB 624.9 kB/s eta 0:00:15\n",
      "   ----------- ---------------------------- 3.6/12.6 MB 624.9 kB/s eta 0:00:15\n",
      "   ----------- ---------------------------- 3.6/12.6 MB 621.8 kB/s eta 0:00:15\n",
      "   ----------- ---------------------------- 3.6/12.6 MB 617.1 kB/s eta 0:00:15\n",
      "   ----------- ---------------------------- 3.7/12.6 MB 619.1 kB/s eta 0:00:15\n",
      "   ----------- ---------------------------- 3.7/12.6 MB 622.7 kB/s eta 0:00:15\n",
      "   ----------- ---------------------------- 3.8/12.6 MB 626.4 kB/s eta 0:00:15\n",
      "   ------------ --------------------------- 3.8/12.6 MB 630.0 kB/s eta 0:00:14\n",
      "   ------------ --------------------------- 3.9/12.6 MB 633.5 kB/s eta 0:00:14\n",
      "   ------------ --------------------------- 3.9/12.6 MB 633.8 kB/s eta 0:00:14\n",
      "   ------------ --------------------------- 4.0/12.6 MB 637.2 kB/s eta 0:00:14\n",
      "   ------------ --------------------------- 4.0/12.6 MB 637.3 kB/s eta 0:00:14\n",
      "   ------------ --------------------------- 4.0/12.6 MB 637.3 kB/s eta 0:00:14\n",
      "   ------------ --------------------------- 4.0/12.6 MB 635.8 kB/s eta 0:00:14\n",
      "   ------------ --------------------------- 4.1/12.6 MB 634.5 kB/s eta 0:00:14\n",
      "   ------------ --------------------------- 4.1/12.6 MB 634.5 kB/s eta 0:00:14\n",
      "   ------------ --------------------------- 4.1/12.6 MB 630.0 kB/s eta 0:00:14\n",
      "   ------------- -------------------------- 4.1/12.6 MB 633.4 kB/s eta 0:00:14\n",
      "   ------------- -------------------------- 4.2/12.6 MB 631.9 kB/s eta 0:00:14\n",
      "   ------------- -------------------------- 4.2/12.6 MB 630.5 kB/s eta 0:00:14\n",
      "   ------------- -------------------------- 4.2/12.6 MB 627.7 kB/s eta 0:00:14\n",
      "   ------------- -------------------------- 4.2/12.6 MB 626.3 kB/s eta 0:00:14\n",
      "   ------------- -------------------------- 4.2/12.6 MB 622.0 kB/s eta 0:00:14\n",
      "   ------------- -------------------------- 4.2/12.6 MB 622.0 kB/s eta 0:00:14\n",
      "   ------------- -------------------------- 4.2/12.6 MB 617.9 kB/s eta 0:00:14\n",
      "   ------------- -------------------------- 4.2/12.6 MB 617.9 kB/s eta 0:00:14\n",
      "   ------------- -------------------------- 4.3/12.6 MB 614.0 kB/s eta 0:00:14\n",
      "   ------------- -------------------------- 4.3/12.6 MB 612.9 kB/s eta 0:00:14\n",
      "   ------------- -------------------------- 4.3/12.6 MB 614.5 kB/s eta 0:00:14\n",
      "   ------------- -------------------------- 4.3/12.6 MB 612.0 kB/s eta 0:00:14\n",
      "   ------------- -------------------------- 4.3/12.6 MB 612.0 kB/s eta 0:00:14\n",
      "   ------------- -------------------------- 4.4/12.6 MB 604.0 kB/s eta 0:00:14\n",
      "   ------------- -------------------------- 4.4/12.6 MB 605.6 kB/s eta 0:00:14\n",
      "   ------------- -------------------------- 4.4/12.6 MB 603.3 kB/s eta 0:00:14\n",
      "   -------------- ------------------------- 4.4/12.6 MB 605.1 kB/s eta 0:00:14\n",
      "   -------------- ------------------------- 4.5/12.6 MB 606.8 kB/s eta 0:00:14\n",
      "   -------------- ------------------------- 4.5/12.6 MB 608.4 kB/s eta 0:00:14\n",
      "   -------------- ------------------------- 4.6/12.6 MB 610.1 kB/s eta 0:00:14\n",
      "   -------------- ------------------------- 4.6/12.6 MB 610.4 kB/s eta 0:00:14\n",
      "   -------------- ------------------------- 4.6/12.6 MB 613.3 kB/s eta 0:00:14\n",
      "   -------------- ------------------------- 4.7/12.6 MB 613.7 kB/s eta 0:00:13\n",
      "   -------------- ------------------------- 4.7/12.6 MB 617.8 kB/s eta 0:00:13\n",
      "   -------------- ------------------------- 4.7/12.6 MB 616.6 kB/s eta 0:00:13\n",
      "   --------------- ------------------------ 4.8/12.6 MB 615.6 kB/s eta 0:00:13\n",
      "   --------------- ------------------------ 4.8/12.6 MB 615.8 kB/s eta 0:00:13\n",
      "   --------------- ------------------------ 4.9/12.6 MB 618.8 kB/s eta 0:00:13\n",
      "   --------------- ------------------------ 4.9/12.6 MB 620.3 kB/s eta 0:00:13\n",
      "   --------------- ------------------------ 5.0/12.6 MB 623.1 kB/s eta 0:00:13\n",
      "   --------------- ------------------------ 5.0/12.6 MB 625.8 kB/s eta 0:00:13\n",
      "   --------------- ------------------------ 5.0/12.6 MB 626.1 kB/s eta 0:00:13\n",
      "   ---------------- ----------------------- 5.1/12.6 MB 628.7 kB/s eta 0:00:13\n",
      "   ---------------- ----------------------- 5.1/12.6 MB 628.9 kB/s eta 0:00:12\n",
      "   ---------------- ----------------------- 5.2/12.6 MB 630.3 kB/s eta 0:00:12\n",
      "   ---------------- ----------------------- 5.2/12.6 MB 630.4 kB/s eta 0:00:12\n",
      "   ---------------- ----------------------- 5.2/12.6 MB 631.8 kB/s eta 0:00:12\n",
      "   ---------------- ----------------------- 5.3/12.6 MB 633.1 kB/s eta 0:00:12\n",
      "   ---------------- ----------------------- 5.3/12.6 MB 630.8 kB/s eta 0:00:12\n",
      "   ---------------- ----------------------- 5.3/12.6 MB 631.0 kB/s eta 0:00:12\n",
      "   ---------------- ----------------------- 5.4/12.6 MB 632.4 kB/s eta 0:00:12\n",
      "   ----------------- ---------------------- 5.4/12.6 MB 633.7 kB/s eta 0:00:12\n",
      "   ----------------- ---------------------- 5.4/12.6 MB 636.2 kB/s eta 0:00:12\n",
      "   ----------------- ---------------------- 5.5/12.6 MB 636.3 kB/s eta 0:00:12\n",
      "   ----------------- ---------------------- 5.5/12.6 MB 636.4 kB/s eta 0:00:12\n",
      "   ----------------- ---------------------- 5.5/12.6 MB 636.5 kB/s eta 0:00:12\n",
      "   ----------------- ---------------------- 5.6/12.6 MB 635.4 kB/s eta 0:00:12\n",
      "   ----------------- ---------------------- 5.6/12.6 MB 636.7 kB/s eta 0:00:12\n",
      "   ----------------- ---------------------- 5.6/12.6 MB 636.8 kB/s eta 0:00:12\n",
      "   ----------------- ---------------------- 5.6/12.6 MB 636.8 kB/s eta 0:00:11\n",
      "   ----------------- ---------------------- 5.7/12.6 MB 634.7 kB/s eta 0:00:12\n",
      "   ------------------ --------------------- 5.7/12.6 MB 634.8 kB/s eta 0:00:11\n",
      "   ------------------ --------------------- 5.7/12.6 MB 631.5 kB/s eta 0:00:11\n",
      "   ------------------ --------------------- 5.7/12.6 MB 631.6 kB/s eta 0:00:11\n",
      "   ------------------ --------------------- 5.8/12.6 MB 634.0 kB/s eta 0:00:11\n",
      "   ------------------ --------------------- 5.8/12.6 MB 635.2 kB/s eta 0:00:11\n",
      "   ------------------ --------------------- 5.9/12.6 MB 636.5 kB/s eta 0:00:11\n",
      "   ------------------ --------------------- 5.9/12.6 MB 637.6 kB/s eta 0:00:11\n",
      "   ------------------ --------------------- 5.9/12.6 MB 638.8 kB/s eta 0:00:11\n",
      "   ------------------ --------------------- 6.0/12.6 MB 638.9 kB/s eta 0:00:11\n",
      "   ------------------- -------------------- 6.0/12.6 MB 641.2 kB/s eta 0:00:11\n",
      "   ------------------- -------------------- 6.1/12.6 MB 642.3 kB/s eta 0:00:11\n",
      "   ------------------- -------------------- 6.1/12.6 MB 642.4 kB/s eta 0:00:11\n",
      "   ------------------- -------------------- 6.1/12.6 MB 643.6 kB/s eta 0:00:11\n",
      "   ------------------- -------------------- 6.2/12.6 MB 643.6 kB/s eta 0:00:11\n",
      "   ------------------- -------------------- 6.2/12.6 MB 644.7 kB/s eta 0:00:11\n",
      "   ------------------- -------------------- 6.2/12.6 MB 641.6 kB/s eta 0:00:11\n",
      "   ------------------- -------------------- 6.3/12.6 MB 642.7 kB/s eta 0:00:10\n",
      "   ------------------- -------------------- 6.3/12.6 MB 644.8 kB/s eta 0:00:10\n",
      "   -------------------- ------------------- 6.3/12.6 MB 645.9 kB/s eta 0:00:10\n",
      "   -------------------- ------------------- 6.4/12.6 MB 648.1 kB/s eta 0:00:10\n",
      "   -------------------- ------------------- 6.4/12.6 MB 647.1 kB/s eta 0:00:10\n",
      "   -------------------- ------------------- 6.5/12.6 MB 649.2 kB/s eta 0:00:10\n",
      "   -------------------- ------------------- 6.5/12.6 MB 650.2 kB/s eta 0:00:10\n",
      "   -------------------- ------------------- 6.5/12.6 MB 651.3 kB/s eta 0:00:10\n",
      "   -------------------- ------------------- 6.6/12.6 MB 653.3 kB/s eta 0:00:10\n",
      "   --------------------- ------------------ 6.6/12.6 MB 654.3 kB/s eta 0:00:10\n",
      "   --------------------- ------------------ 6.7/12.6 MB 654.3 kB/s eta 0:00:10\n",
      "   --------------------- ------------------ 6.7/12.6 MB 654.3 kB/s eta 0:00:10\n",
      "   --------------------- ------------------ 6.7/12.6 MB 652.4 kB/s eta 0:00:10\n",
      "   --------------------- ------------------ 6.8/12.6 MB 652.4 kB/s eta 0:00:10\n",
      "   --------------------- ------------------ 6.8/12.6 MB 654.4 kB/s eta 0:00:09\n",
      "   --------------------- ------------------ 6.9/12.6 MB 655.3 kB/s eta 0:00:09\n",
      "   --------------------- ------------------ 6.9/12.6 MB 656.3 kB/s eta 0:00:09\n",
      "   --------------------- ------------------ 6.9/12.6 MB 657.3 kB/s eta 0:00:09\n",
      "   ---------------------- ----------------- 7.0/12.6 MB 658.3 kB/s eta 0:00:09\n",
      "   ---------------------- ----------------- 7.0/12.6 MB 659.2 kB/s eta 0:00:09\n",
      "   ---------------------- ----------------- 7.1/12.6 MB 660.1 kB/s eta 0:00:09\n",
      "   ---------------------- ----------------- 7.1/12.6 MB 660.1 kB/s eta 0:00:09\n",
      "   ---------------------- ----------------- 7.1/12.6 MB 662.9 kB/s eta 0:00:09\n",
      "   ---------------------- ----------------- 7.2/12.6 MB 663.9 kB/s eta 0:00:09\n",
      "   ---------------------- ----------------- 7.2/12.6 MB 665.7 kB/s eta 0:00:09\n",
      "   ---------------------- ----------------- 7.3/12.6 MB 664.8 kB/s eta 0:00:09\n",
      "   ----------------------- ---------------- 7.3/12.6 MB 665.6 kB/s eta 0:00:09\n",
      "   ----------------------- ---------------- 7.3/12.6 MB 665.6 kB/s eta 0:00:08\n",
      "   ----------------------- ---------------- 7.4/12.6 MB 666.5 kB/s eta 0:00:08\n",
      "   ----------------------- ---------------- 7.4/12.6 MB 666.5 kB/s eta 0:00:08\n",
      "   ----------------------- ---------------- 7.4/12.6 MB 662.7 kB/s eta 0:00:08\n",
      "   ----------------------- ---------------- 7.4/12.6 MB 662.7 kB/s eta 0:00:08\n",
      "   ----------------------- ---------------- 7.4/12.6 MB 659.9 kB/s eta 0:00:08\n",
      "   ----------------------- ---------------- 7.4/12.6 MB 659.9 kB/s eta 0:00:08\n",
      "   ----------------------- ---------------- 7.4/12.6 MB 659.9 kB/s eta 0:00:08\n",
      "   ----------------------- ---------------- 7.4/12.6 MB 650.9 kB/s eta 0:00:09\n",
      "   ----------------------- ---------------- 7.5/12.6 MB 651.8 kB/s eta 0:00:08\n",
      "   ----------------------- ---------------- 7.5/12.6 MB 650.9 kB/s eta 0:00:08\n",
      "   ----------------------- ---------------- 7.5/12.6 MB 650.0 kB/s eta 0:00:08\n",
      "   ----------------------- ---------------- 7.5/12.6 MB 650.0 kB/s eta 0:00:08\n",
      "   ----------------------- ---------------- 7.5/12.6 MB 646.5 kB/s eta 0:00:08\n",
      "   ----------------------- ---------------- 7.5/12.6 MB 647.4 kB/s eta 0:00:08\n",
      "   ----------------------- ---------------- 7.6/12.6 MB 647.4 kB/s eta 0:00:08\n",
      "   ------------------------ --------------- 7.6/12.6 MB 647.5 kB/s eta 0:00:08\n",
      "   ------------------------ --------------- 7.6/12.6 MB 646.7 kB/s eta 0:00:08\n",
      "   ------------------------ --------------- 7.7/12.6 MB 648.4 kB/s eta 0:00:08\n",
      "   ------------------------ --------------- 7.7/12.6 MB 647.6 kB/s eta 0:00:08\n",
      "   ------------------------ --------------- 7.7/12.6 MB 648.5 kB/s eta 0:00:08\n",
      "   ------------------------ --------------- 7.8/12.6 MB 647.6 kB/s eta 0:00:08\n",
      "   ------------------------ --------------- 7.8/12.6 MB 647.6 kB/s eta 0:00:08\n",
      "   ------------------------ --------------- 7.8/12.6 MB 644.3 kB/s eta 0:00:08\n",
      "   ------------------------ --------------- 7.8/12.6 MB 644.4 kB/s eta 0:00:08\n",
      "   ------------------------ --------------- 7.8/12.6 MB 644.4 kB/s eta 0:00:08\n",
      "   ------------------------ --------------- 7.8/12.6 MB 641.9 kB/s eta 0:00:08\n",
      "   ------------------------ --------------- 7.9/12.6 MB 641.1 kB/s eta 0:00:08\n",
      "   ------------------------- -------------- 7.9/12.6 MB 642.9 kB/s eta 0:00:08\n",
      "   ------------------------- -------------- 8.0/12.6 MB 644.6 kB/s eta 0:00:08\n",
      "   ------------------------- -------------- 8.0/12.6 MB 644.6 kB/s eta 0:00:08\n",
      "   ------------------------- -------------- 8.0/12.6 MB 644.6 kB/s eta 0:00:08\n",
      "   ------------------------- -------------- 8.1/12.6 MB 643.9 kB/s eta 0:00:08\n",
      "   ------------------------- -------------- 8.1/12.6 MB 643.9 kB/s eta 0:00:08\n",
      "   ------------------------- -------------- 8.1/12.6 MB 643.9 kB/s eta 0:00:08\n",
      "   ------------------------- -------------- 8.1/12.6 MB 644.0 kB/s eta 0:00:07\n",
      "   ------------------------- -------------- 8.2/12.6 MB 644.8 kB/s eta 0:00:07\n",
      "   -------------------------- ------------- 8.2/12.6 MB 645.7 kB/s eta 0:00:07\n",
      "   -------------------------- ------------- 8.3/12.6 MB 645.7 kB/s eta 0:00:07\n",
      "   -------------------------- ------------- 8.3/12.6 MB 646.6 kB/s eta 0:00:07\n",
      "   -------------------------- ------------- 8.3/12.6 MB 645.8 kB/s eta 0:00:07\n",
      "   -------------------------- ------------- 8.4/12.6 MB 647.4 kB/s eta 0:00:07\n",
      "   -------------------------- ------------- 8.4/12.6 MB 647.5 kB/s eta 0:00:07\n",
      "   -------------------------- ------------- 8.4/12.6 MB 648.3 kB/s eta 0:00:07\n",
      "   -------------------------- ------------- 8.5/12.6 MB 649.1 kB/s eta 0:00:07\n",
      "   -------------------------- ------------- 8.5/12.6 MB 649.9 kB/s eta 0:00:07\n",
      "   --------------------------- ------------ 8.6/12.6 MB 651.5 kB/s eta 0:00:07\n",
      "   --------------------------- ------------ 8.6/12.6 MB 653.0 kB/s eta 0:00:07\n",
      "   --------------------------- ------------ 8.7/12.6 MB 655.3 kB/s eta 0:00:07\n",
      "   --------------------------- ------------ 8.7/12.6 MB 655.4 kB/s eta 0:00:06\n",
      "   --------------------------- ------------ 8.8/12.6 MB 656.9 kB/s eta 0:00:06\n",
      "   --------------------------- ------------ 8.8/12.6 MB 659.2 kB/s eta 0:00:06\n",
      "   ---------------------------- ----------- 8.9/12.6 MB 659.9 kB/s eta 0:00:06\n",
      "   ---------------------------- ----------- 8.9/12.6 MB 659.9 kB/s eta 0:00:06\n",
      "   ---------------------------- ----------- 8.9/12.6 MB 659.9 kB/s eta 0:00:06\n",
      "   ---------------------------- ----------- 9.0/12.6 MB 659.9 kB/s eta 0:00:06\n",
      "   ---------------------------- ----------- 9.0/12.6 MB 661.3 kB/s eta 0:00:06\n",
      "   ---------------------------- ----------- 9.1/12.6 MB 661.3 kB/s eta 0:00:06\n",
      "   ---------------------------- ----------- 9.1/12.6 MB 662.8 kB/s eta 0:00:06\n",
      "   ---------------------------- ----------- 9.1/12.6 MB 663.6 kB/s eta 0:00:06\n",
      "   ----------------------------- ---------- 9.2/12.6 MB 664.2 kB/s eta 0:00:06\n",
      "   ----------------------------- ---------- 9.2/12.6 MB 664.2 kB/s eta 0:00:06\n",
      "   ----------------------------- ---------- 9.3/12.6 MB 664.9 kB/s eta 0:00:06\n",
      "   ----------------------------- ---------- 9.3/12.6 MB 665.6 kB/s eta 0:00:06\n",
      "   ----------------------------- ---------- 9.3/12.6 MB 667.0 kB/s eta 0:00:05\n",
      "   ----------------------------- ---------- 9.4/12.6 MB 668.5 kB/s eta 0:00:05\n",
      "   ----------------------------- ---------- 9.4/12.6 MB 669.2 kB/s eta 0:00:05\n",
      "   ----------------------------- ---------- 9.5/12.6 MB 667.7 kB/s eta 0:00:05\n",
      "   ----------------------------- ---------- 9.5/12.6 MB 666.9 kB/s eta 0:00:05\n",
      "   ----------------------------- ---------- 9.5/12.6 MB 666.9 kB/s eta 0:00:05\n",
      "   ------------------------------ --------- 9.5/12.6 MB 664.7 kB/s eta 0:00:05\n",
      "   ------------------------------ --------- 9.5/12.6 MB 663.9 kB/s eta 0:00:05\n",
      "   ------------------------------ --------- 9.5/12.6 MB 663.9 kB/s eta 0:00:05\n",
      "   ------------------------------ --------- 9.5/12.6 MB 663.9 kB/s eta 0:00:05\n",
      "   ------------------------------ --------- 9.5/12.6 MB 659.6 kB/s eta 0:00:05\n",
      "   ------------------------------ --------- 9.5/12.6 MB 659.6 kB/s eta 0:00:05\n",
      "   ------------------------------ --------- 9.5/12.6 MB 655.4 kB/s eta 0:00:05\n",
      "   ------------------------------ --------- 9.5/12.6 MB 655.4 kB/s eta 0:00:05\n",
      "   ------------------------------ --------- 9.5/12.6 MB 655.4 kB/s eta 0:00:05\n",
      "   ------------------------------ --------- 9.5/12.6 MB 655.4 kB/s eta 0:00:05\n",
      "   ------------------------------ --------- 9.5/12.6 MB 655.4 kB/s eta 0:00:05\n",
      "   ------------------------------ --------- 9.5/12.6 MB 655.4 kB/s eta 0:00:05\n",
      "   ------------------------------ --------- 9.5/12.6 MB 655.4 kB/s eta 0:00:05\n",
      "   ------------------------------ --------- 9.6/12.6 MB 643.7 kB/s eta 0:00:05\n",
      "   ------------------------------ --------- 9.6/12.6 MB 643.7 kB/s eta 0:00:05\n",
      "   ------------------------------ --------- 9.7/12.6 MB 645.1 kB/s eta 0:00:05\n",
      "   ------------------------------ --------- 9.7/12.6 MB 645.1 kB/s eta 0:00:05\n",
      "   ------------------------------ --------- 9.7/12.6 MB 645.1 kB/s eta 0:00:05\n",
      "   ------------------------------ --------- 9.8/12.6 MB 645.2 kB/s eta 0:00:05\n",
      "   ------------------------------ --------- 9.8/12.6 MB 644.6 kB/s eta 0:00:05\n",
      "   ------------------------------- -------- 9.8/12.6 MB 645.3 kB/s eta 0:00:05\n",
      "   ------------------------------- -------- 9.8/12.6 MB 645.3 kB/s eta 0:00:05\n",
      "   ------------------------------- -------- 9.9/12.6 MB 643.3 kB/s eta 0:00:05\n",
      "   ------------------------------- -------- 9.9/12.6 MB 642.7 kB/s eta 0:00:05\n",
      "   ------------------------------- -------- 9.9/12.6 MB 642.7 kB/s eta 0:00:05\n",
      "   ------------------------------- -------- 9.9/12.6 MB 640.1 kB/s eta 0:00:05\n",
      "   ------------------------------- -------- 9.9/12.6 MB 640.1 kB/s eta 0:00:05\n",
      "   ------------------------------- -------- 9.9/12.6 MB 640.1 kB/s eta 0:00:05\n",
      "   ------------------------------- -------- 9.9/12.6 MB 637.0 kB/s eta 0:00:05\n",
      "   ------------------------------- -------- 10.0/12.6 MB 637.7 kB/s eta 0:00:05\n",
      "   ------------------------------- -------- 10.0/12.6 MB 637.7 kB/s eta 0:00:05\n",
      "   ------------------------------- -------- 10.0/12.6 MB 637.7 kB/s eta 0:00:05\n",
      "   ------------------------------- -------- 10.0/12.6 MB 637.7 kB/s eta 0:00:05\n",
      "   ------------------------------- -------- 10.0/12.6 MB 637.7 kB/s eta 0:00:05\n",
      "   ------------------------------- -------- 10.0/12.6 MB 630.8 kB/s eta 0:00:05\n",
      "   ------------------------------- -------- 10.1/12.6 MB 631.6 kB/s eta 0:00:05\n",
      "   ------------------------------- -------- 10.1/12.6 MB 631.6 kB/s eta 0:00:05\n",
      "   ------------------------------- -------- 10.1/12.6 MB 631.6 kB/s eta 0:00:05\n",
      "   ------------------------------- -------- 10.1/12.6 MB 628.0 kB/s eta 0:00:05\n",
      "   ------------------------------- -------- 10.1/12.6 MB 628.0 kB/s eta 0:00:05\n",
      "   ------------------------------- -------- 10.1/12.6 MB 628.0 kB/s eta 0:00:05\n",
      "   -------------------------------- ------- 10.1/12.6 MB 623.1 kB/s eta 0:00:05\n",
      "   -------------------------------- ------- 10.2/12.6 MB 623.9 kB/s eta 0:00:04\n",
      "   -------------------------------- ------- 10.2/12.6 MB 624.6 kB/s eta 0:00:04\n",
      "   -------------------------------- ------- 10.2/12.6 MB 625.3 kB/s eta 0:00:04\n",
      "   -------------------------------- ------- 10.3/12.6 MB 623.5 kB/s eta 0:00:04\n",
      "   -------------------------------- ------- 10.3/12.6 MB 625.9 kB/s eta 0:00:04\n",
      "   -------------------------------- ------- 10.4/12.6 MB 624.7 kB/s eta 0:00:04\n",
      "   -------------------------------- ------- 10.4/12.6 MB 624.7 kB/s eta 0:00:04\n",
      "   --------------------------------- ------ 10.4/12.6 MB 624.7 kB/s eta 0:00:04\n",
      "   --------------------------------- ------ 10.5/12.6 MB 624.1 kB/s eta 0:00:04\n",
      "   --------------------------------- ------ 10.5/12.6 MB 624.1 kB/s eta 0:00:04\n",
      "   --------------------------------- ------ 10.5/12.6 MB 621.8 kB/s eta 0:00:04\n",
      "   --------------------------------- ------ 10.5/12.6 MB 621.2 kB/s eta 0:00:04\n",
      "   --------------------------------- ------ 10.6/12.6 MB 621.2 kB/s eta 0:00:04\n",
      "   --------------------------------- ------ 10.6/12.6 MB 620.6 kB/s eta 0:00:04\n",
      "   --------------------------------- ------ 10.7/12.6 MB 620.6 kB/s eta 0:00:04\n",
      "   --------------------------------- ------ 10.7/12.6 MB 620.6 kB/s eta 0:00:04\n",
      "   --------------------------------- ------ 10.7/12.6 MB 620.0 kB/s eta 0:00:04\n",
      "   ---------------------------------- ----- 10.8/12.6 MB 619.4 kB/s eta 0:00:04\n",
      "   ---------------------------------- ----- 10.8/12.6 MB 619.4 kB/s eta 0:00:03\n",
      "   ---------------------------------- ----- 10.8/12.6 MB 619.4 kB/s eta 0:00:03\n",
      "   ---------------------------------- ----- 10.9/12.6 MB 617.6 kB/s eta 0:00:03\n",
      "   ---------------------------------- ----- 10.9/12.6 MB 617.0 kB/s eta 0:00:03\n",
      "   ---------------------------------- ----- 10.9/12.6 MB 617.7 kB/s eta 0:00:03\n",
      "   ---------------------------------- ----- 10.9/12.6 MB 615.9 kB/s eta 0:00:03\n",
      "   ---------------------------------- ----- 11.0/12.6 MB 616.5 kB/s eta 0:00:03\n",
      "   ---------------------------------- ----- 11.0/12.6 MB 615.9 kB/s eta 0:00:03\n",
      "   ---------------------------------- ----- 11.0/12.6 MB 616.5 kB/s eta 0:00:03\n",
      "   ----------------------------------- ---- 11.1/12.6 MB 614.8 kB/s eta 0:00:03\n",
      "   ----------------------------------- ---- 11.1/12.6 MB 615.3 kB/s eta 0:00:03\n",
      "   ----------------------------------- ---- 11.2/12.6 MB 614.2 kB/s eta 0:00:03\n",
      "   ----------------------------------- ---- 11.2/12.6 MB 614.2 kB/s eta 0:00:03\n",
      "   ----------------------------------- ---- 11.3/12.6 MB 613.6 kB/s eta 0:00:03\n",
      "   ----------------------------------- ---- 11.3/12.6 MB 613.0 kB/s eta 0:00:03\n",
      "   ----------------------------------- ---- 11.3/12.6 MB 613.0 kB/s eta 0:00:03\n",
      "   ----------------------------------- ---- 11.3/12.6 MB 612.5 kB/s eta 0:00:03\n",
      "   ------------------------------------ --- 11.4/12.6 MB 614.2 kB/s eta 0:00:02\n",
      "   ------------------------------------ --- 11.4/12.6 MB 614.2 kB/s eta 0:00:02\n",
      "   ------------------------------------ --- 11.5/12.6 MB 610.7 kB/s eta 0:00:02\n",
      "   ------------------------------------ --- 11.5/12.6 MB 610.7 kB/s eta 0:00:02\n",
      "   ------------------------------------ --- 11.5/12.6 MB 610.7 kB/s eta 0:00:02\n",
      "   ------------------------------------ --- 11.5/12.6 MB 607.9 kB/s eta 0:00:02\n",
      "   ------------------------------------ --- 11.5/12.6 MB 607.3 kB/s eta 0:00:02\n",
      "   ------------------------------------ --- 11.6/12.6 MB 606.7 kB/s eta 0:00:02\n",
      "   ------------------------------------ --- 11.6/12.6 MB 605.1 kB/s eta 0:00:02\n",
      "   ------------------------------------ --- 11.6/12.6 MB 605.1 kB/s eta 0:00:02\n",
      "   ------------------------------------ --- 11.6/12.6 MB 603.4 kB/s eta 0:00:02\n",
      "   ------------------------------------ --- 11.6/12.6 MB 602.3 kB/s eta 0:00:02\n",
      "   ------------------------------------ --- 11.6/12.6 MB 601.8 kB/s eta 0:00:02\n",
      "   ------------------------------------ --- 11.6/12.6 MB 600.1 kB/s eta 0:00:02\n",
      "   ------------------------------------ --- 11.6/12.6 MB 600.1 kB/s eta 0:00:02\n",
      "   ------------------------------------ --- 11.7/12.6 MB 598.4 kB/s eta 0:00:02\n",
      "   ------------------------------------ --- 11.7/12.6 MB 596.8 kB/s eta 0:00:02\n",
      "   ------------------------------------ --- 11.7/12.6 MB 596.8 kB/s eta 0:00:02\n",
      "   ------------------------------------- -- 11.7/12.6 MB 595.2 kB/s eta 0:00:02\n",
      "   ------------------------------------- -- 11.8/12.6 MB 595.2 kB/s eta 0:00:02\n",
      "   ------------------------------------- -- 11.8/12.6 MB 595.2 kB/s eta 0:00:02\n",
      "   ------------------------------------- -- 11.8/12.6 MB 595.2 kB/s eta 0:00:02\n",
      "   ------------------------------------- -- 11.8/12.6 MB 595.2 kB/s eta 0:00:02\n",
      "   ------------------------------------- -- 11.8/12.6 MB 589.8 kB/s eta 0:00:02\n",
      "   ------------------------------------- -- 11.8/12.6 MB 589.8 kB/s eta 0:00:02\n",
      "   ------------------------------------- -- 11.8/12.6 MB 589.8 kB/s eta 0:00:02\n",
      "   ------------------------------------- -- 11.8/12.6 MB 589.8 kB/s eta 0:00:02\n",
      "   ------------------------------------- -- 11.8/12.6 MB 589.8 kB/s eta 0:00:02\n",
      "   ------------------------------------- -- 11.8/12.6 MB 589.8 kB/s eta 0:00:02\n",
      "   ------------------------------------- -- 11.8/12.6 MB 589.8 kB/s eta 0:00:02\n",
      "   ------------------------------------- -- 11.8/12.6 MB 589.8 kB/s eta 0:00:02\n",
      "   ------------------------------------- -- 11.8/12.6 MB 589.8 kB/s eta 0:00:02\n",
      "   ------------------------------------- -- 11.8/12.6 MB 589.8 kB/s eta 0:00:02\n",
      "   ------------------------------------- -- 11.8/12.6 MB 589.8 kB/s eta 0:00:02\n",
      "   ------------------------------------- -- 11.8/12.6 MB 589.8 kB/s eta 0:00:02\n",
      "   ------------------------------------- -- 11.8/12.6 MB 571.3 kB/s eta 0:00:02\n",
      "   ------------------------------------- -- 11.8/12.6 MB 571.3 kB/s eta 0:00:02\n",
      "   ------------------------------------- -- 11.8/12.6 MB 571.3 kB/s eta 0:00:02\n",
      "   ------------------------------------- -- 11.8/12.6 MB 571.3 kB/s eta 0:00:02\n",
      "   ------------------------------------- -- 11.9/12.6 MB 566.3 kB/s eta 0:00:02\n",
      "   ------------------------------------- -- 11.9/12.6 MB 565.9 kB/s eta 0:00:02\n",
      "   ------------------------------------- -- 11.9/12.6 MB 565.4 kB/s eta 0:00:02\n",
      "   ------------------------------------- -- 11.9/12.6 MB 563.4 kB/s eta 0:00:02\n",
      "   ------------------------------------- -- 12.0/12.6 MB 565.4 kB/s eta 0:00:02\n",
      "   ------------------------------------- -- 12.0/12.6 MB 565.4 kB/s eta 0:00:02\n",
      "   ------------------------------------- -- 12.0/12.6 MB 563.0 kB/s eta 0:00:02\n",
      "   ------------------------------------- -- 12.0/12.6 MB 561.5 kB/s eta 0:00:02\n",
      "   -------------------------------------- - 12.0/12.6 MB 560.1 kB/s eta 0:00:02\n",
      "   -------------------------------------- - 12.0/12.6 MB 560.1 kB/s eta 0:00:02\n",
      "   -------------------------------------- - 12.1/12.6 MB 558.6 kB/s eta 0:00:02\n",
      "   -------------------------------------- - 12.1/12.6 MB 560.5 kB/s eta 0:00:01\n",
      "   -------------------------------------- - 12.1/12.6 MB 560.0 kB/s eta 0:00:01\n",
      "   -------------------------------------- - 12.1/12.6 MB 560.0 kB/s eta 0:00:01\n",
      "   -------------------------------------- - 12.1/12.6 MB 560.0 kB/s eta 0:00:01\n",
      "   -------------------------------------- - 12.1/12.6 MB 560.0 kB/s eta 0:00:01\n",
      "   -------------------------------------- - 12.3/12.6 MB 568.8 kB/s eta 0:00:01\n",
      "   -------------------------------------- - 12.3/12.6 MB 570.8 kB/s eta 0:00:01\n",
      "   -------------------------------------- - 12.3/12.6 MB 570.8 kB/s eta 0:00:01\n",
      "   ---------------------------------------  12.3/12.6 MB 568.8 kB/s eta 0:00:01\n",
      "   ---------------------------------------  12.4/12.6 MB 575.3 kB/s eta 0:00:01\n",
      "   ---------------------------------------  12.5/12.6 MB 578.3 kB/s eta 0:00:01\n",
      "   ---------------------------------------  12.5/12.6 MB 579.4 kB/s eta 0:00:01\n",
      "   ---------------------------------------  12.5/12.6 MB 580.9 kB/s eta 0:00:01\n",
      "   ---------------------------------------  12.5/12.6 MB 583.5 kB/s eta 0:00:01\n",
      "   ---------------------------------------  12.5/12.6 MB 583.5 kB/s eta 0:00:01\n",
      "   ---------------------------------------  12.6/12.6 MB 584.0 kB/s eta 0:00:01\n",
      "   ---------------------------------------  12.6/12.6 MB 583.5 kB/s eta 0:00:01\n",
      "   ---------------------------------------  12.6/12.6 MB 583.0 kB/s eta 0:00:01\n",
      "   ---------------------------------------  12.6/12.6 MB 583.0 kB/s eta 0:00:01\n",
      "   ---------------------------------------  12.6/12.6 MB 583.0 kB/s eta 0:00:01\n",
      "   ---------------------------------------  12.6/12.6 MB 583.0 kB/s eta 0:00:01\n",
      "   ---------------------------------------  12.6/12.6 MB 583.0 kB/s eta 0:00:01\n",
      "   ---------------------------------------  12.6/12.6 MB 583.0 kB/s eta 0:00:01\n",
      "   ---------------------------------------  12.6/12.6 MB 583.0 kB/s eta 0:00:01\n",
      "   ---------------------------------------  12.6/12.6 MB 583.0 kB/s eta 0:00:01\n",
      "   ---------------------------------------  12.6/12.6 MB 583.0 kB/s eta 0:00:01\n",
      "   ---------------------------------------  12.6/12.6 MB 583.0 kB/s eta 0:00:01\n",
      "   ---------------------------------------  12.6/12.6 MB 583.0 kB/s eta 0:00:01\n",
      "   ---------------------------------------  12.6/12.6 MB 583.0 kB/s eta 0:00:01\n",
      "   ---------------------------------------  12.6/12.6 MB 583.0 kB/s eta 0:00:01\n",
      "   ---------------------------------------  12.6/12.6 MB 583.0 kB/s eta 0:00:01\n",
      "   ---------------------------------------  12.6/12.6 MB 583.0 kB/s eta 0:00:01\n",
      "   ---------------------------------------  12.6/12.6 MB 583.0 kB/s eta 0:00:01\n",
      "   ---------------------------------------  12.6/12.6 MB 583.0 kB/s eta 0:00:01\n",
      "   ---------------------------------------  12.6/12.6 MB 583.0 kB/s eta 0:00:01\n",
      "   ---------------------------------------  12.6/12.6 MB 583.0 kB/s eta 0:00:01\n",
      "   ---------------------------------------  12.6/12.6 MB 583.0 kB/s eta 0:00:01\n",
      "   ---------------------------------------  12.6/12.6 MB 583.0 kB/s eta 0:00:01\n",
      "   ---------------------------------------  12.6/12.6 MB 583.0 kB/s eta 0:00:01\n",
      "   ---------------------------------------  12.6/12.6 MB 583.0 kB/s eta 0:00:01\n",
      "   ---------------------------------------  12.6/12.6 MB 583.0 kB/s eta 0:00:01\n",
      "   ---------------------------------------  12.6/12.6 MB 583.0 kB/s eta 0:00:01\n",
      "   ---------------------------------------  12.6/12.6 MB 583.0 kB/s eta 0:00:01\n",
      "   ---------------------------------------  12.6/12.6 MB 583.0 kB/s eta 0:00:01\n",
      "   ---------------------------------------  12.6/12.6 MB 583.0 kB/s eta 0:00:01\n",
      "   ---------------------------------------  12.6/12.6 MB 583.0 kB/s eta 0:00:01\n",
      "   ---------------------------------------  12.6/12.6 MB 583.0 kB/s eta 0:00:01\n",
      "   ---------------------------------------  12.6/12.6 MB 583.0 kB/s eta 0:00:01\n",
      "   ---------------------------------------  12.6/12.6 MB 583.0 kB/s eta 0:00:01\n",
      "   ---------------------------------------  12.6/12.6 MB 583.0 kB/s eta 0:00:01\n",
      "   ---------------------------------------  12.6/12.6 MB 583.0 kB/s eta 0:00:01\n",
      "   ---------------------------------------  12.6/12.6 MB 583.0 kB/s eta 0:00:01\n",
      "   ---------------------------------------  12.6/12.6 MB 583.0 kB/s eta 0:00:01\n",
      "   ---------------------------------------  12.6/12.6 MB 583.0 kB/s eta 0:00:01\n",
      "   ---------------------------------------  12.6/12.6 MB 583.0 kB/s eta 0:00:01\n",
      "   ---------------------------------------  12.6/12.6 MB 583.0 kB/s eta 0:00:01\n",
      "   ---------------------------------------  12.6/12.6 MB 583.0 kB/s eta 0:00:01\n",
      "   ---------------------------------------  12.6/12.6 MB 583.0 kB/s eta 0:00:01\n",
      "   ---------------------------------------  12.6/12.6 MB 583.0 kB/s eta 0:00:01\n",
      "   ---------------------------------------- 12.6/12.6 MB 524.1 kB/s eta 0:00:00\n",
      "Downloading scipy-1.15.2-cp312-cp312-win_amd64.whl (40.9 MB)\n",
      "   ---------------------------------------- 0.0/40.9 MB ? eta -:--:--\n",
      "   ---------------------------------------- 0.0/40.9 MB 660.6 kB/s eta 0:01:02\n",
      "   ---------------------------------------- 0.1/40.9 MB 762.6 kB/s eta 0:00:54\n",
      "   ---------------------------------------- 0.1/40.9 MB 819.2 kB/s eta 0:00:50\n",
      "   ---------------------------------------- 0.1/40.9 MB 853.3 kB/s eta 0:00:48\n",
      "   ---------------------------------------- 0.2/40.9 MB 794.9 kB/s eta 0:00:52\n",
      "   ---------------------------------------- 0.2/40.9 MB 846.9 kB/s eta 0:00:49\n",
      "   ---------------------------------------- 0.3/40.9 MB 820.5 kB/s eta 0:00:50\n",
      "   ---------------------------------------- 0.3/40.9 MB 855.7 kB/s eta 0:00:48\n",
      "   ---------------------------------------- 0.3/40.9 MB 832.3 kB/s eta 0:00:49\n",
      "   ---------------------------------------- 0.4/40.9 MB 867.0 kB/s eta 0:00:47\n",
      "   ---------------------------------------- 0.4/40.9 MB 778.2 kB/s eta 0:00:53\n",
      "   ---------------------------------------- 0.4/40.9 MB 778.2 kB/s eta 0:00:53\n",
      "   ---------------------------------------- 0.4/40.9 MB 778.2 kB/s eta 0:00:53\n",
      "   ---------------------------------------- 0.4/40.9 MB 778.2 kB/s eta 0:00:53\n",
      "   ---------------------------------------- 0.4/40.9 MB 778.2 kB/s eta 0:00:53\n",
      "   ---------------------------------------- 0.4/40.9 MB 778.2 kB/s eta 0:00:53\n",
      "   ---------------------------------------- 0.4/40.9 MB 778.2 kB/s eta 0:00:53\n",
      "   ---------------------------------------- 0.4/40.9 MB 778.2 kB/s eta 0:00:53\n",
      "   ---------------------------------------- 0.4/40.9 MB 778.2 kB/s eta 0:00:53\n",
      "   ---------------------------------------- 0.4/40.9 MB 778.2 kB/s eta 0:00:53\n",
      "   ---------------------------------------- 0.4/40.9 MB 778.2 kB/s eta 0:00:53\n",
      "   ---------------------------------------- 0.4/40.9 MB 778.2 kB/s eta 0:00:53\n",
      "   ---------------------------------------- 0.4/40.9 MB 778.2 kB/s eta 0:00:53\n",
      "   ---------------------------------------- 0.4/40.9 MB 369.3 kB/s eta 0:01:50\n",
      "   ---------------------------------------- 0.5/40.9 MB 375.7 kB/s eta 0:01:48\n",
      "   ---------------------------------------- 0.5/40.9 MB 383.0 kB/s eta 0:01:46\n",
      "   ---------------------------------------- 0.5/40.9 MB 388.2 kB/s eta 0:01:45\n",
      "    --------------------------------------- 0.5/40.9 MB 398.0 kB/s eta 0:01:42\n",
      "    --------------------------------------- 0.5/40.9 MB 398.0 kB/s eta 0:01:42\n",
      "    --------------------------------------- 0.6/40.9 MB 390.2 kB/s eta 0:01:44\n",
      "    --------------------------------------- 0.6/40.9 MB 376.4 kB/s eta 0:01:48\n",
      "    --------------------------------------- 0.6/40.9 MB 376.4 kB/s eta 0:01:48\n",
      "    --------------------------------------- 0.6/40.9 MB 370.7 kB/s eta 0:01:49\n",
      "    --------------------------------------- 0.6/40.9 MB 370.7 kB/s eta 0:01:49\n",
      "    --------------------------------------- 0.6/40.9 MB 370.7 kB/s eta 0:01:49\n",
      "    --------------------------------------- 0.6/40.9 MB 358.1 kB/s eta 0:01:53\n",
      "    --------------------------------------- 0.6/40.9 MB 363.4 kB/s eta 0:01:51\n",
      "    --------------------------------------- 0.6/40.9 MB 363.4 kB/s eta 0:01:51\n",
      "    --------------------------------------- 0.6/40.9 MB 363.4 kB/s eta 0:01:51\n",
      "    --------------------------------------- 0.7/40.9 MB 346.6 kB/s eta 0:01:57\n",
      "    --------------------------------------- 0.7/40.9 MB 346.6 kB/s eta 0:01:57\n",
      "    --------------------------------------- 0.7/40.9 MB 340.8 kB/s eta 0:01:59\n",
      "    --------------------------------------- 0.7/40.9 MB 340.3 kB/s eta 0:01:59\n",
      "    --------------------------------------- 0.7/40.9 MB 340.3 kB/s eta 0:01:59\n",
      "    --------------------------------------- 0.7/40.9 MB 337.4 kB/s eta 0:02:00\n",
      "    --------------------------------------- 0.7/40.9 MB 337.4 kB/s eta 0:02:00\n",
      "    --------------------------------------- 0.7/40.9 MB 337.4 kB/s eta 0:02:00\n",
      "    --------------------------------------- 0.7/40.9 MB 316.3 kB/s eta 0:02:08\n",
      "    --------------------------------------- 0.7/40.9 MB 316.3 kB/s eta 0:02:08\n",
      "    --------------------------------------- 0.7/40.9 MB 316.7 kB/s eta 0:02:07\n",
      "    --------------------------------------- 0.7/40.9 MB 316.7 kB/s eta 0:02:07\n",
      "    --------------------------------------- 0.7/40.9 MB 316.7 kB/s eta 0:02:07\n",
      "    --------------------------------------- 0.8/40.9 MB 304.7 kB/s eta 0:02:12\n",
      "    --------------------------------------- 0.8/40.9 MB 307.2 kB/s eta 0:02:11\n",
      "    --------------------------------------- 0.8/40.9 MB 307.2 kB/s eta 0:02:11\n",
      "    --------------------------------------- 0.8/40.9 MB 304.3 kB/s eta 0:02:12\n",
      "    --------------------------------------- 0.8/40.9 MB 310.4 kB/s eta 0:02:10\n",
      "    --------------------------------------- 0.9/40.9 MB 318.2 kB/s eta 0:02:06\n",
      "    --------------------------------------- 0.9/40.9 MB 331.4 kB/s eta 0:02:01\n",
      "    --------------------------------------- 0.9/40.9 MB 331.4 kB/s eta 0:02:01\n",
      "    --------------------------------------- 0.9/40.9 MB 331.4 kB/s eta 0:02:01\n",
      "    --------------------------------------- 0.9/40.9 MB 320.7 kB/s eta 0:02:05\n",
      "    --------------------------------------- 1.0/40.9 MB 327.7 kB/s eta 0:02:02\n",
      "    --------------------------------------- 1.0/40.9 MB 329.4 kB/s eta 0:02:02\n",
      "    --------------------------------------- 1.0/40.9 MB 329.4 kB/s eta 0:02:02\n",
      "    --------------------------------------- 1.0/40.9 MB 329.4 kB/s eta 0:02:02\n",
      "   - -------------------------------------- 1.0/40.9 MB 322.8 kB/s eta 0:02:04\n",
      "   - -------------------------------------- 1.1/40.9 MB 330.9 kB/s eta 0:02:01\n",
      "   - -------------------------------------- 1.1/40.9 MB 330.9 kB/s eta 0:02:01\n",
      "   - -------------------------------------- 1.1/40.9 MB 329.2 kB/s eta 0:02:02\n",
      "   - -------------------------------------- 1.1/40.9 MB 329.2 kB/s eta 0:02:01\n",
      "   - -------------------------------------- 1.1/40.9 MB 329.2 kB/s eta 0:02:01\n",
      "   - -------------------------------------- 1.1/40.9 MB 327.7 kB/s eta 0:02:02\n",
      "   - -------------------------------------- 1.2/40.9 MB 339.5 kB/s eta 0:01:58\n",
      "   - -------------------------------------- 1.2/40.9 MB 343.7 kB/s eta 0:01:56\n",
      "   - -------------------------------------- 1.2/40.9 MB 345.0 kB/s eta 0:01:56\n",
      "   - -------------------------------------- 1.2/40.9 MB 345.0 kB/s eta 0:01:56\n",
      "   - -------------------------------------- 1.2/40.9 MB 340.3 kB/s eta 0:01:57\n",
      "   - -------------------------------------- 1.2/40.9 MB 340.3 kB/s eta 0:01:57\n",
      "   - -------------------------------------- 1.3/40.9 MB 341.3 kB/s eta 0:01:57\n",
      "   - -------------------------------------- 1.3/40.9 MB 345.2 kB/s eta 0:01:55\n",
      "   - -------------------------------------- 1.3/40.9 MB 345.2 kB/s eta 0:01:55\n",
      "   - -------------------------------------- 1.3/40.9 MB 340.9 kB/s eta 0:01:57\n",
      "   - -------------------------------------- 1.4/40.9 MB 343.4 kB/s eta 0:01:56\n",
      "   - -------------------------------------- 1.4/40.9 MB 344.5 kB/s eta 0:01:55\n",
      "   - -------------------------------------- 1.4/40.9 MB 344.5 kB/s eta 0:01:55\n",
      "   - -------------------------------------- 1.4/40.9 MB 341.5 kB/s eta 0:01:56\n",
      "   - -------------------------------------- 1.4/40.9 MB 345.1 kB/s eta 0:01:55\n",
      "   - -------------------------------------- 1.5/40.9 MB 347.4 kB/s eta 0:01:54\n",
      "   - -------------------------------------- 1.5/40.9 MB 347.3 kB/s eta 0:01:54\n",
      "   - -------------------------------------- 1.5/40.9 MB 347.3 kB/s eta 0:01:54\n",
      "   - -------------------------------------- 1.5/40.9 MB 344.3 kB/s eta 0:01:55\n",
      "   - -------------------------------------- 1.5/40.9 MB 344.3 kB/s eta 0:01:55\n",
      "   - -------------------------------------- 1.5/40.9 MB 342.8 kB/s eta 0:01:56\n",
      "   - -------------------------------------- 1.5/40.9 MB 344.9 kB/s eta 0:01:55\n",
      "   - -------------------------------------- 1.6/40.9 MB 348.3 kB/s eta 0:01:54\n",
      "   - -------------------------------------- 1.6/40.9 MB 348.3 kB/s eta 0:01:54\n",
      "   - -------------------------------------- 1.6/40.9 MB 348.3 kB/s eta 0:01:54\n",
      "   - -------------------------------------- 1.6/40.9 MB 348.3 kB/s eta 0:01:54\n",
      "   - -------------------------------------- 1.6/40.9 MB 348.3 kB/s eta 0:01:54\n",
      "   - -------------------------------------- 1.6/40.9 MB 329.8 kB/s eta 0:02:00\n",
      "   - -------------------------------------- 1.6/40.9 MB 329.8 kB/s eta 0:02:00\n",
      "   - -------------------------------------- 1.6/40.9 MB 335.1 kB/s eta 0:01:58\n",
      "   - -------------------------------------- 1.6/40.9 MB 337.2 kB/s eta 0:01:57\n",
      "   - -------------------------------------- 1.6/40.9 MB 337.2 kB/s eta 0:01:57\n",
      "   - -------------------------------------- 1.6/40.9 MB 337.2 kB/s eta 0:01:57\n",
      "   - -------------------------------------- 1.6/40.9 MB 337.2 kB/s eta 0:01:57\n",
      "   - -------------------------------------- 1.6/40.9 MB 337.2 kB/s eta 0:01:57\n",
      "   - -------------------------------------- 1.6/40.9 MB 337.2 kB/s eta 0:01:57\n",
      "   - -------------------------------------- 1.6/40.9 MB 337.2 kB/s eta 0:01:57\n",
      "   - -------------------------------------- 1.6/40.9 MB 337.2 kB/s eta 0:01:57\n",
      "   - -------------------------------------- 1.7/40.9 MB 314.0 kB/s eta 0:02:06\n",
      "   - -------------------------------------- 1.7/40.9 MB 314.0 kB/s eta 0:02:06\n",
      "   - -------------------------------------- 1.7/40.9 MB 314.0 kB/s eta 0:02:06\n",
      "   - -------------------------------------- 1.7/40.9 MB 314.0 kB/s eta 0:02:06\n",
      "   - -------------------------------------- 1.7/40.9 MB 312.6 kB/s eta 0:02:06\n",
      "   - -------------------------------------- 1.7/40.9 MB 315.6 kB/s eta 0:02:05\n",
      "   - -------------------------------------- 1.8/40.9 MB 319.4 kB/s eta 0:02:03\n",
      "   - -------------------------------------- 1.8/40.9 MB 323.1 kB/s eta 0:02:02\n",
      "   - -------------------------------------- 1.8/40.9 MB 321.3 kB/s eta 0:02:02\n",
      "   - -------------------------------------- 1.9/40.9 MB 326.8 kB/s eta 0:02:00\n",
      "   - -------------------------------------- 1.9/40.9 MB 330.4 kB/s eta 0:01:59\n",
      "   - -------------------------------------- 1.9/40.9 MB 330.4 kB/s eta 0:01:59\n",
      "   - -------------------------------------- 1.9/40.9 MB 325.9 kB/s eta 0:02:00\n",
      "   - -------------------------------------- 1.9/40.9 MB 325.9 kB/s eta 0:02:00\n",
      "   - -------------------------------------- 1.9/40.9 MB 324.2 kB/s eta 0:02:01\n",
      "   - -------------------------------------- 1.9/40.9 MB 326.0 kB/s eta 0:02:00\n",
      "   - -------------------------------------- 2.0/40.9 MB 325.1 kB/s eta 0:02:00\n",
      "   - -------------------------------------- 2.0/40.9 MB 325.1 kB/s eta 0:02:00\n",
      "   - -------------------------------------- 2.0/40.9 MB 325.1 kB/s eta 0:02:00\n",
      "   - -------------------------------------- 2.0/40.9 MB 325.1 kB/s eta 0:02:00\n",
      "   - -------------------------------------- 2.0/40.9 MB 321.9 kB/s eta 0:02:01\n",
      "   - -------------------------------------- 2.0/40.9 MB 321.9 kB/s eta 0:02:01\n",
      "   - -------------------------------------- 2.0/40.9 MB 321.9 kB/s eta 0:02:01\n",
      "   - -------------------------------------- 2.0/40.9 MB 320.4 kB/s eta 0:02:02\n",
      "   -- ------------------------------------- 2.1/40.9 MB 321.3 kB/s eta 0:02:02\n",
      "   -- ------------------------------------- 2.1/40.9 MB 324.5 kB/s eta 0:02:00\n",
      "   -- ------------------------------------- 2.1/40.9 MB 326.9 kB/s eta 0:01:59\n",
      "   -- ------------------------------------- 2.2/40.9 MB 328.4 kB/s eta 0:01:59\n",
      "   -- ------------------------------------- 2.2/40.9 MB 330.0 kB/s eta 0:01:58\n",
      "   -- ------------------------------------- 2.2/40.9 MB 331.6 kB/s eta 0:01:57\n",
      "   -- ------------------------------------- 2.2/40.9 MB 333.0 kB/s eta 0:01:57\n",
      "   -- ------------------------------------- 2.3/40.9 MB 333.8 kB/s eta 0:01:56\n",
      "   -- ------------------------------------- 2.3/40.9 MB 336.0 kB/s eta 0:01:56\n",
      "   -- ------------------------------------- 2.3/40.9 MB 339.7 kB/s eta 0:01:54\n",
      "   -- ------------------------------------- 2.3/40.9 MB 339.6 kB/s eta 0:01:54\n",
      "   -- ------------------------------------- 2.4/40.9 MB 339.6 kB/s eta 0:01:54\n",
      "   -- ------------------------------------- 2.4/40.9 MB 339.6 kB/s eta 0:01:54\n",
      "   -- ------------------------------------- 2.4/40.9 MB 339.4 kB/s eta 0:01:54\n",
      "   -- ------------------------------------- 2.4/40.9 MB 341.5 kB/s eta 0:01:53\n",
      "   -- ------------------------------------- 2.4/40.9 MB 343.5 kB/s eta 0:01:53\n",
      "   -- ------------------------------------- 2.5/40.9 MB 347.0 kB/s eta 0:01:51\n",
      "   -- ------------------------------------- 2.5/40.9 MB 346.9 kB/s eta 0:01:51\n",
      "   -- ------------------------------------- 2.5/40.9 MB 348.2 kB/s eta 0:01:51\n",
      "   -- ------------------------------------- 2.5/40.9 MB 349.5 kB/s eta 0:01:50\n",
      "   -- ------------------------------------- 2.6/40.9 MB 350.7 kB/s eta 0:01:50\n",
      "   -- ------------------------------------- 2.6/40.9 MB 353.4 kB/s eta 0:01:49\n",
      "   -- ------------------------------------- 2.7/40.9 MB 355.9 kB/s eta 0:01:48\n",
      "   -- ------------------------------------- 2.7/40.9 MB 357.7 kB/s eta 0:01:47\n",
      "   -- ------------------------------------- 2.7/40.9 MB 357.7 kB/s eta 0:01:47\n",
      "   -- ------------------------------------- 2.7/40.9 MB 358.7 kB/s eta 0:01:47\n",
      "   -- ------------------------------------- 2.8/40.9 MB 360.5 kB/s eta 0:01:46\n",
      "   -- ------------------------------------- 2.8/40.9 MB 365.0 kB/s eta 0:01:45\n",
      "   -- ------------------------------------- 2.8/40.9 MB 366.8 kB/s eta 0:01:44\n",
      "   -- ------------------------------------- 2.9/40.9 MB 368.5 kB/s eta 0:01:44\n",
      "   -- ------------------------------------- 2.9/40.9 MB 369.4 kB/s eta 0:01:43\n",
      "   -- ------------------------------------- 2.9/40.9 MB 370.6 kB/s eta 0:01:43\n",
      "   -- ------------------------------------- 3.0/40.9 MB 374.1 kB/s eta 0:01:42\n",
      "   -- ------------------------------------- 3.0/40.9 MB 375.8 kB/s eta 0:01:41\n",
      "   -- ------------------------------------- 3.0/40.9 MB 375.6 kB/s eta 0:01:41\n",
      "   --- ------------------------------------ 3.1/40.9 MB 379.0 kB/s eta 0:01:40\n",
      "   --- ------------------------------------ 3.1/40.9 MB 380.6 kB/s eta 0:01:40\n",
      "   --- ------------------------------------ 3.1/40.9 MB 381.7 kB/s eta 0:01:40\n",
      "   --- ------------------------------------ 3.1/40.9 MB 382.0 kB/s eta 0:01:39\n",
      "   --- ------------------------------------ 3.2/40.9 MB 385.3 kB/s eta 0:01:38\n",
      "   --- ------------------------------------ 3.2/40.9 MB 388.1 kB/s eta 0:01:38\n",
      "   --- ------------------------------------ 3.3/40.9 MB 389.8 kB/s eta 0:01:37\n",
      "   --- ------------------------------------ 3.3/40.9 MB 389.8 kB/s eta 0:01:37\n",
      "   --- ------------------------------------ 3.3/40.9 MB 389.8 kB/s eta 0:01:37\n",
      "   --- ------------------------------------ 3.3/40.9 MB 389.8 kB/s eta 0:01:37\n",
      "   --- ------------------------------------ 3.3/40.9 MB 381.0 kB/s eta 0:01:39\n",
      "   --- ------------------------------------ 3.3/40.9 MB 381.0 kB/s eta 0:01:39\n",
      "   --- ------------------------------------ 3.3/40.9 MB 381.6 kB/s eta 0:01:39\n",
      "   --- ------------------------------------ 3.3/40.9 MB 381.4 kB/s eta 0:01:39\n",
      "   --- ------------------------------------ 3.4/40.9 MB 384.6 kB/s eta 0:01:38\n",
      "   --- ------------------------------------ 3.4/40.9 MB 388.3 kB/s eta 0:01:37\n",
      "   --- ------------------------------------ 3.4/40.9 MB 388.3 kB/s eta 0:01:37\n",
      "   --- ------------------------------------ 3.4/40.9 MB 388.3 kB/s eta 0:01:37\n",
      "   --- ------------------------------------ 3.4/40.9 MB 388.3 kB/s eta 0:01:37\n",
      "   --- ------------------------------------ 3.4/40.9 MB 388.3 kB/s eta 0:01:37\n",
      "   --- ------------------------------------ 3.4/40.9 MB 388.3 kB/s eta 0:01:37\n",
      "   --- ------------------------------------ 3.5/40.9 MB 380.3 kB/s eta 0:01:39\n",
      "   --- ------------------------------------ 3.5/40.9 MB 383.3 kB/s eta 0:01:38\n",
      "   --- ------------------------------------ 3.5/40.9 MB 383.8 kB/s eta 0:01:38\n",
      "   --- ------------------------------------ 3.6/40.9 MB 385.7 kB/s eta 0:01:37\n",
      "   --- ------------------------------------ 3.6/40.9 MB 386.4 kB/s eta 0:01:37\n",
      "   --- ------------------------------------ 3.6/40.9 MB 390.6 kB/s eta 0:01:36\n",
      "   --- ------------------------------------ 3.6/40.9 MB 390.4 kB/s eta 0:01:36\n",
      "   --- ------------------------------------ 3.6/40.9 MB 390.4 kB/s eta 0:01:36\n",
      "   --- ------------------------------------ 3.6/40.9 MB 390.4 kB/s eta 0:01:36\n",
      "   --- ------------------------------------ 3.6/40.9 MB 390.4 kB/s eta 0:01:36\n",
      "   --- ------------------------------------ 3.6/40.9 MB 390.4 kB/s eta 0:01:36\n",
      "   --- ------------------------------------ 3.6/40.9 MB 390.4 kB/s eta 0:01:36\n",
      "   --- ------------------------------------ 3.6/40.9 MB 390.4 kB/s eta 0:01:36\n",
      "   --- ------------------------------------ 3.9/40.9 MB 400.9 kB/s eta 0:01:33\n",
      "   --- ------------------------------------ 3.9/40.9 MB 402.1 kB/s eta 0:01:33\n",
      "   --- ------------------------------------ 4.0/40.9 MB 404.7 kB/s eta 0:01:32\n",
      "   --- ------------------------------------ 4.0/40.9 MB 407.0 kB/s eta 0:01:31\n",
      "   --- ------------------------------------ 4.1/40.9 MB 412.3 kB/s eta 0:01:30\n",
      "   ---- ----------------------------------- 4.1/40.9 MB 415.6 kB/s eta 0:01:29\n",
      "   ---- ----------------------------------- 4.2/40.9 MB 417.7 kB/s eta 0:01:29\n",
      "   ---- ----------------------------------- 4.2/40.9 MB 422.9 kB/s eta 0:01:27\n",
      "   ---- ----------------------------------- 4.3/40.9 MB 424.3 kB/s eta 0:01:27\n",
      "   ---- ----------------------------------- 4.3/40.9 MB 426.0 kB/s eta 0:01:27\n",
      "   ---- ----------------------------------- 4.3/40.9 MB 423.8 kB/s eta 0:01:27\n",
      "   ---- ----------------------------------- 4.3/40.9 MB 423.8 kB/s eta 0:01:27\n",
      "   ---- ----------------------------------- 4.3/40.9 MB 423.8 kB/s eta 0:01:27\n",
      "   ---- ----------------------------------- 4.3/40.9 MB 419.9 kB/s eta 0:01:28\n",
      "   ---- ----------------------------------- 4.3/40.9 MB 419.9 kB/s eta 0:01:28\n",
      "   ---- ----------------------------------- 4.3/40.9 MB 419.9 kB/s eta 0:01:28\n",
      "   ---- ----------------------------------- 4.3/40.9 MB 419.9 kB/s eta 0:01:28\n",
      "   ---- ----------------------------------- 4.3/40.9 MB 419.9 kB/s eta 0:01:28\n",
      "   ---- ----------------------------------- 4.3/40.9 MB 419.9 kB/s eta 0:01:28\n",
      "   ---- ----------------------------------- 4.3/40.9 MB 419.9 kB/s eta 0:01:28\n",
      "   ---- ----------------------------------- 4.3/40.9 MB 419.9 kB/s eta 0:01:28\n",
      "   ---- ----------------------------------- 4.3/40.9 MB 419.9 kB/s eta 0:01:28\n",
      "   ---- ----------------------------------- 4.3/40.9 MB 419.9 kB/s eta 0:01:28\n",
      "   ---- ----------------------------------- 4.3/40.9 MB 419.9 kB/s eta 0:01:28\n",
      "   ---- ----------------------------------- 4.3/40.9 MB 419.9 kB/s eta 0:01:28\n",
      "   ---- ----------------------------------- 4.3/40.9 MB 400.6 kB/s eta 0:01:32\n",
      "   ---- ----------------------------------- 4.4/40.9 MB 403.7 kB/s eta 0:01:31\n",
      "   ---- ----------------------------------- 4.4/40.9 MB 403.7 kB/s eta 0:01:31\n",
      "   ---- ----------------------------------- 4.4/40.9 MB 403.7 kB/s eta 0:01:31\n",
      "   ---- ----------------------------------- 4.4/40.9 MB 403.7 kB/s eta 0:01:31\n",
      "   ---- ----------------------------------- 4.5/40.9 MB 401.5 kB/s eta 0:01:31\n",
      "   ---- ----------------------------------- 4.5/40.9 MB 405.9 kB/s eta 0:01:30\n",
      "   ---- ----------------------------------- 4.6/40.9 MB 407.3 kB/s eta 0:01:30\n",
      "   ---- ----------------------------------- 4.6/40.9 MB 407.1 kB/s eta 0:01:30\n",
      "   ---- ----------------------------------- 4.6/40.9 MB 407.1 kB/s eta 0:01:30\n",
      "   ---- ----------------------------------- 4.6/40.9 MB 407.1 kB/s eta 0:01:30\n",
      "   ---- ----------------------------------- 4.6/40.9 MB 407.1 kB/s eta 0:01:30\n",
      "   ---- ----------------------------------- 4.6/40.9 MB 402.2 kB/s eta 0:01:31\n",
      "   ---- ----------------------------------- 4.6/40.9 MB 402.2 kB/s eta 0:01:31\n",
      "   ---- ----------------------------------- 4.6/40.9 MB 402.2 kB/s eta 0:01:31\n",
      "   ---- ----------------------------------- 4.6/40.9 MB 400.0 kB/s eta 0:01:31\n",
      "   ---- ----------------------------------- 4.7/40.9 MB 400.5 kB/s eta 0:01:31\n",
      "   ---- ----------------------------------- 4.7/40.9 MB 400.6 kB/s eta 0:01:31\n",
      "   ---- ----------------------------------- 4.7/40.9 MB 400.6 kB/s eta 0:01:31\n",
      "   ---- ----------------------------------- 4.7/40.9 MB 400.6 kB/s eta 0:01:31\n",
      "   ---- ----------------------------------- 4.7/40.9 MB 397.7 kB/s eta 0:01:32\n",
      "   ---- ----------------------------------- 4.7/40.9 MB 397.7 kB/s eta 0:01:32\n",
      "   ---- ----------------------------------- 4.7/40.9 MB 395.8 kB/s eta 0:01:32\n",
      "   ---- ----------------------------------- 4.7/40.9 MB 396.3 kB/s eta 0:01:32\n",
      "   ---- ----------------------------------- 4.8/40.9 MB 397.0 kB/s eta 0:01:32\n",
      "   ---- ----------------------------------- 4.8/40.9 MB 395.3 kB/s eta 0:01:32\n",
      "   ---- ----------------------------------- 4.8/40.9 MB 397.6 kB/s eta 0:01:31\n",
      "   ---- ----------------------------------- 4.9/40.9 MB 402.3 kB/s eta 0:01:30\n",
      "   ---- ----------------------------------- 5.0/40.9 MB 407.5 kB/s eta 0:01:29\n",
      "   ---- ----------------------------------- 5.0/40.9 MB 408.4 kB/s eta 0:01:29\n",
      "   ---- ----------------------------------- 5.0/40.9 MB 408.4 kB/s eta 0:01:29\n",
      "   ---- ----------------------------------- 5.0/40.9 MB 406.2 kB/s eta 0:01:29\n",
      "   ---- ----------------------------------- 5.1/40.9 MB 409.3 kB/s eta 0:01:28\n",
      "   ---- ----------------------------------- 5.1/40.9 MB 410.2 kB/s eta 0:01:28\n",
      "   ----- ---------------------------------- 5.1/40.9 MB 410.9 kB/s eta 0:01:28\n",
      "   ----- ---------------------------------- 5.1/40.9 MB 410.9 kB/s eta 0:01:28\n",
      "   ----- ---------------------------------- 5.1/40.9 MB 410.9 kB/s eta 0:01:28\n",
      "   ----- ---------------------------------- 5.1/40.9 MB 410.9 kB/s eta 0:01:28\n",
      "   ----- ---------------------------------- 5.1/40.9 MB 410.9 kB/s eta 0:01:28\n",
      "   ----- ---------------------------------- 5.1/40.9 MB 410.9 kB/s eta 0:01:28\n",
      "   ----- ---------------------------------- 5.1/40.9 MB 410.9 kB/s eta 0:01:28\n",
      "   ----- ---------------------------------- 5.2/40.9 MB 404.1 kB/s eta 0:01:29\n",
      "   ----- ---------------------------------- 5.3/40.9 MB 409.8 kB/s eta 0:01:28\n",
      "   ----- ---------------------------------- 5.3/40.9 MB 413.6 kB/s eta 0:01:27\n",
      "   ----- ---------------------------------- 5.4/40.9 MB 416.8 kB/s eta 0:01:26\n",
      "   ----- ---------------------------------- 5.4/40.9 MB 419.3 kB/s eta 0:01:25\n",
      "   ----- ---------------------------------- 5.5/40.9 MB 422.2 kB/s eta 0:01:24\n",
      "   ----- ---------------------------------- 5.6/40.9 MB 424.9 kB/s eta 0:01:24\n",
      "   ----- ---------------------------------- 5.6/40.9 MB 428.8 kB/s eta 0:01:23\n",
      "   ----- ---------------------------------- 5.7/40.9 MB 435.3 kB/s eta 0:01:21\n",
      "   ----- ---------------------------------- 5.8/40.9 MB 439.0 kB/s eta 0:01:21\n",
      "   ----- ---------------------------------- 5.9/40.9 MB 443.1 kB/s eta 0:01:20\n",
      "   ----- ---------------------------------- 5.9/40.9 MB 443.1 kB/s eta 0:01:20\n",
      "   ----- ---------------------------------- 5.9/40.9 MB 443.3 kB/s eta 0:01:20\n",
      "   ----- ---------------------------------- 6.0/40.9 MB 444.6 kB/s eta 0:01:19\n",
      "   ----- ---------------------------------- 6.1/40.9 MB 449.1 kB/s eta 0:01:18\n",
      "   ----- ---------------------------------- 6.1/40.9 MB 453.4 kB/s eta 0:01:17\n",
      "   ------ --------------------------------- 6.2/40.9 MB 457.3 kB/s eta 0:01:16\n",
      "   ------ --------------------------------- 6.3/40.9 MB 460.8 kB/s eta 0:01:16\n",
      "   ------ --------------------------------- 6.3/40.9 MB 464.5 kB/s eta 0:01:15\n",
      "   ------ --------------------------------- 6.4/40.9 MB 467.6 kB/s eta 0:01:14\n",
      "   ------ --------------------------------- 6.5/40.9 MB 471.2 kB/s eta 0:01:14\n",
      "   ------ --------------------------------- 6.5/40.9 MB 473.1 kB/s eta 0:01:13\n",
      "   ------ --------------------------------- 6.6/40.9 MB 476.7 kB/s eta 0:01:13\n",
      "   ------ --------------------------------- 6.7/40.9 MB 481.2 kB/s eta 0:01:12\n",
      "   ------ --------------------------------- 6.7/40.9 MB 482.1 kB/s eta 0:01:12\n",
      "   ------ --------------------------------- 6.7/40.9 MB 482.1 kB/s eta 0:01:12\n",
      "   ------ --------------------------------- 6.7/40.9 MB 482.1 kB/s eta 0:01:12\n",
      "   ------ --------------------------------- 6.7/40.9 MB 482.1 kB/s eta 0:01:12\n",
      "   ------ --------------------------------- 6.7/40.9 MB 482.1 kB/s eta 0:01:12\n",
      "   ------ --------------------------------- 6.7/40.9 MB 482.1 kB/s eta 0:01:12\n",
      "   ------ --------------------------------- 6.7/40.9 MB 482.1 kB/s eta 0:01:12\n",
      "   ------ --------------------------------- 6.7/40.9 MB 482.1 kB/s eta 0:01:12\n",
      "   ------ --------------------------------- 6.7/40.9 MB 482.1 kB/s eta 0:01:12\n",
      "   ------ --------------------------------- 6.7/40.9 MB 468.6 kB/s eta 0:01:14\n",
      "   ------ --------------------------------- 6.7/40.9 MB 468.6 kB/s eta 0:01:14\n",
      "   ------ --------------------------------- 6.7/40.9 MB 468.6 kB/s eta 0:01:14\n",
      "   ------ --------------------------------- 6.8/40.9 MB 467.1 kB/s eta 0:01:14\n",
      "   ------ --------------------------------- 6.9/40.9 MB 470.7 kB/s eta 0:01:13\n",
      "   ------ --------------------------------- 6.9/40.9 MB 470.7 kB/s eta 0:01:13\n",
      "   ------ --------------------------------- 6.9/40.9 MB 473.1 kB/s eta 0:01:12\n",
      "   ------ --------------------------------- 7.0/40.9 MB 475.1 kB/s eta 0:01:12\n",
      "   ------ --------------------------------- 7.0/40.9 MB 477.2 kB/s eta 0:01:12\n",
      "   ------ --------------------------------- 7.1/40.9 MB 479.7 kB/s eta 0:01:11\n",
      "   ------ --------------------------------- 7.1/40.9 MB 479.7 kB/s eta 0:01:11\n",
      "   ------- -------------------------------- 7.2/40.9 MB 486.5 kB/s eta 0:01:10\n",
      "   ------- -------------------------------- 7.3/40.9 MB 489.6 kB/s eta 0:01:09\n",
      "   ------- -------------------------------- 7.4/40.9 MB 492.0 kB/s eta 0:01:09\n",
      "   ------- -------------------------------- 7.4/40.9 MB 492.0 kB/s eta 0:01:09\n",
      "   ------- -------------------------------- 7.5/40.9 MB 498.7 kB/s eta 0:01:08\n",
      "   ------- -------------------------------- 7.6/40.9 MB 501.3 kB/s eta 0:01:07\n",
      "   ------- -------------------------------- 7.6/40.9 MB 503.7 kB/s eta 0:01:07\n",
      "   ------- -------------------------------- 7.7/40.9 MB 504.7 kB/s eta 0:01:06\n",
      "   ------- -------------------------------- 7.7/40.9 MB 503.3 kB/s eta 0:01:07\n",
      "   ------- -------------------------------- 7.7/40.9 MB 506.4 kB/s eta 0:01:06\n",
      "   ------- -------------------------------- 7.8/40.9 MB 506.9 kB/s eta 0:01:06\n",
      "   ------- -------------------------------- 7.8/40.9 MB 507.4 kB/s eta 0:01:06\n",
      "   ------- -------------------------------- 7.8/40.9 MB 507.4 kB/s eta 0:01:06\n",
      "   ------- -------------------------------- 7.8/40.9 MB 507.4 kB/s eta 0:01:06\n",
      "   ------- -------------------------------- 7.8/40.9 MB 507.4 kB/s eta 0:01:06\n",
      "   ------- -------------------------------- 7.9/40.9 MB 504.5 kB/s eta 0:01:06\n",
      "   ------- -------------------------------- 7.9/40.9 MB 507.8 kB/s eta 0:01:06\n",
      "   ------- -------------------------------- 8.0/40.9 MB 510.7 kB/s eta 0:01:05\n",
      "   ------- -------------------------------- 8.0/40.9 MB 510.7 kB/s eta 0:01:05\n",
      "   ------- -------------------------------- 8.0/40.9 MB 510.7 kB/s eta 0:01:05\n",
      "   ------- -------------------------------- 8.0/40.9 MB 508.4 kB/s eta 0:01:05\n",
      "   ------- -------------------------------- 8.0/40.9 MB 507.7 kB/s eta 0:01:05\n",
      "   ------- -------------------------------- 8.0/40.9 MB 507.7 kB/s eta 0:01:05\n",
      "   ------- -------------------------------- 8.0/40.9 MB 507.7 kB/s eta 0:01:05\n",
      "   ------- -------------------------------- 8.0/40.9 MB 507.7 kB/s eta 0:01:05\n",
      "   ------- -------------------------------- 8.0/40.9 MB 507.7 kB/s eta 0:01:05\n",
      "   ------- -------------------------------- 8.0/40.9 MB 500.9 kB/s eta 0:01:06\n",
      "   ------- -------------------------------- 8.0/40.9 MB 500.9 kB/s eta 0:01:06\n",
      "   ------- -------------------------------- 8.0/40.9 MB 500.9 kB/s eta 0:01:06\n",
      "   ------- -------------------------------- 8.0/40.9 MB 500.9 kB/s eta 0:01:06\n",
      "   ------- -------------------------------- 8.0/40.9 MB 500.9 kB/s eta 0:01:06\n",
      "   ------- -------------------------------- 8.0/40.9 MB 500.9 kB/s eta 0:01:06\n",
      "   ------- -------------------------------- 8.0/40.9 MB 500.9 kB/s eta 0:01:06\n",
      "   ------- -------------------------------- 8.0/40.9 MB 500.9 kB/s eta 0:01:06\n",
      "   ------- -------------------------------- 8.0/40.9 MB 500.9 kB/s eta 0:01:06\n",
      "   ------- -------------------------------- 8.0/40.9 MB 500.9 kB/s eta 0:01:06\n",
      "   ------- -------------------------------- 8.0/40.9 MB 500.9 kB/s eta 0:01:06\n",
      "   ------- -------------------------------- 8.0/40.9 MB 500.9 kB/s eta 0:01:06\n",
      "   ------- -------------------------------- 8.0/40.9 MB 500.9 kB/s eta 0:01:06\n",
      "   ------- -------------------------------- 8.0/40.9 MB 500.9 kB/s eta 0:01:06\n",
      "   ------- -------------------------------- 8.0/40.9 MB 500.9 kB/s eta 0:01:06\n",
      "   ------- -------------------------------- 8.1/40.9 MB 480.2 kB/s eta 0:01:09\n",
      "   ------- -------------------------------- 8.1/40.9 MB 479.8 kB/s eta 0:01:09\n",
      "   ------- -------------------------------- 8.1/40.9 MB 479.5 kB/s eta 0:01:09\n",
      "   ------- -------------------------------- 8.1/40.9 MB 479.4 kB/s eta 0:01:09\n",
      "   ------- -------------------------------- 8.1/40.9 MB 479.4 kB/s eta 0:01:09\n",
      "   ------- -------------------------------- 8.2/40.9 MB 478.6 kB/s eta 0:01:09\n",
      "   ------- -------------------------------- 8.2/40.9 MB 478.9 kB/s eta 0:01:09\n",
      "   ------- -------------------------------- 8.2/40.9 MB 478.9 kB/s eta 0:01:09\n",
      "   -------- ------------------------------- 8.2/40.9 MB 477.2 kB/s eta 0:01:09\n",
      "   -------- ------------------------------- 8.2/40.9 MB 477.5 kB/s eta 0:01:09\n",
      "   -------- ------------------------------- 8.2/40.9 MB 477.3 kB/s eta 0:01:09\n",
      "   -------- ------------------------------- 8.3/40.9 MB 477.2 kB/s eta 0:01:09\n",
      "   -------- ------------------------------- 8.3/40.9 MB 477.6 kB/s eta 0:01:09\n",
      "   -------- ------------------------------- 8.3/40.9 MB 477.6 kB/s eta 0:01:09\n",
      "   -------- ------------------------------- 8.3/40.9 MB 476.3 kB/s eta 0:01:09\n",
      "   -------- ------------------------------- 8.4/40.9 MB 477.5 kB/s eta 0:01:09\n",
      "   -------- ------------------------------- 8.4/40.9 MB 477.4 kB/s eta 0:01:09\n",
      "   -------- ------------------------------- 8.4/40.9 MB 477.4 kB/s eta 0:01:09\n",
      "   -------- ------------------------------- 8.4/40.9 MB 477.4 kB/s eta 0:01:09\n",
      "   -------- ------------------------------- 8.4/40.9 MB 477.4 kB/s eta 0:01:09\n",
      "   -------- ------------------------------- 8.4/40.9 MB 477.4 kB/s eta 0:01:09\n",
      "   -------- ------------------------------- 8.4/40.9 MB 477.4 kB/s eta 0:01:09\n",
      "   -------- ------------------------------- 8.4/40.9 MB 477.4 kB/s eta 0:01:09\n",
      "   -------- ------------------------------- 8.4/40.9 MB 477.4 kB/s eta 0:01:09\n",
      "   -------- ------------------------------- 8.4/40.9 MB 477.4 kB/s eta 0:01:09\n",
      "   -------- ------------------------------- 8.4/40.9 MB 477.4 kB/s eta 0:01:09\n",
      "   -------- ------------------------------- 8.4/40.9 MB 477.4 kB/s eta 0:01:09\n",
      "   -------- ------------------------------- 8.4/40.9 MB 477.4 kB/s eta 0:01:09\n",
      "   -------- ------------------------------- 8.4/40.9 MB 477.4 kB/s eta 0:01:09\n",
      "   -------- ------------------------------- 8.4/40.9 MB 477.4 kB/s eta 0:01:09\n",
      "   -------- ------------------------------- 8.4/40.9 MB 477.4 kB/s eta 0:01:09\n",
      "   -------- ------------------------------- 8.4/40.9 MB 477.4 kB/s eta 0:01:09\n",
      "   -------- ------------------------------- 8.4/40.9 MB 477.4 kB/s eta 0:01:09\n",
      "   -------- ------------------------------- 8.4/40.9 MB 477.4 kB/s eta 0:01:09\n",
      "   -------- ------------------------------- 8.4/40.9 MB 477.4 kB/s eta 0:01:09\n",
      "   -------- ------------------------------- 8.4/40.9 MB 477.4 kB/s eta 0:01:09\n",
      "   -------- ------------------------------- 8.4/40.9 MB 477.4 kB/s eta 0:01:09\n",
      "   -------- ------------------------------- 8.4/40.9 MB 477.4 kB/s eta 0:01:09\n",
      "   -------- ------------------------------- 8.4/40.9 MB 451.0 kB/s eta 0:01:13\n",
      "   -------- ------------------------------- 8.4/40.9 MB 451.0 kB/s eta 0:01:13\n",
      "   -------- ------------------------------- 8.4/40.9 MB 451.0 kB/s eta 0:01:13\n",
      "   -------- ------------------------------- 8.4/40.9 MB 451.0 kB/s eta 0:01:13\n",
      "   -------- ------------------------------- 8.4/40.9 MB 447.6 kB/s eta 0:01:13\n",
      "   -------- ------------------------------- 8.4/40.9 MB 447.6 kB/s eta 0:01:13\n",
      "   -------- ------------------------------- 8.4/40.9 MB 447.6 kB/s eta 0:01:13\n",
      "   -------- ------------------------------- 8.4/40.9 MB 447.6 kB/s eta 0:01:13\n",
      "   -------- ------------------------------- 8.4/40.9 MB 447.6 kB/s eta 0:01:13\n",
      "   -------- ------------------------------- 8.4/40.9 MB 447.6 kB/s eta 0:01:13\n",
      "   -------- ------------------------------- 8.4/40.9 MB 442.5 kB/s eta 0:01:14\n",
      "   -------- ------------------------------- 8.4/40.9 MB 442.5 kB/s eta 0:01:14\n",
      "   -------- ------------------------------- 8.4/40.9 MB 442.5 kB/s eta 0:01:14\n",
      "   -------- ------------------------------- 8.4/40.9 MB 442.5 kB/s eta 0:01:14\n",
      "   -------- ------------------------------- 8.4/40.9 MB 442.5 kB/s eta 0:01:14\n",
      "   -------- ------------------------------- 8.4/40.9 MB 442.5 kB/s eta 0:01:14\n",
      "   -------- ------------------------------- 8.4/40.9 MB 442.5 kB/s eta 0:01:14\n",
      "   -------- ------------------------------- 8.4/40.9 MB 442.5 kB/s eta 0:01:14\n",
      "   -------- ------------------------------- 8.4/40.9 MB 442.5 kB/s eta 0:01:14\n",
      "   -------- ------------------------------- 8.4/40.9 MB 442.5 kB/s eta 0:01:14\n",
      "   -------- ------------------------------- 8.4/40.9 MB 442.5 kB/s eta 0:01:14\n",
      "   -------- ------------------------------- 8.4/40.9 MB 442.5 kB/s eta 0:01:14\n",
      "   -------- ------------------------------- 8.4/40.9 MB 442.5 kB/s eta 0:01:14\n",
      "   -------- ------------------------------- 8.4/40.9 MB 442.5 kB/s eta 0:01:14\n",
      "   -------- ------------------------------- 8.4/40.9 MB 442.5 kB/s eta 0:01:14\n",
      "   -------- ------------------------------- 8.4/40.9 MB 442.5 kB/s eta 0:01:14\n",
      "   -------- ------------------------------- 8.4/40.9 MB 442.5 kB/s eta 0:01:14\n",
      "   -------- ------------------------------- 8.4/40.9 MB 442.5 kB/s eta 0:01:14\n",
      "   -------- ------------------------------- 8.4/40.9 MB 442.5 kB/s eta 0:01:14\n",
      "   -------- ------------------------------- 8.4/40.9 MB 442.5 kB/s eta 0:01:14\n",
      "   -------- ------------------------------- 8.4/40.9 MB 442.5 kB/s eta 0:01:14\n",
      "   -------- ------------------------------- 8.4/40.9 MB 442.5 kB/s eta 0:01:14\n",
      "   -------- ------------------------------- 8.4/40.9 MB 442.5 kB/s eta 0:01:14\n",
      "   -------- ------------------------------- 8.4/40.9 MB 442.5 kB/s eta 0:01:14\n",
      "   -------- ------------------------------- 8.4/40.9 MB 442.5 kB/s eta 0:01:14\n",
      "   -------- ------------------------------- 8.4/40.9 MB 442.5 kB/s eta 0:01:14\n",
      "   -------- ------------------------------- 8.4/40.9 MB 442.5 kB/s eta 0:01:14\n",
      "   -------- ------------------------------- 8.4/40.9 MB 442.5 kB/s eta 0:01:14\n",
      "   -------- ------------------------------- 8.4/40.9 MB 442.5 kB/s eta 0:01:14\n",
      "   -------- ------------------------------- 8.4/40.9 MB 442.5 kB/s eta 0:01:14\n",
      "   -------- ------------------------------- 8.4/40.9 MB 442.5 kB/s eta 0:01:14\n",
      "   -------- ------------------------------- 8.4/40.9 MB 442.5 kB/s eta 0:01:14\n",
      "   -------- ------------------------------- 8.4/40.9 MB 442.5 kB/s eta 0:01:14\n",
      "   -------- ------------------------------- 8.4/40.9 MB 442.5 kB/s eta 0:01:14\n",
      "   -------- ------------------------------- 8.4/40.9 MB 442.5 kB/s eta 0:01:14\n",
      "   -------- ------------------------------- 8.4/40.9 MB 442.5 kB/s eta 0:01:14\n",
      "   -------- ------------------------------- 8.4/40.9 MB 442.5 kB/s eta 0:01:14\n",
      "   -------- ------------------------------- 8.4/40.9 MB 442.5 kB/s eta 0:01:14\n",
      "   -------- ------------------------------- 8.4/40.9 MB 442.5 kB/s eta 0:01:14\n",
      "   -------- ------------------------------- 8.4/40.9 MB 442.5 kB/s eta 0:01:14\n",
      "   -------- ------------------------------- 8.4/40.9 MB 442.5 kB/s eta 0:01:14\n",
      "   -------- ------------------------------- 8.4/40.9 MB 442.5 kB/s eta 0:01:14\n",
      "   -------- ------------------------------- 8.4/40.9 MB 442.5 kB/s eta 0:01:14\n",
      "   -------- ------------------------------- 8.4/40.9 MB 442.5 kB/s eta 0:01:14\n",
      "   -------- ------------------------------- 8.4/40.9 MB 442.5 kB/s eta 0:01:14\n",
      "   -------- ------------------------------- 8.4/40.9 MB 442.5 kB/s eta 0:01:14\n",
      "   -------- ------------------------------- 8.4/40.9 MB 442.5 kB/s eta 0:01:14\n",
      "   -------- ------------------------------- 8.4/40.9 MB 442.5 kB/s eta 0:01:14\n",
      "   -------- ------------------------------- 8.4/40.9 MB 442.5 kB/s eta 0:01:14\n",
      "   -------- ------------------------------- 8.4/40.9 MB 442.5 kB/s eta 0:01:14\n",
      "   -------- ------------------------------- 8.4/40.9 MB 442.5 kB/s eta 0:01:14\n",
      "   -------- ------------------------------- 8.4/40.9 MB 442.5 kB/s eta 0:01:14\n",
      "   -------- ------------------------------- 8.4/40.9 MB 442.5 kB/s eta 0:01:14\n",
      "   -------- ------------------------------- 8.4/40.9 MB 442.5 kB/s eta 0:01:14\n",
      "   -------- ------------------------------- 8.4/40.9 MB 442.5 kB/s eta 0:01:14\n",
      "   -------- ------------------------------- 8.4/40.9 MB 442.5 kB/s eta 0:01:14\n",
      "   -------- ------------------------------- 8.4/40.9 MB 442.5 kB/s eta 0:01:14\n",
      "   -------- ------------------------------- 8.5/40.9 MB 390.4 kB/s eta 0:01:24\n",
      "   -------- ------------------------------- 8.5/40.9 MB 390.4 kB/s eta 0:01:24\n",
      "   -------- ------------------------------- 8.5/40.9 MB 390.4 kB/s eta 0:01:24\n",
      "   -------- ------------------------------- 8.5/40.9 MB 390.4 kB/s eta 0:01:24\n",
      "   -------- ------------------------------- 8.5/40.9 MB 390.4 kB/s eta 0:01:24\n",
      "   -------- ------------------------------- 8.5/40.9 MB 390.4 kB/s eta 0:01:24\n",
      "   -------- ------------------------------- 8.5/40.9 MB 386.2 kB/s eta 0:01:24\n",
      "   -------- ------------------------------- 8.5/40.9 MB 386.2 kB/s eta 0:01:24\n",
      "   -------- ------------------------------- 8.5/40.9 MB 386.2 kB/s eta 0:01:24\n",
      "   -------- ------------------------------- 8.5/40.9 MB 386.2 kB/s eta 0:01:24\n",
      "   -------- ------------------------------- 8.5/40.9 MB 386.2 kB/s eta 0:01:24\n",
      "   -------- ------------------------------- 8.5/40.9 MB 386.2 kB/s eta 0:01:24\n",
      "   -------- ------------------------------- 8.6/40.9 MB 381.7 kB/s eta 0:01:25\n",
      "   -------- ------------------------------- 8.6/40.9 MB 381.6 kB/s eta 0:01:25\n",
      "   -------- ------------------------------- 8.6/40.9 MB 381.7 kB/s eta 0:01:25\n",
      "   -------- ------------------------------- 8.6/40.9 MB 381.7 kB/s eta 0:01:25\n",
      "   -------- ------------------------------- 8.6/40.9 MB 381.7 kB/s eta 0:01:25\n",
      "   -------- ------------------------------- 8.6/40.9 MB 381.7 kB/s eta 0:01:25\n",
      "   -------- ------------------------------- 8.6/40.9 MB 379.2 kB/s eta 0:01:26\n",
      "   -------- ------------------------------- 8.6/40.9 MB 379.2 kB/s eta 0:01:26\n",
      "   -------- ------------------------------- 8.6/40.9 MB 379.2 kB/s eta 0:01:26\n",
      "   -------- ------------------------------- 8.6/40.9 MB 379.2 kB/s eta 0:01:26\n",
      "   -------- ------------------------------- 8.6/40.9 MB 379.2 kB/s eta 0:01:26\n",
      "   -------- ------------------------------- 8.6/40.9 MB 379.2 kB/s eta 0:01:26\n",
      "   -------- ------------------------------- 8.6/40.9 MB 379.2 kB/s eta 0:01:26\n",
      "   -------- ------------------------------- 8.6/40.9 MB 379.2 kB/s eta 0:01:26\n",
      "   -------- ------------------------------- 8.6/40.9 MB 373.2 kB/s eta 0:01:27\n",
      "   -------- ------------------------------- 8.6/40.9 MB 373.8 kB/s eta 0:01:27\n",
      "   -------- ------------------------------- 8.7/40.9 MB 374.8 kB/s eta 0:01:27\n",
      "   -------- ------------------------------- 8.7/40.9 MB 374.8 kB/s eta 0:01:27\n",
      "   -------- ------------------------------- 8.7/40.9 MB 374.8 kB/s eta 0:01:27\n",
      "   -------- ------------------------------- 8.7/40.9 MB 374.8 kB/s eta 0:01:27\n",
      "   -------- ------------------------------- 8.7/40.9 MB 374.8 kB/s eta 0:01:27\n",
      "   -------- ------------------------------- 8.7/40.9 MB 374.8 kB/s eta 0:01:27\n",
      "   -------- ------------------------------- 8.7/40.9 MB 374.8 kB/s eta 0:01:27\n",
      "   -------- ------------------------------- 8.7/40.9 MB 370.6 kB/s eta 0:01:27\n",
      "   -------- ------------------------------- 8.7/40.9 MB 370.6 kB/s eta 0:01:27\n",
      "   -------- ------------------------------- 8.7/40.9 MB 370.6 kB/s eta 0:01:27\n",
      "   -------- ------------------------------- 8.7/40.9 MB 368.9 kB/s eta 0:01:28\n",
      "   -------- ------------------------------- 8.8/40.9 MB 370.1 kB/s eta 0:01:27\n",
      "   -------- ------------------------------- 8.9/40.9 MB 376.0 kB/s eta 0:01:26\n",
      "   -------- ------------------------------- 9.0/40.9 MB 378.1 kB/s eta 0:01:25\n",
      "   -------- ------------------------------- 9.1/40.9 MB 379.7 kB/s eta 0:01:24\n",
      "   -------- ------------------------------- 9.2/40.9 MB 383.7 kB/s eta 0:01:23\n",
      "   --------- ------------------------------ 9.3/40.9 MB 387.7 kB/s eta 0:01:22\n",
      "   --------- ------------------------------ 9.4/40.9 MB 390.3 kB/s eta 0:01:21\n",
      "   --------- ------------------------------ 9.5/40.9 MB 393.4 kB/s eta 0:01:21\n",
      "   --------- ------------------------------ 9.5/40.9 MB 396.4 kB/s eta 0:01:20\n",
      "   --------- ------------------------------ 9.6/40.9 MB 397.0 kB/s eta 0:01:20\n",
      "   --------- ------------------------------ 9.6/40.9 MB 399.1 kB/s eta 0:01:19\n",
      "   --------- ------------------------------ 9.7/40.9 MB 398.8 kB/s eta 0:01:19\n",
      "   --------- ------------------------------ 9.7/40.9 MB 398.8 kB/s eta 0:01:19\n",
      "   --------- ------------------------------ 9.7/40.9 MB 398.8 kB/s eta 0:01:19\n",
      "   --------- ------------------------------ 9.7/40.9 MB 398.8 kB/s eta 0:01:19\n",
      "   --------- ------------------------------ 9.7/40.9 MB 398.8 kB/s eta 0:01:19\n",
      "   --------- ------------------------------ 9.7/40.9 MB 398.8 kB/s eta 0:01:19\n",
      "   --------- ------------------------------ 9.7/40.9 MB 395.6 kB/s eta 0:01:20\n",
      "   --------- ------------------------------ 9.7/40.9 MB 395.6 kB/s eta 0:01:20\n",
      "   --------- ------------------------------ 9.7/40.9 MB 395.6 kB/s eta 0:01:20\n",
      "   --------- ------------------------------ 9.7/40.9 MB 395.6 kB/s eta 0:01:20\n",
      "   --------- ------------------------------ 9.7/40.9 MB 395.6 kB/s eta 0:01:20\n",
      "   --------- ------------------------------ 9.7/40.9 MB 395.6 kB/s eta 0:01:20\n",
      "   --------- ------------------------------ 9.7/40.9 MB 395.6 kB/s eta 0:01:20\n",
      "   --------- ------------------------------ 9.7/40.9 MB 395.6 kB/s eta 0:01:20\n",
      "   --------- ------------------------------ 9.7/40.9 MB 395.6 kB/s eta 0:01:20\n",
      "   --------- ------------------------------ 9.7/40.9 MB 395.6 kB/s eta 0:01:20\n",
      "   --------- ------------------------------ 9.7/40.9 MB 395.6 kB/s eta 0:01:20\n",
      "   --------- ------------------------------ 9.7/40.9 MB 395.6 kB/s eta 0:01:20\n",
      "   --------- ------------------------------ 9.7/40.9 MB 395.6 kB/s eta 0:01:20\n",
      "   --------- ------------------------------ 9.7/40.9 MB 395.6 kB/s eta 0:01:20\n",
      "   --------- ------------------------------ 9.7/40.9 MB 395.6 kB/s eta 0:01:20\n",
      "   --------- ------------------------------ 9.7/40.9 MB 395.6 kB/s eta 0:01:20\n",
      "   --------- ------------------------------ 9.7/40.9 MB 395.6 kB/s eta 0:01:20\n",
      "   --------- ------------------------------ 9.7/40.9 MB 395.6 kB/s eta 0:01:20\n",
      "   --------- ------------------------------ 9.7/40.9 MB 395.6 kB/s eta 0:01:20\n",
      "   --------- ------------------------------ 9.7/40.9 MB 395.6 kB/s eta 0:01:20\n",
      "   --------- ------------------------------ 9.7/40.9 MB 395.6 kB/s eta 0:01:20\n",
      "   --------- ------------------------------ 9.7/40.9 MB 395.6 kB/s eta 0:01:20\n",
      "   --------- ------------------------------ 9.7/40.9 MB 395.6 kB/s eta 0:01:20\n",
      "   --------- ------------------------------ 9.7/40.9 MB 395.6 kB/s eta 0:01:20\n",
      "   --------- ------------------------------ 9.7/40.9 MB 395.6 kB/s eta 0:01:20\n",
      "   --------- ------------------------------ 9.7/40.9 MB 395.6 kB/s eta 0:01:20\n",
      "   --------- ------------------------------ 9.7/40.9 MB 395.6 kB/s eta 0:01:20\n",
      "   --------- ------------------------------ 9.7/40.9 MB 395.6 kB/s eta 0:01:20\n",
      "   --------- ------------------------------ 9.7/40.9 MB 395.6 kB/s eta 0:01:20\n",
      "   --------- ------------------------------ 9.7/40.9 MB 395.6 kB/s eta 0:01:20\n",
      "   --------- ------------------------------ 9.7/40.9 MB 395.6 kB/s eta 0:01:20\n",
      "   --------- ------------------------------ 9.7/40.9 MB 395.6 kB/s eta 0:01:20\n",
      "   --------- ------------------------------ 9.7/40.9 MB 395.6 kB/s eta 0:01:20\n",
      "   --------- ------------------------------ 9.7/40.9 MB 395.6 kB/s eta 0:01:20\n",
      "   --------- ------------------------------ 9.7/40.9 MB 395.6 kB/s eta 0:01:20\n",
      "   --------- ------------------------------ 9.7/40.9 MB 395.6 kB/s eta 0:01:20\n",
      "   --------- ------------------------------ 9.7/40.9 MB 395.6 kB/s eta 0:01:20\n",
      "   --------- ------------------------------ 9.7/40.9 MB 395.6 kB/s eta 0:01:20\n",
      "   --------- ------------------------------ 9.7/40.9 MB 395.6 kB/s eta 0:01:20\n",
      "   --------- ------------------------------ 9.7/40.9 MB 395.6 kB/s eta 0:01:20\n",
      "   --------- ------------------------------ 9.7/40.9 MB 395.6 kB/s eta 0:01:20\n",
      "   --------- ------------------------------ 9.7/40.9 MB 395.6 kB/s eta 0:01:20\n",
      "   --------- ------------------------------ 9.7/40.9 MB 395.6 kB/s eta 0:01:20\n",
      "   --------- ------------------------------ 9.7/40.9 MB 395.6 kB/s eta 0:01:20\n",
      "   --------- ------------------------------ 9.7/40.9 MB 395.6 kB/s eta 0:01:20\n",
      "   --------- ------------------------------ 9.7/40.9 MB 395.6 kB/s eta 0:01:20\n",
      "   --------- ------------------------------ 9.7/40.9 MB 395.6 kB/s eta 0:01:20\n",
      "   --------- ------------------------------ 9.7/40.9 MB 395.6 kB/s eta 0:01:20\n",
      "   --------- ------------------------------ 9.7/40.9 MB 395.6 kB/s eta 0:01:20\n",
      "   --------- ------------------------------ 9.7/40.9 MB 395.6 kB/s eta 0:01:20\n",
      "   --------- ------------------------------ 9.7/40.9 MB 395.6 kB/s eta 0:01:20\n",
      "   --------- ------------------------------ 9.7/40.9 MB 395.6 kB/s eta 0:01:20\n",
      "   --------- ------------------------------ 9.7/40.9 MB 395.6 kB/s eta 0:01:20\n",
      "   --------- ------------------------------ 9.7/40.9 MB 395.6 kB/s eta 0:01:20\n",
      "   --------- ------------------------------ 9.7/40.9 MB 395.6 kB/s eta 0:01:20\n",
      "   --------- ------------------------------ 9.7/40.9 MB 395.6 kB/s eta 0:01:20\n",
      "   --------- ------------------------------ 9.7/40.9 MB 395.6 kB/s eta 0:01:20\n",
      "   --------- ------------------------------ 9.7/40.9 MB 395.6 kB/s eta 0:01:20\n",
      "   --------- ------------------------------ 9.7/40.9 MB 395.6 kB/s eta 0:01:20\n",
      "   --------- ------------------------------ 9.7/40.9 MB 395.6 kB/s eta 0:01:20\n",
      "   --------- ------------------------------ 9.7/40.9 MB 395.6 kB/s eta 0:01:20\n",
      "   --------- ------------------------------ 9.7/40.9 MB 395.6 kB/s eta 0:01:20\n",
      "   --------- ------------------------------ 9.7/40.9 MB 395.6 kB/s eta 0:01:20\n",
      "   --------- ------------------------------ 9.7/40.9 MB 395.6 kB/s eta 0:01:20\n",
      "   --------- ------------------------------ 9.7/40.9 MB 395.6 kB/s eta 0:01:20\n",
      "   --------- ------------------------------ 9.7/40.9 MB 395.6 kB/s eta 0:01:20\n",
      "   --------- ------------------------------ 9.7/40.9 MB 395.6 kB/s eta 0:01:20\n",
      "   --------- ------------------------------ 9.7/40.9 MB 395.6 kB/s eta 0:01:20\n",
      "   --------- ------------------------------ 9.7/40.9 MB 395.6 kB/s eta 0:01:20\n",
      "   --------- ------------------------------ 9.7/40.9 MB 395.6 kB/s eta 0:01:20\n",
      "   --------- ------------------------------ 9.7/40.9 MB 395.6 kB/s eta 0:01:20\n",
      "   --------- ------------------------------ 9.7/40.9 MB 395.6 kB/s eta 0:01:20\n",
      "   --------- ------------------------------ 9.7/40.9 MB 395.6 kB/s eta 0:01:20\n",
      "   --------- ------------------------------ 9.7/40.9 MB 395.6 kB/s eta 0:01:20\n",
      "   --------- ------------------------------ 9.7/40.9 MB 395.6 kB/s eta 0:01:20\n",
      "   --------- ------------------------------ 9.7/40.9 MB 395.6 kB/s eta 0:01:20\n",
      "   --------- ------------------------------ 9.7/40.9 MB 395.6 kB/s eta 0:01:20\n",
      "   --------- ------------------------------ 9.7/40.9 MB 395.6 kB/s eta 0:01:20\n",
      "   --------- ------------------------------ 9.7/40.9 MB 395.6 kB/s eta 0:01:20\n",
      "   --------- ------------------------------ 9.7/40.9 MB 395.6 kB/s eta 0:01:20\n",
      "   --------- ------------------------------ 9.7/40.9 MB 395.6 kB/s eta 0:01:20\n",
      "   --------- ------------------------------ 9.7/40.9 MB 395.6 kB/s eta 0:01:20\n",
      "   --------- ------------------------------ 9.7/40.9 MB 395.6 kB/s eta 0:01:20\n",
      "   --------- ------------------------------ 9.7/40.9 MB 395.6 kB/s eta 0:01:20\n",
      "   --------- ------------------------------ 9.7/40.9 MB 395.6 kB/s eta 0:01:20\n",
      "   --------- ------------------------------ 9.7/40.9 MB 395.6 kB/s eta 0:01:20\n",
      "   --------- ------------------------------ 9.7/40.9 MB 395.6 kB/s eta 0:01:20\n",
      "   --------- ------------------------------ 9.7/40.9 MB 395.6 kB/s eta 0:01:20\n",
      "   --------- ------------------------------ 9.7/40.9 MB 395.6 kB/s eta 0:01:20\n",
      "   --------- ------------------------------ 9.7/40.9 MB 395.6 kB/s eta 0:01:20\n",
      "   --------- ------------------------------ 9.7/40.9 MB 395.6 kB/s eta 0:01:20\n",
      "   --------- ------------------------------ 9.7/40.9 MB 395.6 kB/s eta 0:01:20\n",
      "   --------- ------------------------------ 9.7/40.9 MB 395.6 kB/s eta 0:01:20\n",
      "   --------- ------------------------------ 9.7/40.9 MB 395.6 kB/s eta 0:01:20\n",
      "   --------- ------------------------------ 9.7/40.9 MB 395.6 kB/s eta 0:01:20\n",
      "   --------- ------------------------------ 9.7/40.9 MB 395.6 kB/s eta 0:01:20\n",
      "   --------- ------------------------------ 9.7/40.9 MB 395.6 kB/s eta 0:01:20\n",
      "   --------- ------------------------------ 9.7/40.9 MB 395.6 kB/s eta 0:01:20\n",
      "   --------- ------------------------------ 9.7/40.9 MB 395.6 kB/s eta 0:01:20\n",
      "   --------- ------------------------------ 9.7/40.9 MB 395.6 kB/s eta 0:01:20\n",
      "   --------- ------------------------------ 9.7/40.9 MB 395.6 kB/s eta 0:01:20\n",
      "   --------- ------------------------------ 9.7/40.9 MB 395.6 kB/s eta 0:01:20\n",
      "   --------- ------------------------------ 9.7/40.9 MB 395.6 kB/s eta 0:01:20\n",
      "   --------- ------------------------------ 9.7/40.9 MB 395.6 kB/s eta 0:01:20\n",
      "   --------- ------------------------------ 9.7/40.9 MB 395.6 kB/s eta 0:01:20\n",
      "   --------- ------------------------------ 9.7/40.9 MB 395.6 kB/s eta 0:01:20\n",
      "   --------- ------------------------------ 9.7/40.9 MB 395.6 kB/s eta 0:01:20\n",
      "   --------- ------------------------------ 9.7/40.9 MB 395.6 kB/s eta 0:01:20\n",
      "   --------- ------------------------------ 9.7/40.9 MB 395.6 kB/s eta 0:01:20\n",
      "   --------- ------------------------------ 9.7/40.9 MB 395.6 kB/s eta 0:01:20\n",
      "   --------- ------------------------------ 9.7/40.9 MB 395.6 kB/s eta 0:01:20\n",
      "   --------- ------------------------------ 9.7/40.9 MB 395.6 kB/s eta 0:01:20\n",
      "   --------- ------------------------------ 9.7/40.9 MB 395.6 kB/s eta 0:01:20\n",
      "   --------- ------------------------------ 9.7/40.9 MB 395.6 kB/s eta 0:01:20\n",
      "   --------- ------------------------------ 9.7/40.9 MB 395.6 kB/s eta 0:01:20\n",
      "   --------- ------------------------------ 9.7/40.9 MB 313.5 kB/s eta 0:01:40\n",
      "   --------- ------------------------------ 9.7/40.9 MB 312.1 kB/s eta 0:01:41\n",
      "   --------- ------------------------------ 9.7/40.9 MB 311.8 kB/s eta 0:01:41\n",
      "   --------- ------------------------------ 9.7/40.9 MB 311.8 kB/s eta 0:01:41\n",
      "   --------- ------------------------------ 9.8/40.9 MB 318.3 kB/s eta 0:01:38\n",
      "   --------- ------------------------------ 9.8/40.9 MB 318.3 kB/s eta 0:01:38\n",
      "   --------- ------------------------------ 9.8/40.9 MB 318.5 kB/s eta 0:01:38\n",
      "   --------- ------------------------------ 9.8/40.9 MB 318.3 kB/s eta 0:01:38\n",
      "   --------- ------------------------------ 9.8/40.9 MB 318.3 kB/s eta 0:01:38\n",
      "   --------- ------------------------------ 9.8/40.9 MB 317.8 kB/s eta 0:01:38\n",
      "   --------- ------------------------------ 9.8/40.9 MB 317.8 kB/s eta 0:01:38\n",
      "   --------- ------------------------------ 9.9/40.9 MB 317.0 kB/s eta 0:01:39\n",
      "   --------- ------------------------------ 9.9/40.9 MB 317.0 kB/s eta 0:01:39\n",
      "   --------- ------------------------------ 9.9/40.9 MB 316.4 kB/s eta 0:01:39\n",
      "   --------- ------------------------------ 9.9/40.9 MB 316.4 kB/s eta 0:01:39\n",
      "   --------- ------------------------------ 9.9/40.9 MB 316.1 kB/s eta 0:01:39\n",
      "   --------- ------------------------------ 9.9/40.9 MB 315.6 kB/s eta 0:01:39\n",
      "   --------- ------------------------------ 9.9/40.9 MB 315.6 kB/s eta 0:01:39\n",
      "   --------- ------------------------------ 10.0/40.9 MB 314.4 kB/s eta 0:01:39\n",
      "   --------- ------------------------------ 10.0/40.9 MB 314.4 kB/s eta 0:01:39\n",
      "   --------- ------------------------------ 10.0/40.9 MB 314.5 kB/s eta 0:01:39\n",
      "   --------- ------------------------------ 10.0/40.9 MB 314.4 kB/s eta 0:01:39\n",
      "   --------- ------------------------------ 10.0/40.9 MB 315.5 kB/s eta 0:01:38\n",
      "   --------- ------------------------------ 10.0/40.9 MB 315.5 kB/s eta 0:01:38\n",
      "   --------- ------------------------------ 10.0/40.9 MB 315.5 kB/s eta 0:01:38\n",
      "   --------- ------------------------------ 10.0/40.9 MB 315.5 kB/s eta 0:01:38\n",
      "   --------- ------------------------------ 10.0/40.9 MB 315.5 kB/s eta 0:01:38\n",
      "   --------- ------------------------------ 10.1/40.9 MB 314.4 kB/s eta 0:01:39\n",
      "   --------- ------------------------------ 10.1/40.9 MB 314.4 kB/s eta 0:01:39\n",
      "   --------- ------------------------------ 10.1/40.9 MB 314.4 kB/s eta 0:01:39\n",
      "   --------- ------------------------------ 10.1/40.9 MB 314.4 kB/s eta 0:01:39\n",
      "   --------- ------------------------------ 10.1/40.9 MB 314.4 kB/s eta 0:01:39\n",
      "   --------- ------------------------------ 10.1/40.9 MB 314.4 kB/s eta 0:01:39\n",
      "   --------- ------------------------------ 10.1/40.9 MB 314.4 kB/s eta 0:01:39\n",
      "   --------- ------------------------------ 10.1/40.9 MB 312.3 kB/s eta 0:01:39\n",
      "   --------- ------------------------------ 10.1/40.9 MB 312.3 kB/s eta 0:01:39\n",
      "   --------- ------------------------------ 10.1/40.9 MB 312.3 kB/s eta 0:01:39\n",
      "   --------- ------------------------------ 10.1/40.9 MB 312.3 kB/s eta 0:01:39\n",
      "   --------- ------------------------------ 10.1/40.9 MB 312.3 kB/s eta 0:01:39\n",
      "   --------- ------------------------------ 10.1/40.9 MB 312.0 kB/s eta 0:01:39\n",
      "   --------- ------------------------------ 10.1/40.9 MB 312.0 kB/s eta 0:01:39\n",
      "   --------- ------------------------------ 10.1/40.9 MB 312.0 kB/s eta 0:01:39\n",
      "   --------- ------------------------------ 10.1/40.9 MB 312.0 kB/s eta 0:01:39\n",
      "   --------- ------------------------------ 10.1/40.9 MB 312.0 kB/s eta 0:01:39\n",
      "   --------- ------------------------------ 10.1/40.9 MB 312.0 kB/s eta 0:01:39\n",
      "   --------- ------------------------------ 10.1/40.9 MB 312.0 kB/s eta 0:01:39\n",
      "   --------- ------------------------------ 10.1/40.9 MB 312.0 kB/s eta 0:01:39\n",
      "   --------- ------------------------------ 10.1/40.9 MB 312.0 kB/s eta 0:01:39\n",
      "   --------- ------------------------------ 10.1/40.9 MB 312.0 kB/s eta 0:01:39\n",
      "   --------- ------------------------------ 10.1/40.9 MB 307.1 kB/s eta 0:01:41\n",
      "   --------- ------------------------------ 10.1/40.9 MB 307.1 kB/s eta 0:01:41\n",
      "   --------- ------------------------------ 10.1/40.9 MB 307.1 kB/s eta 0:01:41\n",
      "   --------- ------------------------------ 10.1/40.9 MB 307.1 kB/s eta 0:01:41\n",
      "   --------- ------------------------------ 10.1/40.9 MB 307.1 kB/s eta 0:01:41\n",
      "   --------- ------------------------------ 10.1/40.9 MB 304.1 kB/s eta 0:01:42\n",
      "   --------- ------------------------------ 10.1/40.9 MB 304.1 kB/s eta 0:01:42\n",
      "   --------- ------------------------------ 10.1/40.9 MB 304.1 kB/s eta 0:01:42\n",
      "   --------- ------------------------------ 10.1/40.9 MB 304.1 kB/s eta 0:01:42\n",
      "   --------- ------------------------------ 10.1/40.9 MB 304.1 kB/s eta 0:01:42\n",
      "   --------- ------------------------------ 10.1/40.9 MB 304.1 kB/s eta 0:01:42\n",
      "   --------- ------------------------------ 10.1/40.9 MB 304.1 kB/s eta 0:01:42\n",
      "   --------- ------------------------------ 10.1/40.9 MB 298.7 kB/s eta 0:01:44\n",
      "   --------- ------------------------------ 10.1/40.9 MB 298.7 kB/s eta 0:01:44\n",
      "   --------- ------------------------------ 10.1/40.9 MB 298.7 kB/s eta 0:01:44\n",
      "   --------- ------------------------------ 10.1/40.9 MB 298.7 kB/s eta 0:01:44\n",
      "   --------- ------------------------------ 10.1/40.9 MB 298.7 kB/s eta 0:01:44\n",
      "   --------- ------------------------------ 10.1/40.9 MB 298.7 kB/s eta 0:01:44\n",
      "   --------- ------------------------------ 10.1/40.9 MB 298.7 kB/s eta 0:01:44\n",
      "   --------- ------------------------------ 10.1/40.9 MB 298.7 kB/s eta 0:01:44\n",
      "   --------- ------------------------------ 10.1/40.9 MB 298.7 kB/s eta 0:01:44\n",
      "   --------- ------------------------------ 10.1/40.9 MB 298.7 kB/s eta 0:01:44\n",
      "   --------- ------------------------------ 10.1/40.9 MB 298.7 kB/s eta 0:01:44\n",
      "   --------- ------------------------------ 10.1/40.9 MB 298.7 kB/s eta 0:01:44\n",
      "   --------- ------------------------------ 10.1/40.9 MB 298.7 kB/s eta 0:01:44\n",
      "   --------- ------------------------------ 10.1/40.9 MB 298.7 kB/s eta 0:01:44\n",
      "   --------- ------------------------------ 10.1/40.9 MB 298.7 kB/s eta 0:01:44\n",
      "   --------- ------------------------------ 10.1/40.9 MB 298.7 kB/s eta 0:01:44\n",
      "   --------- ------------------------------ 10.1/40.9 MB 298.7 kB/s eta 0:01:44\n",
      "   --------- ------------------------------ 10.1/40.9 MB 298.7 kB/s eta 0:01:44\n",
      "   --------- ------------------------------ 10.1/40.9 MB 298.7 kB/s eta 0:01:44\n",
      "   --------- ------------------------------ 10.1/40.9 MB 298.7 kB/s eta 0:01:44\n",
      "   --------- ------------------------------ 10.1/40.9 MB 298.7 kB/s eta 0:01:44\n",
      "   --------- ------------------------------ 10.1/40.9 MB 298.7 kB/s eta 0:01:44\n",
      "   --------- ------------------------------ 10.1/40.9 MB 298.7 kB/s eta 0:01:44\n",
      "   --------- ------------------------------ 10.1/40.9 MB 298.7 kB/s eta 0:01:44\n",
      "   --------- ------------------------------ 10.1/40.9 MB 298.7 kB/s eta 0:01:44\n",
      "   --------- ------------------------------ 10.1/40.9 MB 298.7 kB/s eta 0:01:44\n",
      "   --------- ------------------------------ 10.1/40.9 MB 298.7 kB/s eta 0:01:44\n",
      "   --------- ------------------------------ 10.1/40.9 MB 298.7 kB/s eta 0:01:44\n",
      "   --------- ------------------------------ 10.2/40.9 MB 284.8 kB/s eta 0:01:49\n",
      "   --------- ------------------------------ 10.2/40.9 MB 285.2 kB/s eta 0:01:48\n",
      "   --------- ------------------------------ 10.2/40.9 MB 288.5 kB/s eta 0:01:47\n",
      "   --------- ------------------------------ 10.2/40.9 MB 288.4 kB/s eta 0:01:47\n",
      "   ---------- ----------------------------- 10.3/40.9 MB 288.9 kB/s eta 0:01:47\n",
      "   ---------- ----------------------------- 10.3/40.9 MB 288.9 kB/s eta 0:01:47\n",
      "   ---------- ----------------------------- 10.3/40.9 MB 289.3 kB/s eta 0:01:46\n",
      "   ---------- ----------------------------- 10.4/40.9 MB 291.3 kB/s eta 0:01:45\n",
      "   ---------- ----------------------------- 10.4/40.9 MB 293.7 kB/s eta 0:01:44\n",
      "   ---------- ----------------------------- 10.5/40.9 MB 294.0 kB/s eta 0:01:44\n",
      "   ---------- ----------------------------- 10.5/40.9 MB 294.0 kB/s eta 0:01:44\n",
      "   ---------- ----------------------------- 10.5/40.9 MB 291.2 kB/s eta 0:01:45\n",
      "   ---------- ----------------------------- 10.5/40.9 MB 291.7 kB/s eta 0:01:45\n",
      "   ---------- ----------------------------- 10.5/40.9 MB 291.0 kB/s eta 0:01:45\n",
      "   ---------- ----------------------------- 10.6/40.9 MB 291.3 kB/s eta 0:01:45\n",
      "   ---------- ----------------------------- 10.6/40.9 MB 291.5 kB/s eta 0:01:45\n",
      "   ---------- ----------------------------- 10.6/40.9 MB 291.5 kB/s eta 0:01:45\n",
      "   ---------- ----------------------------- 10.6/40.9 MB 291.5 kB/s eta 0:01:45\n",
      "   ---------- ----------------------------- 10.6/40.9 MB 291.5 kB/s eta 0:01:45\n",
      "   ---------- ----------------------------- 10.6/40.9 MB 291.5 kB/s eta 0:01:45\n",
      "   ---------- ----------------------------- 10.6/40.9 MB 291.5 kB/s eta 0:01:45\n",
      "   ---------- ----------------------------- 10.6/40.9 MB 291.5 kB/s eta 0:01:45\n",
      "   ---------- ----------------------------- 10.6/40.9 MB 291.5 kB/s eta 0:01:45\n",
      "   ---------- ----------------------------- 10.6/40.9 MB 289.1 kB/s eta 0:01:45\n",
      "   ---------- ----------------------------- 10.7/40.9 MB 290.4 kB/s eta 0:01:45\n",
      "   ---------- ----------------------------- 10.7/40.9 MB 290.4 kB/s eta 0:01:45\n",
      "   ---------- ----------------------------- 10.7/40.9 MB 290.4 kB/s eta 0:01:45\n",
      "   ---------- ----------------------------- 10.7/40.9 MB 290.4 kB/s eta 0:01:45\n",
      "   ---------- ----------------------------- 10.7/40.9 MB 289.2 kB/s eta 0:01:45\n",
      "   ---------- ----------------------------- 10.7/40.9 MB 289.2 kB/s eta 0:01:45\n",
      "   ---------- ----------------------------- 10.8/40.9 MB 289.8 kB/s eta 0:01:45\n",
      "   ---------- ----------------------------- 10.8/40.9 MB 289.8 kB/s eta 0:01:45\n",
      "   ---------- ----------------------------- 10.8/40.9 MB 289.9 kB/s eta 0:01:44\n",
      "   ---------- ----------------------------- 10.9/40.9 MB 291.5 kB/s eta 0:01:44\n",
      "   ---------- ----------------------------- 11.0/40.9 MB 291.7 kB/s eta 0:01:43\n",
      "   ---------- ----------------------------- 11.0/40.9 MB 292.2 kB/s eta 0:01:43\n",
      "   ---------- ----------------------------- 11.0/40.9 MB 292.7 kB/s eta 0:01:43\n",
      "   ---------- ----------------------------- 11.1/40.9 MB 293.5 kB/s eta 0:01:42\n",
      "   ---------- ----------------------------- 11.1/40.9 MB 294.6 kB/s eta 0:01:42\n",
      "   ---------- ----------------------------- 11.2/40.9 MB 295.7 kB/s eta 0:01:41\n",
      "   ----------- ---------------------------- 11.3/40.9 MB 297.8 kB/s eta 0:01:40\n",
      "   ----------- ---------------------------- 11.3/40.9 MB 297.8 kB/s eta 0:01:40\n",
      "   ----------- ---------------------------- 11.3/40.9 MB 297.8 kB/s eta 0:01:40\n",
      "   ----------- ---------------------------- 11.3/40.9 MB 297.8 kB/s eta 0:01:40\n",
      "   ----------- ---------------------------- 11.3/40.9 MB 297.8 kB/s eta 0:01:40\n",
      "   ----------- ---------------------------- 11.3/40.9 MB 297.8 kB/s eta 0:01:40\n",
      "   ----------- ---------------------------- 11.3/40.9 MB 293.7 kB/s eta 0:01:41\n",
      "   ----------- ---------------------------- 11.3/40.9 MB 293.7 kB/s eta 0:01:41\n",
      "   ----------- ---------------------------- 11.4/40.9 MB 294.6 kB/s eta 0:01:41\n",
      "   ----------- ---------------------------- 11.4/40.9 MB 295.3 kB/s eta 0:01:40\n",
      "   ----------- ---------------------------- 11.5/40.9 MB 295.7 kB/s eta 0:01:40\n",
      "   ----------- ---------------------------- 11.5/40.9 MB 296.4 kB/s eta 0:01:40\n",
      "   ----------- ---------------------------- 11.6/40.9 MB 296.6 kB/s eta 0:01:40\n",
      "   ----------- ---------------------------- 11.6/40.9 MB 297.8 kB/s eta 0:01:39\n",
      "   ----------- ---------------------------- 11.7/40.9 MB 299.0 kB/s eta 0:01:38\n",
      "   ----------- ---------------------------- 11.7/40.9 MB 299.0 kB/s eta 0:01:38\n",
      "   ----------- ---------------------------- 11.7/40.9 MB 298.7 kB/s eta 0:01:38\n",
      "   ----------- ---------------------------- 11.8/40.9 MB 298.7 kB/s eta 0:01:38\n",
      "   ----------- ---------------------------- 11.8/40.9 MB 299.3 kB/s eta 0:01:38\n",
      "   ----------- ---------------------------- 11.9/40.9 MB 300.2 kB/s eta 0:01:37\n",
      "   ----------- ---------------------------- 12.0/40.9 MB 301.2 kB/s eta 0:01:37\n",
      "   ----------- ---------------------------- 12.0/40.9 MB 302.1 kB/s eta 0:01:36\n",
      "   ----------- ---------------------------- 12.0/40.9 MB 301.4 kB/s eta 0:01:36\n",
      "   ----------- ---------------------------- 12.1/40.9 MB 302.2 kB/s eta 0:01:36\n",
      "   ----------- ---------------------------- 12.1/40.9 MB 302.9 kB/s eta 0:01:36\n",
      "   ----------- ---------------------------- 12.2/40.9 MB 303.6 kB/s eta 0:01:35\n",
      "   ----------- ---------------------------- 12.2/40.9 MB 303.6 kB/s eta 0:01:35\n",
      "   ----------- ---------------------------- 12.3/40.9 MB 304.8 kB/s eta 0:01:35\n",
      "   ------------ --------------------------- 12.3/40.9 MB 305.0 kB/s eta 0:01:34\n",
      "   ------------ --------------------------- 12.3/40.9 MB 305.0 kB/s eta 0:01:34\n",
      "   ------------ --------------------------- 12.3/40.9 MB 302.4 kB/s eta 0:01:35\n",
      "   ------------ --------------------------- 12.3/40.9 MB 302.4 kB/s eta 0:01:35\n",
      "   ------------ --------------------------- 12.3/40.9 MB 303.3 kB/s eta 0:01:35\n",
      "   ------------ --------------------------- 12.3/40.9 MB 303.6 kB/s eta 0:01:35\n",
      "   ------------ --------------------------- 12.4/40.9 MB 303.1 kB/s eta 0:01:35\n",
      "   ------------ --------------------------- 12.4/40.9 MB 303.1 kB/s eta 0:01:35\n",
      "   ------------ --------------------------- 12.4/40.9 MB 303.1 kB/s eta 0:01:35\n",
      "   ------------ --------------------------- 12.4/40.9 MB 303.1 kB/s eta 0:01:35\n",
      "   ------------ --------------------------- 12.4/40.9 MB 299.3 kB/s eta 0:01:36\n",
      "   ------------ --------------------------- 12.4/40.9 MB 301.4 kB/s eta 0:01:35\n",
      "   ------------ --------------------------- 12.4/40.9 MB 301.8 kB/s eta 0:01:35\n",
      "   ------------ --------------------------- 12.4/40.9 MB 301.8 kB/s eta 0:01:35\n",
      "   ------------ --------------------------- 12.4/40.9 MB 301.3 kB/s eta 0:01:35\n",
      "   ------------ --------------------------- 12.5/40.9 MB 301.5 kB/s eta 0:01:35\n",
      "   ------------ --------------------------- 12.5/40.9 MB 301.2 kB/s eta 0:01:35\n",
      "   ------------ --------------------------- 12.5/40.9 MB 301.2 kB/s eta 0:01:35\n",
      "   ------------ --------------------------- 12.5/40.9 MB 300.0 kB/s eta 0:01:35\n",
      "   ------------ --------------------------- 12.5/40.9 MB 299.3 kB/s eta 0:01:35\n",
      "   ------------ --------------------------- 12.6/40.9 MB 299.3 kB/s eta 0:01:35\n",
      "   ------------ --------------------------- 12.6/40.9 MB 297.8 kB/s eta 0:01:36\n",
      "   ------------ --------------------------- 12.6/40.9 MB 301.8 kB/s eta 0:01:34\n",
      "   ------------ --------------------------- 12.7/40.9 MB 303.3 kB/s eta 0:01:34\n",
      "   ------------ --------------------------- 12.7/40.9 MB 304.5 kB/s eta 0:01:33\n",
      "   ------------ --------------------------- 12.8/40.9 MB 305.0 kB/s eta 0:01:33\n",
      "   ------------ --------------------------- 12.8/40.9 MB 305.0 kB/s eta 0:01:33\n",
      "   ------------ --------------------------- 12.8/40.9 MB 304.8 kB/s eta 0:01:33\n",
      "   ------------ --------------------------- 12.8/40.9 MB 304.8 kB/s eta 0:01:33\n",
      "   ------------ --------------------------- 12.8/40.9 MB 297.3 kB/s eta 0:01:35\n",
      "   ------------ --------------------------- 12.9/40.9 MB 296.8 kB/s eta 0:01:35\n",
      "   ------------ --------------------------- 12.9/40.9 MB 296.3 kB/s eta 0:01:35\n",
      "   ------------ --------------------------- 13.0/40.9 MB 295.6 kB/s eta 0:01:35\n",
      "   ------------ --------------------------- 13.0/40.9 MB 295.6 kB/s eta 0:01:35\n",
      "   ------------ --------------------------- 13.0/40.9 MB 294.6 kB/s eta 0:01:35\n",
      "   ------------ --------------------------- 13.1/40.9 MB 294.9 kB/s eta 0:01:35\n",
      "   ------------ --------------------------- 13.2/40.9 MB 296.1 kB/s eta 0:01:34\n",
      "   ------------ --------------------------- 13.2/40.9 MB 296.6 kB/s eta 0:01:34\n",
      "   ------------ --------------------------- 13.2/40.9 MB 297.9 kB/s eta 0:01:34\n",
      "   ------------ --------------------------- 13.2/40.9 MB 297.9 kB/s eta 0:01:34\n",
      "   ------------ --------------------------- 13.2/40.9 MB 297.9 kB/s eta 0:01:34\n",
      "   ------------ --------------------------- 13.2/40.9 MB 297.9 kB/s eta 0:01:34\n",
      "   ------------ --------------------------- 13.2/40.9 MB 297.9 kB/s eta 0:01:34\n",
      "   ------------ --------------------------- 13.2/40.9 MB 300.8 kB/s eta 0:01:33\n",
      "   ------------ --------------------------- 13.2/40.9 MB 300.8 kB/s eta 0:01:33\n",
      "   ------------ --------------------------- 13.2/40.9 MB 300.8 kB/s eta 0:01:33\n",
      "   ------------ --------------------------- 13.3/40.9 MB 299.9 kB/s eta 0:01:33\n",
      "   ------------ --------------------------- 13.3/40.9 MB 299.9 kB/s eta 0:01:33\n",
      "   ------------ --------------------------- 13.3/40.9 MB 299.9 kB/s eta 0:01:33\n",
      "   ------------ --------------------------- 13.3/40.9 MB 299.2 kB/s eta 0:01:33\n",
      "   ------------ --------------------------- 13.3/40.9 MB 299.4 kB/s eta 0:01:33\n",
      "   ------------ --------------------------- 13.3/40.9 MB 299.3 kB/s eta 0:01:33\n",
      "   ------------ --------------------------- 13.3/40.9 MB 299.3 kB/s eta 0:01:33\n",
      "   ------------ --------------------------- 13.3/40.9 MB 299.3 kB/s eta 0:01:33\n",
      "   ------------- -------------------------- 13.3/40.9 MB 297.3 kB/s eta 0:01:33\n",
      "   ------------- -------------------------- 13.3/40.9 MB 297.3 kB/s eta 0:01:33\n",
      "   ------------- -------------------------- 13.3/40.9 MB 297.3 kB/s eta 0:01:33\n",
      "   ------------- -------------------------- 13.3/40.9 MB 297.3 kB/s eta 0:01:33\n",
      "   ------------- -------------------------- 13.3/40.9 MB 297.3 kB/s eta 0:01:33\n",
      "   ------------- -------------------------- 13.4/40.9 MB 294.4 kB/s eta 0:01:34\n",
      "   ------------- -------------------------- 13.4/40.9 MB 293.9 kB/s eta 0:01:34\n",
      "   ------------- -------------------------- 13.4/40.9 MB 293.9 kB/s eta 0:01:34\n",
      "   ------------- -------------------------- 13.4/40.9 MB 294.9 kB/s eta 0:01:34\n",
      "   ------------- -------------------------- 13.4/40.9 MB 294.8 kB/s eta 0:01:34\n",
      "   ------------- -------------------------- 13.4/40.9 MB 294.9 kB/s eta 0:01:34\n",
      "   ------------- -------------------------- 13.4/40.9 MB 294.9 kB/s eta 0:01:34\n",
      "   ------------- -------------------------- 13.4/40.9 MB 294.9 kB/s eta 0:01:34\n",
      "   ------------- -------------------------- 13.4/40.9 MB 294.9 kB/s eta 0:01:34\n",
      "   ------------- -------------------------- 13.5/40.9 MB 294.2 kB/s eta 0:01:34\n",
      "   ------------- -------------------------- 13.5/40.9 MB 294.2 kB/s eta 0:01:34\n",
      "   ------------- -------------------------- 13.5/40.9 MB 294.5 kB/s eta 0:01:34\n",
      "   ------------- -------------------------- 13.5/40.9 MB 294.5 kB/s eta 0:01:34\n",
      "   ------------- -------------------------- 13.5/40.9 MB 294.5 kB/s eta 0:01:34\n",
      "   ------------- -------------------------- 13.5/40.9 MB 294.5 kB/s eta 0:01:34\n",
      "   ------------- -------------------------- 13.5/40.9 MB 294.5 kB/s eta 0:01:34\n",
      "   ------------- -------------------------- 13.5/40.9 MB 294.5 kB/s eta 0:01:34\n",
      "   ------------- -------------------------- 13.5/40.9 MB 294.5 kB/s eta 0:01:34\n",
      "   ------------- -------------------------- 13.5/40.9 MB 294.5 kB/s eta 0:01:34\n",
      "   ------------- -------------------------- 13.5/40.9 MB 294.5 kB/s eta 0:01:34\n",
      "   ------------- -------------------------- 13.5/40.9 MB 294.5 kB/s eta 0:01:34\n",
      "   ------------- -------------------------- 13.5/40.9 MB 294.5 kB/s eta 0:01:34\n",
      "   ------------- -------------------------- 13.5/40.9 MB 294.5 kB/s eta 0:01:34\n",
      "   ------------- -------------------------- 13.5/40.9 MB 294.5 kB/s eta 0:01:34\n",
      "   ------------- -------------------------- 13.5/40.9 MB 294.5 kB/s eta 0:01:34\n",
      "   ------------- -------------------------- 13.5/40.9 MB 283.0 kB/s eta 0:01:37\n",
      "   ------------- -------------------------- 13.5/40.9 MB 282.1 kB/s eta 0:01:38\n",
      "   ------------- -------------------------- 13.6/40.9 MB 282.8 kB/s eta 0:01:37\n",
      "   ------------- -------------------------- 13.6/40.9 MB 286.5 kB/s eta 0:01:36\n",
      "   ------------- -------------------------- 13.7/40.9 MB 287.8 kB/s eta 0:01:35\n",
      "   ------------- -------------------------- 13.8/40.9 MB 289.4 kB/s eta 0:01:34\n",
      "   ------------- -------------------------- 13.8/40.9 MB 289.9 kB/s eta 0:01:34\n",
      "   ------------- -------------------------- 13.8/40.9 MB 291.2 kB/s eta 0:01:34\n",
      "   ------------- -------------------------- 13.9/40.9 MB 291.8 kB/s eta 0:01:33\n",
      "   ------------- -------------------------- 13.9/40.9 MB 291.8 kB/s eta 0:01:33\n",
      "   ------------- -------------------------- 13.9/40.9 MB 291.8 kB/s eta 0:01:33\n",
      "   ------------- -------------------------- 13.9/40.9 MB 291.8 kB/s eta 0:01:33\n",
      "   ------------- -------------------------- 13.9/40.9 MB 286.4 kB/s eta 0:01:35\n",
      "   ------------- -------------------------- 13.9/40.9 MB 284.8 kB/s eta 0:01:35\n",
      "   ------------- -------------------------- 14.0/40.9 MB 284.3 kB/s eta 0:01:35\n",
      "   ------------- -------------------------- 14.0/40.9 MB 283.0 kB/s eta 0:01:36\n",
      "   ------------- -------------------------- 14.0/40.9 MB 283.0 kB/s eta 0:01:36\n",
      "   ------------- -------------------------- 14.0/40.9 MB 283.0 kB/s eta 0:01:36\n",
      "   ------------- -------------------------- 14.2/40.9 MB 281.3 kB/s eta 0:01:36\n",
      "   ------------- -------------------------- 14.2/40.9 MB 278.7 kB/s eta 0:01:37\n",
      "   ------------- -------------------------- 14.2/40.9 MB 277.8 kB/s eta 0:01:37\n",
      "   ------------- -------------------------- 14.3/40.9 MB 279.2 kB/s eta 0:01:36\n",
      "   ------------- -------------------------- 14.3/40.9 MB 279.2 kB/s eta 0:01:36\n",
      "   ------------- -------------------------- 14.3/40.9 MB 278.5 kB/s eta 0:01:36\n",
      "   -------------- ------------------------- 14.4/40.9 MB 277.8 kB/s eta 0:01:36\n",
      "   -------------- ------------------------- 14.4/40.9 MB 276.3 kB/s eta 0:01:37\n",
      "   -------------- ------------------------- 14.4/40.9 MB 276.3 kB/s eta 0:01:37\n",
      "   -------------- ------------------------- 14.4/40.9 MB 276.3 kB/s eta 0:01:37\n",
      "   -------------- ------------------------- 14.4/40.9 MB 276.3 kB/s eta 0:01:37\n",
      "   -------------- ------------------------- 14.4/40.9 MB 276.3 kB/s eta 0:01:37\n",
      "   -------------- ------------------------- 14.4/40.9 MB 276.3 kB/s eta 0:01:37\n",
      "   -------------- ------------------------- 14.4/40.9 MB 276.3 kB/s eta 0:01:37\n",
      "   -------------- ------------------------- 14.4/40.9 MB 276.3 kB/s eta 0:01:37\n",
      "   -------------- ------------------------- 14.4/40.9 MB 276.3 kB/s eta 0:01:37\n",
      "   -------------- ------------------------- 14.9/40.9 MB 275.0 kB/s eta 0:01:35\n",
      "   -------------- ------------------------- 14.9/40.9 MB 275.4 kB/s eta 0:01:35\n",
      "   -------------- ------------------------- 15.0/40.9 MB 276.5 kB/s eta 0:01:34\n",
      "   -------------- ------------------------- 15.0/40.9 MB 278.3 kB/s eta 0:01:34\n",
      "   -------------- ------------------------- 15.1/40.9 MB 279.1 kB/s eta 0:01:33\n",
      "   -------------- ------------------------- 15.1/40.9 MB 280.3 kB/s eta 0:01:33\n",
      "   -------------- ------------------------- 15.1/40.9 MB 281.7 kB/s eta 0:01:32\n",
      "   -------------- ------------------------- 15.2/40.9 MB 282.9 kB/s eta 0:01:32\n",
      "   -------------- ------------------------- 15.2/40.9 MB 283.8 kB/s eta 0:01:31\n",
      "   -------------- ------------------------- 15.3/40.9 MB 284.0 kB/s eta 0:01:31\n",
      "   -------------- ------------------------- 15.3/40.9 MB 283.3 kB/s eta 0:01:31\n",
      "   --------------- ------------------------ 15.4/40.9 MB 283.6 kB/s eta 0:01:31\n",
      "   --------------- ------------------------ 15.4/40.9 MB 283.6 kB/s eta 0:01:31\n",
      "   --------------- ------------------------ 15.4/40.9 MB 283.6 kB/s eta 0:01:31\n",
      "   --------------- ------------------------ 15.4/40.9 MB 278.9 kB/s eta 0:01:32\n",
      "   --------------- ------------------------ 15.4/40.9 MB 277.2 kB/s eta 0:01:33\n",
      "   --------------- ------------------------ 15.4/40.9 MB 278.6 kB/s eta 0:01:32\n",
      "   --------------- ------------------------ 15.5/40.9 MB 279.6 kB/s eta 0:01:32\n",
      "   --------------- ------------------------ 15.5/40.9 MB 275.5 kB/s eta 0:01:33\n",
      "   --------------- ------------------------ 15.5/40.9 MB 275.5 kB/s eta 0:01:33\n",
      "   --------------- ------------------------ 15.5/40.9 MB 275.5 kB/s eta 0:01:33\n",
      "   --------------- ------------------------ 15.6/40.9 MB 269.7 kB/s eta 0:01:35\n",
      "   --------------- ------------------------ 15.6/40.9 MB 269.7 kB/s eta 0:01:35\n",
      "   --------------- ------------------------ 15.6/40.9 MB 269.7 kB/s eta 0:01:35\n",
      "   --------------- ------------------------ 15.6/40.9 MB 269.7 kB/s eta 0:01:35\n",
      "   --------------- ------------------------ 15.6/40.9 MB 269.7 kB/s eta 0:01:35\n",
      "   --------------- ------------------------ 15.6/40.9 MB 269.7 kB/s eta 0:01:35\n",
      "   --------------- ------------------------ 15.6/40.9 MB 260.4 kB/s eta 0:01:38\n",
      "   --------------- ------------------------ 15.6/40.9 MB 261.1 kB/s eta 0:01:38\n",
      "   --------------- ------------------------ 15.6/40.9 MB 261.1 kB/s eta 0:01:38\n",
      "   --------------- ------------------------ 15.6/40.9 MB 261.1 kB/s eta 0:01:38\n",
      "   --------------- ------------------------ 15.7/40.9 MB 262.1 kB/s eta 0:01:37\n",
      "   --------------- ------------------------ 15.7/40.9 MB 262.1 kB/s eta 0:01:37\n",
      "   --------------- ------------------------ 15.7/40.9 MB 262.1 kB/s eta 0:01:37\n",
      "   --------------- ------------------------ 15.7/40.9 MB 257.0 kB/s eta 0:01:39\n",
      "   --------------- ------------------------ 15.7/40.9 MB 257.0 kB/s eta 0:01:39\n",
      "   --------------- ------------------------ 15.7/40.9 MB 257.0 kB/s eta 0:01:39\n",
      "   --------------- ------------------------ 15.7/40.9 MB 257.0 kB/s eta 0:01:39\n",
      "   --------------- ------------------------ 15.7/40.9 MB 257.0 kB/s eta 0:01:39\n",
      "   --------------- ------------------------ 15.7/40.9 MB 257.0 kB/s eta 0:01:39\n",
      "   --------------- ------------------------ 15.7/40.9 MB 257.0 kB/s eta 0:01:39\n",
      "   --------------- ------------------------ 15.7/40.9 MB 257.0 kB/s eta 0:01:39\n",
      "   --------------- ------------------------ 15.7/40.9 MB 257.0 kB/s eta 0:01:39\n",
      "   --------------- ------------------------ 15.7/40.9 MB 257.0 kB/s eta 0:01:39\n",
      "   --------------- ------------------------ 15.7/40.9 MB 257.0 kB/s eta 0:01:39\n",
      "   --------------- ------------------------ 15.7/40.9 MB 257.0 kB/s eta 0:01:39\n",
      "   --------------- ------------------------ 15.7/40.9 MB 257.0 kB/s eta 0:01:39\n",
      "   --------------- ------------------------ 15.7/40.9 MB 259.8 kB/s eta 0:01:38\n",
      "   --------------- ------------------------ 15.7/40.9 MB 259.8 kB/s eta 0:01:38\n",
      "   --------------- ------------------------ 15.7/40.9 MB 259.4 kB/s eta 0:01:38\n",
      "   --------------- ------------------------ 15.8/40.9 MB 260.4 kB/s eta 0:01:37\n",
      "   --------------- ------------------------ 15.8/40.9 MB 261.2 kB/s eta 0:01:37\n",
      "   --------------- ------------------------ 15.8/40.9 MB 261.5 kB/s eta 0:01:37\n",
      "   --------------- ------------------------ 15.9/40.9 MB 261.9 kB/s eta 0:01:36\n",
      "   --------------- ------------------------ 15.9/40.9 MB 261.9 kB/s eta 0:01:36\n",
      "   --------------- ------------------------ 15.9/40.9 MB 262.1 kB/s eta 0:01:36\n",
      "   --------------- ------------------------ 15.9/40.9 MB 262.8 kB/s eta 0:01:36\n",
      "   --------------- ------------------------ 16.0/40.9 MB 263.9 kB/s eta 0:01:35\n",
      "   --------------- ------------------------ 16.0/40.9 MB 263.9 kB/s eta 0:01:35\n",
      "   --------------- ------------------------ 16.0/40.9 MB 263.6 kB/s eta 0:01:35\n",
      "   --------------- ------------------------ 16.0/40.9 MB 263.9 kB/s eta 0:01:35\n",
      "   --------------- ------------------------ 16.0/40.9 MB 263.9 kB/s eta 0:01:35\n",
      "   --------------- ------------------------ 16.0/40.9 MB 263.9 kB/s eta 0:01:35\n",
      "   --------------- ------------------------ 16.0/40.9 MB 263.9 kB/s eta 0:01:35\n",
      "   --------------- ------------------------ 16.1/40.9 MB 263.7 kB/s eta 0:01:35\n",
      "   --------------- ------------------------ 16.1/40.9 MB 264.3 kB/s eta 0:01:34\n",
      "   --------------- ------------------------ 16.1/40.9 MB 264.3 kB/s eta 0:01:34\n",
      "   --------------- ------------------------ 16.1/40.9 MB 264.3 kB/s eta 0:01:34\n",
      "   --------------- ------------------------ 16.1/40.9 MB 264.3 kB/s eta 0:01:34\n",
      "   --------------- ------------------------ 16.1/40.9 MB 262.3 kB/s eta 0:01:35\n",
      "   --------------- ------------------------ 16.1/40.9 MB 262.3 kB/s eta 0:01:35\n",
      "   --------------- ------------------------ 16.2/40.9 MB 263.8 kB/s eta 0:01:34\n",
      "   --------------- ------------------------ 16.2/40.9 MB 264.1 kB/s eta 0:01:34\n",
      "   --------------- ------------------------ 16.3/40.9 MB 263.9 kB/s eta 0:01:34\n",
      "   --------------- ------------------------ 16.3/40.9 MB 263.9 kB/s eta 0:01:34\n",
      "   --------------- ------------------------ 16.3/40.9 MB 263.9 kB/s eta 0:01:34\n",
      "   --------------- ------------------------ 16.3/40.9 MB 263.9 kB/s eta 0:01:34\n",
      "   --------------- ------------------------ 16.3/40.9 MB 263.9 kB/s eta 0:01:34\n",
      "   --------------- ------------------------ 16.3/40.9 MB 263.9 kB/s eta 0:01:34\n",
      "   --------------- ------------------------ 16.3/40.9 MB 263.9 kB/s eta 0:01:34\n",
      "   --------------- ------------------------ 16.3/40.9 MB 270.4 kB/s eta 0:01:32\n",
      "   --------------- ------------------------ 16.3/40.9 MB 270.4 kB/s eta 0:01:32\n",
      "   --------------- ------------------------ 16.3/40.9 MB 270.4 kB/s eta 0:01:32\n",
      "   --------------- ------------------------ 16.3/40.9 MB 270.1 kB/s eta 0:01:32\n",
      "   --------------- ------------------------ 16.3/40.9 MB 270.1 kB/s eta 0:01:32\n",
      "   --------------- ------------------------ 16.3/40.9 MB 270.1 kB/s eta 0:01:32\n",
      "   --------------- ------------------------ 16.3/40.9 MB 270.1 kB/s eta 0:01:32\n",
      "   --------------- ------------------------ 16.3/40.9 MB 270.1 kB/s eta 0:01:32\n",
      "   --------------- ------------------------ 16.3/40.9 MB 270.1 kB/s eta 0:01:32\n",
      "   --------------- ------------------------ 16.3/40.9 MB 267.9 kB/s eta 0:01:32\n",
      "   --------------- ------------------------ 16.3/40.9 MB 267.9 kB/s eta 0:01:32\n",
      "   --------------- ------------------------ 16.3/40.9 MB 267.9 kB/s eta 0:01:32\n",
      "   ---------------- ----------------------- 16.4/40.9 MB 268.7 kB/s eta 0:01:32\n",
      "   ---------------- ----------------------- 16.4/40.9 MB 268.7 kB/s eta 0:01:32\n",
      "   ---------------- ----------------------- 16.5/40.9 MB 270.6 kB/s eta 0:01:31\n",
      "   ---------------- ----------------------- 16.6/40.9 MB 274.1 kB/s eta 0:01:29\n",
      "   ---------------- ----------------------- 16.7/40.9 MB 277.5 kB/s eta 0:01:28\n",
      "   ---------------- ----------------------- 16.8/40.9 MB 278.6 kB/s eta 0:01:27\n",
      "   ---------------- ----------------------- 16.8/40.9 MB 279.2 kB/s eta 0:01:27\n",
      "   ---------------- ----------------------- 16.8/40.9 MB 282.3 kB/s eta 0:01:26\n",
      "   ---------------- ----------------------- 16.9/40.9 MB 284.1 kB/s eta 0:01:25\n",
      "   ---------------- ----------------------- 17.0/40.9 MB 285.6 kB/s eta 0:01:24\n",
      "   ---------------- ----------------------- 17.0/40.9 MB 286.9 kB/s eta 0:01:24\n",
      "   ---------------- ----------------------- 17.1/40.9 MB 315.0 kB/s eta 0:01:16\n",
      "   ---------------- ----------------------- 17.1/40.9 MB 315.3 kB/s eta 0:01:16\n",
      "   ---------------- ----------------------- 17.1/40.9 MB 315.6 kB/s eta 0:01:16\n",
      "   ---------------- ----------------------- 17.2/40.9 MB 318.2 kB/s eta 0:01:15\n",
      "   ---------------- ----------------------- 17.3/40.9 MB 320.3 kB/s eta 0:01:14\n",
      "   ---------------- ----------------------- 17.3/40.9 MB 321.4 kB/s eta 0:01:14\n",
      "   ---------------- ----------------------- 17.4/40.9 MB 323.2 kB/s eta 0:01:13\n",
      "   ----------------- ---------------------- 17.4/40.9 MB 323.8 kB/s eta 0:01:13\n",
      "   ----------------- ---------------------- 17.5/40.9 MB 324.7 kB/s eta 0:01:13\n",
      "   ----------------- ---------------------- 17.5/40.9 MB 325.1 kB/s eta 0:01:13\n",
      "   ----------------- ---------------------- 17.6/40.9 MB 328.6 kB/s eta 0:01:12\n",
      "   ----------------- ---------------------- 17.6/40.9 MB 328.8 kB/s eta 0:01:11\n",
      "   ----------------- ---------------------- 17.6/40.9 MB 328.8 kB/s eta 0:01:11\n",
      "   ----------------- ---------------------- 17.6/40.9 MB 328.0 kB/s eta 0:01:12\n",
      "   ----------------- ---------------------- 17.6/40.9 MB 328.0 kB/s eta 0:01:12\n",
      "   ----------------- ---------------------- 17.7/40.9 MB 327.7 kB/s eta 0:01:12\n",
      "   ----------------- ---------------------- 17.7/40.9 MB 328.0 kB/s eta 0:01:11\n",
      "   ----------------- ---------------------- 17.7/40.9 MB 329.5 kB/s eta 0:01:11\n",
      "   ----------------- ---------------------- 17.8/40.9 MB 330.2 kB/s eta 0:01:11\n",
      "   ----------------- ---------------------- 17.8/40.9 MB 331.1 kB/s eta 0:01:10\n",
      "   ----------------- ---------------------- 17.8/40.9 MB 331.1 kB/s eta 0:01:10\n",
      "   ----------------- ---------------------- 17.9/40.9 MB 332.4 kB/s eta 0:01:10\n",
      "   ----------------- ---------------------- 17.9/40.9 MB 333.1 kB/s eta 0:01:10\n",
      "   ----------------- ---------------------- 17.9/40.9 MB 333.1 kB/s eta 0:01:10\n",
      "   ----------------- ---------------------- 17.9/40.9 MB 333.1 kB/s eta 0:01:10\n",
      "   ----------------- ---------------------- 18.0/40.9 MB 334.1 kB/s eta 0:01:09\n",
      "   ----------------- ---------------------- 18.0/40.9 MB 334.5 kB/s eta 0:01:09\n",
      "   ----------------- ---------------------- 18.0/40.9 MB 334.8 kB/s eta 0:01:09\n",
      "   ----------------- ---------------------- 18.1/40.9 MB 334.8 kB/s eta 0:01:09\n",
      "   ----------------- ---------------------- 18.1/40.9 MB 337.1 kB/s eta 0:01:08\n",
      "   ----------------- ---------------------- 18.2/40.9 MB 338.9 kB/s eta 0:01:08\n",
      "   ----------------- ---------------------- 18.2/40.9 MB 338.9 kB/s eta 0:01:08\n",
      "   ----------------- ---------------------- 18.2/40.9 MB 338.9 kB/s eta 0:01:08\n",
      "   ----------------- ---------------------- 18.2/40.9 MB 338.9 kB/s eta 0:01:08\n",
      "   ----------------- ---------------------- 18.4/40.9 MB 342.2 kB/s eta 0:01:06\n",
      "   ------------------ --------------------- 18.4/40.9 MB 343.7 kB/s eta 0:01:06\n",
      "   ------------------ --------------------- 18.5/40.9 MB 345.5 kB/s eta 0:01:05\n",
      "   ------------------ --------------------- 18.6/40.9 MB 349.8 kB/s eta 0:01:04\n",
      "   ------------------ --------------------- 18.7/40.9 MB 350.9 kB/s eta 0:01:04\n",
      "   ------------------ --------------------- 18.7/40.9 MB 351.1 kB/s eta 0:01:04\n",
      "   ------------------ --------------------- 18.7/40.9 MB 351.1 kB/s eta 0:01:04\n",
      "   ------------------ --------------------- 18.8/40.9 MB 357.2 kB/s eta 0:01:03\n",
      "   ------------------ --------------------- 18.8/40.9 MB 364.9 kB/s eta 0:01:01\n",
      "   ------------------ --------------------- 18.9/40.9 MB 364.9 kB/s eta 0:01:01\n",
      "   ------------------ --------------------- 18.9/40.9 MB 364.5 kB/s eta 0:01:01\n",
      "   ------------------ --------------------- 18.9/40.9 MB 364.5 kB/s eta 0:01:01\n",
      "   ------------------ --------------------- 18.9/40.9 MB 368.2 kB/s eta 0:01:00\n",
      "   ------------------ --------------------- 18.9/40.9 MB 368.2 kB/s eta 0:01:00\n",
      "   ------------------ --------------------- 18.9/40.9 MB 367.2 kB/s eta 0:01:00\n",
      "   ------------------ --------------------- 19.0/40.9 MB 368.9 kB/s eta 0:01:00\n",
      "   ------------------ --------------------- 19.0/40.9 MB 368.9 kB/s eta 0:01:00\n",
      "   ------------------ --------------------- 19.2/40.9 MB 368.6 kB/s eta 0:00:59\n",
      "   ------------------ --------------------- 19.2/40.9 MB 368.6 kB/s eta 0:00:59\n",
      "   ------------------ --------------------- 19.4/40.9 MB 368.6 kB/s eta 0:00:59\n",
      "   ------------------ --------------------- 19.4/40.9 MB 368.6 kB/s eta 0:00:59\n",
      "   ------------------ --------------------- 19.4/40.9 MB 367.8 kB/s eta 0:00:59\n",
      "   ------------------- -------------------- 19.5/40.9 MB 367.8 kB/s eta 0:00:59\n",
      "   ------------------- -------------------- 19.6/40.9 MB 367.8 kB/s eta 0:00:59\n",
      "   ------------------- -------------------- 19.6/40.9 MB 367.6 kB/s eta 0:00:58\n",
      "   ------------------- -------------------- 19.7/40.9 MB 367.0 kB/s eta 0:00:58\n",
      "   ------------------- -------------------- 19.7/40.9 MB 367.0 kB/s eta 0:00:58\n",
      "   ------------------- -------------------- 19.7/40.9 MB 367.0 kB/s eta 0:00:58\n",
      "   ------------------- -------------------- 19.7/40.9 MB 367.0 kB/s eta 0:00:58\n",
      "   ------------------- -------------------- 19.7/40.9 MB 367.0 kB/s eta 0:00:58\n",
      "   ------------------- -------------------- 19.8/40.9 MB 364.9 kB/s eta 0:00:59\n",
      "   ------------------- -------------------- 19.8/40.9 MB 364.5 kB/s eta 0:00:59\n",
      "   ------------------- -------------------- 19.8/40.9 MB 364.5 kB/s eta 0:00:59\n",
      "   ------------------- -------------------- 19.8/40.9 MB 364.5 kB/s eta 0:00:59\n",
      "   ------------------- -------------------- 19.8/40.9 MB 364.5 kB/s eta 0:00:59\n",
      "   ------------------- -------------------- 19.8/40.9 MB 362.3 kB/s eta 0:00:59\n",
      "   ------------------- -------------------- 19.8/40.9 MB 362.3 kB/s eta 0:00:59\n",
      "   ------------------- -------------------- 19.8/40.9 MB 362.3 kB/s eta 0:00:59\n",
      "   ------------------- -------------------- 19.8/40.9 MB 362.3 kB/s eta 0:00:59\n",
      "   ------------------- -------------------- 19.8/40.9 MB 362.3 kB/s eta 0:00:59\n",
      "   ------------------- -------------------- 19.8/40.9 MB 362.3 kB/s eta 0:00:59\n",
      "   ------------------- -------------------- 19.8/40.9 MB 362.3 kB/s eta 0:00:59\n",
      "   ------------------- -------------------- 19.8/40.9 MB 362.3 kB/s eta 0:00:59\n",
      "   ------------------- -------------------- 19.8/40.9 MB 357.8 kB/s eta 0:01:00\n",
      "   ------------------- -------------------- 19.8/40.9 MB 357.0 kB/s eta 0:01:00\n",
      "   ------------------- -------------------- 19.8/40.9 MB 357.0 kB/s eta 0:01:00\n",
      "   ------------------- -------------------- 19.9/40.9 MB 356.0 kB/s eta 0:01:00\n",
      "   ------------------- -------------------- 19.9/40.9 MB 359.3 kB/s eta 0:00:59\n",
      "   ------------------- -------------------- 19.9/40.9 MB 359.3 kB/s eta 0:00:59\n",
      "   ------------------- -------------------- 19.9/40.9 MB 451.8 kB/s eta 0:00:47\n",
      "   ------------------- -------------------- 19.9/40.9 MB 451.8 kB/s eta 0:00:47\n",
      "   ------------------- -------------------- 19.9/40.9 MB 451.8 kB/s eta 0:00:47\n",
      "   ------------------- -------------------- 19.9/40.9 MB 451.8 kB/s eta 0:00:47\n",
      "   ------------------- -------------------- 20.0/40.9 MB 449.4 kB/s eta 0:00:47\n",
      "   ------------------- -------------------- 20.0/40.9 MB 449.7 kB/s eta 0:00:47\n",
      "   ------------------- -------------------- 20.0/40.9 MB 450.9 kB/s eta 0:00:47\n",
      "   ------------------- -------------------- 20.1/40.9 MB 453.7 kB/s eta 0:00:47\n",
      "   ------------------- -------------------- 20.1/40.9 MB 453.7 kB/s eta 0:00:47\n",
      "   ------------------- -------------------- 20.1/40.9 MB 453.7 kB/s eta 0:00:47\n",
      "   ------------------- -------------------- 20.1/40.9 MB 453.7 kB/s eta 0:00:47\n",
      "   ------------------- -------------------- 20.1/40.9 MB 453.7 kB/s eta 0:00:47\n",
      "   ------------------- -------------------- 20.1/40.9 MB 453.7 kB/s eta 0:00:47\n",
      "   ------------------- -------------------- 20.1/40.9 MB 453.7 kB/s eta 0:00:47\n",
      "   ------------------- -------------------- 20.1/40.9 MB 451.5 kB/s eta 0:00:47\n",
      "   ------------------- -------------------- 20.1/40.9 MB 451.5 kB/s eta 0:00:47\n",
      "   ------------------- -------------------- 20.1/40.9 MB 451.5 kB/s eta 0:00:47\n",
      "   ------------------- -------------------- 20.1/40.9 MB 449.7 kB/s eta 0:00:47\n",
      "   ------------------- -------------------- 20.1/40.9 MB 449.7 kB/s eta 0:00:47\n",
      "   ------------------- -------------------- 20.1/40.9 MB 449.7 kB/s eta 0:00:47\n",
      "   ------------------- -------------------- 20.1/40.9 MB 449.7 kB/s eta 0:00:47\n",
      "   ------------------- -------------------- 20.1/40.9 MB 449.7 kB/s eta 0:00:47\n",
      "   ------------------- -------------------- 20.1/40.9 MB 447.2 kB/s eta 0:00:47\n",
      "   ------------------- -------------------- 20.1/40.9 MB 447.2 kB/s eta 0:00:47\n",
      "   ------------------- -------------------- 20.2/40.9 MB 445.7 kB/s eta 0:00:47\n",
      "   ------------------- -------------------- 20.2/40.9 MB 446.9 kB/s eta 0:00:47\n",
      "   ------------------- -------------------- 20.2/40.9 MB 446.9 kB/s eta 0:00:47\n",
      "   ------------------- -------------------- 20.2/40.9 MB 446.9 kB/s eta 0:00:47\n",
      "   ------------------- -------------------- 20.2/40.9 MB 446.9 kB/s eta 0:00:47\n",
      "   ------------------- -------------------- 20.2/40.9 MB 446.9 kB/s eta 0:00:47\n",
      "   ------------------- -------------------- 20.2/40.9 MB 446.9 kB/s eta 0:00:47\n",
      "   ------------------- -------------------- 20.2/40.9 MB 446.9 kB/s eta 0:00:47\n",
      "   ------------------- -------------------- 20.2/40.9 MB 440.6 kB/s eta 0:00:48\n",
      "   ------------------- -------------------- 20.2/40.9 MB 440.6 kB/s eta 0:00:48\n",
      "   ------------------- -------------------- 20.2/40.9 MB 440.6 kB/s eta 0:00:48\n",
      "   ------------------- -------------------- 20.2/40.9 MB 438.8 kB/s eta 0:00:48\n",
      "   ------------------- -------------------- 20.2/40.9 MB 438.8 kB/s eta 0:00:48\n",
      "   ------------------- -------------------- 20.2/40.9 MB 438.8 kB/s eta 0:00:48\n",
      "   ------------------- -------------------- 20.2/40.9 MB 438.8 kB/s eta 0:00:48\n",
      "   ------------------- -------------------- 20.3/40.9 MB 437.9 kB/s eta 0:00:48\n",
      "   ------------------- -------------------- 20.3/40.9 MB 437.9 kB/s eta 0:00:48\n",
      "   ------------------- -------------------- 20.3/40.9 MB 440.3 kB/s eta 0:00:47\n",
      "   ------------------- -------------------- 20.4/40.9 MB 505.9 kB/s eta 0:00:41\n",
      "   ------------------- -------------------- 20.4/40.9 MB 505.9 kB/s eta 0:00:41\n",
      "   ------------------- -------------------- 20.4/40.9 MB 505.9 kB/s eta 0:00:41\n",
      "   ------------------- -------------------- 20.4/40.9 MB 505.9 kB/s eta 0:00:41\n",
      "   ------------------- -------------------- 20.4/40.9 MB 505.9 kB/s eta 0:00:41\n",
      "   -------------------- ------------------- 20.6/40.9 MB 512.3 kB/s eta 0:00:40\n",
      "   -------------------- ------------------- 20.6/40.9 MB 512.3 kB/s eta 0:00:40\n",
      "   -------------------- ------------------- 20.6/40.9 MB 512.3 kB/s eta 0:00:40\n",
      "   -------------------- ------------------- 20.6/40.9 MB 512.3 kB/s eta 0:00:40\n",
      "   -------------------- ------------------- 20.9/40.9 MB 529.7 kB/s eta 0:00:38\n",
      "   -------------------- ------------------- 20.9/40.9 MB 536.7 kB/s eta 0:00:38\n",
      "   -------------------- ------------------- 21.0/40.9 MB 535.8 kB/s eta 0:00:38\n",
      "   -------------------- ------------------- 21.0/40.9 MB 536.2 kB/s eta 0:00:38\n",
      "   -------------------- ------------------- 21.1/40.9 MB 536.6 kB/s eta 0:00:37\n",
      "   -------------------- ------------------- 21.1/40.9 MB 535.3 kB/s eta 0:00:38\n",
      "   -------------------- ------------------- 21.1/40.9 MB 535.3 kB/s eta 0:00:38\n",
      "   -------------------- ------------------- 21.1/40.9 MB 535.3 kB/s eta 0:00:38\n",
      "   -------------------- ------------------- 21.2/40.9 MB 534.9 kB/s eta 0:00:37\n",
      "   -------------------- ------------------- 21.2/40.9 MB 534.9 kB/s eta 0:00:37\n",
      "   -------------------- ------------------- 21.2/40.9 MB 534.9 kB/s eta 0:00:37\n",
      "   -------------------- ------------------- 21.2/40.9 MB 534.9 kB/s eta 0:00:37\n",
      "   -------------------- ------------------- 21.3/40.9 MB 531.9 kB/s eta 0:00:37\n",
      "   -------------------- ------------------- 21.3/40.9 MB 531.8 kB/s eta 0:00:37\n",
      "   -------------------- ------------------- 21.4/40.9 MB 531.9 kB/s eta 0:00:37\n",
      "   -------------------- ------------------- 21.4/40.9 MB 531.0 kB/s eta 0:00:37\n",
      "   -------------------- ------------------- 21.4/40.9 MB 531.0 kB/s eta 0:00:37\n",
      "   -------------------- ------------------- 21.4/40.9 MB 528.8 kB/s eta 0:00:37\n",
      "   -------------------- ------------------- 21.4/40.9 MB 528.9 kB/s eta 0:00:37\n",
      "   --------------------- ------------------ 21.6/40.9 MB 536.7 kB/s eta 0:00:37\n",
      "   --------------------- ------------------ 21.6/40.9 MB 537.1 kB/s eta 0:00:37\n",
      "   --------------------- ------------------ 21.6/40.9 MB 536.2 kB/s eta 0:00:37\n",
      "   --------------------- ------------------ 21.7/40.9 MB 535.8 kB/s eta 0:00:36\n",
      "   --------------------- ------------------ 21.7/40.9 MB 535.3 kB/s eta 0:00:36\n",
      "   --------------------- ------------------ 21.7/40.9 MB 535.3 kB/s eta 0:00:36\n",
      "   --------------------- ------------------ 21.7/40.9 MB 534.0 kB/s eta 0:00:36\n",
      "   --------------------- ------------------ 21.7/40.9 MB 532.7 kB/s eta 0:00:37\n",
      "   --------------------- ------------------ 21.8/40.9 MB 533.2 kB/s eta 0:00:36\n",
      "   --------------------- ------------------ 21.8/40.9 MB 533.2 kB/s eta 0:00:36\n",
      "   --------------------- ------------------ 21.9/40.9 MB 535.3 kB/s eta 0:00:36\n",
      "   --------------------- ------------------ 22.0/40.9 MB 534.0 kB/s eta 0:00:36\n",
      "   --------------------- ------------------ 22.0/40.9 MB 532.7 kB/s eta 0:00:36\n",
      "   --------------------- ------------------ 22.0/40.9 MB 533.6 kB/s eta 0:00:36\n",
      "   --------------------- ------------------ 22.1/40.9 MB 534.0 kB/s eta 0:00:36\n",
      "   --------------------- ------------------ 22.2/40.9 MB 534.0 kB/s eta 0:00:36\n",
      "   --------------------- ------------------ 22.3/40.9 MB 535.8 kB/s eta 0:00:35\n",
      "   --------------------- ------------------ 22.4/40.9 MB 536.7 kB/s eta 0:00:35\n",
      "   --------------------- ------------------ 22.4/40.9 MB 536.7 kB/s eta 0:00:35\n",
      "   --------------------- ------------------ 22.5/40.9 MB 537.5 kB/s eta 0:00:35\n",
      "   ---------------------- ----------------- 22.5/40.9 MB 538.0 kB/s eta 0:00:35\n",
      "   ---------------------- ----------------- 22.6/40.9 MB 543.8 kB/s eta 0:00:34\n",
      "   ---------------------- ----------------- 22.6/40.9 MB 551.1 kB/s eta 0:00:34\n",
      "   ---------------------- ----------------- 22.6/40.9 MB 551.1 kB/s eta 0:00:34\n",
      "   ---------------------- ----------------- 22.6/40.9 MB 551.1 kB/s eta 0:00:34\n",
      "   ---------------------- ----------------- 22.6/40.9 MB 551.1 kB/s eta 0:00:34\n",
      "   ---------------------- ----------------- 22.6/40.9 MB 551.1 kB/s eta 0:00:34\n",
      "   ---------------------- ----------------- 22.6/40.9 MB 551.1 kB/s eta 0:00:34\n",
      "   ---------------------- ----------------- 22.6/40.9 MB 551.1 kB/s eta 0:00:34\n",
      "   ---------------------- ----------------- 22.6/40.9 MB 551.1 kB/s eta 0:00:34\n",
      "   ---------------------- ----------------- 22.6/40.9 MB 539.7 kB/s eta 0:00:34\n",
      "   ---------------------- ----------------- 22.6/40.9 MB 539.7 kB/s eta 0:00:34\n",
      "   ---------------------- ----------------- 22.6/40.9 MB 539.7 kB/s eta 0:00:34\n",
      "   ---------------------- ----------------- 22.6/40.9 MB 539.7 kB/s eta 0:00:34\n",
      "   ---------------------- ----------------- 22.6/40.9 MB 539.7 kB/s eta 0:00:34\n",
      "   ---------------------- ----------------- 22.6/40.9 MB 534.9 kB/s eta 0:00:35\n",
      "   ---------------------- ----------------- 22.6/40.9 MB 534.9 kB/s eta 0:00:35\n",
      "   ---------------------- ----------------- 22.6/40.9 MB 534.9 kB/s eta 0:00:35\n",
      "   ---------------------- ----------------- 22.7/40.9 MB 532.7 kB/s eta 0:00:35\n",
      "   ---------------------- ----------------- 22.7/40.9 MB 532.7 kB/s eta 0:00:35\n",
      "   ---------------------- ----------------- 22.7/40.9 MB 532.7 kB/s eta 0:00:35\n",
      "   ---------------------- ----------------- 22.7/40.9 MB 532.7 kB/s eta 0:00:35\n",
      "   ---------------------- ----------------- 22.7/40.9 MB 532.7 kB/s eta 0:00:35\n",
      "   ---------------------- ----------------- 22.7/40.9 MB 529.3 kB/s eta 0:00:35\n",
      "   ---------------------- ----------------- 22.7/40.9 MB 530.5 kB/s eta 0:00:35\n",
      "   ---------------------- ----------------- 22.7/40.9 MB 530.1 kB/s eta 0:00:35\n",
      "   ---------------------- ----------------- 22.8/40.9 MB 534.0 kB/s eta 0:00:34\n",
      "   ---------------------- ----------------- 22.8/40.9 MB 532.7 kB/s eta 0:00:35\n",
      "   ---------------------- ----------------- 22.8/40.9 MB 533.1 kB/s eta 0:00:34\n",
      "   ---------------------- ----------------- 22.8/40.9 MB 532.7 kB/s eta 0:00:34\n",
      "   ---------------------- ----------------- 22.9/40.9 MB 531.4 kB/s eta 0:00:35\n",
      "   ---------------------- ----------------- 22.9/40.9 MB 531.4 kB/s eta 0:00:35\n",
      "   ---------------------- ----------------- 22.9/40.9 MB 531.4 kB/s eta 0:00:35\n",
      "   ---------------------- ----------------- 22.9/40.9 MB 531.4 kB/s eta 0:00:35\n",
      "   ---------------------- ----------------- 22.9/40.9 MB 531.4 kB/s eta 0:00:35\n",
      "   ---------------------- ----------------- 22.9/40.9 MB 531.4 kB/s eta 0:00:35\n",
      "   ---------------------- ----------------- 22.9/40.9 MB 524.6 kB/s eta 0:00:35\n",
      "   ---------------------- ----------------- 22.9/40.9 MB 524.6 kB/s eta 0:00:35\n",
      "   ---------------------- ----------------- 22.9/40.9 MB 524.6 kB/s eta 0:00:35\n",
      "   ---------------------- ----------------- 22.9/40.9 MB 524.6 kB/s eta 0:00:35\n",
      "   ---------------------- ----------------- 22.9/40.9 MB 524.6 kB/s eta 0:00:35\n",
      "   ---------------------- ----------------- 22.9/40.9 MB 518.0 kB/s eta 0:00:35\n",
      "   ---------------------- ----------------- 22.9/40.9 MB 517.5 kB/s eta 0:00:35\n",
      "   ---------------------- ----------------- 23.0/40.9 MB 517.5 kB/s eta 0:00:35\n",
      "   ---------------------- ----------------- 23.0/40.9 MB 517.5 kB/s eta 0:00:35\n",
      "   ---------------------- ----------------- 23.0/40.9 MB 517.5 kB/s eta 0:00:35\n",
      "   ---------------------- ----------------- 23.0/40.9 MB 517.5 kB/s eta 0:00:35\n",
      "   ---------------------- ----------------- 23.0/40.9 MB 517.5 kB/s eta 0:00:35\n",
      "   ---------------------- ----------------- 23.0/40.9 MB 514.7 kB/s eta 0:00:35\n",
      "   ---------------------- ----------------- 23.0/40.9 MB 514.7 kB/s eta 0:00:35\n",
      "   ---------------------- ----------------- 23.0/40.9 MB 514.7 kB/s eta 0:00:35\n",
      "   ---------------------- ----------------- 23.0/40.9 MB 514.7 kB/s eta 0:00:35\n",
      "   ---------------------- ----------------- 23.0/40.9 MB 514.7 kB/s eta 0:00:35\n",
      "   ---------------------- ----------------- 23.1/40.9 MB 511.5 kB/s eta 0:00:35\n",
      "   ---------------------- ----------------- 23.1/40.9 MB 511.5 kB/s eta 0:00:35\n",
      "   ---------------------- ----------------- 23.2/40.9 MB 514.3 kB/s eta 0:00:35\n",
      "   ---------------------- ----------------- 23.2/40.9 MB 514.3 kB/s eta 0:00:35\n",
      "   ---------------------- ----------------- 23.2/40.9 MB 514.3 kB/s eta 0:00:35\n",
      "   ---------------------- ----------------- 23.3/40.9 MB 512.7 kB/s eta 0:00:35\n",
      "   ---------------------- ----------------- 23.3/40.9 MB 512.7 kB/s eta 0:00:35\n",
      "   ---------------------- ----------------- 23.3/40.9 MB 512.7 kB/s eta 0:00:35\n",
      "   ---------------------- ----------------- 23.3/40.9 MB 512.7 kB/s eta 0:00:35\n",
      "   ---------------------- ----------------- 23.3/40.9 MB 512.7 kB/s eta 0:00:35\n",
      "   ---------------------- ----------------- 23.3/40.9 MB 512.7 kB/s eta 0:00:35\n",
      "   ---------------------- ----------------- 23.3/40.9 MB 512.7 kB/s eta 0:00:35\n",
      "   ---------------------- ----------------- 23.3/40.9 MB 505.2 kB/s eta 0:00:35\n",
      "   ---------------------- ----------------- 23.3/40.9 MB 505.2 kB/s eta 0:00:35\n",
      "   ---------------------- ----------------- 23.3/40.9 MB 502.9 kB/s eta 0:00:36\n",
      "   ---------------------- ----------------- 23.3/40.9 MB 502.9 kB/s eta 0:00:36\n",
      "   ---------------------- ----------------- 23.3/40.9 MB 502.9 kB/s eta 0:00:36\n",
      "   ---------------------- ----------------- 23.3/40.9 MB 499.0 kB/s eta 0:00:36\n",
      "   ---------------------- ----------------- 23.3/40.9 MB 499.0 kB/s eta 0:00:36\n",
      "   ---------------------- ----------------- 23.4/40.9 MB 497.5 kB/s eta 0:00:36\n",
      "   ---------------------- ----------------- 23.4/40.9 MB 496.7 kB/s eta 0:00:36\n",
      "   ---------------------- ----------------- 23.5/40.9 MB 507.1 kB/s eta 0:00:35\n",
      "   ----------------------- ---------------- 23.6/40.9 MB 515.1 kB/s eta 0:00:34\n",
      "   ----------------------- ---------------- 23.6/40.9 MB 518.4 kB/s eta 0:00:34\n",
      "   ----------------------- ---------------- 23.6/40.9 MB 520.8 kB/s eta 0:00:34\n",
      "   ----------------------- ---------------- 23.7/40.9 MB 531.9 kB/s eta 0:00:33\n",
      "   ----------------------- ---------------- 23.7/40.9 MB 550.6 kB/s eta 0:00:32\n",
      "   ----------------------- ---------------- 23.8/40.9 MB 550.6 kB/s eta 0:00:32\n",
      "   ----------------------- ---------------- 23.8/40.9 MB 549.2 kB/s eta 0:00:32\n",
      "   ----------------------- ---------------- 23.8/40.9 MB 549.2 kB/s eta 0:00:32\n",
      "   ----------------------- ---------------- 23.8/40.9 MB 548.3 kB/s eta 0:00:32\n",
      "   ----------------------- ---------------- 23.9/40.9 MB 547.0 kB/s eta 0:00:32\n",
      "   ----------------------- ---------------- 23.9/40.9 MB 547.0 kB/s eta 0:00:32\n",
      "   ----------------------- ---------------- 23.9/40.9 MB 547.0 kB/s eta 0:00:32\n",
      "   ----------------------- ---------------- 23.9/40.9 MB 547.0 kB/s eta 0:00:32\n",
      "   ----------------------- ---------------- 23.9/40.9 MB 547.0 kB/s eta 0:00:32\n",
      "   ----------------------- ---------------- 23.9/40.9 MB 547.0 kB/s eta 0:00:32\n",
      "   ----------------------- ---------------- 23.9/40.9 MB 547.0 kB/s eta 0:00:32\n",
      "   ----------------------- ---------------- 23.9/40.9 MB 547.0 kB/s eta 0:00:32\n",
      "   ----------------------- ---------------- 23.9/40.9 MB 536.7 kB/s eta 0:00:32\n",
      "   ----------------------- ---------------- 24.0/40.9 MB 537.1 kB/s eta 0:00:32\n",
      "   ----------------------- ---------------- 24.1/40.9 MB 538.8 kB/s eta 0:00:32\n",
      "   ----------------------- ---------------- 24.1/40.9 MB 543.3 kB/s eta 0:00:31\n",
      "   ----------------------- ---------------- 24.1/40.9 MB 543.3 kB/s eta 0:00:31\n",
      "   ----------------------- ---------------- 24.1/40.9 MB 543.3 kB/s eta 0:00:31\n",
      "   ----------------------- ---------------- 24.1/40.9 MB 539.7 kB/s eta 0:00:32\n",
      "   ----------------------- ---------------- 24.1/40.9 MB 539.7 kB/s eta 0:00:32\n",
      "   ----------------------- ---------------- 24.1/40.9 MB 539.7 kB/s eta 0:00:32\n",
      "   ----------------------- ---------------- 24.2/40.9 MB 537.5 kB/s eta 0:00:32\n",
      "   ----------------------- ---------------- 24.2/40.9 MB 537.5 kB/s eta 0:00:32\n",
      "   ----------------------- ---------------- 24.2/40.9 MB 537.5 kB/s eta 0:00:32\n",
      "   ----------------------- ---------------- 24.2/40.9 MB 537.5 kB/s eta 0:00:32\n",
      "   ----------------------- ---------------- 24.2/40.9 MB 537.5 kB/s eta 0:00:32\n",
      "   ----------------------- ---------------- 24.2/40.9 MB 537.5 kB/s eta 0:00:32\n",
      "   ----------------------- ---------------- 24.2/40.9 MB 537.5 kB/s eta 0:00:32\n",
      "   ----------------------- ---------------- 24.2/40.9 MB 537.5 kB/s eta 0:00:32\n",
      "   ----------------------- ---------------- 24.2/40.9 MB 537.5 kB/s eta 0:00:32\n",
      "   ----------------------- ---------------- 24.2/40.9 MB 537.5 kB/s eta 0:00:32\n",
      "   ----------------------- ---------------- 24.2/40.9 MB 537.5 kB/s eta 0:00:32\n",
      "   ----------------------- ---------------- 24.2/40.9 MB 537.5 kB/s eta 0:00:32\n",
      "   ----------------------- ---------------- 24.2/40.9 MB 537.5 kB/s eta 0:00:32\n",
      "   ----------------------- ---------------- 24.2/40.9 MB 537.5 kB/s eta 0:00:32\n",
      "   ----------------------- ---------------- 24.2/40.9 MB 521.3 kB/s eta 0:00:33\n",
      "   ----------------------- ---------------- 24.2/40.9 MB 521.3 kB/s eta 0:00:33\n",
      "   ----------------------- ---------------- 24.2/40.9 MB 521.3 kB/s eta 0:00:33\n",
      "   ----------------------- ---------------- 24.2/40.9 MB 521.3 kB/s eta 0:00:33\n",
      "   ----------------------- ---------------- 24.2/40.9 MB 521.3 kB/s eta 0:00:33\n",
      "   ----------------------- ---------------- 24.2/40.9 MB 519.2 kB/s eta 0:00:33\n",
      "   ----------------------- ---------------- 24.3/40.9 MB 518.0 kB/s eta 0:00:33\n",
      "   ----------------------- ---------------- 24.3/40.9 MB 517.1 kB/s eta 0:00:33\n",
      "   ----------------------- ---------------- 24.3/40.9 MB 515.1 kB/s eta 0:00:33\n",
      "   ----------------------- ---------------- 24.3/40.9 MB 514.7 kB/s eta 0:00:33\n",
      "   ----------------------- ---------------- 24.4/40.9 MB 512.7 kB/s eta 0:00:33\n",
      "   ----------------------- ---------------- 24.4/40.9 MB 512.7 kB/s eta 0:00:33\n",
      "   ----------------------- ---------------- 24.4/40.9 MB 510.3 kB/s eta 0:00:33\n",
      "   ----------------------- ---------------- 24.4/40.9 MB 510.3 kB/s eta 0:00:33\n",
      "   ----------------------- ---------------- 24.4/40.9 MB 510.3 kB/s eta 0:00:33\n",
      "   ----------------------- ---------------- 24.4/40.9 MB 510.3 kB/s eta 0:00:33\n",
      "   ----------------------- ---------------- 24.4/40.9 MB 505.9 kB/s eta 0:00:33\n",
      "   ----------------------- ---------------- 24.4/40.9 MB 506.7 kB/s eta 0:00:33\n",
      "   ----------------------- ---------------- 24.4/40.9 MB 506.7 kB/s eta 0:00:33\n",
      "   ----------------------- ---------------- 24.5/40.9 MB 505.9 kB/s eta 0:00:33\n",
      "   ----------------------- ---------------- 24.6/40.9 MB 506.7 kB/s eta 0:00:33\n",
      "   ------------------------ --------------- 24.6/40.9 MB 506.7 kB/s eta 0:00:33\n",
      "   ------------------------ --------------- 24.6/40.9 MB 506.7 kB/s eta 0:00:33\n",
      "   ------------------------ --------------- 24.6/40.9 MB 505.6 kB/s eta 0:00:33\n",
      "   ------------------------ --------------- 24.7/40.9 MB 515.5 kB/s eta 0:00:32\n",
      "   ------------------------ --------------- 24.7/40.9 MB 514.3 kB/s eta 0:00:32\n",
      "   ------------------------ --------------- 24.7/40.9 MB 514.3 kB/s eta 0:00:32\n",
      "   ------------------------ --------------- 24.7/40.9 MB 511.9 kB/s eta 0:00:32\n",
      "   ------------------------ --------------- 24.7/40.9 MB 511.9 kB/s eta 0:00:32\n",
      "   ------------------------ --------------- 24.7/40.9 MB 511.9 kB/s eta 0:00:32\n",
      "   ------------------------ --------------- 24.7/40.9 MB 511.9 kB/s eta 0:00:32\n",
      "   ------------------------ --------------- 24.9/40.9 MB 506.7 kB/s eta 0:00:32\n",
      "   ------------------------ --------------- 25.0/40.9 MB 505.5 kB/s eta 0:00:32\n",
      "   ------------------------ --------------- 25.0/40.9 MB 504.4 kB/s eta 0:00:32\n",
      "   ------------------------ --------------- 25.1/40.9 MB 504.0 kB/s eta 0:00:32\n",
      "   ------------------------ --------------- 25.2/40.9 MB 506.3 kB/s eta 0:00:32\n",
      "   ------------------------ --------------- 25.2/40.9 MB 507.1 kB/s eta 0:00:31\n",
      "   ------------------------ --------------- 25.3/40.9 MB 507.9 kB/s eta 0:00:31\n",
      "   ------------------------ --------------- 25.4/40.9 MB 509.1 kB/s eta 0:00:31\n",
      "   ------------------------ --------------- 25.4/40.9 MB 509.9 kB/s eta 0:00:31\n",
      "   ------------------------ --------------- 25.4/40.9 MB 509.9 kB/s eta 0:00:31\n",
      "   ------------------------ --------------- 25.6/40.9 MB 510.7 kB/s eta 0:00:31\n",
      "   ------------------------ --------------- 25.6/40.9 MB 510.7 kB/s eta 0:00:31\n",
      "   ------------------------- -------------- 25.7/40.9 MB 514.3 kB/s eta 0:00:30\n",
      "   ------------------------- -------------- 25.7/40.9 MB 514.3 kB/s eta 0:00:30\n",
      "   ------------------------- -------------- 25.8/40.9 MB 514.7 kB/s eta 0:00:30\n",
      "   ------------------------- -------------- 25.8/40.9 MB 529.3 kB/s eta 0:00:29\n",
      "   ------------------------- -------------- 25.9/40.9 MB 528.8 kB/s eta 0:00:29\n",
      "   ------------------------- -------------- 26.0/40.9 MB 552.0 kB/s eta 0:00:28\n",
      "   ------------------------- -------------- 26.0/40.9 MB 551.6 kB/s eta 0:00:28\n",
      "   ------------------------- -------------- 26.1/40.9 MB 553.9 kB/s eta 0:00:27\n",
      "   ------------------------- -------------- 26.1/40.9 MB 556.7 kB/s eta 0:00:27\n",
      "   ------------------------- -------------- 26.2/40.9 MB 556.7 kB/s eta 0:00:27\n",
      "   ------------------------- -------------- 26.2/40.9 MB 556.7 kB/s eta 0:00:27\n",
      "   ------------------------- -------------- 26.3/40.9 MB 559.1 kB/s eta 0:00:27\n",
      "   ------------------------- -------------- 26.3/40.9 MB 563.4 kB/s eta 0:00:26\n",
      "   ------------------------- -------------- 26.4/40.9 MB 571.8 kB/s eta 0:00:26\n",
      "   ------------------------- -------------- 26.5/40.9 MB 572.3 kB/s eta 0:00:26\n",
      "   ------------------------- -------------- 26.5/40.9 MB 583.5 kB/s eta 0:00:25\n",
      "   ------------------------- -------------- 26.6/40.9 MB 600.7 kB/s eta 0:00:24\n",
      "   -------------------------- ------------- 26.6/40.9 MB 601.8 kB/s eta 0:00:24\n",
      "   -------------------------- ------------- 26.7/40.9 MB 603.4 kB/s eta 0:00:24\n",
      "   -------------------------- ------------- 26.7/40.9 MB 602.8 kB/s eta 0:00:24\n",
      "   -------------------------- ------------- 26.7/40.9 MB 602.8 kB/s eta 0:00:24\n",
      "   -------------------------- ------------- 26.7/40.9 MB 602.8 kB/s eta 0:00:24\n",
      "   -------------------------- ------------- 26.7/40.9 MB 602.8 kB/s eta 0:00:24\n",
      "   -------------------------- ------------- 26.8/40.9 MB 597.9 kB/s eta 0:00:24\n",
      "   -------------------------- ------------- 26.8/40.9 MB 597.9 kB/s eta 0:00:24\n",
      "   -------------------------- ------------- 26.8/40.9 MB 597.9 kB/s eta 0:00:24\n",
      "   -------------------------- ------------- 26.8/40.9 MB 597.9 kB/s eta 0:00:24\n",
      "   -------------------------- ------------- 26.8/40.9 MB 597.9 kB/s eta 0:00:24\n",
      "   -------------------------- ------------- 27.1/40.9 MB 599.0 kB/s eta 0:00:24\n",
      "   -------------------------- ------------- 27.2/40.9 MB 599.6 kB/s eta 0:00:23\n",
      "   -------------------------- ------------- 27.2/40.9 MB 600.1 kB/s eta 0:00:23\n",
      "   -------------------------- ------------- 27.3/40.9 MB 602.9 kB/s eta 0:00:23\n",
      "   -------------------------- ------------- 27.4/40.9 MB 603.4 kB/s eta 0:00:23\n",
      "   -------------------------- ------------- 27.5/40.9 MB 604.0 kB/s eta 0:00:23\n",
      "   -------------------------- ------------- 27.5/40.9 MB 604.0 kB/s eta 0:00:23\n",
      "   -------------------------- ------------- 27.5/40.9 MB 602.9 kB/s eta 0:00:23\n",
      "   -------------------------- ------------- 27.6/40.9 MB 602.9 kB/s eta 0:00:23\n",
      "   -------------------------- ------------- 27.6/40.9 MB 602.9 kB/s eta 0:00:23\n",
      "   -------------------------- ------------- 27.6/40.9 MB 602.9 kB/s eta 0:00:23\n",
      "   --------------------------- ------------ 27.6/40.9 MB 599.0 kB/s eta 0:00:23\n",
      "   --------------------------- ------------ 27.7/40.9 MB 600.1 kB/s eta 0:00:23\n",
      "   --------------------------- ------------ 27.7/40.9 MB 600.7 kB/s eta 0:00:22\n",
      "   --------------------------- ------------ 27.8/40.9 MB 599.5 kB/s eta 0:00:22\n",
      "   --------------------------- ------------ 27.9/40.9 MB 606.7 kB/s eta 0:00:22\n",
      "   --------------------------- ------------ 27.9/40.9 MB 606.8 kB/s eta 0:00:22\n",
      "   --------------------------- ------------ 27.9/40.9 MB 606.8 kB/s eta 0:00:22\n",
      "   --------------------------- ------------ 27.9/40.9 MB 606.8 kB/s eta 0:00:22\n",
      "   --------------------------- ------------ 28.0/40.9 MB 607.9 kB/s eta 0:00:22\n",
      "   --------------------------- ------------ 28.0/40.9 MB 607.9 kB/s eta 0:00:22\n",
      "   --------------------------- ------------ 28.0/40.9 MB 607.9 kB/s eta 0:00:22\n",
      "   --------------------------- ------------ 28.0/40.9 MB 607.9 kB/s eta 0:00:22\n",
      "   --------------------------- ------------ 28.1/40.9 MB 601.8 kB/s eta 0:00:22\n",
      "   --------------------------- ------------ 28.1/40.9 MB 601.8 kB/s eta 0:00:22\n",
      "   --------------------------- ------------ 28.1/40.9 MB 602.3 kB/s eta 0:00:22\n",
      "   --------------------------- ------------ 28.2/40.9 MB 604.0 kB/s eta 0:00:22\n",
      "   --------------------------- ------------ 28.2/40.9 MB 604.0 kB/s eta 0:00:22\n",
      "   --------------------------- ------------ 28.2/40.9 MB 604.0 kB/s eta 0:00:22\n",
      "   --------------------------- ------------ 28.2/40.9 MB 604.0 kB/s eta 0:00:22\n",
      "   --------------------------- ------------ 28.2/40.9 MB 604.0 kB/s eta 0:00:22\n",
      "   --------------------------- ------------ 28.2/40.9 MB 604.0 kB/s eta 0:00:22\n",
      "   --------------------------- ------------ 28.2/40.9 MB 604.0 kB/s eta 0:00:22\n",
      "   --------------------------- ------------ 28.2/40.9 MB 604.0 kB/s eta 0:00:22\n",
      "   --------------------------- ------------ 28.2/40.9 MB 604.0 kB/s eta 0:00:22\n",
      "   --------------------------- ------------ 28.2/40.9 MB 591.4 kB/s eta 0:00:22\n",
      "   --------------------------- ------------ 28.3/40.9 MB 593.5 kB/s eta 0:00:22\n",
      "   --------------------------- ------------ 28.3/40.9 MB 593.5 kB/s eta 0:00:22\n",
      "   --------------------------- ------------ 28.3/40.9 MB 593.5 kB/s eta 0:00:22\n",
      "   --------------------------- ------------ 28.3/40.9 MB 590.4 kB/s eta 0:00:22\n",
      "   --------------------------- ------------ 28.4/40.9 MB 589.3 kB/s eta 0:00:22\n",
      "   --------------------------- ------------ 28.4/40.9 MB 588.8 kB/s eta 0:00:22\n",
      "   --------------------------- ------------ 28.4/40.9 MB 589.3 kB/s eta 0:00:22\n",
      "   --------------------------- ------------ 28.5/40.9 MB 591.9 kB/s eta 0:00:22\n",
      "   --------------------------- ------------ 28.5/40.9 MB 590.3 kB/s eta 0:00:22\n",
      "   --------------------------- ------------ 28.5/40.9 MB 588.8 kB/s eta 0:00:22\n",
      "   --------------------------- ------------ 28.5/40.9 MB 588.8 kB/s eta 0:00:22\n",
      "   --------------------------- ------------ 28.5/40.9 MB 588.8 kB/s eta 0:00:22\n",
      "   --------------------------- ------------ 28.5/40.9 MB 583.5 kB/s eta 0:00:22\n",
      "   --------------------------- ------------ 28.6/40.9 MB 583.0 kB/s eta 0:00:22\n",
      "   --------------------------- ------------ 28.6/40.9 MB 583.0 kB/s eta 0:00:22\n",
      "   --------------------------- ------------ 28.6/40.9 MB 583.0 kB/s eta 0:00:22\n",
      "   --------------------------- ------------ 28.6/40.9 MB 583.0 kB/s eta 0:00:22\n",
      "   --------------------------- ------------ 28.6/40.9 MB 583.0 kB/s eta 0:00:22\n",
      "   --------------------------- ------------ 28.6/40.9 MB 583.0 kB/s eta 0:00:22\n",
      "   --------------------------- ------------ 28.6/40.9 MB 583.0 kB/s eta 0:00:22\n",
      "   --------------------------- ------------ 28.6/40.9 MB 583.0 kB/s eta 0:00:22\n",
      "   --------------------------- ------------ 28.6/40.9 MB 583.0 kB/s eta 0:00:22\n",
      "   --------------------------- ------------ 28.6/40.9 MB 569.8 kB/s eta 0:00:22\n",
      "   --------------------------- ------------ 28.6/40.9 MB 568.3 kB/s eta 0:00:22\n",
      "   --------------------------- ------------ 28.6/40.9 MB 568.3 kB/s eta 0:00:22\n",
      "   --------------------------- ------------ 28.6/40.9 MB 565.4 kB/s eta 0:00:22\n",
      "   ---------------------------- ----------- 28.7/40.9 MB 564.9 kB/s eta 0:00:22\n",
      "   ---------------------------- ----------- 28.7/40.9 MB 564.4 kB/s eta 0:00:22\n",
      "   ---------------------------- ----------- 28.7/40.9 MB 565.4 kB/s eta 0:00:22\n",
      "   ---------------------------- ----------- 28.7/40.9 MB 565.4 kB/s eta 0:00:22\n",
      "   ---------------------------- ----------- 28.8/40.9 MB 561.5 kB/s eta 0:00:22\n",
      "   ---------------------------- ----------- 28.8/40.9 MB 561.5 kB/s eta 0:00:22\n",
      "   ---------------------------- ----------- 28.8/40.9 MB 561.5 kB/s eta 0:00:22\n",
      "   ---------------------------- ----------- 28.8/40.9 MB 561.5 kB/s eta 0:00:22\n",
      "   ---------------------------- ----------- 28.8/40.9 MB 561.5 kB/s eta 0:00:22\n",
      "   ---------------------------- ----------- 28.8/40.9 MB 561.5 kB/s eta 0:00:22\n",
      "   ---------------------------- ----------- 28.8/40.9 MB 561.5 kB/s eta 0:00:22\n",
      "   ---------------------------- ----------- 28.8/40.9 MB 561.5 kB/s eta 0:00:22\n",
      "   ---------------------------- ----------- 28.9/40.9 MB 550.6 kB/s eta 0:00:22\n",
      "   ---------------------------- ----------- 28.9/40.9 MB 549.7 kB/s eta 0:00:22\n",
      "   ---------------------------- ----------- 28.9/40.9 MB 549.7 kB/s eta 0:00:22\n",
      "   ---------------------------- ----------- 28.9/40.9 MB 549.7 kB/s eta 0:00:22\n",
      "   ---------------------------- ----------- 28.9/40.9 MB 549.7 kB/s eta 0:00:22\n",
      "   ---------------------------- ----------- 29.0/40.9 MB 549.2 kB/s eta 0:00:22\n",
      "   ---------------------------- ----------- 29.1/40.9 MB 551.1 kB/s eta 0:00:22\n",
      "   ---------------------------- ----------- 29.1/40.9 MB 551.1 kB/s eta 0:00:22\n",
      "   ---------------------------- ----------- 29.1/40.9 MB 549.7 kB/s eta 0:00:22\n",
      "   ---------------------------- ----------- 29.2/40.9 MB 549.7 kB/s eta 0:00:22\n",
      "   ---------------------------- ----------- 29.2/40.9 MB 549.7 kB/s eta 0:00:22\n",
      "   ---------------------------- ----------- 29.2/40.9 MB 549.7 kB/s eta 0:00:22\n",
      "   ---------------------------- ----------- 29.2/40.9 MB 549.7 kB/s eta 0:00:22\n",
      "   ---------------------------- ----------- 29.2/40.9 MB 549.7 kB/s eta 0:00:22\n",
      "   ---------------------------- ----------- 29.2/40.9 MB 549.7 kB/s eta 0:00:22\n",
      "   ---------------------------- ----------- 29.2/40.9 MB 545.2 kB/s eta 0:00:22\n",
      "   ---------------------------- ----------- 29.2/40.9 MB 545.2 kB/s eta 0:00:22\n",
      "   ---------------------------- ----------- 29.2/40.9 MB 545.2 kB/s eta 0:00:22\n",
      "   ---------------------------- ----------- 29.2/40.9 MB 545.2 kB/s eta 0:00:22\n",
      "   ---------------------------- ----------- 29.2/40.9 MB 545.2 kB/s eta 0:00:22\n",
      "   ---------------------------- ----------- 29.2/40.9 MB 545.2 kB/s eta 0:00:22\n",
      "   ---------------------------- ----------- 29.2/40.9 MB 545.2 kB/s eta 0:00:22\n",
      "   ---------------------------- ----------- 29.2/40.9 MB 545.2 kB/s eta 0:00:22\n",
      "   ---------------------------- ----------- 29.2/40.9 MB 545.2 kB/s eta 0:00:22\n",
      "   ---------------------------- ----------- 29.2/40.9 MB 545.2 kB/s eta 0:00:22\n",
      "   ---------------------------- ----------- 29.2/40.9 MB 545.2 kB/s eta 0:00:22\n",
      "   ---------------------------- ----------- 29.2/40.9 MB 545.2 kB/s eta 0:00:22\n",
      "   ---------------------------- ----------- 29.2/40.9 MB 545.2 kB/s eta 0:00:22\n",
      "   ---------------------------- ----------- 29.2/40.9 MB 545.2 kB/s eta 0:00:22\n",
      "   ---------------------------- ----------- 29.2/40.9 MB 545.2 kB/s eta 0:00:22\n",
      "   ---------------------------- ----------- 29.2/40.9 MB 545.2 kB/s eta 0:00:22\n",
      "   ---------------------------- ----------- 29.2/40.9 MB 545.2 kB/s eta 0:00:22\n",
      "   ---------------------------- ----------- 29.2/40.9 MB 545.2 kB/s eta 0:00:22\n",
      "   ---------------------------- ----------- 29.2/40.9 MB 545.2 kB/s eta 0:00:22\n",
      "   ---------------------------- ----------- 29.2/40.9 MB 545.2 kB/s eta 0:00:22\n",
      "   ---------------------------- ----------- 29.2/40.9 MB 545.2 kB/s eta 0:00:22\n",
      "   ---------------------------- ----------- 29.2/40.9 MB 545.2 kB/s eta 0:00:22\n",
      "   ---------------------------- ----------- 29.2/40.9 MB 545.2 kB/s eta 0:00:22\n",
      "   ---------------------------- ----------- 29.2/40.9 MB 545.2 kB/s eta 0:00:22\n",
      "   ---------------------------- ----------- 29.2/40.9 MB 545.2 kB/s eta 0:00:22\n",
      "   ---------------------------- ----------- 29.2/40.9 MB 545.2 kB/s eta 0:00:22\n",
      "   ---------------------------- ----------- 29.2/40.9 MB 511.5 kB/s eta 0:00:23\n",
      "   ---------------------------- ----------- 29.2/40.9 MB 513.5 kB/s eta 0:00:23\n",
      "   ---------------------------- ----------- 29.2/40.9 MB 513.5 kB/s eta 0:00:23\n",
      "   ---------------------------- ----------- 29.2/40.9 MB 513.5 kB/s eta 0:00:23\n",
      "   ---------------------------- ----------- 29.2/40.9 MB 509.9 kB/s eta 0:00:23\n",
      "   ---------------------------- ----------- 29.3/40.9 MB 509.5 kB/s eta 0:00:23\n",
      "   ---------------------------- ----------- 29.3/40.9 MB 509.5 kB/s eta 0:00:23\n",
      "   ---------------------------- ----------- 29.3/40.9 MB 509.5 kB/s eta 0:00:23\n",
      "   ---------------------------- ----------- 29.3/40.9 MB 509.5 kB/s eta 0:00:23\n",
      "   ---------------------------- ----------- 29.3/40.9 MB 509.5 kB/s eta 0:00:23\n",
      "   ---------------------------- ----------- 29.3/40.9 MB 509.5 kB/s eta 0:00:23\n",
      "   ---------------------------- ----------- 29.3/40.9 MB 509.5 kB/s eta 0:00:23\n",
      "   ---------------------------- ----------- 29.3/40.9 MB 509.5 kB/s eta 0:00:23\n",
      "   ---------------------------- ----------- 29.3/40.9 MB 509.5 kB/s eta 0:00:23\n",
      "   ---------------------------- ----------- 29.4/40.9 MB 498.3 kB/s eta 0:00:24\n",
      "   ---------------------------- ----------- 29.4/40.9 MB 498.3 kB/s eta 0:00:24\n",
      "   ---------------------------- ----------- 29.4/40.9 MB 496.4 kB/s eta 0:00:24\n",
      "   ---------------------------- ----------- 29.4/40.9 MB 496.4 kB/s eta 0:00:24\n",
      "   ---------------------------- ----------- 29.4/40.9 MB 494.5 kB/s eta 0:00:24\n",
      "   ---------------------------- ----------- 29.4/40.9 MB 494.5 kB/s eta 0:00:24\n",
      "   ---------------------------- ----------- 29.4/40.9 MB 494.5 kB/s eta 0:00:24\n",
      "   ---------------------------- ----------- 29.4/40.9 MB 494.5 kB/s eta 0:00:24\n",
      "   ---------------------------- ----------- 29.4/40.9 MB 494.5 kB/s eta 0:00:24\n",
      "   ---------------------------- ----------- 29.4/40.9 MB 494.5 kB/s eta 0:00:24\n",
      "   ---------------------------- ----------- 29.4/40.9 MB 494.5 kB/s eta 0:00:24\n",
      "   ---------------------------- ----------- 29.4/40.9 MB 494.5 kB/s eta 0:00:24\n",
      "   ---------------------------- ----------- 29.5/40.9 MB 487.1 kB/s eta 0:00:24\n",
      "   ---------------------------- ----------- 29.5/40.9 MB 485.7 kB/s eta 0:00:24\n",
      "   ---------------------------- ----------- 29.5/40.9 MB 484.6 kB/s eta 0:00:24\n",
      "   ---------------------------- ----------- 29.5/40.9 MB 484.6 kB/s eta 0:00:24\n",
      "   ---------------------------- ----------- 29.6/40.9 MB 482.5 kB/s eta 0:00:24\n",
      "   ---------------------------- ----------- 29.6/40.9 MB 482.5 kB/s eta 0:00:24\n",
      "   ---------------------------- ----------- 29.6/40.9 MB 480.7 kB/s eta 0:00:24\n",
      "   ----------------------------- ---------- 29.7/40.9 MB 482.1 kB/s eta 0:00:24\n",
      "   ----------------------------- ---------- 29.7/40.9 MB 482.1 kB/s eta 0:00:24\n",
      "   ----------------------------- ---------- 29.7/40.9 MB 482.1 kB/s eta 0:00:24\n",
      "   ----------------------------- ---------- 29.7/40.9 MB 479.6 kB/s eta 0:00:24\n",
      "   ----------------------------- ---------- 29.8/40.9 MB 479.6 kB/s eta 0:00:24\n",
      "   ----------------------------- ---------- 29.8/40.9 MB 478.6 kB/s eta 0:00:24\n",
      "   ----------------------------- ---------- 29.9/40.9 MB 478.6 kB/s eta 0:00:24\n",
      "   ----------------------------- ---------- 29.9/40.9 MB 478.6 kB/s eta 0:00:24\n",
      "   ----------------------------- ---------- 29.9/40.9 MB 478.6 kB/s eta 0:00:24\n",
      "   ----------------------------- ---------- 29.9/40.9 MB 478.6 kB/s eta 0:00:24\n",
      "   ----------------------------- ---------- 30.0/40.9 MB 479.6 kB/s eta 0:00:23\n",
      "   ----------------------------- ---------- 30.0/40.9 MB 480.7 kB/s eta 0:00:23\n",
      "   ----------------------------- ---------- 30.0/40.9 MB 480.7 kB/s eta 0:00:23\n",
      "   ----------------------------- ---------- 30.1/40.9 MB 494.5 kB/s eta 0:00:22\n",
      "   ----------------------------- ---------- 30.1/40.9 MB 494.5 kB/s eta 0:00:22\n",
      "   ----------------------------- ---------- 30.2/40.9 MB 500.2 kB/s eta 0:00:22\n",
      "   ----------------------------- ---------- 30.2/40.9 MB 502.1 kB/s eta 0:00:22\n",
      "   ----------------------------- ---------- 30.3/40.9 MB 509.9 kB/s eta 0:00:21\n",
      "   ----------------------------- ---------- 30.4/40.9 MB 521.3 kB/s eta 0:00:21\n",
      "   ----------------------------- ---------- 30.5/40.9 MB 539.7 kB/s eta 0:00:20\n",
      "   ----------------------------- ---------- 30.6/40.9 MB 542.0 kB/s eta 0:00:20\n",
      "   ----------------------------- ---------- 30.6/40.9 MB 547.0 kB/s eta 0:00:19\n",
      "   ----------------------------- ---------- 30.7/40.9 MB 545.6 kB/s eta 0:00:19\n",
      "   ------------------------------ --------- 30.8/40.9 MB 544.7 kB/s eta 0:00:19\n",
      "   ------------------------------ --------- 30.9/40.9 MB 549.7 kB/s eta 0:00:19\n",
      "   ------------------------------ --------- 30.9/40.9 MB 548.8 kB/s eta 0:00:19\n",
      "   ------------------------------ --------- 31.0/40.9 MB 547.0 kB/s eta 0:00:19\n",
      "   ------------------------------ --------- 31.0/40.9 MB 545.6 kB/s eta 0:00:19\n",
      "   ------------------------------ --------- 31.0/40.9 MB 545.2 kB/s eta 0:00:19\n",
      "   ------------------------------ --------- 31.1/40.9 MB 542.9 kB/s eta 0:00:19\n",
      "   ------------------------------ --------- 31.1/40.9 MB 542.0 kB/s eta 0:00:19\n",
      "   ------------------------------ --------- 31.1/40.9 MB 542.0 kB/s eta 0:00:19\n",
      "   ------------------------------ --------- 31.1/40.9 MB 542.0 kB/s eta 0:00:19\n",
      "   ------------------------------ --------- 31.1/40.9 MB 542.0 kB/s eta 0:00:19\n",
      "   ------------------------------ --------- 31.1/40.9 MB 542.0 kB/s eta 0:00:19\n",
      "   ------------------------------ --------- 31.1/40.9 MB 542.0 kB/s eta 0:00:19\n",
      "   ------------------------------ --------- 31.2/40.9 MB 535.3 kB/s eta 0:00:19\n",
      "   ------------------------------ --------- 31.3/40.9 MB 535.8 kB/s eta 0:00:19\n",
      "   ------------------------------ --------- 31.3/40.9 MB 537.5 kB/s eta 0:00:18\n",
      "   ------------------------------ --------- 31.3/40.9 MB 537.5 kB/s eta 0:00:18\n",
      "   ------------------------------ --------- 31.4/40.9 MB 537.5 kB/s eta 0:00:18\n",
      "   ------------------------------ --------- 31.4/40.9 MB 536.7 kB/s eta 0:00:18\n",
      "   ------------------------------ --------- 31.4/40.9 MB 537.1 kB/s eta 0:00:18\n",
      "   ------------------------------ --------- 31.4/40.9 MB 537.1 kB/s eta 0:00:18\n",
      "   ------------------------------ --------- 31.4/40.9 MB 537.1 kB/s eta 0:00:18\n",
      "   ------------------------------ --------- 31.4/40.9 MB 537.1 kB/s eta 0:00:18\n",
      "   ------------------------------ --------- 31.4/40.9 MB 537.1 kB/s eta 0:00:18\n",
      "   ------------------------------ --------- 31.4/40.9 MB 537.1 kB/s eta 0:00:18\n",
      "   ------------------------------ --------- 31.4/40.9 MB 537.1 kB/s eta 0:00:18\n",
      "   ------------------------------ --------- 31.4/40.9 MB 537.1 kB/s eta 0:00:18\n",
      "   ------------------------------ --------- 31.4/40.9 MB 537.1 kB/s eta 0:00:18\n",
      "   ------------------------------ --------- 31.4/40.9 MB 537.1 kB/s eta 0:00:18\n",
      "   ------------------------------ --------- 31.4/40.9 MB 537.1 kB/s eta 0:00:18\n",
      "   ------------------------------ --------- 31.4/40.9 MB 537.1 kB/s eta 0:00:18\n",
      "   ------------------------------ --------- 31.4/40.9 MB 537.1 kB/s eta 0:00:18\n",
      "   ------------------------------ --------- 31.4/40.9 MB 537.1 kB/s eta 0:00:18\n",
      "   ------------------------------ --------- 31.4/40.9 MB 537.1 kB/s eta 0:00:18\n",
      "   ------------------------------ --------- 31.4/40.9 MB 537.1 kB/s eta 0:00:18\n",
      "   ------------------------------ --------- 31.4/40.9 MB 537.1 kB/s eta 0:00:18\n",
      "   ------------------------------ --------- 31.4/40.9 MB 537.1 kB/s eta 0:00:18\n",
      "   ------------------------------ --------- 31.4/40.9 MB 537.1 kB/s eta 0:00:18\n",
      "   ------------------------------ --------- 31.4/40.9 MB 537.1 kB/s eta 0:00:18\n",
      "   ------------------------------ --------- 31.4/40.9 MB 537.1 kB/s eta 0:00:18\n",
      "   ------------------------------ --------- 31.4/40.9 MB 537.1 kB/s eta 0:00:18\n",
      "   ------------------------------ --------- 31.4/40.9 MB 537.1 kB/s eta 0:00:18\n",
      "   ------------------------------ --------- 31.4/40.9 MB 537.1 kB/s eta 0:00:18\n",
      "   ------------------------------ --------- 31.4/40.9 MB 537.1 kB/s eta 0:00:18\n",
      "   ------------------------------ --------- 31.4/40.9 MB 537.1 kB/s eta 0:00:18\n",
      "   ------------------------------ --------- 31.4/40.9 MB 537.1 kB/s eta 0:00:18\n",
      "   ------------------------------ --------- 31.4/40.9 MB 537.1 kB/s eta 0:00:18\n",
      "   ------------------------------ --------- 31.4/40.9 MB 537.1 kB/s eta 0:00:18\n",
      "   ------------------------------ --------- 31.4/40.9 MB 537.1 kB/s eta 0:00:18\n",
      "   ------------------------------ --------- 31.4/40.9 MB 537.1 kB/s eta 0:00:18\n",
      "   ------------------------------ --------- 31.5/40.9 MB 498.3 kB/s eta 0:00:20\n",
      "   ------------------------------ --------- 31.5/40.9 MB 498.3 kB/s eta 0:00:20\n",
      "   ------------------------------ --------- 31.5/40.9 MB 498.3 kB/s eta 0:00:20\n",
      "   ------------------------------ --------- 31.6/40.9 MB 501.3 kB/s eta 0:00:19\n",
      "   ------------------------------ --------- 31.6/40.9 MB 501.3 kB/s eta 0:00:19\n",
      "   ------------------------------ --------- 31.6/40.9 MB 501.3 kB/s eta 0:00:19\n",
      "   ------------------------------ --------- 31.6/40.9 MB 499.0 kB/s eta 0:00:19\n",
      "   ------------------------------ --------- 31.6/40.9 MB 499.0 kB/s eta 0:00:19\n",
      "   ------------------------------ --------- 31.6/40.9 MB 499.0 kB/s eta 0:00:19\n",
      "   ------------------------------ --------- 31.6/40.9 MB 499.0 kB/s eta 0:00:19\n",
      "   ------------------------------ --------- 31.7/40.9 MB 496.7 kB/s eta 0:00:19\n",
      "   ------------------------------- -------- 31.7/40.9 MB 498.2 kB/s eta 0:00:19\n",
      "   ------------------------------- -------- 31.8/40.9 MB 497.1 kB/s eta 0:00:19\n",
      "   ------------------------------- -------- 31.9/40.9 MB 499.0 kB/s eta 0:00:19\n",
      "   ------------------------------- -------- 31.9/40.9 MB 501.3 kB/s eta 0:00:18\n",
      "   ------------------------------- -------- 32.1/40.9 MB 502.8 kB/s eta 0:00:18\n",
      "   ------------------------------- -------- 32.2/40.9 MB 504.8 kB/s eta 0:00:18\n",
      "   ------------------------------- -------- 32.3/40.9 MB 506.3 kB/s eta 0:00:18\n",
      "   ------------------------------- -------- 32.4/40.9 MB 506.3 kB/s eta 0:00:17\n",
      "   ------------------------------- -------- 32.4/40.9 MB 507.5 kB/s eta 0:00:17\n",
      "   ------------------------------- -------- 32.5/40.9 MB 506.3 kB/s eta 0:00:17\n",
      "   ------------------------------- -------- 32.5/40.9 MB 505.6 kB/s eta 0:00:17\n",
      "   ------------------------------- -------- 32.6/40.9 MB 504.8 kB/s eta 0:00:17\n",
      "   ------------------------------- -------- 32.6/40.9 MB 504.8 kB/s eta 0:00:17\n",
      "   ------------------------------- -------- 32.6/40.9 MB 504.8 kB/s eta 0:00:17\n",
      "   ------------------------------- -------- 32.6/40.9 MB 504.8 kB/s eta 0:00:17\n",
      "   ------------------------------- -------- 32.6/40.9 MB 504.8 kB/s eta 0:00:17\n",
      "   ------------------------------- -------- 32.6/40.9 MB 504.8 kB/s eta 0:00:17\n",
      "   -------------------------------- ------- 32.8/40.9 MB 502.8 kB/s eta 0:00:17\n",
      "   -------------------------------- ------- 33.1/40.9 MB 536.7 kB/s eta 0:00:15\n",
      "   -------------------------------- ------- 33.2/40.9 MB 552.5 kB/s eta 0:00:15\n",
      "   -------------------------------- ------- 33.2/40.9 MB 559.6 kB/s eta 0:00:14\n",
      "   -------------------------------- ------- 33.2/40.9 MB 559.6 kB/s eta 0:00:14\n",
      "   -------------------------------- ------- 33.5/40.9 MB 566.3 kB/s eta 0:00:14\n",
      "   -------------------------------- ------- 33.5/40.9 MB 566.3 kB/s eta 0:00:14\n",
      "   -------------------------------- ------- 33.5/40.9 MB 576.8 kB/s eta 0:00:13\n",
      "   -------------------------------- ------- 33.6/40.9 MB 586.1 kB/s eta 0:00:13\n",
      "   -------------------------------- ------- 33.6/40.9 MB 586.6 kB/s eta 0:00:13\n",
      "   -------------------------------- ------- 33.6/40.9 MB 586.6 kB/s eta 0:00:13\n",
      "   -------------------------------- ------- 33.6/40.9 MB 586.6 kB/s eta 0:00:13\n",
      "   -------------------------------- ------- 33.6/40.9 MB 581.4 kB/s eta 0:00:13\n",
      "   -------------------------------- ------- 33.7/40.9 MB 582.0 kB/s eta 0:00:13\n",
      "   --------------------------------- ------ 33.8/40.9 MB 583.0 kB/s eta 0:00:13\n",
      "   --------------------------------- ------ 33.9/40.9 MB 584.6 kB/s eta 0:00:13\n",
      "   --------------------------------- ------ 34.0/40.9 MB 583.5 kB/s eta 0:00:12\n",
      "   --------------------------------- ------ 34.0/40.9 MB 586.6 kB/s eta 0:00:12\n",
      "   --------------------------------- ------ 34.1/40.9 MB 602.8 kB/s eta 0:00:12\n",
      "   --------------------------------- ------ 34.1/40.9 MB 602.8 kB/s eta 0:00:12\n",
      "   --------------------------------- ------ 34.1/40.9 MB 599.5 kB/s eta 0:00:12\n",
      "   --------------------------------- ------ 34.2/40.9 MB 599.6 kB/s eta 0:00:12\n",
      "   --------------------------------- ------ 34.3/40.9 MB 599.0 kB/s eta 0:00:12\n",
      "   --------------------------------- ------ 34.3/40.9 MB 598.4 kB/s eta 0:00:12\n",
      "   --------------------------------- ------ 34.3/40.9 MB 598.4 kB/s eta 0:00:12\n",
      "   --------------------------------- ------ 34.4/40.9 MB 607.4 kB/s eta 0:00:11\n",
      "   --------------------------------- ------ 34.4/40.9 MB 607.4 kB/s eta 0:00:11\n",
      "   --------------------------------- ------ 34.4/40.9 MB 635.6 kB/s eta 0:00:11\n",
      "   --------------------------------- ------ 34.5/40.9 MB 635.0 kB/s eta 0:00:11\n",
      "   --------------------------------- ------ 34.5/40.9 MB 635.0 kB/s eta 0:00:11\n",
      "   --------------------------------- ------ 34.5/40.9 MB 635.0 kB/s eta 0:00:11\n",
      "   --------------------------------- ------ 34.5/40.9 MB 631.3 kB/s eta 0:00:11\n",
      "   --------------------------------- ------ 34.5/40.9 MB 631.3 kB/s eta 0:00:11\n",
      "   --------------------------------- ------ 34.5/40.9 MB 631.3 kB/s eta 0:00:11\n",
      "   --------------------------------- ------ 34.5/40.9 MB 631.3 kB/s eta 0:00:11\n",
      "   --------------------------------- ------ 34.5/40.9 MB 631.3 kB/s eta 0:00:11\n",
      "   --------------------------------- ------ 34.5/40.9 MB 625.9 kB/s eta 0:00:11\n",
      "   --------------------------------- ------ 34.6/40.9 MB 639.4 kB/s eta 0:00:10\n",
      "   --------------------------------- ------ 34.6/40.9 MB 639.4 kB/s eta 0:00:10\n",
      "   --------------------------------- ------ 34.7/40.9 MB 640.0 kB/s eta 0:00:10\n",
      "   --------------------------------- ------ 34.8/40.9 MB 638.8 kB/s eta 0:00:10\n",
      "   ---------------------------------- ----- 34.8/40.9 MB 640.0 kB/s eta 0:00:10\n",
      "   ---------------------------------- ----- 34.8/40.9 MB 640.0 kB/s eta 0:00:10\n",
      "   ---------------------------------- ----- 34.8/40.9 MB 640.0 kB/s eta 0:00:10\n",
      "   ---------------------------------- ----- 34.8/40.9 MB 640.0 kB/s eta 0:00:10\n",
      "   ---------------------------------- ----- 34.8/40.9 MB 640.0 kB/s eta 0:00:10\n",
      "   ---------------------------------- ----- 34.8/40.9 MB 640.0 kB/s eta 0:00:10\n",
      "   ---------------------------------- ----- 34.8/40.9 MB 640.0 kB/s eta 0:00:10\n",
      "   ---------------------------------- ----- 34.8/40.9 MB 640.0 kB/s eta 0:00:10\n",
      "   ---------------------------------- ----- 34.8/40.9 MB 640.0 kB/s eta 0:00:10\n",
      "   ---------------------------------- ----- 34.8/40.9 MB 640.0 kB/s eta 0:00:10\n",
      "   ---------------------------------- ----- 35.5/40.9 MB 650.8 kB/s eta 0:00:09\n",
      "   ---------------------------------- ----- 35.5/40.9 MB 650.2 kB/s eta 0:00:09\n",
      "   ---------------------------------- ----- 35.6/40.9 MB 650.1 kB/s eta 0:00:09\n",
      "   ---------------------------------- ----- 35.6/40.9 MB 648.8 kB/s eta 0:00:09\n",
      "   ---------------------------------- ----- 35.7/40.9 MB 651.5 kB/s eta 0:00:09\n",
      "   ---------------------------------- ----- 35.7/40.9 MB 650.2 kB/s eta 0:00:09\n",
      "   ---------------------------------- ----- 35.7/40.9 MB 648.2 kB/s eta 0:00:09\n",
      "   ---------------------------------- ----- 35.7/40.9 MB 648.2 kB/s eta 0:00:09\n",
      "   ---------------------------------- ----- 35.7/40.9 MB 648.2 kB/s eta 0:00:09\n",
      "   ---------------------------------- ----- 35.7/40.9 MB 648.2 kB/s eta 0:00:09\n",
      "   ---------------------------------- ----- 35.7/40.9 MB 648.2 kB/s eta 0:00:09\n",
      "   ---------------------------------- ----- 35.8/40.9 MB 639.4 kB/s eta 0:00:09\n",
      "   ---------------------------------- ----- 35.8/40.9 MB 639.4 kB/s eta 0:00:09\n",
      "   ---------------------------------- ----- 35.8/40.9 MB 639.4 kB/s eta 0:00:09\n",
      "   ---------------------------------- ----- 35.8/40.9 MB 639.4 kB/s eta 0:00:09\n",
      "   ---------------------------------- ----- 35.8/40.9 MB 639.4 kB/s eta 0:00:09\n",
      "   ---------------------------------- ----- 35.8/40.9 MB 639.4 kB/s eta 0:00:09\n",
      "   ---------------------------------- ----- 35.8/40.9 MB 639.4 kB/s eta 0:00:09\n",
      "   ----------------------------------- ---- 36.1/40.9 MB 636.9 kB/s eta 0:00:08\n",
      "   ----------------------------------- ---- 36.1/40.9 MB 636.9 kB/s eta 0:00:08\n",
      "   ----------------------------------- ---- 36.5/40.9 MB 648.2 kB/s eta 0:00:07\n",
      "   ----------------------------------- ---- 36.6/40.9 MB 648.8 kB/s eta 0:00:07\n",
      "   ----------------------------------- ---- 36.7/40.9 MB 649.5 kB/s eta 0:00:07\n",
      "   ----------------------------------- ---- 36.7/40.9 MB 646.9 kB/s eta 0:00:07\n",
      "   ----------------------------------- ---- 36.8/40.9 MB 646.3 kB/s eta 0:00:07\n",
      "   ----------------------------------- ---- 36.8/40.9 MB 648.2 kB/s eta 0:00:07\n",
      "   ----------------------------------- ---- 36.8/40.9 MB 648.2 kB/s eta 0:00:07\n",
      "   ----------------------------------- ---- 36.8/40.9 MB 648.2 kB/s eta 0:00:07\n",
      "   ----------------------------------- ---- 36.8/40.9 MB 643.1 kB/s eta 0:00:07\n",
      "   ----------------------------------- ---- 36.8/40.9 MB 643.1 kB/s eta 0:00:07\n",
      "   ----------------------------------- ---- 36.8/40.9 MB 643.1 kB/s eta 0:00:07\n",
      "   ----------------------------------- ---- 36.8/40.9 MB 643.1 kB/s eta 0:00:07\n",
      "   ------------------------------------ --- 37.1/40.9 MB 656.0 kB/s eta 0:00:06\n",
      "   ------------------------------------ --- 37.1/40.9 MB 653.4 kB/s eta 0:00:06\n",
      "   ------------------------------------ --- 37.2/40.9 MB 651.5 kB/s eta 0:00:06\n",
      "   ------------------------------------ --- 37.3/40.9 MB 650.8 kB/s eta 0:00:06\n",
      "   ------------------------------------ --- 37.4/40.9 MB 650.2 kB/s eta 0:00:06\n",
      "   ------------------------------------ --- 37.4/40.9 MB 650.2 kB/s eta 0:00:06\n",
      "   ------------------------------------ --- 37.5/40.9 MB 648.8 kB/s eta 0:00:06\n",
      "   ------------------------------------ --- 37.5/40.9 MB 648.9 kB/s eta 0:00:06\n",
      "   ------------------------------------ --- 37.5/40.9 MB 648.9 kB/s eta 0:00:06\n",
      "   ------------------------------------ --- 37.5/40.9 MB 645.0 kB/s eta 0:00:06\n",
      "   ------------------------------------ --- 37.5/40.9 MB 641.8 kB/s eta 0:00:06\n",
      "   ------------------------------------ --- 37.6/40.9 MB 641.2 kB/s eta 0:00:06\n",
      "   ------------------------------------ --- 37.7/40.9 MB 641.8 kB/s eta 0:00:06\n",
      "   ------------------------------------ --- 37.8/40.9 MB 649.5 kB/s eta 0:00:05\n",
      "   ------------------------------------- -- 37.9/40.9 MB 650.2 kB/s eta 0:00:05\n",
      "   ------------------------------------- -- 37.9/40.9 MB 650.2 kB/s eta 0:00:05\n",
      "   ------------------------------------- -- 37.9/40.9 MB 650.2 kB/s eta 0:00:05\n",
      "   ------------------------------------- -- 38.1/40.9 MB 647.6 kB/s eta 0:00:05\n",
      "   ------------------------------------- -- 38.1/40.9 MB 654.1 kB/s eta 0:00:05\n",
      "   ------------------------------------- -- 38.1/40.9 MB 652.1 kB/s eta 0:00:05\n",
      "   ------------------------------------- -- 38.1/40.9 MB 652.1 kB/s eta 0:00:05\n",
      "   ------------------------------------- -- 38.1/40.9 MB 652.1 kB/s eta 0:00:05\n",
      "   ------------------------------------- -- 38.1/40.9 MB 652.1 kB/s eta 0:00:05\n",
      "   ------------------------------------- -- 38.1/40.9 MB 652.1 kB/s eta 0:00:05\n",
      "   ------------------------------------- -- 38.1/40.9 MB 652.1 kB/s eta 0:00:05\n",
      "   ------------------------------------- -- 38.1/40.9 MB 652.1 kB/s eta 0:00:05\n",
      "   ------------------------------------- -- 38.1/40.9 MB 652.1 kB/s eta 0:00:05\n",
      "   ------------------------------------- -- 38.1/40.9 MB 652.1 kB/s eta 0:00:05\n",
      "   ------------------------------------- -- 38.1/40.9 MB 652.1 kB/s eta 0:00:05\n",
      "   ------------------------------------- -- 38.1/40.9 MB 652.1 kB/s eta 0:00:05\n",
      "   ------------------------------------- -- 38.3/40.9 MB 629.5 kB/s eta 0:00:05\n",
      "   ------------------------------------- -- 38.3/40.9 MB 629.5 kB/s eta 0:00:05\n",
      "   ------------------------------------- -- 38.3/40.9 MB 629.5 kB/s eta 0:00:05\n",
      "   ------------------------------------- -- 38.3/40.9 MB 629.5 kB/s eta 0:00:05\n",
      "   ------------------------------------- -- 38.3/40.9 MB 629.5 kB/s eta 0:00:05\n",
      "   ------------------------------------- -- 38.3/40.9 MB 629.5 kB/s eta 0:00:05\n",
      "   ------------------------------------- -- 38.3/40.9 MB 629.5 kB/s eta 0:00:05\n",
      "   ------------------------------------- -- 38.3/40.9 MB 629.5 kB/s eta 0:00:05\n",
      "   ------------------------------------- -- 38.3/40.9 MB 629.5 kB/s eta 0:00:05\n",
      "   ------------------------------------- -- 38.3/40.9 MB 629.5 kB/s eta 0:00:05\n",
      "   ------------------------------------- -- 38.3/40.9 MB 629.5 kB/s eta 0:00:05\n",
      "   ------------------------------------- -- 38.3/40.9 MB 618.2 kB/s eta 0:00:05\n",
      "   ------------------------------------- -- 38.3/40.9 MB 619.4 kB/s eta 0:00:05\n",
      "   ------------------------------------- -- 38.3/40.9 MB 619.4 kB/s eta 0:00:05\n",
      "   ------------------------------------- -- 38.3/40.9 MB 619.4 kB/s eta 0:00:05\n",
      "   ------------------------------------- -- 38.3/40.9 MB 619.4 kB/s eta 0:00:05\n",
      "   ------------------------------------- -- 38.4/40.9 MB 613.0 kB/s eta 0:00:05\n",
      "   ------------------------------------- -- 38.4/40.9 MB 610.7 kB/s eta 0:00:05\n",
      "   ------------------------------------- -- 38.4/40.9 MB 609.6 kB/s eta 0:00:05\n",
      "   ------------------------------------- -- 38.4/40.9 MB 610.1 kB/s eta 0:00:05\n",
      "   ------------------------------------- -- 38.4/40.9 MB 610.1 kB/s eta 0:00:05\n",
      "   ------------------------------------- -- 38.4/40.9 MB 620.0 kB/s eta 0:00:05\n",
      "   ------------------------------------- -- 38.5/40.9 MB 620.6 kB/s eta 0:00:04\n",
      "   ------------------------------------- -- 38.5/40.9 MB 620.6 kB/s eta 0:00:04\n",
      "   ------------------------------------- -- 38.5/40.9 MB 620.6 kB/s eta 0:00:04\n",
      "   ------------------------------------- -- 38.5/40.9 MB 620.6 kB/s eta 0:00:04\n",
      "   ------------------------------------- -- 38.5/40.9 MB 620.6 kB/s eta 0:00:04\n",
      "   ------------------------------------- -- 38.5/40.9 MB 620.6 kB/s eta 0:00:04\n",
      "   ------------------------------------- -- 38.5/40.9 MB 620.6 kB/s eta 0:00:04\n",
      "   -------------------------------------- - 38.9/40.9 MB 656.7 kB/s eta 0:00:04\n",
      "   -------------------------------------- - 39.0/40.9 MB 660.6 kB/s eta 0:00:03\n",
      "   -------------------------------------- - 39.1/40.9 MB 676.3 kB/s eta 0:00:03\n",
      "   -------------------------------------- - 39.1/40.9 MB 676.3 kB/s eta 0:00:03\n",
      "   -------------------------------------- - 39.1/40.9 MB 682.7 kB/s eta 0:00:03\n",
      "   -------------------------------------- - 39.1/40.9 MB 682.7 kB/s eta 0:00:03\n",
      "   -------------------------------------- - 39.2/40.9 MB 677.7 kB/s eta 0:00:03\n",
      "   -------------------------------------- - 39.3/40.9 MB 677.7 kB/s eta 0:00:03\n",
      "   -------------------------------------- - 39.4/40.9 MB 759.5 kB/s eta 0:00:03\n",
      "   -------------------------------------- - 39.5/40.9 MB 767.5 kB/s eta 0:00:02\n",
      "   -------------------------------------- - 39.5/40.9 MB 793.6 kB/s eta 0:00:02\n",
      "   -------------------------------------- - 39.6/40.9 MB 792.6 kB/s eta 0:00:02\n",
      "   -------------------------------------- - 39.6/40.9 MB 786.9 kB/s eta 0:00:02\n",
      "   -------------------------------------- - 39.7/40.9 MB 822.5 kB/s eta 0:00:02\n",
      "   -------------------------------------- - 39.8/40.9 MB 827.7 kB/s eta 0:00:02\n",
      "   -------------------------------------- - 39.9/40.9 MB 833.0 kB/s eta 0:00:02\n",
      "   -------------------------------------- - 39.9/40.9 MB 833.0 kB/s eta 0:00:02\n",
      "   -------------------------------------- - 39.9/40.9 MB 833.0 kB/s eta 0:00:02\n",
      "   -------------------------------------- - 39.9/40.9 MB 833.0 kB/s eta 0:00:02\n",
      "   -------------------------------------- - 39.9/40.9 MB 833.0 kB/s eta 0:00:02\n",
      "   -------------------------------------- - 39.9/40.9 MB 833.0 kB/s eta 0:00:02\n",
      "   -------------------------------------- - 39.9/40.9 MB 833.0 kB/s eta 0:00:02\n",
      "   -------------------------------------- - 39.9/40.9 MB 833.0 kB/s eta 0:00:02\n",
      "   -------------------------------------- - 39.9/40.9 MB 810.3 kB/s eta 0:00:02\n",
      "   -------------------------------------- - 39.9/40.9 MB 810.3 kB/s eta 0:00:02\n",
      "   -------------------------------------- - 39.9/40.9 MB 810.3 kB/s eta 0:00:02\n",
      "   -------------------------------------- - 39.9/40.9 MB 810.3 kB/s eta 0:00:02\n",
      "   ---------------------------------------  39.9/40.9 MB 807.3 kB/s eta 0:00:02\n",
      "   ---------------------------------------  39.9/40.9 MB 807.3 kB/s eta 0:00:02\n",
      "   ---------------------------------------  39.9/40.9 MB 807.3 kB/s eta 0:00:02\n",
      "   ---------------------------------------  39.9/40.9 MB 807.3 kB/s eta 0:00:02\n",
      "   ---------------------------------------  39.9/40.9 MB 796.5 kB/s eta 0:00:02\n",
      "   ---------------------------------------  40.0/40.9 MB 796.5 kB/s eta 0:00:02\n",
      "   ---------------------------------------  40.1/40.9 MB 800.4 kB/s eta 0:00:02\n",
      "   ---------------------------------------  40.2/40.9 MB 807.3 kB/s eta 0:00:01\n",
      "   ---------------------------------------  40.3/40.9 MB 813.3 kB/s eta 0:00:01\n",
      "   ---------------------------------------  40.3/40.9 MB 813.3 kB/s eta 0:00:01\n",
      "   ---------------------------------------  40.4/40.9 MB 812.3 kB/s eta 0:00:01\n",
      "   ---------------------------------------  40.4/40.9 MB 812.3 kB/s eta 0:00:01\n",
      "   ---------------------------------------  40.5/40.9 MB 811.2 kB/s eta 0:00:01\n",
      "   ---------------------------------------  40.6/40.9 MB 812.3 kB/s eta 0:00:01\n",
      "   ---------------------------------------  40.6/40.9 MB 812.3 kB/s eta 0:00:01\n",
      "   ---------------------------------------  40.6/40.9 MB 812.3 kB/s eta 0:00:01\n",
      "   ---------------------------------------  40.6/40.9 MB 812.3 kB/s eta 0:00:01\n",
      "   ---------------------------------------  40.9/40.9 MB 814.3 kB/s eta 0:00:01\n",
      "   ---------------------------------------  40.9/40.9 MB 814.3 kB/s eta 0:00:01\n",
      "   ---------------------------------------  40.9/40.9 MB 814.3 kB/s eta 0:00:01\n",
      "   ---------------------------------------  40.9/40.9 MB 814.3 kB/s eta 0:00:01\n",
      "   ---------------------------------------  40.9/40.9 MB 814.3 kB/s eta 0:00:01\n",
      "   ---------------------------------------  40.9/40.9 MB 814.3 kB/s eta 0:00:01\n",
      "   ---------------------------------------  40.9/40.9 MB 814.3 kB/s eta 0:00:01\n",
      "   ---------------------------------------  40.9/40.9 MB 814.3 kB/s eta 0:00:01\n",
      "   ---------------------------------------  40.9/40.9 MB 814.3 kB/s eta 0:00:01\n",
      "   ---------------------------------------  40.9/40.9 MB 814.3 kB/s eta 0:00:01\n",
      "   ---------------------------------------  40.9/40.9 MB 814.3 kB/s eta 0:00:01\n",
      "   ---------------------------------------  40.9/40.9 MB 814.3 kB/s eta 0:00:01\n",
      "   ---------------------------------------  40.9/40.9 MB 814.3 kB/s eta 0:00:01\n",
      "   ---------------------------------------  40.9/40.9 MB 814.3 kB/s eta 0:00:01\n",
      "   ---------------------------------------  40.9/40.9 MB 814.3 kB/s eta 0:00:01\n",
      "   ---------------------------------------  40.9/40.9 MB 814.3 kB/s eta 0:00:01\n",
      "   ---------------------------------------  40.9/40.9 MB 814.3 kB/s eta 0:00:01\n",
      "   ---------------------------------------  40.9/40.9 MB 814.3 kB/s eta 0:00:01\n",
      "   ---------------------------------------  40.9/40.9 MB 814.3 kB/s eta 0:00:01\n",
      "   ---------------------------------------  40.9/40.9 MB 814.3 kB/s eta 0:00:01\n",
      "   ---------------------------------------  40.9/40.9 MB 814.3 kB/s eta 0:00:01\n",
      "   ---------------------------------------  40.9/40.9 MB 814.3 kB/s eta 0:00:01\n",
      "   ---------------------------------------  40.9/40.9 MB 814.3 kB/s eta 0:00:01\n",
      "   ---------------------------------------  40.9/40.9 MB 814.3 kB/s eta 0:00:01\n",
      "   ---------------------------------------  40.9/40.9 MB 814.3 kB/s eta 0:00:01\n",
      "   ---------------------------------------  40.9/40.9 MB 814.3 kB/s eta 0:00:01\n",
      "   ---------------------------------------  40.9/40.9 MB 814.3 kB/s eta 0:00:01\n",
      "   ---------------------------------------  40.9/40.9 MB 814.3 kB/s eta 0:00:01\n",
      "   ---------------------------------------  40.9/40.9 MB 814.3 kB/s eta 0:00:01\n",
      "   ---------------------------------------  40.9/40.9 MB 814.3 kB/s eta 0:00:01\n",
      "   ---------------------------------------  40.9/40.9 MB 814.3 kB/s eta 0:00:01\n",
      "   ---------------------------------------  40.9/40.9 MB 814.3 kB/s eta 0:00:01\n",
      "   ---------------------------------------  40.9/40.9 MB 814.3 kB/s eta 0:00:01\n",
      "   ---------------------------------------  40.9/40.9 MB 814.3 kB/s eta 0:00:01\n",
      "   ---------------------------------------  40.9/40.9 MB 814.3 kB/s eta 0:00:01\n",
      "   ---------------------------------------  40.9/40.9 MB 814.3 kB/s eta 0:00:01\n",
      "   ---------------------------------------  40.9/40.9 MB 814.3 kB/s eta 0:00:01\n",
      "   ---------------------------------------  40.9/40.9 MB 814.3 kB/s eta 0:00:01\n",
      "   ---------------------------------------  40.9/40.9 MB 814.3 kB/s eta 0:00:01\n",
      "   ---------------------------------------  40.9/40.9 MB 814.3 kB/s eta 0:00:01\n",
      "   ---------------------------------------  40.9/40.9 MB 814.3 kB/s eta 0:00:01\n",
      "   ---------------------------------------  40.9/40.9 MB 814.3 kB/s eta 0:00:01\n",
      "   ---------------------------------------  40.9/40.9 MB 814.3 kB/s eta 0:00:01\n",
      "   ---------------------------------------  40.9/40.9 MB 814.3 kB/s eta 0:00:01\n",
      "   ---------------------------------------  40.9/40.9 MB 814.3 kB/s eta 0:00:01\n",
      "   ---------------------------------------  40.9/40.9 MB 814.3 kB/s eta 0:00:01\n",
      "   ---------------------------------------  40.9/40.9 MB 814.3 kB/s eta 0:00:01\n",
      "   ---------------------------------------  40.9/40.9 MB 814.3 kB/s eta 0:00:01\n",
      "   ---------------------------------------  40.9/40.9 MB 814.3 kB/s eta 0:00:01\n",
      "   ---------------------------------------  40.9/40.9 MB 814.3 kB/s eta 0:00:01\n",
      "   ---------------------------------------  40.9/40.9 MB 814.3 kB/s eta 0:00:01\n",
      "   ---------------------------------------  40.9/40.9 MB 814.3 kB/s eta 0:00:01\n",
      "   ---------------------------------------  40.9/40.9 MB 814.3 kB/s eta 0:00:01\n",
      "   ---------------------------------------  40.9/40.9 MB 814.3 kB/s eta 0:00:01\n",
      "   ---------------------------------------  40.9/40.9 MB 814.3 kB/s eta 0:00:01\n",
      "   ---------------------------------------  40.9/40.9 MB 814.3 kB/s eta 0:00:01\n",
      "   ---------------------------------------  40.9/40.9 MB 814.3 kB/s eta 0:00:01\n",
      "   ---------------------------------------  40.9/40.9 MB 814.3 kB/s eta 0:00:01\n",
      "   ---------------------------------------  40.9/40.9 MB 814.3 kB/s eta 0:00:01\n",
      "   ---------------------------------------  40.9/40.9 MB 814.3 kB/s eta 0:00:01\n",
      "   ---------------------------------------  40.9/40.9 MB 814.3 kB/s eta 0:00:01\n",
      "   ---------------------------------------  40.9/40.9 MB 814.3 kB/s eta 0:00:01\n",
      "   ---------------------------------------  40.9/40.9 MB 814.3 kB/s eta 0:00:01\n",
      "   ---------------------------------------  40.9/40.9 MB 814.3 kB/s eta 0:00:01\n",
      "   ---------------------------------------  40.9/40.9 MB 814.3 kB/s eta 0:00:01\n",
      "   ---------------------------------------  40.9/40.9 MB 814.3 kB/s eta 0:00:01\n",
      "   ---------------------------------------  40.9/40.9 MB 814.3 kB/s eta 0:00:01\n",
      "   ---------------------------------------  40.9/40.9 MB 814.3 kB/s eta 0:00:01\n",
      "   ---------------------------------------  40.9/40.9 MB 814.3 kB/s eta 0:00:01\n",
      "   ---------------------------------------  40.9/40.9 MB 814.3 kB/s eta 0:00:01\n",
      "   ---------------------------------------  40.9/40.9 MB 814.3 kB/s eta 0:00:01\n",
      "   ---------------------------------------  40.9/40.9 MB 814.3 kB/s eta 0:00:01\n",
      "   ---------------------------------------  40.9/40.9 MB 814.3 kB/s eta 0:00:01\n",
      "   ---------------------------------------  40.9/40.9 MB 814.3 kB/s eta 0:00:01\n",
      "   ---------------------------------------  40.9/40.9 MB 814.3 kB/s eta 0:00:01\n",
      "   ---------------------------------------  40.9/40.9 MB 814.3 kB/s eta 0:00:01\n",
      "   ---------------------------------------  40.9/40.9 MB 814.3 kB/s eta 0:00:01\n",
      "   ---------------------------------------  40.9/40.9 MB 814.3 kB/s eta 0:00:01\n",
      "   ---------------------------------------  40.9/40.9 MB 814.3 kB/s eta 0:00:01\n",
      "   ---------------------------------------  40.9/40.9 MB 814.3 kB/s eta 0:00:01\n",
      "   ---------------------------------------  40.9/40.9 MB 814.3 kB/s eta 0:00:01\n",
      "   ---------------------------------------  40.9/40.9 MB 814.3 kB/s eta 0:00:01\n",
      "   ---------------------------------------  40.9/40.9 MB 814.3 kB/s eta 0:00:01\n",
      "   ---------------------------------------  40.9/40.9 MB 814.3 kB/s eta 0:00:01\n",
      "   ---------------------------------------  40.9/40.9 MB 814.3 kB/s eta 0:00:01\n",
      "   ---------------------------------------  40.9/40.9 MB 814.3 kB/s eta 0:00:01\n",
      "   ---------------------------------------  40.9/40.9 MB 814.3 kB/s eta 0:00:01\n",
      "   ---------------------------------------  40.9/40.9 MB 814.3 kB/s eta 0:00:01\n",
      "   ---------------------------------------  40.9/40.9 MB 814.3 kB/s eta 0:00:01\n",
      "   ---------------------------------------  40.9/40.9 MB 814.3 kB/s eta 0:00:01\n",
      "   ---------------------------------------  40.9/40.9 MB 814.3 kB/s eta 0:00:01\n",
      "   ---------------------------------------  40.9/40.9 MB 814.3 kB/s eta 0:00:01\n",
      "   ---------------------------------------  40.9/40.9 MB 814.3 kB/s eta 0:00:01\n",
      "   ---------------------------------------  40.9/40.9 MB 814.3 kB/s eta 0:00:01\n",
      "   ---------------------------------------  40.9/40.9 MB 814.3 kB/s eta 0:00:01\n",
      "   ---------------------------------------  40.9/40.9 MB 814.3 kB/s eta 0:00:01\n",
      "   ---------------------------------------  40.9/40.9 MB 814.3 kB/s eta 0:00:01\n",
      "   ---------------------------------------  40.9/40.9 MB 814.3 kB/s eta 0:00:01\n",
      "   ---------------------------------------  40.9/40.9 MB 814.3 kB/s eta 0:00:01\n",
      "   ---------------------------------------  40.9/40.9 MB 814.3 kB/s eta 0:00:01\n",
      "   ---------------------------------------  40.9/40.9 MB 814.3 kB/s eta 0:00:01\n",
      "   ---------------------------------------  40.9/40.9 MB 814.3 kB/s eta 0:00:01\n",
      "   ---------------------------------------  40.9/40.9 MB 814.3 kB/s eta 0:00:01\n",
      "   ---------------------------------------  40.9/40.9 MB 814.3 kB/s eta 0:00:01\n",
      "   ---------------------------------------  40.9/40.9 MB 814.3 kB/s eta 0:00:01\n",
      "   ---------------------------------------  40.9/40.9 MB 814.3 kB/s eta 0:00:01\n",
      "   ---------------------------------------  40.9/40.9 MB 814.3 kB/s eta 0:00:01\n",
      "   ---------------------------------------  40.9/40.9 MB 814.3 kB/s eta 0:00:01\n",
      "   ---------------------------------------  40.9/40.9 MB 814.3 kB/s eta 0:00:01\n",
      "   ---------------------------------------  40.9/40.9 MB 814.3 kB/s eta 0:00:01\n",
      "   ---------------------------------------  40.9/40.9 MB 814.3 kB/s eta 0:00:01\n",
      "   ---------------------------------------  40.9/40.9 MB 814.3 kB/s eta 0:00:01\n",
      "   ---------------------------------------  40.9/40.9 MB 814.3 kB/s eta 0:00:01\n",
      "   ---------------------------------------  40.9/40.9 MB 814.3 kB/s eta 0:00:01\n",
      "   ---------------------------------------  40.9/40.9 MB 814.3 kB/s eta 0:00:01\n",
      "   ---------------------------------------  40.9/40.9 MB 814.3 kB/s eta 0:00:01\n",
      "   ---------------------------------------  40.9/40.9 MB 814.3 kB/s eta 0:00:01\n",
      "   ---------------------------------------  40.9/40.9 MB 814.3 kB/s eta 0:00:01\n",
      "   ---------------------------------------  40.9/40.9 MB 814.3 kB/s eta 0:00:01\n",
      "   ---------------------------------------  40.9/40.9 MB 814.3 kB/s eta 0:00:01\n",
      "   ---------------------------------------  40.9/40.9 MB 814.3 kB/s eta 0:00:01\n",
      "   ---------------------------------------  40.9/40.9 MB 814.3 kB/s eta 0:00:01\n",
      "   ---------------------------------------  40.9/40.9 MB 814.3 kB/s eta 0:00:01\n",
      "   ---------------------------------------  40.9/40.9 MB 814.3 kB/s eta 0:00:01\n",
      "   ---------------------------------------  40.9/40.9 MB 814.3 kB/s eta 0:00:01\n",
      "   ---------------------------------------  40.9/40.9 MB 814.3 kB/s eta 0:00:01\n",
      "   ---------------------------------------  40.9/40.9 MB 814.3 kB/s eta 0:00:01\n",
      "   ---------------------------------------  40.9/40.9 MB 814.3 kB/s eta 0:00:01\n",
      "   ---------------------------------------  40.9/40.9 MB 814.3 kB/s eta 0:00:01\n",
      "   ---------------------------------------  40.9/40.9 MB 814.3 kB/s eta 0:00:01\n",
      "   ---------------------------------------  40.9/40.9 MB 814.3 kB/s eta 0:00:01\n",
      "   ---------------------------------------  40.9/40.9 MB 814.3 kB/s eta 0:00:01\n",
      "   ---------------------------------------  40.9/40.9 MB 814.3 kB/s eta 0:00:01\n",
      "   ---------------------------------------  40.9/40.9 MB 814.3 kB/s eta 0:00:01\n",
      "   ---------------------------------------  40.9/40.9 MB 814.3 kB/s eta 0:00:01\n",
      "   ---------------------------------------  40.9/40.9 MB 814.3 kB/s eta 0:00:01\n",
      "   ---------------------------------------  40.9/40.9 MB 814.3 kB/s eta 0:00:01\n",
      "   ---------------------------------------  40.9/40.9 MB 814.3 kB/s eta 0:00:01\n",
      "   ---------------------------------------  40.9/40.9 MB 814.3 kB/s eta 0:00:01\n",
      "   ---------------------------------------  40.9/40.9 MB 814.3 kB/s eta 0:00:01\n",
      "   ---------------------------------------  40.9/40.9 MB 814.3 kB/s eta 0:00:01\n",
      "   ---------------------------------------  40.9/40.9 MB 814.3 kB/s eta 0:00:01\n",
      "   ---------------------------------------  40.9/40.9 MB 814.3 kB/s eta 0:00:01\n",
      "   ---------------------------------------  40.9/40.9 MB 814.3 kB/s eta 0:00:01\n",
      "   ---------------------------------------  40.9/40.9 MB 814.3 kB/s eta 0:00:01\n",
      "   ---------------------------------------  40.9/40.9 MB 814.3 kB/s eta 0:00:01\n",
      "   ---------------------------------------  40.9/40.9 MB 814.3 kB/s eta 0:00:01\n",
      "   ---------------------------------------  40.9/40.9 MB 814.3 kB/s eta 0:00:01\n",
      "   ---------------------------------------  40.9/40.9 MB 814.3 kB/s eta 0:00:01\n",
      "   ---------------------------------------  40.9/40.9 MB 814.3 kB/s eta 0:00:01\n",
      "   ---------------------------------------  40.9/40.9 MB 814.3 kB/s eta 0:00:01\n",
      "   ---------------------------------------  40.9/40.9 MB 814.3 kB/s eta 0:00:01\n",
      "   ---------------------------------------  40.9/40.9 MB 814.3 kB/s eta 0:00:01\n",
      "   ---------------------------------------  40.9/40.9 MB 814.3 kB/s eta 0:00:01\n",
      "   ---------------------------------------  40.9/40.9 MB 814.3 kB/s eta 0:00:01\n",
      "   ---------------------------------------  40.9/40.9 MB 814.3 kB/s eta 0:00:01\n",
      "   ---------------------------------------  40.9/40.9 MB 814.3 kB/s eta 0:00:01\n",
      "   ---------------------------------------  40.9/40.9 MB 814.3 kB/s eta 0:00:01\n",
      "   ---------------------------------------  40.9/40.9 MB 814.3 kB/s eta 0:00:01\n",
      "   ---------------------------------------  40.9/40.9 MB 814.3 kB/s eta 0:00:01\n",
      "   ---------------------------------------  40.9/40.9 MB 814.3 kB/s eta 0:00:01\n",
      "   ---------------------------------------  40.9/40.9 MB 814.3 kB/s eta 0:00:01\n",
      "   ---------------------------------------  40.9/40.9 MB 814.3 kB/s eta 0:00:01\n",
      "   ---------------------------------------  40.9/40.9 MB 814.3 kB/s eta 0:00:01\n",
      "   ---------------------------------------  40.9/40.9 MB 814.3 kB/s eta 0:00:01\n",
      "   ---------------------------------------  40.9/40.9 MB 814.3 kB/s eta 0:00:01\n",
      "   ---------------------------------------  40.9/40.9 MB 814.3 kB/s eta 0:00:01\n",
      "   ---------------------------------------  40.9/40.9 MB 814.3 kB/s eta 0:00:01\n",
      "   ---------------------------------------  40.9/40.9 MB 814.3 kB/s eta 0:00:01\n",
      "   ---------------------------------------  40.9/40.9 MB 814.3 kB/s eta 0:00:01\n",
      "   ---------------------------------------  40.9/40.9 MB 814.3 kB/s eta 0:00:01\n",
      "   ---------------------------------------  40.9/40.9 MB 814.3 kB/s eta 0:00:01\n",
      "   ---------------------------------------  40.9/40.9 MB 814.3 kB/s eta 0:00:01\n",
      "   ---------------------------------------  40.9/40.9 MB 814.3 kB/s eta 0:00:01\n",
      "   ---------------------------------------  40.9/40.9 MB 814.3 kB/s eta 0:00:01\n",
      "   ---------------------------------------  40.9/40.9 MB 814.3 kB/s eta 0:00:01\n",
      "   ---------------------------------------  40.9/40.9 MB 814.3 kB/s eta 0:00:01\n",
      "   ---------------------------------------  40.9/40.9 MB 814.3 kB/s eta 0:00:01\n",
      "   ---------------------------------------  40.9/40.9 MB 814.3 kB/s eta 0:00:01\n",
      "   ---------------------------------------  40.9/40.9 MB 814.3 kB/s eta 0:00:01\n",
      "   ---------------------------------------  40.9/40.9 MB 814.3 kB/s eta 0:00:01\n",
      "   ---------------------------------------  40.9/40.9 MB 814.3 kB/s eta 0:00:01\n",
      "   ---------------------------------------  40.9/40.9 MB 814.3 kB/s eta 0:00:01\n",
      "   ---------------------------------------  40.9/40.9 MB 814.3 kB/s eta 0:00:01\n",
      "   ---------------------------------------  40.9/40.9 MB 814.3 kB/s eta 0:00:01\n",
      "   ---------------------------------------  40.9/40.9 MB 814.3 kB/s eta 0:00:01\n",
      "   ---------------------------------------  40.9/40.9 MB 814.3 kB/s eta 0:00:01\n",
      "   ---------------------------------------  40.9/40.9 MB 814.3 kB/s eta 0:00:01\n",
      "   ---------------------------------------  40.9/40.9 MB 814.3 kB/s eta 0:00:01\n",
      "   ---------------------------------------  40.9/40.9 MB 814.3 kB/s eta 0:00:01\n",
      "   ---------------------------------------  40.9/40.9 MB 814.3 kB/s eta 0:00:01\n",
      "   ---------------------------------------  40.9/40.9 MB 814.3 kB/s eta 0:00:01\n",
      "   ---------------------------------------  40.9/40.9 MB 814.3 kB/s eta 0:00:01\n",
      "   ---------------------------------------  40.9/40.9 MB 814.3 kB/s eta 0:00:01\n",
      "   ---------------------------------------  40.9/40.9 MB 814.3 kB/s eta 0:00:01\n",
      "   ---------------------------------------  40.9/40.9 MB 814.3 kB/s eta 0:00:01\n",
      "   ---------------------------------------  40.9/40.9 MB 814.3 kB/s eta 0:00:01\n",
      "   ---------------------------------------  40.9/40.9 MB 814.3 kB/s eta 0:00:01\n",
      "   ---------------------------------------  40.9/40.9 MB 814.3 kB/s eta 0:00:01\n",
      "   ---------------------------------------  40.9/40.9 MB 814.3 kB/s eta 0:00:01\n",
      "   ---------------------------------------  40.9/40.9 MB 814.3 kB/s eta 0:00:01\n",
      "   ---------------------------------------  40.9/40.9 MB 814.3 kB/s eta 0:00:01\n",
      "   ---------------------------------------  40.9/40.9 MB 814.3 kB/s eta 0:00:01\n",
      "   ---------------------------------------  40.9/40.9 MB 814.3 kB/s eta 0:00:01\n",
      "   ---------------------------------------  40.9/40.9 MB 814.3 kB/s eta 0:00:01\n",
      "   ---------------------------------------  40.9/40.9 MB 814.3 kB/s eta 0:00:01\n",
      "   ---------------------------------------  40.9/40.9 MB 814.3 kB/s eta 0:00:01\n",
      "   ---------------------------------------  40.9/40.9 MB 814.3 kB/s eta 0:00:01\n",
      "   ---------------------------------------  40.9/40.9 MB 814.3 kB/s eta 0:00:01\n",
      "   ---------------------------------------  40.9/40.9 MB 814.3 kB/s eta 0:00:01\n",
      "   ---------------------------------------  40.9/40.9 MB 814.3 kB/s eta 0:00:01\n",
      "   ---------------------------------------  40.9/40.9 MB 814.3 kB/s eta 0:00:01\n",
      "   ---------------------------------------  40.9/40.9 MB 814.3 kB/s eta 0:00:01\n",
      "   ---------------------------------------  40.9/40.9 MB 814.3 kB/s eta 0:00:01\n",
      "   ---------------------------------------  40.9/40.9 MB 814.3 kB/s eta 0:00:01\n",
      "   ---------------------------------------  40.9/40.9 MB 814.3 kB/s eta 0:00:01\n",
      "   ---------------------------------------  40.9/40.9 MB 814.3 kB/s eta 0:00:01\n",
      "   ---------------------------------------  40.9/40.9 MB 814.3 kB/s eta 0:00:01\n",
      "   ---------------------------------------  40.9/40.9 MB 814.3 kB/s eta 0:00:01\n",
      "   ---------------------------------------  40.9/40.9 MB 814.3 kB/s eta 0:00:01\n",
      "   ---------------------------------------  40.9/40.9 MB 814.3 kB/s eta 0:00:01\n",
      "   ---------------------------------------  40.9/40.9 MB 814.3 kB/s eta 0:00:01\n",
      "   ---------------------------------------  40.9/40.9 MB 814.3 kB/s eta 0:00:01\n",
      "   ---------------------------------------  40.9/40.9 MB 814.3 kB/s eta 0:00:01\n",
      "   ---------------------------------------  40.9/40.9 MB 814.3 kB/s eta 0:00:01\n",
      "   ---------------------------------------  40.9/40.9 MB 814.3 kB/s eta 0:00:01\n",
      "   ---------------------------------------  40.9/40.9 MB 814.3 kB/s eta 0:00:01\n",
      "   ---------------------------------------  40.9/40.9 MB 814.3 kB/s eta 0:00:01\n",
      "   ---------------------------------------  40.9/40.9 MB 814.3 kB/s eta 0:00:01\n",
      "   ---------------------------------------  40.9/40.9 MB 814.3 kB/s eta 0:00:01\n",
      "   ---------------------------------------  40.9/40.9 MB 814.3 kB/s eta 0:00:01\n",
      "   ---------------------------------------  40.9/40.9 MB 814.3 kB/s eta 0:00:01\n",
      "   ---------------------------------------  40.9/40.9 MB 814.3 kB/s eta 0:00:01\n",
      "   ---------------------------------------  40.9/40.9 MB 814.3 kB/s eta 0:00:01\n",
      "   ---------------------------------------  40.9/40.9 MB 814.3 kB/s eta 0:00:01\n",
      "   ---------------------------------------  40.9/40.9 MB 814.3 kB/s eta 0:00:01\n",
      "   ---------------------------------------  40.9/40.9 MB 814.3 kB/s eta 0:00:01\n",
      "   ---------------------------------------  40.9/40.9 MB 814.3 kB/s eta 0:00:01\n",
      "   ---------------------------------------  40.9/40.9 MB 814.3 kB/s eta 0:00:01\n",
      "   ---------------------------------------  40.9/40.9 MB 814.3 kB/s eta 0:00:01\n",
      "   ---------------------------------------  40.9/40.9 MB 814.3 kB/s eta 0:00:01\n",
      "   ---------------------------------------  40.9/40.9 MB 814.3 kB/s eta 0:00:01\n",
      "   ---------------------------------------- 40.9/40.9 MB 426.8 kB/s eta 0:00:00\n",
      "Downloading threadpoolctl-3.6.0-py3-none-any.whl (18 kB)\n",
      "Installing collected packages: threadpoolctl, numpy, joblib, scipy, scikit-learn\n",
      "Successfully installed joblib-1.4.2 numpy-2.2.4 scikit-learn-1.6.1 scipy-1.15.2 threadpoolctl-3.6.0\n"
     ]
    },
    {
     "name": "stderr",
     "output_type": "stream",
     "text": [
      "\n",
      "[notice] A new release of pip is available: 24.0 -> 25.0.1\n",
      "[notice] To update, run: C:\\Users\\muspo\\AppData\\Local\\Programs\\Python\\Python312\\python.exe -m pip install --upgrade pip\n"
     ]
    }
   ],
   "source": [
    "!pip install scikit-learn"
   ]
  },
  {
   "cell_type": "code",
   "execution_count": 17,
   "metadata": {},
   "outputs": [
    {
     "name": "stdout",
     "output_type": "stream",
     "text": [
      "Collecting scikit-learn\n",
      "  Obtaining dependency information for scikit-learn from https://files.pythonhosted.org/packages/a1/a6/c5b78606743a1f28eae8f11973de6613a5ee87366796583fb74c67d54939/scikit_learn-1.6.1-cp311-cp311-win_amd64.whl.metadata\n",
      "  Downloading scikit_learn-1.6.1-cp311-cp311-win_amd64.whl.metadata (15 kB)\n",
      "Requirement already satisfied: numpy>=1.19.5 in c:\\users\\muspo\\appdata\\local\\programs\\python\\python311\\lib\\site-packages (from scikit-learn) (1.24.3)\n",
      "Requirement already satisfied: scipy>=1.6.0 in c:\\users\\muspo\\appdata\\local\\programs\\python\\python311\\lib\\site-packages (from scikit-learn) (1.14.0)\n",
      "Collecting joblib>=1.2.0 (from scikit-learn)\n",
      "  Obtaining dependency information for joblib>=1.2.0 from https://files.pythonhosted.org/packages/91/29/df4b9b42f2be0b623cbd5e2140cafcaa2bef0759a00b7b70104dcfe2fb51/joblib-1.4.2-py3-none-any.whl.metadata\n",
      "  Downloading joblib-1.4.2-py3-none-any.whl.metadata (5.4 kB)\n",
      "Collecting threadpoolctl>=3.1.0 (from scikit-learn)\n",
      "  Obtaining dependency information for threadpoolctl>=3.1.0 from https://files.pythonhosted.org/packages/32/d5/f9a850d79b0851d1d4ef6456097579a9005b31fea68726a4ae5f2d82ddd9/threadpoolctl-3.6.0-py3-none-any.whl.metadata\n",
      "  Downloading threadpoolctl-3.6.0-py3-none-any.whl.metadata (13 kB)\n",
      "Downloading scikit_learn-1.6.1-cp311-cp311-win_amd64.whl (11.1 MB)\n",
      "   ---------------------------------------- 0.0/11.1 MB ? eta -:--:--\n",
      "   ---------------------------------------- 0.0/11.1 MB ? eta -:--:--\n",
      "   ---------------------------------------- 0.1/11.1 MB 1.1 MB/s eta 0:00:11\n",
      "    --------------------------------------- 0.1/11.1 MB 1.2 MB/s eta 0:00:10\n",
      "    --------------------------------------- 0.2/11.1 MB 1.3 MB/s eta 0:00:09\n",
      "    --------------------------------------- 0.3/11.1 MB 1.4 MB/s eta 0:00:08\n",
      "    --------------------------------------- 0.3/11.1 MB 1.4 MB/s eta 0:00:08\n",
      "   - -------------------------------------- 0.3/11.1 MB 930.9 kB/s eta 0:00:12\n",
      "   - -------------------------------------- 0.3/11.1 MB 893.0 kB/s eta 0:00:13\n",
      "   - -------------------------------------- 0.3/11.1 MB 910.2 kB/s eta 0:00:12\n",
      "   - -------------------------------------- 0.4/11.1 MB 855.4 kB/s eta 0:00:13\n",
      "   - -------------------------------------- 0.4/11.1 MB 855.4 kB/s eta 0:00:13\n",
      "   - -------------------------------------- 0.4/11.1 MB 855.4 kB/s eta 0:00:13\n",
      "   - -------------------------------------- 0.4/11.1 MB 855.4 kB/s eta 0:00:13\n",
      "   - -------------------------------------- 0.4/11.1 MB 855.4 kB/s eta 0:00:13\n",
      "   - -------------------------------------- 0.4/11.1 MB 855.4 kB/s eta 0:00:13\n",
      "   - -------------------------------------- 0.4/11.1 MB 855.4 kB/s eta 0:00:13\n",
      "   - -------------------------------------- 0.4/11.1 MB 855.4 kB/s eta 0:00:13\n",
      "   - -------------------------------------- 0.4/11.1 MB 440.8 kB/s eta 0:00:25\n",
      "   - -------------------------------------- 0.4/11.1 MB 440.8 kB/s eta 0:00:25\n",
      "   - -------------------------------------- 0.4/11.1 MB 440.8 kB/s eta 0:00:25\n",
      "   - -------------------------------------- 0.4/11.1 MB 440.8 kB/s eta 0:00:25\n",
      "   - -------------------------------------- 0.4/11.1 MB 430.1 kB/s eta 0:00:25\n",
      "   - -------------------------------------- 0.5/11.1 MB 414.2 kB/s eta 0:00:26\n",
      "   - -------------------------------------- 0.5/11.1 MB 414.2 kB/s eta 0:00:26\n",
      "   - -------------------------------------- 0.5/11.1 MB 414.2 kB/s eta 0:00:26\n",
      "   - -------------------------------------- 0.5/11.1 MB 414.2 kB/s eta 0:00:26\n",
      "   - -------------------------------------- 0.5/11.1 MB 414.2 kB/s eta 0:00:26\n",
      "   - -------------------------------------- 0.5/11.1 MB 383.4 kB/s eta 0:00:28\n",
      "   -- ------------------------------------- 0.6/11.1 MB 431.8 kB/s eta 0:00:25\n",
      "   -- ------------------------------------- 0.6/11.1 MB 431.8 kB/s eta 0:00:25\n",
      "   -- ------------------------------------- 0.7/11.1 MB 470.0 kB/s eta 0:00:23\n",
      "   -- ------------------------------------- 0.7/11.1 MB 487.9 kB/s eta 0:00:22\n",
      "   -- ------------------------------------- 0.7/11.1 MB 487.9 kB/s eta 0:00:22\n",
      "   -- ------------------------------------- 0.7/11.1 MB 487.9 kB/s eta 0:00:22\n",
      "   -- ------------------------------------- 0.8/11.1 MB 470.7 kB/s eta 0:00:23\n",
      "   -- ------------------------------------- 0.8/11.1 MB 480.5 kB/s eta 0:00:22\n",
      "   -- ------------------------------------- 0.8/11.1 MB 480.5 kB/s eta 0:00:22\n",
      "   -- ------------------------------------- 0.8/11.1 MB 480.5 kB/s eta 0:00:22\n",
      "   -- ------------------------------------- 0.8/11.1 MB 480.5 kB/s eta 0:00:22\n",
      "   --- ------------------------------------ 0.8/11.1 MB 451.4 kB/s eta 0:00:23\n",
      "   --- ------------------------------------ 0.9/11.1 MB 464.2 kB/s eta 0:00:23\n",
      "   --- ------------------------------------ 0.9/11.1 MB 465.0 kB/s eta 0:00:22\n",
      "   --- ------------------------------------ 0.9/11.1 MB 465.0 kB/s eta 0:00:22\n",
      "   --- ------------------------------------ 0.9/11.1 MB 465.0 kB/s eta 0:00:22\n",
      "   --- ------------------------------------ 0.9/11.1 MB 465.0 kB/s eta 0:00:22\n",
      "   --- ------------------------------------ 0.9/11.1 MB 465.0 kB/s eta 0:00:22\n",
      "   --- ------------------------------------ 0.9/11.1 MB 465.0 kB/s eta 0:00:22\n",
      "   --- ------------------------------------ 0.9/11.1 MB 465.0 kB/s eta 0:00:22\n",
      "   --- ------------------------------------ 0.9/11.1 MB 465.0 kB/s eta 0:00:22\n",
      "   --- ------------------------------------ 0.9/11.1 MB 465.0 kB/s eta 0:00:22\n",
      "   --- ------------------------------------ 0.9/11.1 MB 465.0 kB/s eta 0:00:22\n",
      "   --- ------------------------------------ 0.9/11.1 MB 465.0 kB/s eta 0:00:22\n",
      "   --- ------------------------------------ 0.9/11.1 MB 465.0 kB/s eta 0:00:22\n",
      "   --- ------------------------------------ 0.9/11.1 MB 465.0 kB/s eta 0:00:22\n",
      "   --- ------------------------------------ 0.9/11.1 MB 465.0 kB/s eta 0:00:22\n",
      "   --- ------------------------------------ 0.9/11.1 MB 465.0 kB/s eta 0:00:22\n",
      "   --- ------------------------------------ 0.9/11.1 MB 465.0 kB/s eta 0:00:22\n",
      "   --- ------------------------------------ 0.9/11.1 MB 465.0 kB/s eta 0:00:22\n",
      "   --- ------------------------------------ 0.9/11.1 MB 465.0 kB/s eta 0:00:22\n",
      "   --- ------------------------------------ 0.9/11.1 MB 465.0 kB/s eta 0:00:22\n",
      "   --- ------------------------------------ 0.9/11.1 MB 465.0 kB/s eta 0:00:22\n",
      "   --- ------------------------------------ 0.9/11.1 MB 322.2 kB/s eta 0:00:32\n",
      "   --- ------------------------------------ 0.9/11.1 MB 322.2 kB/s eta 0:00:32\n",
      "   --- ------------------------------------ 1.0/11.1 MB 334.5 kB/s eta 0:00:31\n",
      "   --- ------------------------------------ 1.0/11.1 MB 334.5 kB/s eta 0:00:31\n",
      "   --- ------------------------------------ 1.0/11.1 MB 327.7 kB/s eta 0:00:31\n",
      "   --- ------------------------------------ 1.1/11.1 MB 335.8 kB/s eta 0:00:31\n",
      "   --- ------------------------------------ 1.1/11.1 MB 340.5 kB/s eta 0:00:30\n",
      "   ---- ----------------------------------- 1.1/11.1 MB 349.9 kB/s eta 0:00:29\n",
      "   ---- ----------------------------------- 1.1/11.1 MB 349.9 kB/s eta 0:00:29\n",
      "   ---- ----------------------------------- 1.1/11.1 MB 349.9 kB/s eta 0:00:29\n",
      "   ---- ----------------------------------- 1.1/11.1 MB 349.9 kB/s eta 0:00:29\n",
      "   ---- ----------------------------------- 1.1/11.1 MB 349.9 kB/s eta 0:00:29\n",
      "   ---- ----------------------------------- 1.1/11.1 MB 349.9 kB/s eta 0:00:29\n",
      "   ---- ----------------------------------- 1.1/11.1 MB 349.9 kB/s eta 0:00:29\n",
      "   ---- ----------------------------------- 1.2/11.1 MB 321.9 kB/s eta 0:00:32\n",
      "   ---- ----------------------------------- 1.2/11.1 MB 321.9 kB/s eta 0:00:32\n",
      "   ---- ----------------------------------- 1.2/11.1 MB 321.9 kB/s eta 0:00:32\n",
      "   ---- ----------------------------------- 1.2/11.1 MB 321.9 kB/s eta 0:00:32\n",
      "   ---- ----------------------------------- 1.2/11.1 MB 312.7 kB/s eta 0:00:32\n",
      "   ---- ----------------------------------- 1.2/11.1 MB 312.8 kB/s eta 0:00:32\n",
      "   ---- ----------------------------------- 1.2/11.1 MB 312.8 kB/s eta 0:00:32\n",
      "   ---- ----------------------------------- 1.2/11.1 MB 312.8 kB/s eta 0:00:32\n",
      "   ---- ----------------------------------- 1.2/11.1 MB 312.8 kB/s eta 0:00:32\n",
      "   ---- ----------------------------------- 1.2/11.1 MB 312.8 kB/s eta 0:00:32\n",
      "   ---- ----------------------------------- 1.2/11.1 MB 312.8 kB/s eta 0:00:32\n",
      "   ---- ----------------------------------- 1.2/11.1 MB 312.8 kB/s eta 0:00:32\n",
      "   ---- ----------------------------------- 1.2/11.1 MB 312.8 kB/s eta 0:00:32\n",
      "   ---- ----------------------------------- 1.2/11.1 MB 289.6 kB/s eta 0:00:35\n",
      "   ---- ----------------------------------- 1.2/11.1 MB 289.6 kB/s eta 0:00:35\n",
      "   ---- ----------------------------------- 1.2/11.1 MB 289.6 kB/s eta 0:00:35\n",
      "   ---- ----------------------------------- 1.2/11.1 MB 289.6 kB/s eta 0:00:35\n",
      "   ---- ----------------------------------- 1.2/11.1 MB 289.6 kB/s eta 0:00:35\n",
      "   ---- ----------------------------------- 1.2/11.1 MB 289.6 kB/s eta 0:00:35\n",
      "   ---- ----------------------------------- 1.2/11.1 MB 289.6 kB/s eta 0:00:35\n",
      "   ---- ----------------------------------- 1.2/11.1 MB 289.6 kB/s eta 0:00:35\n",
      "   ---- ----------------------------------- 1.2/11.1 MB 289.6 kB/s eta 0:00:35\n",
      "   ---- ----------------------------------- 1.2/11.1 MB 289.6 kB/s eta 0:00:35\n",
      "   ---- ----------------------------------- 1.2/11.1 MB 289.6 kB/s eta 0:00:35\n",
      "   ---- ----------------------------------- 1.2/11.1 MB 289.6 kB/s eta 0:00:35\n",
      "   ---- ----------------------------------- 1.2/11.1 MB 289.6 kB/s eta 0:00:35\n",
      "   ---- ----------------------------------- 1.2/11.1 MB 289.6 kB/s eta 0:00:35\n",
      "   ---- ----------------------------------- 1.2/11.1 MB 253.7 kB/s eta 0:00:40\n",
      "   ---- ----------------------------------- 1.2/11.1 MB 253.7 kB/s eta 0:00:40\n",
      "   ---- ----------------------------------- 1.2/11.1 MB 253.7 kB/s eta 0:00:40\n",
      "   ---- ----------------------------------- 1.2/11.1 MB 253.7 kB/s eta 0:00:40\n",
      "   ---- ----------------------------------- 1.2/11.1 MB 253.7 kB/s eta 0:00:40\n",
      "   ---- ----------------------------------- 1.2/11.1 MB 244.0 kB/s eta 0:00:41\n",
      "   ---- ----------------------------------- 1.3/11.1 MB 246.5 kB/s eta 0:00:41\n",
      "   ---- ----------------------------------- 1.3/11.1 MB 246.5 kB/s eta 0:00:41\n",
      "   ---- ----------------------------------- 1.3/11.1 MB 246.5 kB/s eta 0:00:41\n",
      "   ---- ----------------------------------- 1.3/11.1 MB 246.5 kB/s eta 0:00:41\n",
      "   ---- ----------------------------------- 1.3/11.1 MB 246.5 kB/s eta 0:00:41\n",
      "   ---- ----------------------------------- 1.3/11.1 MB 246.5 kB/s eta 0:00:41\n",
      "   ---- ----------------------------------- 1.3/11.1 MB 246.5 kB/s eta 0:00:41\n",
      "   ---- ----------------------------------- 1.3/11.1 MB 233.5 kB/s eta 0:00:43\n",
      "   ---- ----------------------------------- 1.3/11.1 MB 233.5 kB/s eta 0:00:43\n",
      "   ---- ----------------------------------- 1.3/11.1 MB 233.9 kB/s eta 0:00:43\n",
      "   ---- ----------------------------------- 1.3/11.1 MB 233.9 kB/s eta 0:00:43\n",
      "   ---- ----------------------------------- 1.3/11.1 MB 232.4 kB/s eta 0:00:43\n",
      "   ---- ----------------------------------- 1.3/11.1 MB 232.4 kB/s eta 0:00:43\n",
      "   ---- ----------------------------------- 1.3/11.1 MB 231.5 kB/s eta 0:00:43\n",
      "   ---- ----------------------------------- 1.3/11.1 MB 231.5 kB/s eta 0:00:43\n",
      "   ---- ----------------------------------- 1.3/11.1 MB 231.5 kB/s eta 0:00:43\n",
      "   ---- ----------------------------------- 1.3/11.1 MB 231.5 kB/s eta 0:00:43\n",
      "   ---- ----------------------------------- 1.4/11.1 MB 227.1 kB/s eta 0:00:44\n",
      "   ---- ----------------------------------- 1.4/11.1 MB 227.1 kB/s eta 0:00:44\n",
      "   ---- ----------------------------------- 1.4/11.1 MB 227.1 kB/s eta 0:00:44\n",
      "   ---- ----------------------------------- 1.4/11.1 MB 227.1 kB/s eta 0:00:44\n",
      "   ---- ----------------------------------- 1.4/11.1 MB 227.1 kB/s eta 0:00:44\n",
      "   ---- ----------------------------------- 1.4/11.1 MB 227.1 kB/s eta 0:00:44\n",
      "   ---- ----------------------------------- 1.4/11.1 MB 227.1 kB/s eta 0:00:44\n",
      "   ---- ----------------------------------- 1.4/11.1 MB 227.1 kB/s eta 0:00:44\n",
      "   ---- ----------------------------------- 1.4/11.1 MB 216.3 kB/s eta 0:00:46\n",
      "   ----- ---------------------------------- 1.4/11.1 MB 222.2 kB/s eta 0:00:44\n",
      "   ----- ---------------------------------- 1.4/11.1 MB 223.3 kB/s eta 0:00:44\n",
      "   ----- ---------------------------------- 1.5/11.1 MB 223.7 kB/s eta 0:00:44\n",
      "   ----- ---------------------------------- 1.5/11.1 MB 223.7 kB/s eta 0:00:44\n",
      "   ----- ---------------------------------- 1.5/11.1 MB 228.4 kB/s eta 0:00:43\n",
      "   ----- ---------------------------------- 1.6/11.1 MB 239.2 kB/s eta 0:00:40\n",
      "   ----- ---------------------------------- 1.6/11.1 MB 239.2 kB/s eta 0:00:40\n",
      "   ----- ---------------------------------- 1.6/11.1 MB 237.9 kB/s eta 0:00:41\n",
      "   ----- ---------------------------------- 1.6/11.1 MB 243.3 kB/s eta 0:00:40\n",
      "   ----- ---------------------------------- 1.6/11.1 MB 243.3 kB/s eta 0:00:40\n",
      "   ----- ---------------------------------- 1.6/11.1 MB 243.3 kB/s eta 0:00:40\n",
      "   ----- ---------------------------------- 1.7/11.1 MB 242.4 kB/s eta 0:00:40\n",
      "   ------ --------------------------------- 1.7/11.1 MB 242.2 kB/s eta 0:00:40\n",
      "   ------ --------------------------------- 1.7/11.1 MB 242.2 kB/s eta 0:00:40\n",
      "   ------ --------------------------------- 1.7/11.1 MB 241.9 kB/s eta 0:00:40\n",
      "   ------ --------------------------------- 1.7/11.1 MB 241.9 kB/s eta 0:00:40\n",
      "   ------ --------------------------------- 1.8/11.1 MB 244.8 kB/s eta 0:00:39\n",
      "   ------ --------------------------------- 1.8/11.1 MB 251.8 kB/s eta 0:00:38\n",
      "   ------ --------------------------------- 1.8/11.1 MB 254.1 kB/s eta 0:00:37\n",
      "   ------ --------------------------------- 1.8/11.1 MB 253.3 kB/s eta 0:00:37\n",
      "   ------ --------------------------------- 1.8/11.1 MB 253.3 kB/s eta 0:00:37\n",
      "   ------ --------------------------------- 1.8/11.1 MB 253.3 kB/s eta 0:00:37\n",
      "   ------ --------------------------------- 1.8/11.1 MB 253.3 kB/s eta 0:00:37\n",
      "   ------ --------------------------------- 1.8/11.1 MB 253.3 kB/s eta 0:00:37\n",
      "   ------ --------------------------------- 1.8/11.1 MB 253.3 kB/s eta 0:00:37\n",
      "   ------ --------------------------------- 1.8/11.1 MB 253.3 kB/s eta 0:00:37\n",
      "   ------ --------------------------------- 1.8/11.1 MB 253.3 kB/s eta 0:00:37\n",
      "   ------ --------------------------------- 1.9/11.1 MB 243.6 kB/s eta 0:00:39\n",
      "   ------ --------------------------------- 1.9/11.1 MB 243.6 kB/s eta 0:00:39\n",
      "   ------ --------------------------------- 1.9/11.1 MB 243.6 kB/s eta 0:00:39\n",
      "   ------ --------------------------------- 1.9/11.1 MB 243.6 kB/s eta 0:00:39\n",
      "   ------- -------------------------------- 2.0/11.1 MB 255.1 kB/s eta 0:00:36\n",
      "   ------- -------------------------------- 2.1/11.1 MB 263.4 kB/s eta 0:00:35\n",
      "   ------- -------------------------------- 2.1/11.1 MB 268.9 kB/s eta 0:00:34\n",
      "   ------- -------------------------------- 2.2/11.1 MB 268.0 kB/s eta 0:00:34\n",
      "   ------- -------------------------------- 2.2/11.1 MB 275.9 kB/s eta 0:00:33\n",
      "   -------- ------------------------------- 2.3/11.1 MB 281.9 kB/s eta 0:00:32\n",
      "   -------- ------------------------------- 2.3/11.1 MB 286.1 kB/s eta 0:00:31\n",
      "   -------- ------------------------------- 2.4/11.1 MB 291.8 kB/s eta 0:00:30\n",
      "   -------- ------------------------------- 2.4/11.1 MB 291.4 kB/s eta 0:00:31\n",
      "   -------- ------------------------------- 2.4/11.1 MB 291.4 kB/s eta 0:00:31\n",
      "   -------- ------------------------------- 2.4/11.1 MB 292.5 kB/s eta 0:00:30\n",
      "   --------- ------------------------------ 2.5/11.1 MB 300.7 kB/s eta 0:00:29\n",
      "   --------- ------------------------------ 2.6/11.1 MB 305.7 kB/s eta 0:00:28\n",
      "   --------- ------------------------------ 2.6/11.1 MB 311.9 kB/s eta 0:00:28\n",
      "   --------- ------------------------------ 2.7/11.1 MB 316.2 kB/s eta 0:00:27\n",
      "   --------- ------------------------------ 2.7/11.1 MB 316.8 kB/s eta 0:00:27\n",
      "   --------- ------------------------------ 2.7/11.1 MB 317.5 kB/s eta 0:00:27\n",
      "   --------- ------------------------------ 2.8/11.1 MB 320.0 kB/s eta 0:00:27\n",
      "   ---------- ----------------------------- 2.8/11.1 MB 324.7 kB/s eta 0:00:26\n",
      "   ---------- ----------------------------- 2.8/11.1 MB 322.4 kB/s eta 0:00:26\n",
      "   ---------- ----------------------------- 2.9/11.1 MB 321.3 kB/s eta 0:00:26\n",
      "   ---------- ----------------------------- 2.9/11.1 MB 322.5 kB/s eta 0:00:26\n",
      "   ---------- ----------------------------- 2.9/11.1 MB 323.1 kB/s eta 0:00:26\n",
      "   ---------- ----------------------------- 2.9/11.1 MB 323.1 kB/s eta 0:00:26\n",
      "   ---------- ----------------------------- 2.9/11.1 MB 323.1 kB/s eta 0:00:26\n",
      "   ---------- ----------------------------- 3.0/11.1 MB 323.7 kB/s eta 0:00:26\n",
      "   ---------- ----------------------------- 3.0/11.1 MB 330.5 kB/s eta 0:00:25\n",
      "   ----------- ---------------------------- 3.1/11.1 MB 334.3 kB/s eta 0:00:25\n",
      "   ----------- ---------------------------- 3.1/11.1 MB 335.4 kB/s eta 0:00:24\n",
      "   ----------- ---------------------------- 3.1/11.1 MB 336.5 kB/s eta 0:00:24\n",
      "   ----------- ---------------------------- 3.2/11.1 MB 341.3 kB/s eta 0:00:24\n",
      "   ----------- ---------------------------- 3.3/11.1 MB 347.2 kB/s eta 0:00:23\n",
      "   ----------- ---------------------------- 3.3/11.1 MB 352.1 kB/s eta 0:00:23\n",
      "   ------------ --------------------------- 3.4/11.1 MB 355.2 kB/s eta 0:00:22\n",
      "   ------------ --------------------------- 3.4/11.1 MB 357.7 kB/s eta 0:00:22\n",
      "   ------------ --------------------------- 3.4/11.1 MB 357.7 kB/s eta 0:00:22\n",
      "   ------------ --------------------------- 3.5/11.1 MB 356.9 kB/s eta 0:00:22\n",
      "   ------------ --------------------------- 3.5/11.1 MB 356.2 kB/s eta 0:00:22\n",
      "   ------------ --------------------------- 3.5/11.1 MB 357.2 kB/s eta 0:00:22\n",
      "   ------------ --------------------------- 3.5/11.1 MB 357.6 kB/s eta 0:00:22\n",
      "   ------------ --------------------------- 3.5/11.1 MB 357.5 kB/s eta 0:00:22\n",
      "   ------------ --------------------------- 3.5/11.1 MB 357.8 kB/s eta 0:00:22\n",
      "   ------------ --------------------------- 3.5/11.1 MB 356.1 kB/s eta 0:00:22\n",
      "   ------------ --------------------------- 3.5/11.1 MB 356.1 kB/s eta 0:00:22\n",
      "   ------------ --------------------------- 3.5/11.1 MB 356.1 kB/s eta 0:00:22\n",
      "   ------------ --------------------------- 3.6/11.1 MB 354.2 kB/s eta 0:00:22\n",
      "   ------------ --------------------------- 3.6/11.1 MB 354.2 kB/s eta 0:00:22\n",
      "   ------------ --------------------------- 3.6/11.1 MB 354.2 kB/s eta 0:00:22\n",
      "   ------------ --------------------------- 3.6/11.1 MB 350.3 kB/s eta 0:00:22\n",
      "   ------------ --------------------------- 3.6/11.1 MB 350.7 kB/s eta 0:00:22\n",
      "   ------------- -------------------------- 3.6/11.1 MB 351.6 kB/s eta 0:00:22\n",
      "   ------------- -------------------------- 3.7/11.1 MB 353.0 kB/s eta 0:00:22\n",
      "   ------------- -------------------------- 3.7/11.1 MB 352.9 kB/s eta 0:00:22\n",
      "   ------------- -------------------------- 3.7/11.1 MB 353.2 kB/s eta 0:00:22\n",
      "   ------------- -------------------------- 3.7/11.1 MB 353.6 kB/s eta 0:00:22\n",
      "   ------------- -------------------------- 3.7/11.1 MB 353.6 kB/s eta 0:00:22\n",
      "   ------------- -------------------------- 3.7/11.1 MB 353.6 kB/s eta 0:00:22\n",
      "   ------------- -------------------------- 3.7/11.1 MB 349.4 kB/s eta 0:00:22\n",
      "   ------------- -------------------------- 3.7/11.1 MB 349.4 kB/s eta 0:00:22\n",
      "   ------------- -------------------------- 3.7/11.1 MB 349.4 kB/s eta 0:00:22\n",
      "   ------------- -------------------------- 3.7/11.1 MB 349.4 kB/s eta 0:00:22\n",
      "   ------------- -------------------------- 3.7/11.1 MB 349.4 kB/s eta 0:00:22\n",
      "   ------------- -------------------------- 3.7/11.1 MB 349.4 kB/s eta 0:00:22\n",
      "   ------------- -------------------------- 3.7/11.1 MB 349.4 kB/s eta 0:00:22\n",
      "   ------------- -------------------------- 3.7/11.1 MB 349.4 kB/s eta 0:00:22\n",
      "   ------------- -------------------------- 3.7/11.1 MB 349.4 kB/s eta 0:00:22\n",
      "   ------------- -------------------------- 3.7/11.1 MB 349.4 kB/s eta 0:00:22\n",
      "   ------------- -------------------------- 3.7/11.1 MB 349.4 kB/s eta 0:00:22\n",
      "   ------------- -------------------------- 3.7/11.1 MB 349.4 kB/s eta 0:00:22\n",
      "   ------------- -------------------------- 3.7/11.1 MB 349.4 kB/s eta 0:00:22\n",
      "   ------------- -------------------------- 3.7/11.1 MB 349.4 kB/s eta 0:00:22\n",
      "   ------------- -------------------------- 3.7/11.1 MB 349.4 kB/s eta 0:00:22\n",
      "   ------------- -------------------------- 3.7/11.1 MB 349.4 kB/s eta 0:00:22\n",
      "   ------------- -------------------------- 3.7/11.1 MB 349.4 kB/s eta 0:00:22\n",
      "   ------------- -------------------------- 3.7/11.1 MB 349.4 kB/s eta 0:00:22\n",
      "   ------------- -------------------------- 3.7/11.1 MB 349.4 kB/s eta 0:00:22\n",
      "   ------------- -------------------------- 3.7/11.1 MB 349.4 kB/s eta 0:00:22\n",
      "   ------------- -------------------------- 3.7/11.1 MB 349.4 kB/s eta 0:00:22\n",
      "   ------------- -------------------------- 3.7/11.1 MB 349.4 kB/s eta 0:00:22\n",
      "   ------------- -------------------------- 3.7/11.1 MB 349.4 kB/s eta 0:00:22\n",
      "   ------------- -------------------------- 3.7/11.1 MB 349.4 kB/s eta 0:00:22\n",
      "   ------------- -------------------------- 3.7/11.1 MB 349.4 kB/s eta 0:00:22\n",
      "   ------------- -------------------------- 3.7/11.1 MB 315.5 kB/s eta 0:00:24\n",
      "   ------------- -------------------------- 3.7/11.1 MB 315.6 kB/s eta 0:00:24\n",
      "   ------------- -------------------------- 3.8/11.1 MB 316.5 kB/s eta 0:00:24\n",
      "   ------------- -------------------------- 3.8/11.1 MB 316.5 kB/s eta 0:00:24\n",
      "   ------------- -------------------------- 3.8/11.1 MB 316.5 kB/s eta 0:00:24\n",
      "   ------------- -------------------------- 3.8/11.1 MB 316.2 kB/s eta 0:00:24\n",
      "   ------------- -------------------------- 3.9/11.1 MB 317.9 kB/s eta 0:00:23\n",
      "   ------------- -------------------------- 3.9/11.1 MB 317.9 kB/s eta 0:00:23\n",
      "   ------------- -------------------------- 3.9/11.1 MB 317.9 kB/s eta 0:00:23\n",
      "   ------------- -------------------------- 3.9/11.1 MB 317.9 kB/s eta 0:00:23\n",
      "   ------------- -------------------------- 3.9/11.1 MB 317.9 kB/s eta 0:00:23\n",
      "   ------------- -------------------------- 3.9/11.1 MB 317.9 kB/s eta 0:00:23\n",
      "   ------------- -------------------------- 3.9/11.1 MB 317.9 kB/s eta 0:00:23\n",
      "   ------------- -------------------------- 3.9/11.1 MB 317.9 kB/s eta 0:00:23\n",
      "   ------------- -------------------------- 3.9/11.1 MB 317.9 kB/s eta 0:00:23\n",
      "   ------------- -------------------------- 3.9/11.1 MB 317.9 kB/s eta 0:00:23\n",
      "   ------------- -------------------------- 3.9/11.1 MB 317.9 kB/s eta 0:00:23\n",
      "   ------------- -------------------------- 3.9/11.1 MB 317.9 kB/s eta 0:00:23\n",
      "   ------------- -------------------------- 3.9/11.1 MB 317.9 kB/s eta 0:00:23\n",
      "   ------------- -------------------------- 3.9/11.1 MB 317.9 kB/s eta 0:00:23\n",
      "   ------------- -------------------------- 3.9/11.1 MB 317.9 kB/s eta 0:00:23\n",
      "   ------------- -------------------------- 3.9/11.1 MB 317.9 kB/s eta 0:00:23\n",
      "   ------------- -------------------------- 3.9/11.1 MB 317.9 kB/s eta 0:00:23\n",
      "   ------------- -------------------------- 3.9/11.1 MB 317.9 kB/s eta 0:00:23\n",
      "   ------------- -------------------------- 3.9/11.1 MB 317.9 kB/s eta 0:00:23\n",
      "   ------------- -------------------------- 3.9/11.1 MB 317.9 kB/s eta 0:00:23\n",
      "   ------------- -------------------------- 3.9/11.1 MB 317.9 kB/s eta 0:00:23\n",
      "   ------------- -------------------------- 3.9/11.1 MB 317.9 kB/s eta 0:00:23\n",
      "   ------------- -------------------------- 3.9/11.1 MB 317.9 kB/s eta 0:00:23\n",
      "   ------------- -------------------------- 3.9/11.1 MB 317.9 kB/s eta 0:00:23\n",
      "   ------------- -------------------------- 3.9/11.1 MB 317.9 kB/s eta 0:00:23\n",
      "   ------------- -------------------------- 3.9/11.1 MB 317.9 kB/s eta 0:00:23\n",
      "   ------------- -------------------------- 3.9/11.1 MB 317.9 kB/s eta 0:00:23\n",
      "   ------------- -------------------------- 3.9/11.1 MB 317.9 kB/s eta 0:00:23\n",
      "   ------------- -------------------------- 3.9/11.1 MB 317.9 kB/s eta 0:00:23\n",
      "   ------------- -------------------------- 3.9/11.1 MB 317.9 kB/s eta 0:00:23\n",
      "   ------------- -------------------------- 3.9/11.1 MB 317.9 kB/s eta 0:00:23\n",
      "   ------------- -------------------------- 3.9/11.1 MB 317.9 kB/s eta 0:00:23\n",
      "   ------------- -------------------------- 3.9/11.1 MB 317.9 kB/s eta 0:00:23\n",
      "   ------------- -------------------------- 3.9/11.1 MB 317.9 kB/s eta 0:00:23\n",
      "   ------------- -------------------------- 3.9/11.1 MB 317.9 kB/s eta 0:00:23\n",
      "   ------------- -------------------------- 3.9/11.1 MB 317.9 kB/s eta 0:00:23\n",
      "   ------------- -------------------------- 3.9/11.1 MB 317.9 kB/s eta 0:00:23\n",
      "   ------------- -------------------------- 3.9/11.1 MB 317.9 kB/s eta 0:00:23\n",
      "   ------------- -------------------------- 3.9/11.1 MB 317.9 kB/s eta 0:00:23\n",
      "   ------------- -------------------------- 3.9/11.1 MB 317.9 kB/s eta 0:00:23\n",
      "   ------------- -------------------------- 3.9/11.1 MB 317.9 kB/s eta 0:00:23\n",
      "   ------------- -------------------------- 3.9/11.1 MB 317.9 kB/s eta 0:00:23\n",
      "   ------------- -------------------------- 3.9/11.1 MB 317.9 kB/s eta 0:00:23\n",
      "   ------------- -------------------------- 3.9/11.1 MB 317.9 kB/s eta 0:00:23\n",
      "   ------------- -------------------------- 3.9/11.1 MB 317.9 kB/s eta 0:00:23\n",
      "   ------------- -------------------------- 3.9/11.1 MB 317.9 kB/s eta 0:00:23\n",
      "   ------------- -------------------------- 3.9/11.1 MB 317.9 kB/s eta 0:00:23\n",
      "   ------------- -------------------------- 3.9/11.1 MB 317.9 kB/s eta 0:00:23\n",
      "   ------------- -------------------------- 3.9/11.1 MB 317.9 kB/s eta 0:00:23\n",
      "   ------------- -------------------------- 3.9/11.1 MB 317.9 kB/s eta 0:00:23\n",
      "   ------------- -------------------------- 3.9/11.1 MB 266.1 kB/s eta 0:00:28\n",
      "   ------------- -------------------------- 3.9/11.1 MB 266.8 kB/s eta 0:00:28\n",
      "   ------------- -------------------------- 3.9/11.1 MB 266.8 kB/s eta 0:00:28\n",
      "   ------------- -------------------------- 3.9/11.1 MB 266.8 kB/s eta 0:00:28\n",
      "   ------------- -------------------------- 3.9/11.1 MB 266.8 kB/s eta 0:00:28\n",
      "   ------------- -------------------------- 3.9/11.1 MB 266.8 kB/s eta 0:00:28\n",
      "   ------------- -------------------------- 3.9/11.1 MB 266.8 kB/s eta 0:00:28\n",
      "   ------------- -------------------------- 3.9/11.1 MB 266.8 kB/s eta 0:00:28\n",
      "   ------------- -------------------------- 3.9/11.1 MB 266.8 kB/s eta 0:00:28\n",
      "   ------------- -------------------------- 3.9/11.1 MB 266.8 kB/s eta 0:00:28\n",
      "   ------------- -------------------------- 3.9/11.1 MB 266.8 kB/s eta 0:00:28\n",
      "   ------------- -------------------------- 3.9/11.1 MB 266.8 kB/s eta 0:00:28\n",
      "   ------------- -------------------------- 3.9/11.1 MB 266.8 kB/s eta 0:00:28\n",
      "   ------------- -------------------------- 3.9/11.1 MB 266.8 kB/s eta 0:00:28\n",
      "   ------------- -------------------------- 3.9/11.1 MB 266.8 kB/s eta 0:00:28\n",
      "   ------------- -------------------------- 3.9/11.1 MB 266.8 kB/s eta 0:00:28\n",
      "   ------------- -------------------------- 3.9/11.1 MB 255.1 kB/s eta 0:00:29\n",
      "   ------------- -------------------------- 3.9/11.1 MB 255.1 kB/s eta 0:00:29\n",
      "   ------------- -------------------------- 3.9/11.1 MB 255.1 kB/s eta 0:00:29\n",
      "   ------------- -------------------------- 3.9/11.1 MB 255.1 kB/s eta 0:00:29\n",
      "   ------------- -------------------------- 3.9/11.1 MB 255.1 kB/s eta 0:00:29\n",
      "   -------------- ------------------------- 3.9/11.1 MB 252.1 kB/s eta 0:00:29\n",
      "   -------------- ------------------------- 3.9/11.1 MB 251.9 kB/s eta 0:00:29\n",
      "   -------------- ------------------------- 3.9/11.1 MB 251.9 kB/s eta 0:00:29\n",
      "   -------------- ------------------------- 3.9/11.1 MB 251.9 kB/s eta 0:00:29\n",
      "   -------------- ------------------------- 3.9/11.1 MB 251.9 kB/s eta 0:00:29\n",
      "   -------------- ------------------------- 3.9/11.1 MB 251.9 kB/s eta 0:00:29\n",
      "   -------------- ------------------------- 3.9/11.1 MB 251.9 kB/s eta 0:00:29\n",
      "   -------------- ------------------------- 3.9/11.1 MB 251.9 kB/s eta 0:00:29\n",
      "   -------------- ------------------------- 4.0/11.1 MB 249.7 kB/s eta 0:00:29\n",
      "   -------------- ------------------------- 4.0/11.1 MB 254.1 kB/s eta 0:00:28\n",
      "   -------------- ------------------------- 4.1/11.1 MB 259.8 kB/s eta 0:00:27\n",
      "   --------------- ------------------------ 4.2/11.1 MB 264.8 kB/s eta 0:00:27\n",
      "   --------------- ------------------------ 4.2/11.1 MB 264.8 kB/s eta 0:00:27\n",
      "   --------------- ------------------------ 4.3/11.1 MB 265.2 kB/s eta 0:00:26\n",
      "   --------------- ------------------------ 4.3/11.1 MB 268.9 kB/s eta 0:00:26\n",
      "   --------------- ------------------------ 4.4/11.1 MB 274.4 kB/s eta 0:00:25\n",
      "   ---------------- ----------------------- 4.5/11.1 MB 278.7 kB/s eta 0:00:24\n",
      "   ---------------- ----------------------- 4.6/11.1 MB 282.9 kB/s eta 0:00:24\n",
      "   ---------------- ----------------------- 4.6/11.1 MB 282.9 kB/s eta 0:00:24\n",
      "   ---------------- ----------------------- 4.6/11.1 MB 282.8 kB/s eta 0:00:24\n",
      "   ---------------- ----------------------- 4.7/11.1 MB 286.8 kB/s eta 0:00:23\n",
      "   ----------------- ---------------------- 4.8/11.1 MB 292.5 kB/s eta 0:00:22\n",
      "   ----------------- ---------------------- 4.9/11.1 MB 298.2 kB/s eta 0:00:21\n",
      "   ------------------ --------------------- 5.0/11.1 MB 304.1 kB/s eta 0:00:21\n",
      "   ------------------ --------------------- 5.1/11.1 MB 306.6 kB/s eta 0:00:20\n",
      "   ------------------ --------------------- 5.1/11.1 MB 306.6 kB/s eta 0:00:20\n",
      "   ------------------ --------------------- 5.1/11.1 MB 306.6 kB/s eta 0:00:20\n",
      "   ------------------ --------------------- 5.1/11.1 MB 307.1 kB/s eta 0:00:20\n",
      "   ------------------ --------------------- 5.2/11.1 MB 310.9 kB/s eta 0:00:20\n",
      "   ------------------ --------------------- 5.3/11.1 MB 311.8 kB/s eta 0:00:19\n",
      "   ------------------- -------------------- 5.3/11.1 MB 316.4 kB/s eta 0:00:19\n",
      "   ------------------- -------------------- 5.4/11.1 MB 320.4 kB/s eta 0:00:18\n",
      "   ------------------- -------------------- 5.4/11.1 MB 320.4 kB/s eta 0:00:18\n",
      "   ------------------- -------------------- 5.5/11.1 MB 321.7 kB/s eta 0:00:18\n",
      "   ------------------- -------------------- 5.6/11.1 MB 325.6 kB/s eta 0:00:18\n",
      "   -------------------- ------------------- 5.6/11.1 MB 328.3 kB/s eta 0:00:17\n",
      "   -------------------- ------------------- 5.7/11.1 MB 331.6 kB/s eta 0:00:17\n",
      "   -------------------- ------------------- 5.8/11.1 MB 334.2 kB/s eta 0:00:17\n",
      "   -------------------- ------------------- 5.8/11.1 MB 338.1 kB/s eta 0:00:16\n",
      "   --------------------- ------------------ 5.9/11.1 MB 338.9 kB/s eta 0:00:16\n",
      "   --------------------- ------------------ 5.9/11.1 MB 341.6 kB/s eta 0:00:16\n",
      "   --------------------- ------------------ 6.0/11.1 MB 343.0 kB/s eta 0:00:16\n",
      "   --------------------- ------------------ 6.0/11.1 MB 345.0 kB/s eta 0:00:15\n",
      "   --------------------- ------------------ 6.1/11.1 MB 348.8 kB/s eta 0:00:15\n",
      "   ---------------------- ----------------- 6.2/11.1 MB 353.1 kB/s eta 0:00:15\n",
      "   ---------------------- ----------------- 6.2/11.1 MB 353.6 kB/s eta 0:00:14\n",
      "   ---------------------- ----------------- 6.3/11.1 MB 354.7 kB/s eta 0:00:14\n",
      "   ---------------------- ----------------- 6.3/11.1 MB 355.8 kB/s eta 0:00:14\n",
      "   ---------------------- ----------------- 6.3/11.1 MB 355.7 kB/s eta 0:00:14\n",
      "   ---------------------- ----------------- 6.4/11.1 MB 358.8 kB/s eta 0:00:14\n",
      "   ----------------------- ---------------- 6.4/11.1 MB 361.3 kB/s eta 0:00:14\n",
      "   ----------------------- ---------------- 6.5/11.1 MB 361.5 kB/s eta 0:00:13\n",
      "   ----------------------- ---------------- 6.5/11.1 MB 362.9 kB/s eta 0:00:13\n",
      "   ----------------------- ---------------- 6.6/11.1 MB 365.3 kB/s eta 0:00:13\n",
      "   ----------------------- ---------------- 6.6/11.1 MB 367.8 kB/s eta 0:00:13\n",
      "   ----------------------- ---------------- 6.7/11.1 MB 369.7 kB/s eta 0:00:13\n",
      "   ------------------------ --------------- 6.8/11.1 MB 373.3 kB/s eta 0:00:12\n",
      "   ------------------------ --------------- 6.8/11.1 MB 374.0 kB/s eta 0:00:12\n",
      "   ------------------------ --------------- 6.8/11.1 MB 374.7 kB/s eta 0:00:12\n",
      "   ------------------------ --------------- 6.8/11.1 MB 374.9 kB/s eta 0:00:12\n",
      "   ------------------------ --------------- 6.9/11.1 MB 374.5 kB/s eta 0:00:12\n",
      "   ------------------------ --------------- 6.9/11.1 MB 376.1 kB/s eta 0:00:12\n",
      "   ------------------------ --------------- 6.9/11.1 MB 376.1 kB/s eta 0:00:12\n",
      "   ------------------------ --------------- 6.9/11.1 MB 374.1 kB/s eta 0:00:12\n",
      "   ------------------------ --------------- 6.9/11.1 MB 375.8 kB/s eta 0:00:12\n",
      "   ------------------------ --------------- 7.0/11.1 MB 375.3 kB/s eta 0:00:12\n",
      "   ------------------------- -------------- 7.0/11.1 MB 377.4 kB/s eta 0:00:11\n",
      "   ------------------------- -------------- 7.0/11.1 MB 376.7 kB/s eta 0:00:11\n",
      "   ------------------------- -------------- 7.1/11.1 MB 379.6 kB/s eta 0:00:11\n",
      "   ------------------------- -------------- 7.1/11.1 MB 379.6 kB/s eta 0:00:11\n",
      "   ------------------------- -------------- 7.1/11.1 MB 379.6 kB/s eta 0:00:11\n",
      "   ------------------------- -------------- 7.1/11.1 MB 379.6 kB/s eta 0:00:11\n",
      "   ------------------------- -------------- 7.1/11.1 MB 379.6 kB/s eta 0:00:11\n",
      "   ------------------------- -------------- 7.1/11.1 MB 377.6 kB/s eta 0:00:11\n",
      "   ------------------------- -------------- 7.1/11.1 MB 377.6 kB/s eta 0:00:11\n",
      "   -------------------------- ------------- 7.2/11.1 MB 381.0 kB/s eta 0:00:11\n",
      "   -------------------------- ------------- 7.3/11.1 MB 383.4 kB/s eta 0:00:11\n",
      "   -------------------------- ------------- 7.3/11.1 MB 383.4 kB/s eta 0:00:11\n",
      "   -------------------------- ------------- 7.3/11.1 MB 383.4 kB/s eta 0:00:11\n",
      "   -------------------------- ------------- 7.4/11.1 MB 384.6 kB/s eta 0:00:10\n",
      "   -------------------------- ------------- 7.4/11.1 MB 385.3 kB/s eta 0:00:10\n",
      "   -------------------------- ------------- 7.4/11.1 MB 384.3 kB/s eta 0:00:10\n",
      "   -------------------------- ------------- 7.4/11.1 MB 384.7 kB/s eta 0:00:10\n",
      "   -------------------------- ------------- 7.5/11.1 MB 386.4 kB/s eta 0:00:10\n",
      "   --------------------------- ------------ 7.5/11.1 MB 387.3 kB/s eta 0:00:10\n",
      "   --------------------------- ------------ 7.6/11.1 MB 392.7 kB/s eta 0:00:09\n",
      "   --------------------------- ------------ 7.7/11.1 MB 392.9 kB/s eta 0:00:09\n",
      "   --------------------------- ------------ 7.7/11.1 MB 392.4 kB/s eta 0:00:09\n",
      "   --------------------------- ------------ 7.7/11.1 MB 393.0 kB/s eta 0:00:09\n",
      "   --------------------------- ------------ 7.7/11.1 MB 393.1 kB/s eta 0:00:09\n",
      "   --------------------------- ------------ 7.7/11.1 MB 393.0 kB/s eta 0:00:09\n",
      "   --------------------------- ------------ 7.8/11.1 MB 393.1 kB/s eta 0:00:09\n",
      "   ---------------------------- ----------- 7.8/11.1 MB 396.0 kB/s eta 0:00:09\n",
      "   ---------------------------- ----------- 7.9/11.1 MB 399.2 kB/s eta 0:00:09\n",
      "   ---------------------------- ----------- 8.0/11.1 MB 400.1 kB/s eta 0:00:08\n",
      "   ---------------------------- ----------- 8.0/11.1 MB 400.5 kB/s eta 0:00:08\n",
      "   ---------------------------- ----------- 8.0/11.1 MB 402.5 kB/s eta 0:00:08\n",
      "   ----------------------------- ---------- 8.1/11.1 MB 403.6 kB/s eta 0:00:08\n",
      "   ----------------------------- ---------- 8.1/11.1 MB 404.2 kB/s eta 0:00:08\n",
      "   ----------------------------- ---------- 8.2/11.1 MB 405.1 kB/s eta 0:00:08\n",
      "   ----------------------------- ---------- 8.2/11.1 MB 404.9 kB/s eta 0:00:08\n",
      "   ----------------------------- ---------- 8.2/11.1 MB 407.0 kB/s eta 0:00:08\n",
      "   ----------------------------- ---------- 8.3/11.1 MB 409.1 kB/s eta 0:00:07\n",
      "   ----------------------------- ---------- 8.3/11.1 MB 410.7 kB/s eta 0:00:07\n",
      "   ------------------------------ --------- 8.4/11.1 MB 411.7 kB/s eta 0:00:07\n",
      "   ------------------------------ --------- 8.4/11.1 MB 413.3 kB/s eta 0:00:07\n",
      "   ------------------------------ --------- 8.5/11.1 MB 414.2 kB/s eta 0:00:07\n",
      "   ------------------------------ --------- 8.5/11.1 MB 415.9 kB/s eta 0:00:07\n",
      "   ------------------------------ --------- 8.6/11.1 MB 417.4 kB/s eta 0:00:07\n",
      "   ------------------------------ --------- 8.6/11.1 MB 419.0 kB/s eta 0:00:06\n",
      "   ------------------------------- -------- 8.6/11.1 MB 419.2 kB/s eta 0:00:06\n",
      "   ------------------------------- -------- 8.7/11.1 MB 419.9 kB/s eta 0:00:06\n",
      "   ------------------------------- -------- 8.7/11.1 MB 420.9 kB/s eta 0:00:06\n",
      "   ------------------------------- -------- 8.8/11.1 MB 422.2 kB/s eta 0:00:06\n",
      "   ------------------------------- -------- 8.8/11.1 MB 423.0 kB/s eta 0:00:06\n",
      "   ------------------------------- -------- 8.9/11.1 MB 425.6 kB/s eta 0:00:06\n",
      "   ------------------------------- -------- 8.9/11.1 MB 426.3 kB/s eta 0:00:06\n",
      "   -------------------------------- ------- 9.0/11.1 MB 427.6 kB/s eta 0:00:06\n",
      "   -------------------------------- ------- 9.0/11.1 MB 428.9 kB/s eta 0:00:05\n",
      "   -------------------------------- ------- 9.1/11.1 MB 429.6 kB/s eta 0:00:05\n",
      "   -------------------------------- ------- 9.1/11.1 MB 431.1 kB/s eta 0:00:05\n",
      "   -------------------------------- ------- 9.2/11.1 MB 432.9 kB/s eta 0:00:05\n",
      "   --------------------------------- ------ 9.2/11.1 MB 434.5 kB/s eta 0:00:05\n",
      "   --------------------------------- ------ 9.3/11.1 MB 435.9 kB/s eta 0:00:05\n",
      "   --------------------------------- ------ 9.3/11.1 MB 438.3 kB/s eta 0:00:05\n",
      "   --------------------------------- ------ 9.4/11.1 MB 439.6 kB/s eta 0:00:05\n",
      "   --------------------------------- ------ 9.4/11.1 MB 441.0 kB/s eta 0:00:04\n",
      "   --------------------------------- ------ 9.5/11.1 MB 441.4 kB/s eta 0:00:04\n",
      "   --------------------------------- ------ 9.5/11.1 MB 440.9 kB/s eta 0:00:04\n",
      "   ---------------------------------- ----- 9.5/11.1 MB 442.6 kB/s eta 0:00:04\n",
      "   ---------------------------------- ----- 9.5/11.1 MB 442.6 kB/s eta 0:00:04\n",
      "   ---------------------------------- ----- 9.5/11.1 MB 442.6 kB/s eta 0:00:04\n",
      "   ---------------------------------- ----- 9.5/11.1 MB 442.6 kB/s eta 0:00:04\n",
      "   ---------------------------------- ----- 9.5/11.1 MB 442.6 kB/s eta 0:00:04\n",
      "   ---------------------------------- ----- 9.6/11.1 MB 440.5 kB/s eta 0:00:04\n",
      "   ---------------------------------- ----- 9.6/11.1 MB 440.5 kB/s eta 0:00:04\n",
      "   ---------------------------------- ----- 9.6/11.1 MB 440.5 kB/s eta 0:00:04\n",
      "   ---------------------------------- ----- 9.7/11.1 MB 443.0 kB/s eta 0:00:04\n",
      "   ----------------------------------- ---- 9.8/11.1 MB 446.1 kB/s eta 0:00:04\n",
      "   ----------------------------------- ---- 9.8/11.1 MB 446.9 kB/s eta 0:00:03\n",
      "   ----------------------------------- ---- 9.8/11.1 MB 446.5 kB/s eta 0:00:03\n",
      "   ----------------------------------- ---- 9.9/11.1 MB 446.8 kB/s eta 0:00:03\n",
      "   ----------------------------------- ---- 9.9/11.1 MB 446.9 kB/s eta 0:00:03\n",
      "   ----------------------------------- ---- 10.0/11.1 MB 448.4 kB/s eta 0:00:03\n",
      "   ----------------------------------- ---- 10.0/11.1 MB 450.1 kB/s eta 0:00:03\n",
      "   ------------------------------------ --- 10.1/11.1 MB 452.5 kB/s eta 0:00:03\n",
      "   ------------------------------------ --- 10.2/11.1 MB 455.6 kB/s eta 0:00:03\n",
      "   ------------------------------------ --- 10.3/11.1 MB 458.5 kB/s eta 0:00:02\n",
      "   ------------------------------------- -- 10.3/11.1 MB 457.8 kB/s eta 0:00:02\n",
      "   ------------------------------------- -- 10.4/11.1 MB 458.2 kB/s eta 0:00:02\n",
      "   ------------------------------------- -- 10.4/11.1 MB 457.5 kB/s eta 0:00:02\n",
      "   ------------------------------------- -- 10.5/11.1 MB 457.5 kB/s eta 0:00:02\n",
      "   ------------------------------------- -- 10.6/11.1 MB 460.1 kB/s eta 0:00:02\n",
      "   -------------------------------------- - 10.6/11.1 MB 472.4 kB/s eta 0:00:02\n",
      "   -------------------------------------- - 10.7/11.1 MB 472.4 kB/s eta 0:00:02\n",
      "   -------------------------------------- - 10.7/11.1 MB 476.8 kB/s eta 0:00:01\n",
      "   -------------------------------------- - 10.7/11.1 MB 476.2 kB/s eta 0:00:01\n",
      "   -------------------------------------- - 10.8/11.1 MB 476.1 kB/s eta 0:00:01\n",
      "   -------------------------------------- - 10.8/11.1 MB 476.5 kB/s eta 0:00:01\n",
      "   ---------------------------------------  10.9/11.1 MB 476.5 kB/s eta 0:00:01\n",
      "   ---------------------------------------  11.0/11.1 MB 476.2 kB/s eta 0:00:01\n",
      "   ---------------------------------------  11.0/11.1 MB 478.9 kB/s eta 0:00:01\n",
      "   ---------------------------------------  11.0/11.1 MB 482.1 kB/s eta 0:00:01\n",
      "   ---------------------------------------  11.1/11.1 MB 483.2 kB/s eta 0:00:01\n",
      "   ---------------------------------------  11.1/11.1 MB 483.2 kB/s eta 0:00:01\n",
      "   ---------------------------------------  11.1/11.1 MB 483.2 kB/s eta 0:00:01\n",
      "   ---------------------------------------  11.1/11.1 MB 483.2 kB/s eta 0:00:01\n",
      "   ---------------------------------------  11.1/11.1 MB 483.2 kB/s eta 0:00:01\n",
      "   ---------------------------------------- 11.1/11.1 MB 478.5 kB/s eta 0:00:00\n",
      "Downloading joblib-1.4.2-py3-none-any.whl (301 kB)\n",
      "   ---------------------------------------- 0.0/301.8 kB ? eta -:--:--\n",
      "   -------- ------------------------------- 61.4/301.8 kB 1.6 MB/s eta 0:00:01\n",
      "   ------------ --------------------------- 92.2/301.8 kB 1.7 MB/s eta 0:00:01\n",
      "   ------------ --------------------------- 92.2/301.8 kB 1.7 MB/s eta 0:00:01\n",
      "   ------------ --------------------------- 92.2/301.8 kB 1.7 MB/s eta 0:00:01\n",
      "   ------------ --------------------------- 92.2/301.8 kB 1.7 MB/s eta 0:00:01\n",
      "   ------------ --------------------------- 92.2/301.8 kB 1.7 MB/s eta 0:00:01\n",
      "   ------------ --------------------------- 92.2/301.8 kB 1.7 MB/s eta 0:00:01\n",
      "   --------------- ---------------------- 122.9/301.8 kB 327.4 kB/s eta 0:00:01\n",
      "   --------------- ---------------------- 122.9/301.8 kB 327.4 kB/s eta 0:00:01\n",
      "   ----------------------------- -------- 235.5/301.8 kB 497.3 kB/s eta 0:00:01\n",
      "   ----------------------------- -------- 235.5/301.8 kB 497.3 kB/s eta 0:00:01\n",
      "   -------------------------------- ----- 256.0/301.8 kB 462.0 kB/s eta 0:00:01\n",
      "   -------------------------------------  297.0/301.8 kB 496.1 kB/s eta 0:00:01\n",
      "   -------------------------------------- 301.8/301.8 kB 454.9 kB/s eta 0:00:00\n",
      "Downloading threadpoolctl-3.6.0-py3-none-any.whl (18 kB)\n",
      "Installing collected packages: threadpoolctl, joblib, scikit-learn\n",
      "Successfully installed joblib-1.4.2 scikit-learn-1.6.1 threadpoolctl-3.6.0\n",
      "Note: you may need to restart the kernel to use updated packages.\n"
     ]
    },
    {
     "name": "stderr",
     "output_type": "stream",
     "text": [
      "\n",
      "[notice] A new release of pip is available: 23.2.1 -> 25.0.1\n",
      "[notice] To update, run: python.exe -m pip install --upgrade pip\n"
     ]
    }
   ],
   "source": [
    "pip install scikit-learn"
   ]
  },
  {
   "cell_type": "code",
   "execution_count": null,
   "metadata": {},
   "outputs": [],
   "source": [
    "pip install --upgrade --force-reinstall scikit-learn"
   ]
  },
  {
   "cell_type": "code",
   "execution_count": 18,
   "metadata": {},
   "outputs": [],
   "source": [
    "from sklearn.preprocessing import MinMaxScaler\n",
    "Scaler = MinMaxScaler()"
   ]
  },
  {
   "cell_type": "code",
   "execution_count": 20,
   "metadata": {},
   "outputs": [
    {
     "name": "stdout",
     "output_type": "stream",
     "text": [
      "   ProductID  SalesAmount\n",
      "0        101          0.2\n",
      "1        102          0.0\n",
      "2        103          1.0\n",
      "3        101          0.2\n",
      "4        104          0.6\n",
      "5        102          0.0\n"
     ]
    }
   ],
   "source": [
    "df1[['SalesAmount']] = Scaler.fit_transform(df1[['SalesAmount']])\n",
    "print(df1)"
   ]
  },
  {
   "cell_type": "code",
   "execution_count": 22,
   "metadata": {},
   "outputs": [],
   "source": [
    "import numpy as np"
   ]
  },
  {
   "cell_type": "code",
   "execution_count": null,
   "metadata": {},
   "outputs": [],
   "source": [
    "df1['LogSalesAmount'] = np.log(df1['SalesAmount'] + 1)"
   ]
  },
  {
   "cell_type": "markdown",
   "metadata": {},
   "source": [
    "Apply log transformation"
   ]
  },
  {
   "cell_type": "code",
   "execution_count": 24,
   "metadata": {},
   "outputs": [
    {
     "name": "stdout",
     "output_type": "stream",
     "text": [
      "   ProductID  SalesAmount  LogSalesAmount\n",
      "0        101          0.2        0.182322\n",
      "1        102          0.0        0.000000\n",
      "2        103          1.0        0.693147\n",
      "3        101          0.2        0.182322\n",
      "4        104          0.6        0.470004\n",
      "5        102          0.0        0.000000\n"
     ]
    }
   ],
   "source": [
    "print(df1)"
   ]
  },
  {
   "cell_type": "markdown",
   "metadata": {},
   "source": [
    "Working with Datetime Objects"
   ]
  },
  {
   "cell_type": "code",
   "execution_count": 25,
   "metadata": {},
   "outputs": [
    {
     "name": "stdout",
     "output_type": "stream",
     "text": [
      "         Date  SalesAmount\n",
      "0  2024-01-01          200\n",
      "1  2024-01-02          150\n",
      "2  2024-01-03          300\n"
     ]
    }
   ],
   "source": [
    "data2 = {'Date': ['2024-01-01', '2024-01-02', '2024-01-03'], 'SalesAmount': [200, 150, 300]}\n",
    "df2 = pd.DataFrame(data2)\n",
    "print(df2)"
   ]
  },
  {
   "cell_type": "code",
   "execution_count": 27,
   "metadata": {},
   "outputs": [
    {
     "name": "stdout",
     "output_type": "stream",
     "text": [
      "Date           datetime64[ns]\n",
      "SalesAmount             int64\n",
      "dtype: object\n"
     ]
    }
   ],
   "source": [
    "df2['Date'] = pd.to_datetime(df2['Date'])\n",
    "print(df2.dtypes)"
   ]
  },
  {
   "cell_type": "code",
   "execution_count": 28,
   "metadata": {},
   "outputs": [
    {
     "name": "stdout",
     "output_type": "stream",
     "text": [
      "        Date  SalesAmount  Year  Month  Day\n",
      "0 2024-01-01          200  2024      1    1\n",
      "1 2024-01-02          150  2024      1    2\n",
      "2 2024-01-03          300  2024      1    3\n"
     ]
    }
   ],
   "source": [
    "df2['Year'] = df2['Date'].dt.year\n",
    "df2['Month'] = df2['Date'].dt.month\n",
    "df2['Day'] = df2['Date'].dt.day\n",
    "print(df2)"
   ]
  },
  {
   "cell_type": "markdown",
   "metadata": {},
   "source": [
    "Time-Based Indexing and Slicing"
   ]
  },
  {
   "cell_type": "code",
   "execution_count": 30,
   "metadata": {},
   "outputs": [
    {
     "name": "stdout",
     "output_type": "stream",
     "text": [
      "            SalesAmount  Year  Month  Day\n",
      "Date                                     \n",
      "2024-01-01          200  2024      1    1\n",
      "2024-01-02          150  2024      1    2\n",
      "2024-01-03          300  2024      1    3\n"
     ]
    }
   ],
   "source": [
    "df2.set_index('Date', inplace=True)\n",
    "print(df2)"
   ]
  },
  {
   "cell_type": "markdown",
   "metadata": {},
   "source": [
    "Slice data for a specific date"
   ]
  },
  {
   "cell_type": "code",
   "execution_count": 32,
   "metadata": {},
   "outputs": [
    {
     "name": "stdout",
     "output_type": "stream",
     "text": [
      "SalesAmount     150\n",
      "Year           2024\n",
      "Month             1\n",
      "Day               2\n",
      "Name: 2024-01-02 00:00:00, dtype: int64\n"
     ]
    }
   ],
   "source": [
    "df_slice = df2.loc['2024-01-02']\n",
    "print(df_slice)"
   ]
  },
  {
   "cell_type": "code",
   "execution_count": 33,
   "metadata": {},
   "outputs": [
    {
     "name": "stdout",
     "output_type": "stream",
     "text": [
      "            SalesAmount  Year  Month  Day\n",
      "Date                                     \n",
      "2024-01-01          200  2024      1    1\n",
      "2024-01-02          150  2024      1    2\n",
      "2024-01-03          300  2024      1    3\n"
     ]
    }
   ],
   "source": [
    "df_range = df2.loc['2024-01-01':'2024-01-03']\n",
    "print(df_range)"
   ]
  },
  {
   "cell_type": "markdown",
   "metadata": {},
   "source": [
    "Resampling to a Different Frequency"
   ]
  },
  {
   "cell_type": "code",
   "execution_count": 34,
   "metadata": {},
   "outputs": [],
   "source": [
    "df_resampled = df2.resample('M').sum()"
   ]
  },
  {
   "cell_type": "code",
   "execution_count": 35,
   "metadata": {},
   "outputs": [
    {
     "name": "stdout",
     "output_type": "stream",
     "text": [
      "            SalesAmount  Year  Month  Day\n",
      "Date                                     \n",
      "2024-01-31          650  6072      3    6\n"
     ]
    }
   ],
   "source": [
    "print(df_resampled)"
   ]
  },
  {
   "cell_type": "markdown",
   "metadata": {},
   "source": [
    "Rolling and Expanding Windows"
   ]
  },
  {
   "cell_type": "markdown",
   "metadata": {},
   "source": [
    "Calculate a 3-day moving average of SalesAmount"
   ]
  },
  {
   "cell_type": "code",
   "execution_count": 36,
   "metadata": {},
   "outputs": [
    {
     "name": "stdout",
     "output_type": "stream",
     "text": [
      "            SalesAmount  Year  Month  Day    3_day MA\n",
      "Date                                                 \n",
      "2024-01-01          200  2024      1    1         NaN\n",
      "2024-01-02          150  2024      1    2         NaN\n",
      "2024-01-03          300  2024      1    3  216.666667\n"
     ]
    }
   ],
   "source": [
    "df2['3_day MA'] = df2['SalesAmount'].rolling(window= 3).mean()\n",
    "print(df2)"
   ]
  },
  {
   "cell_type": "markdown",
   "metadata": {},
   "source": [
    "Calculate expanding sum of SalesAmount"
   ]
  },
  {
   "cell_type": "code",
   "execution_count": 38,
   "metadata": {},
   "outputs": [
    {
     "name": "stdout",
     "output_type": "stream",
     "text": [
      "            SalesAmount  Year  Month  Day    3_day MA  Expanding Sum\n",
      "Date                                                                \n",
      "2024-01-01          200  2024      1    1         NaN          200.0\n",
      "2024-01-02          150  2024      1    2         NaN          350.0\n",
      "2024-01-03          300  2024      1    3  216.666667          650.0\n"
     ]
    }
   ],
   "source": [
    "df2['Expanding Sum'] = df2['SalesAmount'].expanding().sum()\n",
    "print(df2)"
   ]
  },
  {
   "cell_type": "markdown",
   "metadata": {},
   "source": [
    "Plotting with Matplotlib"
   ]
  },
  {
   "cell_type": "code",
   "execution_count": 40,
   "metadata": {},
   "outputs": [],
   "source": [
    "import matplotlib.pyplot as plt"
   ]
  },
  {
   "cell_type": "code",
   "execution_count": 39,
   "metadata": {},
   "outputs": [
    {
     "data": {
      "image/png": "[encoded data removed]",
      "text/plain": [
       "<Figure size 640x480 with 1 Axes>"
      ]
     },
     "metadata": {},
     "output_type": "display_data"
    }
   ],
   "source": [
    "x = [1, 2, 3, 4, 5]\n",
    "y = [2, 3, 5, 7, 11]\n",
    "plt.plot(x, y)\n",
    "plt.title('Basic Line')\n",
    "plt.xlabel('x-axis label')\n",
    "plt.ylabel('y-axis label')\n",
    "plt.show()"
   ]
  },
  {
   "cell_type": "code",
   "execution_count": 44,
   "metadata": {},
   "outputs": [
    {
     "data": {
      "image/png": "[encoded data removed]",
      "text/plain": [
       "<Figure size 640x480 with 1 Axes>"
      ]
     },
     "metadata": {},
     "output_type": "display_data"
    }
   ],
   "source": [
    "import matplotlib.pyplot as plt\n",
    "x1 = [1, 2 , 3, 4, 5]\n",
    "y1 = [1, 4, 9, 16, 25]\n",
    "plt.plot(x1, y1, color = 'red', linestyle = '--', marker = '*')\n",
    "plt.xlabel('x-axis label')\n",
    "plt.ylabel('y-axis label')\n",
    "plt.title('Line Plot of Numpers')\n",
    "plt.show()"
   ]
  },
  {
   "cell_type": "code",
   "execution_count": 45,
   "metadata": {},
   "outputs": [
    {
     "data": {
      "image/png": "[encoded data removed]",
      "text/plain": [
       "<Figure size 640x480 with 1 Axes>"
      ]
     },
     "metadata": {},
     "output_type": "display_data"
    }
   ],
   "source": [
    "categories = ['A', 'B', 'C', 'D']\n",
    "values = [5, 7, 3, 8]\n",
    "\n",
    "plt.bar(categories, values, color='blue')\n",
    "plt.title('Bar Chart Example')\n",
    "plt.xlabel('Categories')\n",
    "plt.ylabel('Values')\n",
    "plt.show()"
   ]
  },
  {
   "cell_type": "code",
   "execution_count": 50,
   "metadata": {},
   "outputs": [
    {
     "data": {
      "image/png": "[encoded data removed]",
      "text/plain": [
       "<Figure size 640x480 with 1 Axes>"
      ]
     },
     "metadata": {},
     "output_type": "display_data"
    }
   ],
   "source": [
    "import numpy as np\n",
    "\n",
    "data = np.random.randn(1000)\n",
    "\n",
    "plt.hist(data, bins = 30, color='purple', edgecolor='black')\n",
    "plt.title('Histogram Example')\n",
    "plt.xlabel('Data Bins')\n",
    "plt.ylabel('Frequency')\n",
    "plt.show()"
   ]
  }
 ],
 "metadata": {
  "kernelspec": {
   "display_name": "Python 3",
   "language": "python",
   "name": "python3"
  },
  "language_info": {
   "codemirror_mode": {
    "name": "ipython",
    "version": 3
   },
   "file_extension": ".py",
   "mimetype": "text/x-python",
   "name": "python",
   "nbconvert_exporter": "python",
   "pygments_lexer": "ipython3",
   "version": "3.11.1"
  }
 },
 "nbformat": 4,
 "nbformat_minor": 2
}
