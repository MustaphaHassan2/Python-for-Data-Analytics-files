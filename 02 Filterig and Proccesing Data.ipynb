{
 "cells": [
  {
   "cell_type": "code",
   "execution_count": 5,
   "metadata": {},
   "outputs": [],
   "source": [
    "import pandas as pd"
   ]
  },
  {
   "cell_type": "code",
   "execution_count": 6,
   "metadata": {},
   "outputs": [
    {
     "name": "stdout",
     "output_type": "stream",
     "text": [
      "      Name  Age  Salary   Department\n",
      "0     Anna   25   25000         tech\n",
      "1    Karen   28   28000         tech\n",
      "2     John   24   24500         tech\n",
      "3  Reybica   26   25890    Operation\n",
      "4  Alcaraz   31   30000  Healthycare\n",
      "5  Harshal   37   35500      Finance\n",
      "6     Hoda   42   50500         tech\n"
     ]
    }
   ],
   "source": [
    "data = pd.DataFrame({'Name':       ['Anna', 'Karen', 'John', 'Reybica', 'Alcaraz', 'Harshal', 'Hoda'],\n",
    "                     'Age':        [25, 28, 24, 26, 31, 37, 42],\n",
    "                     'Salary':     [25000, 28000, 24500, 25890, 30000, 35500, 50500],\n",
    "                     'Department': ['tech', 'tech', 'tech', 'Operation', 'Healthycare', 'Finance', 'tech']})\n",
    "print (data)"
   ]
  },
  {
   "cell_type": "code",
   "execution_count": 7,
   "metadata": {},
   "outputs": [
    {
     "name": "stdout",
     "output_type": "stream",
     "text": [
      "      Name  Age  Salary   Department\n",
      "2     John   24   24500         tech\n",
      "0     Anna   25   25000         tech\n",
      "3  Reybica   26   25890    Operation\n",
      "1    Karen   28   28000         tech\n",
      "4  Alcaraz   31   30000  Healthycare\n",
      "5  Harshal   37   35500      Finance\n",
      "6     Hoda   42   50500         tech\n"
     ]
    }
   ],
   "source": [
    "print(data.sort_values(by = 'Salary'))"
   ]
  },
  {
   "cell_type": "code",
   "execution_count": 8,
   "metadata": {},
   "outputs": [
    {
     "name": "stdout",
     "output_type": "stream",
     "text": [
      "             Name  Age  Salary\n",
      "Department                    \n",
      "Finance         1    1       1\n",
      "Healthycare     1    1       1\n",
      "Operation       1    1       1\n",
      "tech            4    4       4\n"
     ]
    }
   ],
   "source": [
    "print(data.groupby(\"Department\").count())"
   ]
  },
  {
   "cell_type": "code",
   "execution_count": 9,
   "metadata": {},
   "outputs": [
    {
     "name": "stdout",
     "output_type": "stream",
     "text": [
      "Department\n",
      "Finance        35500.0\n",
      "Healthycare    30000.0\n",
      "Operation      25890.0\n",
      "tech           32000.0\n",
      "Name: Salary, dtype: float64\n"
     ]
    }
   ],
   "source": [
    "print(data.groupby(\"Department\")['Salary'].mean())"
   ]
  },
  {
   "cell_type": "code",
   "execution_count": 10,
   "metadata": {},
   "outputs": [
    {
     "name": "stdout",
     "output_type": "stream",
     "text": [
      "      Name  Age  Salary Department\n",
      "5  Harshal   37   35500    Finance\n",
      "6     Hoda   42   50500       tech\n"
     ]
    }
   ],
   "source": [
    "print(data[data['Salary'] > 30000])"
   ]
  },
  {
   "cell_type": "code",
   "execution_count": 11,
   "metadata": {},
   "outputs": [
    {
     "name": "stdout",
     "output_type": "stream",
     "text": [
      "      Name  Age  Salary   Department\n",
      "1    Karen   28   28000         tech\n",
      "4  Alcaraz   31   30000  Healthycare\n",
      "5  Harshal   37   35500      Finance\n",
      "6     Hoda   42   50500         tech\n"
     ]
    }
   ],
   "source": [
    "print(data[data[\"Salary\"] > 27000])"
   ]
  },
  {
   "cell_type": "code",
   "execution_count": 12,
   "metadata": {},
   "outputs": [
    {
     "name": "stdout",
     "output_type": "stream",
     "text": [
      "ID    Name  Age  Salary Department\n",
      "0  Anna   25   25000       tech\n"
     ]
    }
   ],
   "source": [
    "print(\"ID\", data[data[\"Age\"].isin([25,40])])"
   ]
  },
  {
   "cell_type": "code",
   "execution_count": 13,
   "metadata": {},
   "outputs": [],
   "source": [
    "import pandas as pd"
   ]
  },
  {
   "cell_type": "code",
   "execution_count": 14,
   "metadata": {},
   "outputs": [
    {
     "name": "stdout",
     "output_type": "stream",
     "text": [
      "    Year  Agriculture  Architecture  Art and Performance    Biology   \n",
      "0   1970     4.229798     11.921005                 59.7  29.088363  \\\n",
      "1   1971     5.452797     12.003106                 59.9  29.394403   \n",
      "2   1972     7.420710     13.214594                 60.4  29.810221   \n",
      "3   1973     9.653602     14.791613                 60.2  31.147915   \n",
      "4   1974    14.074623     17.444688                 61.9  32.996183   \n",
      "5   1975    18.333162     19.134048                 60.9  34.449902   \n",
      "6   1976    22.252760     21.394491                 61.3  36.072871   \n",
      "7   1977    24.640177     23.740541                 62.0  38.331386   \n",
      "8   1978    27.146192     25.849240                 62.5  40.112496   \n",
      "9   1979    29.633365     27.770477                 63.2  42.065551   \n",
      "10  1980    30.759390     28.080381                 63.4  43.999257   \n",
      "11  1981    31.318655     29.841694                 63.3  45.249512   \n",
      "12  1982    32.636664     34.816248                 63.1  45.967338   \n",
      "13  1983    31.635347     35.826257                 62.4  46.713135   \n",
      "14  1984    31.092947     35.453083                 62.1  47.669083   \n",
      "15  1985    31.379659     36.133348                 61.8  47.909884   \n",
      "16  1986    31.198719     37.240223                 62.1  48.300678   \n",
      "17  1987    31.486429     38.730675                 61.7  50.209878   \n",
      "18  1988    31.085087     39.398907                 61.7  50.099811   \n",
      "19  1989    31.612403     39.096540                 62.0  50.774716   \n",
      "20  1989    31.612403     39.096540                 62.0  50.774716   \n",
      "21  1989    31.612403     39.096540                 62.0  50.774716   \n",
      "22  1989    31.612403     39.096540                 62.0  50.774716   \n",
      "23  1990    32.703444     40.824047                 62.6  50.818094   \n",
      "24  1991    34.711837     33.679881                 62.1  51.468805   \n",
      "25  1992    33.931660     35.202356                 61.0  51.349742   \n",
      "26  1993    34.946832     35.777159                 60.2  51.124844   \n",
      "27  1994    36.032674     34.433531                 59.4  52.246218   \n",
      "28  1995    36.844807     36.063218                 59.2  52.599403   \n",
      "29  1996    38.969775     35.926485                 58.6  53.789880   \n",
      "30  1997    40.685685     35.101934                 58.7  54.999469   \n",
      "31  1998    41.912403     37.598545                 59.1  56.351248   \n",
      "32  1999    42.887202     38.631529                 59.2  58.228823   \n",
      "33  2000    45.057766     40.023585                 59.2  59.389857   \n",
      "34  2001    45.866015     40.690282                 59.4  60.712331   \n",
      "35  2002    47.134658     41.132951                 60.9  61.895128   \n",
      "36  2003    47.935187     42.758543                 61.1  62.169456   \n",
      "37  2004    47.887140     43.466493                 61.3  61.914587   \n",
      "38  2005    47.672754     43.100368                 61.4  61.500984   \n",
      "39  2006    46.790300     44.499331                 61.6  60.172845   \n",
      "40  2007    47.605026     43.100459                 61.4  59.411993   \n",
      "41  2008    47.570834     42.711730                 60.7  59.305765   \n",
      "42  2009    48.667224     43.348921                 61.0  58.489583   \n",
      "43  2010    48.730042     42.066721                 61.3  59.010255   \n",
      "44  2011    50.037182     42.773438                 61.2  58.742397   \n",
      "\n",
      "     Business  Communications and Journalism  Computer Science  Education   \n",
      "0    9.064439                           35.3              13.6  74.535328  \\\n",
      "1    9.503187                           35.5              13.6  74.149204   \n",
      "2   10.558962                           36.6              14.9  73.554520   \n",
      "3   12.804602                           38.4              16.4  73.501814   \n",
      "4   16.204850                           40.5              18.9  73.336811   \n",
      "5   19.686249                           41.5              19.8  72.801854   \n",
      "6   23.430038                           44.3              23.9  72.166525   \n",
      "7   27.163427                           46.9              25.7  72.456395   \n",
      "8   30.527519                           49.9              28.1  73.192821   \n",
      "9   33.621634                           52.3              30.2  73.821142   \n",
      "10  36.765725                           54.7              32.5  74.981032   \n",
      "11  39.266230                           56.4              34.8  75.845123   \n",
      "12  41.949373                           58.0              36.3  75.843649   \n",
      "13  43.542070                           58.6              37.1  75.950601   \n",
      "14  45.124030                           59.1              36.8  75.869116   \n",
      "15  45.747782                           59.0              35.7  75.923440   \n",
      "16  46.532915                           60.0              34.7  76.143015   \n",
      "17  46.690466                           60.2              32.4  76.963092   \n",
      "18  46.764828                           60.4              30.8  77.627662   \n",
      "19  46.781565                           60.5              29.9  78.111919   \n",
      "20  46.781565                           60.5              29.9  78.111919   \n",
      "21  46.781565                           60.5              29.9  78.111919   \n",
      "22  46.781565                           60.5              29.9  78.111919   \n",
      "23  47.200851                           60.8              29.4  78.866859   \n",
      "24  47.224325                           60.8              28.7  78.991246   \n",
      "25  47.219395                           59.7              28.2  78.435182   \n",
      "26  47.639332                           58.7              28.5  77.267312   \n",
      "27  47.983924                           58.1              28.5  75.814933   \n",
      "28  48.573181                           58.8              27.5  75.125256   \n",
      "29  48.647393                           58.7              27.1  75.035199   \n",
      "30  48.561050                           60.0              26.8  75.163701   \n",
      "31  49.258515                           60.0              27.0  75.486160   \n",
      "32  49.810208                           61.2              28.1  75.838162   \n",
      "33  49.803616                           61.9              27.7  76.692143   \n",
      "34  50.275145                           63.0              27.6  77.375229   \n",
      "35  50.552335                           63.7              27.0  78.644244   \n",
      "36  50.345598                           64.6              25.1  78.544948   \n",
      "37  49.950894                           64.2              22.2  78.650748   \n",
      "38  49.791851                           63.4              20.6  79.067122   \n",
      "39  49.210914                           63.0              18.6  78.686306   \n",
      "40  49.000459                           62.5              17.6  78.721413   \n",
      "41  48.888027                           62.4              17.8  79.196327   \n",
      "42  48.840474                           62.8              18.1  79.532909   \n",
      "43  48.757988                           62.5              17.6  79.618625   \n",
      "44  48.180418                           62.2              18.2  79.432812   \n",
      "\n",
      "    Engineering    English  Foreign Languages  Health Professions   \n",
      "0           0.8  65.570923               73.8                77.1  \\\n",
      "1           1.0  64.556485               73.9                75.5   \n",
      "2           1.2  63.664263               74.6                76.9   \n",
      "3           1.6  62.941502               74.9                77.4   \n",
      "4           2.2  62.413412               75.3                77.9   \n",
      "5           3.2  61.647206               75.0                78.9   \n",
      "6           4.5  62.148194               74.4                79.2   \n",
      "7           6.8  62.723067               74.3                80.5   \n",
      "8           8.4  63.619122               74.3                81.9   \n",
      "9           9.4  65.088390               74.2                82.3   \n",
      "10         10.3  65.284130               74.1                83.5   \n",
      "11         11.6  65.838322               73.9                84.1   \n",
      "12         12.4  65.847352               72.7                84.4   \n",
      "13         13.1  65.918380               71.8                84.6   \n",
      "14         13.5  65.749862               72.1                85.1   \n",
      "15         13.5  65.798199               70.8                85.3   \n",
      "16         13.9  65.982561               71.2                85.7   \n",
      "17         14.0  66.706031               72.0                85.5   \n",
      "18         13.9  67.144498               72.3                85.2   \n",
      "19         14.1  67.017072               72.4                84.6   \n",
      "20         14.1  67.017072               72.4                84.6   \n",
      "21         14.1  67.017072               72.4                84.6   \n",
      "22         14.1  67.017072               72.4                84.6   \n",
      "23         14.1  66.921902               71.2                83.9   \n",
      "24         14.0  66.241475               71.1                83.5   \n",
      "25         14.5  65.622457               71.0                83.0   \n",
      "26         14.9  65.730950               70.0                82.4   \n",
      "27         15.7  65.641978               69.1                81.8   \n",
      "28         16.2  65.936949               69.6                81.5   \n",
      "29         16.7  66.437779               69.7                81.3   \n",
      "30         17.0  66.786355               70.0                81.9   \n",
      "31         17.8  67.255448               70.1                82.1   \n",
      "32         18.6  67.820221               70.9                83.5   \n",
      "33         18.4  68.365995               70.9                83.5   \n",
      "34         19.0  68.578520               71.2                85.1   \n",
      "35         18.7  68.829960               70.5                85.8   \n",
      "36         18.8  68.894487               70.6                86.5   \n",
      "37         18.2  68.454734               70.8                86.5   \n",
      "38         17.9  68.571221               69.9                86.0   \n",
      "39         16.8  68.297594               69.6                85.9   \n",
      "40         16.8  67.874923               70.2                85.4   \n",
      "41         16.5  67.594028               70.2                85.2   \n",
      "42         16.8  67.969792               69.3                85.1   \n",
      "43         17.2  67.928106               69.0                85.0   \n",
      "44         17.5  68.426730               69.5                84.8   \n",
      "\n",
      "    Math and Statistics  Physical Sciences  Psychology  Public Administration   \n",
      "0                  38.0               13.8        44.4                   68.4  \\\n",
      "1                  39.0               14.9        46.2                   65.5   \n",
      "2                  40.2               14.8        47.6                   62.6   \n",
      "3                  40.9               16.5        50.4                   64.3   \n",
      "4                  41.8               18.2        52.6                   66.1   \n",
      "5                  40.7               19.1        54.5                   63.0   \n",
      "6                  41.5               20.0        56.9                   65.6   \n",
      "7                  41.1               21.3        59.0                   69.3   \n",
      "8                  41.6               22.5        61.3                   71.5   \n",
      "9                  42.3               23.7        63.3                   73.3   \n",
      "10                 42.8               24.6        65.1                   74.6   \n",
      "11                 43.2               25.7        66.9                   74.7   \n",
      "12                 44.0               27.3        67.5                   76.8   \n",
      "13                 44.3               27.6        67.9                   76.1   \n",
      "14                 46.2               28.0        68.2                   75.9   \n",
      "15                 46.5               27.5        69.0                   75.0   \n",
      "16                 46.7               28.4        69.0                   75.7   \n",
      "17                 46.5               30.4        70.1                   76.4   \n",
      "18                 46.2               29.7        70.9                   75.6   \n",
      "19                 46.2               31.3        71.6                   76.0   \n",
      "20                 46.2               31.3        71.6                   76.0   \n",
      "21                 46.2               31.3        71.6                   76.0   \n",
      "22                 46.2               31.3        71.6                   76.0   \n",
      "23                 47.3               31.6        72.6                   77.6   \n",
      "24                 47.0               32.6        73.2                   78.2   \n",
      "25                 47.4               32.6        73.2                   77.3   \n",
      "26                 46.4               33.6        73.1                   78.0   \n",
      "27                 47.0               34.8        72.9                   78.8   \n",
      "28                 46.1               35.9        73.0                   78.8   \n",
      "29                 46.4               37.3        73.9                   79.8   \n",
      "30                 47.0               38.3        74.4                   81.0   \n",
      "31                 48.3               39.7        75.1                   81.3   \n",
      "32                 47.8               40.2        76.5                   81.1   \n",
      "33                 48.2               41.0        77.5                   81.1   \n",
      "34                 47.0               42.2        77.5                   80.9   \n",
      "35                 45.7               41.1        77.7                   81.3   \n",
      "36                 46.0               41.7        77.8                   81.5   \n",
      "37                 44.7               42.1        77.8                   80.7   \n",
      "38                 45.1               41.6        77.5                   81.2   \n",
      "39                 44.1               40.8        77.4                   81.2   \n",
      "40                 44.1               40.7        77.1                   82.1   \n",
      "41                 43.3               40.7        77.2                   81.7   \n",
      "42                 43.3               40.7        77.1                   82.0   \n",
      "43                 43.1               40.2        77.0                   81.7   \n",
      "44                 43.1               40.1        76.7                   81.9   \n",
      "\n",
      "    Social Sciences and History  \n",
      "0                          36.8  \n",
      "1                          36.2  \n",
      "2                          36.1  \n",
      "3                          36.4  \n",
      "4                          37.3  \n",
      "5                          37.7  \n",
      "6                          39.2  \n",
      "7                          40.5  \n",
      "8                          41.8  \n",
      "9                          43.6  \n",
      "10                         44.2  \n",
      "11                         44.6  \n",
      "12                         44.6  \n",
      "13                         44.1  \n",
      "14                         44.1  \n",
      "15                         43.8  \n",
      "16                         44.0  \n",
      "17                         43.9  \n",
      "18                         44.4  \n",
      "19                         44.2  \n",
      "20                         44.2  \n",
      "21                         44.2  \n",
      "22                         44.2  \n",
      "23                         45.1  \n",
      "24                         45.5  \n",
      "25                         45.8  \n",
      "26                         46.1  \n",
      "27                         46.8  \n",
      "28                         47.9  \n",
      "29                         48.7  \n",
      "30                         49.2  \n",
      "31                         50.5  \n",
      "32                         51.2  \n",
      "33                         51.8  \n",
      "34                         51.7  \n",
      "35                         51.5  \n",
      "36                         50.9  \n",
      "37                         50.5  \n",
      "38                         50.0  \n",
      "39                         49.8  \n",
      "40                         49.3  \n",
      "41                         49.4  \n",
      "42                         49.4  \n",
      "43                         49.3  \n",
      "44                         49.2  \n"
     ]
    }
   ],
   "source": [
    "df = pd.read_csv(\"percent_bachelors_degrees_women_usa.csv\")\n",
    "print(df)"
   ]
  },
  {
   "cell_type": "code",
   "execution_count": 15,
   "metadata": {},
   "outputs": [
    {
     "data": {
      "text/html": [
       "<div>\n",
       "<style scoped>\n",
       "    .dataframe tbody tr th:only-of-type {\n",
       "        vertical-align: middle;\n",
       "    }\n",
       "\n",
       "    .dataframe tbody tr th {\n",
       "        vertical-align: top;\n",
       "    }\n",
       "\n",
       "    .dataframe thead th {\n",
       "        text-align: right;\n",
       "    }\n",
       "</style>\n",
       "<table border=\"1\" class=\"dataframe\">\n",
       "  <thead>\n",
       "    <tr style=\"text-align: right;\">\n",
       "      <th></th>\n",
       "      <th>Year</th>\n",
       "      <th>Agriculture</th>\n",
       "      <th>Architecture</th>\n",
       "      <th>Art and Performance</th>\n",
       "      <th>Biology</th>\n",
       "      <th>Business</th>\n",
       "      <th>Communications and Journalism</th>\n",
       "      <th>Computer Science</th>\n",
       "      <th>Education</th>\n",
       "      <th>Engineering</th>\n",
       "      <th>English</th>\n",
       "      <th>Foreign Languages</th>\n",
       "      <th>Health Professions</th>\n",
       "      <th>Math and Statistics</th>\n",
       "      <th>Physical Sciences</th>\n",
       "      <th>Psychology</th>\n",
       "      <th>Public Administration</th>\n",
       "      <th>Social Sciences and History</th>\n",
       "    </tr>\n",
       "  </thead>\n",
       "  <tbody>\n",
       "    <tr>\n",
       "      <th>count</th>\n",
       "      <td>45.000000</td>\n",
       "      <td>45.000000</td>\n",
       "      <td>45.000000</td>\n",
       "      <td>45.000000</td>\n",
       "      <td>45.000000</td>\n",
       "      <td>45.000000</td>\n",
       "      <td>45.000000</td>\n",
       "      <td>45.000000</td>\n",
       "      <td>45.000000</td>\n",
       "      <td>45.000000</td>\n",
       "      <td>45.000000</td>\n",
       "      <td>45.000000</td>\n",
       "      <td>45.000000</td>\n",
       "      <td>45.000000</td>\n",
       "      <td>45.000000</td>\n",
       "      <td>45.000000</td>\n",
       "      <td>45.00000</td>\n",
       "      <td>45.000000</td>\n",
       "    </tr>\n",
       "    <tr>\n",
       "      <th>mean</th>\n",
       "      <td>1990.400000</td>\n",
       "      <td>33.699114</td>\n",
       "      <td>34.046273</td>\n",
       "      <td>61.160000</td>\n",
       "      <td>49.519521</td>\n",
       "      <td>41.062011</td>\n",
       "      <td>56.502222</td>\n",
       "      <td>26.082222</td>\n",
       "      <td>76.473281</td>\n",
       "      <td>12.973333</td>\n",
       "      <td>66.242040</td>\n",
       "      <td>71.768889</td>\n",
       "      <td>83.091111</td>\n",
       "      <td>44.593333</td>\n",
       "      <td>31.304444</td>\n",
       "      <td>68.964444</td>\n",
       "      <td>76.08000</td>\n",
       "      <td>45.326667</td>\n",
       "    </tr>\n",
       "    <tr>\n",
       "      <th>std</th>\n",
       "      <td>11.848283</td>\n",
       "      <td>12.130361</td>\n",
       "      <td>9.342165</td>\n",
       "      <td>1.280341</td>\n",
       "      <td>9.743662</td>\n",
       "      <td>12.755101</td>\n",
       "      <td>8.466068</td>\n",
       "      <td>6.538637</td>\n",
       "      <td>2.181314</td>\n",
       "      <td>5.482551</td>\n",
       "      <td>1.894919</td>\n",
       "      <td>1.867646</td>\n",
       "      <td>2.843239</td>\n",
       "      <td>2.591104</td>\n",
       "      <td>8.688602</td>\n",
       "      <td>9.395796</td>\n",
       "      <td>5.67557</td>\n",
       "      <td>4.608461</td>\n",
       "    </tr>\n",
       "    <tr>\n",
       "      <th>min</th>\n",
       "      <td>1970.000000</td>\n",
       "      <td>4.229798</td>\n",
       "      <td>11.921005</td>\n",
       "      <td>58.600000</td>\n",
       "      <td>29.088363</td>\n",
       "      <td>9.064439</td>\n",
       "      <td>35.300000</td>\n",
       "      <td>13.600000</td>\n",
       "      <td>72.166525</td>\n",
       "      <td>0.800000</td>\n",
       "      <td>61.647206</td>\n",
       "      <td>69.000000</td>\n",
       "      <td>75.500000</td>\n",
       "      <td>38.000000</td>\n",
       "      <td>13.800000</td>\n",
       "      <td>44.400000</td>\n",
       "      <td>62.60000</td>\n",
       "      <td>36.100000</td>\n",
       "    </tr>\n",
       "    <tr>\n",
       "      <th>25%</th>\n",
       "      <td>1981.000000</td>\n",
       "      <td>31.085087</td>\n",
       "      <td>29.841694</td>\n",
       "      <td>60.200000</td>\n",
       "      <td>45.249512</td>\n",
       "      <td>39.266230</td>\n",
       "      <td>56.400000</td>\n",
       "      <td>19.800000</td>\n",
       "      <td>75.035199</td>\n",
       "      <td>11.600000</td>\n",
       "      <td>65.622457</td>\n",
       "      <td>70.200000</td>\n",
       "      <td>81.900000</td>\n",
       "      <td>43.100000</td>\n",
       "      <td>25.700000</td>\n",
       "      <td>66.900000</td>\n",
       "      <td>74.70000</td>\n",
       "      <td>43.900000</td>\n",
       "    </tr>\n",
       "    <tr>\n",
       "      <th>50%</th>\n",
       "      <td>1989.000000</td>\n",
       "      <td>32.636664</td>\n",
       "      <td>36.133348</td>\n",
       "      <td>61.300000</td>\n",
       "      <td>50.774716</td>\n",
       "      <td>46.781565</td>\n",
       "      <td>60.000000</td>\n",
       "      <td>27.600000</td>\n",
       "      <td>76.143015</td>\n",
       "      <td>14.100000</td>\n",
       "      <td>66.437779</td>\n",
       "      <td>71.200000</td>\n",
       "      <td>84.100000</td>\n",
       "      <td>45.700000</td>\n",
       "      <td>31.300000</td>\n",
       "      <td>71.600000</td>\n",
       "      <td>76.80000</td>\n",
       "      <td>44.600000</td>\n",
       "    </tr>\n",
       "    <tr>\n",
       "      <th>75%</th>\n",
       "      <td>2000.000000</td>\n",
       "      <td>45.057766</td>\n",
       "      <td>40.690282</td>\n",
       "      <td>62.000000</td>\n",
       "      <td>58.489583</td>\n",
       "      <td>48.840474</td>\n",
       "      <td>61.900000</td>\n",
       "      <td>29.900000</td>\n",
       "      <td>78.544948</td>\n",
       "      <td>16.800000</td>\n",
       "      <td>67.820221</td>\n",
       "      <td>73.800000</td>\n",
       "      <td>85.100000</td>\n",
       "      <td>46.500000</td>\n",
       "      <td>40.200000</td>\n",
       "      <td>76.700000</td>\n",
       "      <td>81.10000</td>\n",
       "      <td>49.300000</td>\n",
       "    </tr>\n",
       "    <tr>\n",
       "      <th>max</th>\n",
       "      <td>2011.000000</td>\n",
       "      <td>50.037182</td>\n",
       "      <td>44.499331</td>\n",
       "      <td>63.400000</td>\n",
       "      <td>62.169456</td>\n",
       "      <td>50.552335</td>\n",
       "      <td>64.600000</td>\n",
       "      <td>37.100000</td>\n",
       "      <td>79.618625</td>\n",
       "      <td>19.000000</td>\n",
       "      <td>68.894487</td>\n",
       "      <td>75.300000</td>\n",
       "      <td>86.500000</td>\n",
       "      <td>48.300000</td>\n",
       "      <td>42.200000</td>\n",
       "      <td>77.800000</td>\n",
       "      <td>82.10000</td>\n",
       "      <td>51.800000</td>\n",
       "    </tr>\n",
       "  </tbody>\n",
       "</table>\n",
       "</div>"
      ],
      "text/plain": [
       "              Year  Agriculture  Architecture  Art and Performance    Biology   \n",
       "count    45.000000    45.000000     45.000000            45.000000  45.000000  \\\n",
       "mean   1990.400000    33.699114     34.046273            61.160000  49.519521   \n",
       "std      11.848283    12.130361      9.342165             1.280341   9.743662   \n",
       "min    1970.000000     4.229798     11.921005            58.600000  29.088363   \n",
       "25%    1981.000000    31.085087     29.841694            60.200000  45.249512   \n",
       "50%    1989.000000    32.636664     36.133348            61.300000  50.774716   \n",
       "75%    2000.000000    45.057766     40.690282            62.000000  58.489583   \n",
       "max    2011.000000    50.037182     44.499331            63.400000  62.169456   \n",
       "\n",
       "        Business  Communications and Journalism  Computer Science  Education   \n",
       "count  45.000000                      45.000000         45.000000  45.000000  \\\n",
       "mean   41.062011                      56.502222         26.082222  76.473281   \n",
       "std    12.755101                       8.466068          6.538637   2.181314   \n",
       "min     9.064439                      35.300000         13.600000  72.166525   \n",
       "25%    39.266230                      56.400000         19.800000  75.035199   \n",
       "50%    46.781565                      60.000000         27.600000  76.143015   \n",
       "75%    48.840474                      61.900000         29.900000  78.544948   \n",
       "max    50.552335                      64.600000         37.100000  79.618625   \n",
       "\n",
       "       Engineering    English  Foreign Languages  Health Professions   \n",
       "count    45.000000  45.000000          45.000000           45.000000  \\\n",
       "mean     12.973333  66.242040          71.768889           83.091111   \n",
       "std       5.482551   1.894919           1.867646            2.843239   \n",
       "min       0.800000  61.647206          69.000000           75.500000   \n",
       "25%      11.600000  65.622457          70.200000           81.900000   \n",
       "50%      14.100000  66.437779          71.200000           84.100000   \n",
       "75%      16.800000  67.820221          73.800000           85.100000   \n",
       "max      19.000000  68.894487          75.300000           86.500000   \n",
       "\n",
       "       Math and Statistics  Physical Sciences  Psychology   \n",
       "count            45.000000          45.000000   45.000000  \\\n",
       "mean             44.593333          31.304444   68.964444   \n",
       "std               2.591104           8.688602    9.395796   \n",
       "min              38.000000          13.800000   44.400000   \n",
       "25%              43.100000          25.700000   66.900000   \n",
       "50%              45.700000          31.300000   71.600000   \n",
       "75%              46.500000          40.200000   76.700000   \n",
       "max              48.300000          42.200000   77.800000   \n",
       "\n",
       "       Public Administration  Social Sciences and History  \n",
       "count               45.00000                    45.000000  \n",
       "mean                76.08000                    45.326667  \n",
       "std                  5.67557                     4.608461  \n",
       "min                 62.60000                    36.100000  \n",
       "25%                 74.70000                    43.900000  \n",
       "50%                 76.80000                    44.600000  \n",
       "75%                 81.10000                    49.300000  \n",
       "max                 82.10000                    51.800000  "
      ]
     },
     "execution_count": 15,
     "metadata": {},
     "output_type": "execute_result"
    }
   ],
   "source": [
    "df.describe()"
   ]
  },
  {
   "cell_type": "code",
   "execution_count": 16,
   "metadata": {},
   "outputs": [],
   "source": [
    "# Merging and Joins"
   ]
  },
  {
   "cell_type": "code",
   "execution_count": 17,
   "metadata": {},
   "outputs": [],
   "source": [
    "# Creating two DataFrames"
   ]
  },
  {
   "cell_type": "code",
   "execution_count": 18,
   "metadata": {},
   "outputs": [],
   "source": [
    "import pandas as pd"
   ]
  },
  {
   "cell_type": "code",
   "execution_count": 20,
   "metadata": {},
   "outputs": [
    {
     "name": "stdout",
     "output_type": "stream",
     "text": [
      "  Key  Value1\n",
      "0   A       1\n",
      "1   B       2\n",
      "2   C       3\n",
      "3   D       4\n",
      "4   E       5\n",
      "5   F       6\n",
      "  Key  Value2\n",
      "0   C       8\n",
      "1   D       9\n",
      "2   E      10\n",
      "3   F      11\n",
      "4   G      23\n",
      "5   H      14\n"
     ]
    }
   ],
   "source": [
    "data1 = pd.DataFrame({'Key': ['A', 'B', 'C', 'D', 'E', 'F'],\n",
    "                      'Value1': [1,2,3,4,5,6]})\n",
    "\n",
    "data2 = pd.DataFrame({'Key': ['C', 'D', 'E', 'F', 'G', 'H'],\n",
    "                      'Value2': [8,9,10,11,23,14]})\n",
    "\n",
    "print (data1)\n",
    "print (data2)"
   ]
  },
  {
   "cell_type": "code",
   "execution_count": 22,
   "metadata": {},
   "outputs": [
    {
     "name": "stdout",
     "output_type": "stream",
     "text": [
      "  Key  Value1  Value2\n",
      "0   C       3       8\n",
      "1   D       4       9\n",
      "2   E       5      10\n",
      "3   F       6      11\n"
     ]
    }
   ],
   "source": [
    "Merge_InnerJoin = pd.merge(data1 , data2, on='Key', how='inner')\n",
    "print (Merge_InnerJoin)"
   ]
  },
  {
   "cell_type": "code",
   "execution_count": 24,
   "metadata": {},
   "outputs": [
    {
     "name": "stdout",
     "output_type": "stream",
     "text": [
      "  Key  Value1  Value2\n",
      "0   A       1     NaN\n",
      "1   B       2     NaN\n",
      "2   C       3     8.0\n",
      "3   D       4     9.0\n",
      "4   E       5    10.0\n",
      "5   F       6    11.0\n"
     ]
    }
   ],
   "source": [
    "Merge_LeftJoin = pd.merge(data1 , data2, on='Key', how='left')\n",
    "print (Merge_LeftJoin)"
   ]
  },
  {
   "cell_type": "code",
   "execution_count": 26,
   "metadata": {},
   "outputs": [
    {
     "name": "stdout",
     "output_type": "stream",
     "text": [
      "  Key  Value1  Value2\n",
      "0   C     3.0       8\n",
      "1   D     4.0       9\n",
      "2   E     5.0      10\n",
      "3   F     6.0      11\n",
      "4   G     NaN      23\n",
      "5   H     NaN      14\n"
     ]
    }
   ],
   "source": [
    "Merge_rightJoin = pd.merge(data1 , data2, on='Key', how='right')\n",
    "print (Merge_rightJoin)"
   ]
  },
  {
   "cell_type": "code",
   "execution_count": 28,
   "metadata": {},
   "outputs": [
    {
     "name": "stdout",
     "output_type": "stream",
     "text": [
      "  Key  Value1  Value2\n",
      "0   A       1     NaN\n",
      "1   B       2     NaN\n",
      "2   C       3     8.0\n",
      "3   D       4     9.0\n",
      "4   E       5    10.0\n",
      "5   F       6    11.0\n"
     ]
    }
   ],
   "source": [
    "Merge_LeftOnly = pd.merge(data1 , data2, on='Key', how='left', indicator= False)\n",
    "print (Merge_LeftOnly)"
   ]
  },
  {
   "cell_type": "code",
   "execution_count": 29,
   "metadata": {},
   "outputs": [
    {
     "name": "stdout",
     "output_type": "stream",
     "text": [
      "  Key  Value1  Value2     _merge\n",
      "0   A       1     NaN  left_only\n",
      "1   B       2     NaN  left_only\n",
      "2   C       3     8.0       both\n",
      "3   D       4     9.0       both\n",
      "4   E       5    10.0       both\n",
      "5   F       6    11.0       both\n"
     ]
    }
   ],
   "source": [
    "Merge_LeftAnti = pd.merge(data1 , data2, on='Key', how='left', indicator= True)\n",
    "print (Merge_LeftAnti)"
   ]
  },
  {
   "cell_type": "code",
   "execution_count": 31,
   "metadata": {},
   "outputs": [
    {
     "name": "stdout",
     "output_type": "stream",
     "text": [
      "  Key  Value1  Value2      _merge\n",
      "0   C     3.0       8        both\n",
      "1   D     4.0       9        both\n",
      "2   E     5.0      10        both\n",
      "3   F     6.0      11        both\n",
      "4   G     NaN      23  right_only\n",
      "5   H     NaN      14  right_only\n"
     ]
    }
   ],
   "source": [
    "Merge_rightOnly = pd.merge(data1 , data2, on='Key', how='right', indicator= True)\n",
    "print (Merge_rightOnly)"
   ]
  },
  {
   "cell_type": "code",
   "execution_count": 32,
   "metadata": {},
   "outputs": [
    {
     "name": "stdout",
     "output_type": "stream",
     "text": [
      "  Key  Value1  Value2\n",
      "0   C     3.0       8\n",
      "1   D     4.0       9\n",
      "2   E     5.0      10\n",
      "3   F     6.0      11\n",
      "4   G     NaN      23\n",
      "5   H     NaN      14\n"
     ]
    }
   ],
   "source": [
    "Merge_rightAnti = pd.merge(data1 , data2, on='Key', how='right', indicator= False)\n",
    "print (Merge_rightAnti)"
   ]
  }
 ],
 "metadata": {
  "kernelspec": {
   "display_name": "Python 3",
   "language": "python",
   "name": "python3"
  },
  "language_info": {
   "codemirror_mode": {
    "name": "ipython",
    "version": 3
   },
   "file_extension": ".py",
   "mimetype": "text/x-python",
   "name": "python",
   "nbconvert_exporter": "python",
   "pygments_lexer": "ipython3",
   "version": "3.11.1"
  }
 },
 "nbformat": 4,
 "nbformat_minor": 2
}
