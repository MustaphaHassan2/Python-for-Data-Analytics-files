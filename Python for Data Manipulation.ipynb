{
 "cells": [
  {
   "cell_type": "markdown",
   "metadata": {},
   "source": [
    "Python for Data Manipulation"
   ]
  },
  {
   "cell_type": "markdown",
   "metadata": {},
   "source": [
    "Loading Data from SQL Databases"
   ]
  },
  {
   "cell_type": "code",
   "execution_count": 13,
   "metadata": {},
   "outputs": [],
   "source": [
    "import sqlite3"
   ]
  },
  {
   "cell_type": "code",
   "execution_count": 4,
   "metadata": {},
   "outputs": [],
   "source": [
    "db = sqlite3.connect('players.db')"
   ]
  },
  {
   "cell_type": "code",
   "execution_count": 5,
   "metadata": {},
   "outputs": [],
   "source": [
    "cr = db.cursor()"
   ]
  },
  {
   "cell_type": "code",
   "execution_count": null,
   "metadata": {},
   "outputs": [],
   "source": [
    "cr.execute(\"\"\"\n",
    "    CREATE TABLE players (\n",
    "        player_id NUMBER constraint players_pk primary key,\n",
    "        player_name VARCHAR2(100) not null constraint players_uk1 unique,\n",
    "        player_age NUMBER not null,\n",
    "        passes_id NUMBER constraint players_fk1 REFERENCES passing_stats (passes_id),\n",
    "        defensive_id NUMBER constraint players_fk2 REFERENCES defensive_stats (defensive_id),\n",
    "        attacking_id NUMBER constraint players_fk3 REFERENCES attacking_stats (attacking_id)\n",
    "    )\n",
    "\"\"\")"
   ]
  },
  {
   "cell_type": "code",
   "execution_count": null,
   "metadata": {},
   "outputs": [
    {
     "data": {
      "text/plain": [
       "<sqlite3.Cursor at 0x27b4980ba40>"
      ]
     },
     "execution_count": 11,
     "metadata": {},
     "output_type": "execute_result"
    }
   ],
   "source": [
    "cr.execute(\"\"\"\n",
    "    CREATE TABLE passing_stats (\n",
    "         passes_id NUMBER constraint passing_stats_pk primary key,\n",
    "         all_passes NUMBER constraint passing_stats_uk1 unique,\n",
    "         passes_acc NUMBER not null,\n",
    "         forward_psses NUMBER not null,\n",
    "         side_passes NUMBER not null,\n",
    "         passes_to_final_third NUMBER,\n",
    "         long_passes NUMBER not null\n",
    "    )      \n",
    "\"\"\")"
   ]
  },
  {
   "cell_type": "code",
   "execution_count": null,
   "metadata": {},
   "outputs": [
    {
     "data": {
      "text/plain": [
       "<sqlite3.Cursor at 0x27b4980ba40>"
      ]
     },
     "execution_count": 12,
     "metadata": {},
     "output_type": "execute_result"
    }
   ],
   "source": [
    "cr.execute(\"\"\"\n",
    "    CREATE TABLE defensive_stats (\n",
    "         defensive_id NUMBER constraint defensive_stats_pk primary key,\n",
    "         all_blocks NUMBER constraint defensive_stats_uk1 unique,\n",
    "         interceptions NUMBER not null,\n",
    "         duals NUMBER not null,\n",
    "         tackles NUMBER not null\n",
    ")\n",
    "\"\"\")"
   ]
  },
  {
   "cell_type": "code",
   "execution_count": null,
   "metadata": {},
   "outputs": [
    {
     "data": {
      "text/plain": [
       "<sqlite3.Cursor at 0x27b4980ba40>"
      ]
     },
     "execution_count": 13,
     "metadata": {},
     "output_type": "execute_result"
    }
   ],
   "source": [
    "cr.execute(\"\"\"\n",
    "CREATE TABLE attacking_stats (\n",
    "  attacking_id NUMBER constraint attacking_stats_pk primary key,\n",
    "  goals NUMBER not null,\n",
    "  assists NUMBER not null,\n",
    "  xG NUMBER not null,\n",
    "  xA NUMBER not null,\n",
    "  shots NUMBER not null,\n",
    "  creating_chances NUMBER not null\n",
    ")\n",
    "\"\"\")"
   ]
  },
  {
   "cell_type": "code",
   "execution_count": 26,
   "metadata": {},
   "outputs": [
    {
     "data": {
      "text/plain": [
       "<sqlite3.Cursor at 0x2cc4674abc0>"
      ]
     },
     "execution_count": 26,
     "metadata": {},
     "output_type": "execute_result"
    }
   ],
   "source": [
    "cr.execute(\"\"\"INSERT INTO passing_stats VALUES (401, 792, 63, 45, 877, 245, 25);\n",
    "\"\"\")"
   ]
  },
  {
   "cell_type": "code",
   "execution_count": null,
   "metadata": {},
   "outputs": [
    {
     "data": {
      "text/plain": [
       "<sqlite3.Cursor at 0x27b4980ba40>"
      ]
     },
     "execution_count": 20,
     "metadata": {},
     "output_type": "execute_result"
    }
   ],
   "source": [
    "cr.execute(\"\"\"\n",
    "INSERT INTO passing_stats VALUES (2, 2504, 79, 951, 1203, 479, 688);\n",
    "\"\"\")"
   ]
  },
  {
   "cell_type": "code",
   "execution_count": null,
   "metadata": {},
   "outputs": [
    {
     "data": {
      "text/plain": [
       "<sqlite3.Cursor at 0x27b4980ba40>"
      ]
     },
     "execution_count": 22,
     "metadata": {},
     "output_type": "execute_result"
    }
   ],
   "source": [
    "cr.execute(\"\"\"\n",
    "INSERT INTO passing_stats VALUES (3, 2217, 71, 711, 1008, 358, 455);\n",
    "\"\"\")"
   ]
  },
  {
   "cell_type": "code",
   "execution_count": null,
   "metadata": {},
   "outputs": [
    {
     "data": {
      "text/plain": [
       "<sqlite3.Cursor at 0x27b4980ba40>"
      ]
     },
     "execution_count": 24,
     "metadata": {},
     "output_type": "execute_result"
    }
   ],
   "source": [
    "cr.execute(\"\"\"\n",
    "INSERT INTO passing_stats VALUES (4, 2501, 65, 522, 1500, 501, 570);\n",
    "\"\"\")"
   ]
  },
  {
   "cell_type": "code",
   "execution_count": null,
   "metadata": {},
   "outputs": [
    {
     "data": {
      "text/plain": [
       "<sqlite3.Cursor at 0x27b4980ba40>"
      ]
     },
     "execution_count": 25,
     "metadata": {},
     "output_type": "execute_result"
    }
   ],
   "source": [
    "cr.execute(\"\"\"\n",
    "INSERT INTO passing_stats VALUES (5, 2110, 66, 455, 1200, 455, 704);\n",
    "\"\"\")"
   ]
  },
  {
   "cell_type": "code",
   "execution_count": null,
   "metadata": {},
   "outputs": [
    {
     "data": {
      "text/plain": [
       "<sqlite3.Cursor at 0x27b4980ba40>"
      ]
     },
     "execution_count": 27,
     "metadata": {},
     "output_type": "execute_result"
    }
   ],
   "source": [
    "cr.execute(\"\"\"\n",
    "INSERT INTO attacking_stats VALUES (1, 41, 11, 55, 18, 289, 307);\n",
    "\"\"\")"
   ]
  },
  {
   "cell_type": "code",
   "execution_count": null,
   "metadata": {},
   "outputs": [
    {
     "data": {
      "text/plain": [
       "<sqlite3.Cursor at 0x27b4980ba40>"
      ]
     },
     "execution_count": 28,
     "metadata": {},
     "output_type": "execute_result"
    }
   ],
   "source": [
    "cr.execute(\"\"\"\n",
    "INSERT INTO attacking_stats VALUES (2, 37, 26, 40, 31, 385, 204);\n",
    "\"\"\")"
   ]
  },
  {
   "cell_type": "code",
   "execution_count": null,
   "metadata": {},
   "outputs": [
    {
     "data": {
      "text/plain": [
       "<sqlite3.Cursor at 0x27b4980ba40>"
      ]
     },
     "execution_count": 29,
     "metadata": {},
     "output_type": "execute_result"
    }
   ],
   "source": [
    "cr.execute(\"\"\"\n",
    "INSERT INTO attacking_stats VALUES (3, 25, 19, 35, 28, 259, 275);\n",
    "\"\"\")"
   ]
  },
  {
   "cell_type": "code",
   "execution_count": null,
   "metadata": {},
   "outputs": [
    {
     "data": {
      "text/plain": [
       "<sqlite3.Cursor at 0x27b4980ba40>"
      ]
     },
     "execution_count": 30,
     "metadata": {},
     "output_type": "execute_result"
    }
   ],
   "source": [
    "cr.execute(\"\"\"\n",
    "INSERT INTO attacking_stats VALUES (4, 22, 14, 27, 15, 299, 310);\n",
    "\"\"\")"
   ]
  },
  {
   "cell_type": "code",
   "execution_count": null,
   "metadata": {},
   "outputs": [
    {
     "data": {
      "text/plain": [
       "<sqlite3.Cursor at 0x27b4980ba40>"
      ]
     },
     "execution_count": 31,
     "metadata": {},
     "output_type": "execute_result"
    }
   ],
   "source": [
    "cr.execute(\"\"\"\n",
    "INSERT INTO attacking_stats VALUES (5, 29, 17, 31, 24, 282, 267);\n",
    "\"\"\")"
   ]
  },
  {
   "cell_type": "code",
   "execution_count": 21,
   "metadata": {},
   "outputs": [
    {
     "data": {
      "text/plain": [
       "<sqlite3.Cursor at 0x1d9c7169ac0>"
      ]
     },
     "execution_count": 21,
     "metadata": {},
     "output_type": "execute_result"
    }
   ],
   "source": [
    "cr.execute(\"\"\"\n",
    "INSERT INTO defensive_stats VALUES (2, 51, 69, 25, 31);\n",
    "\"\"\")"
   ]
  },
  {
   "cell_type": "code",
   "execution_count": 22,
   "metadata": {},
   "outputs": [
    {
     "data": {
      "text/plain": [
       "<sqlite3.Cursor at 0x1d9c7169ac0>"
      ]
     },
     "execution_count": 22,
     "metadata": {},
     "output_type": "execute_result"
    }
   ],
   "source": [
    "cr.execute(\"\"\"\n",
    "INSERT INTO defensive_stats VALUES (3, 45, 44, 19, 32);\n",
    "\"\"\")"
   ]
  },
  {
   "cell_type": "code",
   "execution_count": 23,
   "metadata": {},
   "outputs": [
    {
     "data": {
      "text/plain": [
       "<sqlite3.Cursor at 0x1d9c7169ac0>"
      ]
     },
     "execution_count": 23,
     "metadata": {},
     "output_type": "execute_result"
    }
   ],
   "source": [
    "cr.execute(\"\"\"\n",
    "INSERT INTO defensive_stats VALUES (4, 56, 96, 75, 44);\n",
    "\"\"\")"
   ]
  },
  {
   "cell_type": "code",
   "execution_count": 24,
   "metadata": {},
   "outputs": [
    {
     "data": {
      "text/plain": [
       "<sqlite3.Cursor at 0x1d9c7169ac0>"
      ]
     },
     "execution_count": 24,
     "metadata": {},
     "output_type": "execute_result"
    }
   ],
   "source": [
    "cr.execute(\"\"\"\n",
    "INSERT INTO defensive_stats VALUES (5, 47, 66, 27, 30);\n",
    "\"\"\")"
   ]
  },
  {
   "cell_type": "code",
   "execution_count": null,
   "metadata": {},
   "outputs": [
    {
     "data": {
      "text/plain": [
       "<sqlite3.Cursor at 0x27b4980ba40>"
      ]
     },
     "execution_count": 37,
     "metadata": {},
     "output_type": "execute_result"
    }
   ],
   "source": [
    "cr.execute(\"\"\"\n",
    "INSERT INTO players VALUES (1, 'Halland', 23, 1, 1, 1);\n",
    "\"\"\")"
   ]
  },
  {
   "cell_type": "code",
   "execution_count": null,
   "metadata": {},
   "outputs": [
    {
     "data": {
      "text/plain": [
       "<sqlite3.Cursor at 0x27b4980ba40>"
      ]
     },
     "execution_count": 38,
     "metadata": {},
     "output_type": "execute_result"
    }
   ],
   "source": [
    "cr.execute(\"\"\"\n",
    "INSERT INTO players VALUES (2, 'Salah', 31, 2, 2, 2);\n",
    "\"\"\")"
   ]
  },
  {
   "cell_type": "code",
   "execution_count": null,
   "metadata": {},
   "outputs": [
    {
     "data": {
      "text/plain": [
       "<sqlite3.Cursor at 0x27b4980ba40>"
      ]
     },
     "execution_count": 39,
     "metadata": {},
     "output_type": "execute_result"
    }
   ],
   "source": [
    "cr.execute(\"\"\"\n",
    "INSERT INTO players VALUES (3, 'Saka', 23, 3, 3, 3);\n",
    "\"\"\")"
   ]
  },
  {
   "cell_type": "code",
   "execution_count": null,
   "metadata": {},
   "outputs": [
    {
     "data": {
      "text/plain": [
       "<sqlite3.Cursor at 0x27b4980ba40>"
      ]
     },
     "execution_count": 40,
     "metadata": {},
     "output_type": "execute_result"
    }
   ],
   "source": [
    "cr.execute(\"\"\"\n",
    "INSERT INTO players VALUES (4, 'Fernandez', 28, 4, 4, 4);\"\"\")"
   ]
  },
  {
   "cell_type": "code",
   "execution_count": null,
   "metadata": {},
   "outputs": [
    {
     "data": {
      "text/plain": [
       "<sqlite3.Cursor at 0x27b4980ba40>"
      ]
     },
     "execution_count": 41,
     "metadata": {},
     "output_type": "execute_result"
    }
   ],
   "source": [
    "cr.execute(\"\"\"\n",
    "INSERT INTO players VALUES (5, 'Son', 26, 5, 5, 5);\n",
    "\"\"\")"
   ]
  },
  {
   "cell_type": "code",
   "execution_count": null,
   "metadata": {},
   "outputs": [],
   "source": [
    "import pandas as pd"
   ]
  },
  {
   "cell_type": "code",
   "execution_count": 18,
   "metadata": {},
   "outputs": [],
   "source": [
    "conn = sqlite3.connect('players.db')"
   ]
  },
  {
   "cell_type": "code",
   "execution_count": 19,
   "metadata": {},
   "outputs": [],
   "source": [
    "df = pd.read_sql_query('SELECT * FROM defensive_stats', conn)"
   ]
  },
  {
   "cell_type": "code",
   "execution_count": 25,
   "metadata": {},
   "outputs": [
    {
     "name": "stdout",
     "output_type": "stream",
     "text": [
      "Empty DataFrame\n",
      "Columns: [defensive_id, all_blocks, interceptions, duals, tackles]\n",
      "Index: []\n"
     ]
    }
   ],
   "source": [
    "df = pd.read_sql_query('SELECT * FROM defensive_stats', conn)\n",
    "print (df)"
   ]
  },
  {
   "cell_type": "markdown",
   "metadata": {},
   "source": [
    "Building a Robust Data Loading Pipeline for Data Analysis"
   ]
  },
  {
   "cell_type": "markdown",
   "metadata": {},
   "source": [
    "Step 1: Load Data from Multiple Sources"
   ]
  },
  {
   "cell_type": "code",
   "execution_count": 32,
   "metadata": {},
   "outputs": [],
   "source": [
    "csv_df = pd.read_csv('epl2021.csv')\n",
    "\n",
    "sql_df = pd.read_sql_query('SELECT * FROM players', conn)\n",
    "\n",
    "# Merge all datasets\n",
    "\n",
    "all_data = pd.concat([csv_df, sql_df], ignore_index = True)"
   ]
  },
  {
   "cell_type": "markdown",
   "metadata": {},
   "source": [
    "Step 2: Handle Missing Values"
   ]
  },
  {
   "cell_type": "code",
   "execution_count": 35,
   "metadata": {},
   "outputs": [],
   "source": [
    "# Remove rows with more than 50% missing values\n",
    "cleaned_data = all_data.dropna(thresh=len(all_data.columns) * 0.5)"
   ]
  },
  {
   "cell_type": "code",
   "execution_count": 39,
   "metadata": {},
   "outputs": [],
   "source": [
    "# Fill remaining missing values with the mean for numerical columns\n",
    "cleaned_data['Goals'].fillna(cleaned_data['Goals'].mean(), inplace = True)"
   ]
  },
  {
   "cell_type": "markdown",
   "metadata": {},
   "source": [
    "Step 3: Validate Data Types"
   ]
  },
  {
   "cell_type": "code",
   "execution_count": 40,
   "metadata": {},
   "outputs": [],
   "source": [
    "# Ensure Goals column as int\n",
    "cleaned_data['Goals'] = cleaned_data['Goals'].astype(int)"
   ]
  },
  {
   "cell_type": "markdown",
   "metadata": {},
   "source": [
    "Step 4: Save Cleaned Data"
   ]
  },
  {
   "cell_type": "code",
   "execution_count": 41,
   "metadata": {},
   "outputs": [],
   "source": [
    "# Save the cleaned data to a new CSV file\n",
    "\n",
    "cleaned_data.to_csv('cleaned_players.csv', index=False)"
   ]
  },
  {
   "cell_type": "code",
   "execution_count": 48,
   "metadata": {},
   "outputs": [],
   "source": [
    "import sqlite3\n",
    "conn = sqlite3.connect('players.db')"
   ]
  },
  {
   "cell_type": "code",
   "execution_count": 53,
   "metadata": {},
   "outputs": [],
   "source": [
    "import threading\n",
    "\n",
    "thread_local = threading.local()\n",
    "\n",
    "def get_db_connection():\n",
    "    if not hasattr(thread_local, \"conn\"):\n",
    "        thread_local.conn = sqlite3.connect('cleaned_players.db')\n",
    "    return thread_local.conn\n",
    "\n",
    "def save_to_db(df):\n",
    "    conn = get_db_connection()\n",
    "    df.to_sql('players_stats', conn, if_exists='replace', index=False)\n",
    "\n",
    "save_to_db(cleaned_data)"
   ]
  },
  {
   "cell_type": "markdown",
   "metadata": {},
   "source": [
    "Step 5: Automating the Pipeline"
   ]
  },
  {
   "cell_type": "code",
   "execution_count": 1,
   "metadata": {},
   "outputs": [],
   "source": [
    "import pandas as pd\n",
    "import sqlite3\n",
    "\n",
    "def load_data():\n",
    "    conn = sqlite3.connect('players.db')\n",
    "    csv_df = pd.read_csv('epl2021.csv')\n",
    "    sql_df = pd.read_sql_query('SELECT * FROM players', conn)\n",
    "    conn.close() \n",
    "    return pd.concat([csv_df, sql_df], ignore_index=True)\n",
    "\n",
    "def clean_data(data):\n",
    "    data = data.dropna(thresh=len(data.columns) * 0.5)\n",
    "    if 'Goals' in data.columns:\n",
    "        data['Goals'].fillna(data['Goals'].mean(), inplace=True)\n",
    "    return data \n",
    "\n",
    "def save_data(data):\n",
    "    data.to_csv('cleaned_players.csv', index=False)\n",
    "\n",
    "    conn = sqlite3.connect('players.db')\n",
    "    data.to_sql('cleaned_players', conn, if_exists='replace', index=False)\n",
    "    conn.close() \n",
    "\n",
    "raw_data = load_data()\n",
    "cleaned_data = clean_data(raw_data)\n",
    "save_data(cleaned_data)"
   ]
  },
  {
   "cell_type": "code",
   "execution_count": 2,
   "metadata": {},
   "outputs": [],
   "source": [
    "import pandas as pd\n",
    "import sqlite3\n",
    "\n",
    "def load_data():\n",
    "    conn = sqlite3.connect('players.db')\n",
    "    csv_df = pd.read_csv('epl2021.csv')\n",
    "    sql_df = pd.read_sql_query ('SELECT * FROM players', conn)\n",
    "    conn.close()\n",
    "    return pd.concat([csv_df, sql_df], ignore_index = True)\n",
    "\n",
    "def clean_data(data):\n",
    "    data = data.dropna(thresh = len(data.columns) * 0.5)\n",
    "    if 'Goals' in data.columns:\n",
    "        data['Goals'].fillna(data['Goals'].mean(), inplace = True)\n",
    "    return data\n",
    "\n",
    "def save_data(data):\n",
    "    data.to_csv('cleaned_players_csv.csv', index = False)\n",
    "    conn = sqlite3.connect('players.db')\n",
    "    data.to_sql('cleaned_players_db', conn, if_exists = 'replace', index = False)\n",
    "    conn.close()\n",
    "\n",
    "raw_data = load_data()\n",
    "cleaned_data = clean_data(raw_data)\n",
    "save_data(cleaned_data)"
   ]
  }
 ],
 "metadata": {
  "kernelspec": {
   "display_name": "Python 3",
   "language": "python",
   "name": "python3"
  },
  "language_info": {
   "codemirror_mode": {
    "name": "ipython",
    "version": 3
   },
   "file_extension": ".py",
   "mimetype": "text/x-python",
   "name": "python",
   "nbconvert_exporter": "python",
   "pygments_lexer": "ipython3",
   "version": "3.11.1"
  }
 },
 "nbformat": 4,
 "nbformat_minor": 2
}
